{
 "cells": [
  {
   "cell_type": "markdown",
   "metadata": {},
   "source": [
    "Performing mathematical calculations with integers and floating-point numbers is easy\n",
    "in Python. However, if you need to perform calculations with fractions, arrays, or dates\n",
    "and times, a bit more work is required. The focus of this tutorial is on such topics.\n",
    "# 5.1 Rounding Numerical Values\n",
    "For simple rounding, use the built-in **round(value, ndigits)** function.  \n",
    "For example:"
   ]
  },
  {
   "cell_type": "code",
   "execution_count": 2,
   "metadata": {},
   "outputs": [
    {
     "name": "stdout",
     "output_type": "stream",
     "text": [
      "1.2\n",
      "1.3\n",
      "-1.3\n",
      "1.254\n"
     ]
    }
   ],
   "source": [
    "print(round(1.23, 1))\n",
    "\n",
    "print(round(1.27, 1))\n",
    "\n",
    "print(round(-1.27, 1))\n",
    "\n",
    "print(round(1.25361,3))"
   ]
  },
  {
   "cell_type": "markdown",
   "metadata": {},
   "source": [
    "When a value is exactly halfway between two choices, the behavior of round is to round\n",
    "to the nearest even digit.  \n",
    "That is, values such as 1.5 or 2.5 both get rounded to 2."
   ]
  },
  {
   "cell_type": "code",
   "execution_count": 4,
   "metadata": {},
   "outputs": [
    {
     "name": "stdout",
     "output_type": "stream",
     "text": [
      "2\n",
      "2\n"
     ]
    }
   ],
   "source": [
    "print(round(2.5))\n",
    "print(round(1.5))"
   ]
  },
  {
   "cell_type": "markdown",
   "metadata": {},
   "source": [
    "The number of digits given to round() can be negative, in which case rounding takes\n",
    "place for tens, hundreds, thousands, and so on. For example:"
   ]
  },
  {
   "cell_type": "code",
   "execution_count": 13,
   "metadata": {},
   "outputs": [
    {
     "name": "stdout",
     "output_type": "stream",
     "text": [
      "1627730\n"
     ]
    }
   ],
   "source": [
    "a = 1627731\n",
    "print(round(a, -1))"
   ]
  },
  {
   "cell_type": "code",
   "execution_count": 16,
   "metadata": {},
   "outputs": [
    {
     "name": "stdout",
     "output_type": "stream",
     "text": [
      "1627740\n"
     ]
    }
   ],
   "source": [
    "a = 1627736\n",
    "print(round(a, -1))"
   ]
  },
  {
   "cell_type": "code",
   "execution_count": 17,
   "metadata": {},
   "outputs": [
    {
     "name": "stdout",
     "output_type": "stream",
     "text": [
      "1627740\n"
     ]
    }
   ],
   "source": [
    "a = 1627735\n",
    "print(round(a, -1))"
   ]
  },
  {
   "cell_type": "code",
   "execution_count": 14,
   "metadata": {},
   "outputs": [
    {
     "data": {
      "text/plain": [
       "1627700"
      ]
     },
     "execution_count": 14,
     "metadata": {},
     "output_type": "execute_result"
    }
   ],
   "source": [
    " a = 1627731\n",
    ">>> round(a, -2)"
   ]
  },
  {
   "cell_type": "code",
   "execution_count": 15,
   "metadata": {},
   "outputs": [
    {
     "data": {
      "text/plain": [
       "1628000"
      ]
     },
     "execution_count": 15,
     "metadata": {},
     "output_type": "execute_result"
    }
   ],
   "source": [
    " a = 1627731\n",
    ">>> round(a, -3)"
   ]
  },
  {
   "cell_type": "code",
   "execution_count": 6,
   "metadata": {},
   "outputs": [
    {
     "data": {
      "text/plain": [
       "20.0"
      ]
     },
     "execution_count": 6,
     "metadata": {},
     "output_type": "execute_result"
    }
   ],
   "source": [
    "round(22.5, -1)"
   ]
  },
  {
   "cell_type": "code",
   "execution_count": 7,
   "metadata": {
    "scrolled": true
   },
   "outputs": [
    {
     "data": {
      "text/plain": [
       "30.0"
      ]
     },
     "execution_count": 7,
     "metadata": {},
     "output_type": "execute_result"
    }
   ],
   "source": [
    "round(25.5, -1)"
   ]
  },
  {
   "cell_type": "code",
   "execution_count": 8,
   "metadata": {},
   "outputs": [
    {
     "data": {
      "text/plain": [
       "30.0"
      ]
     },
     "execution_count": 8,
     "metadata": {},
     "output_type": "execute_result"
    }
   ],
   "source": [
    "round(29.5, -1)"
   ]
  },
  {
   "cell_type": "code",
   "execution_count": 9,
   "metadata": {},
   "outputs": [
    {
     "data": {
      "text/plain": [
       "0.0"
      ]
     },
     "execution_count": 9,
     "metadata": {},
     "output_type": "execute_result"
    }
   ],
   "source": [
    "round(22.5, -2)"
   ]
  },
  {
   "cell_type": "markdown",
   "metadata": {},
   "source": [
    "# 5.2 Performing Accurate Decimal Calculations"
   ]
  },
  {
   "cell_type": "markdown",
   "metadata": {},
   "source": [
    "You need to perform accurate calculations with decimal numbers, and don’t want the\n",
    "small errors that naturally occur with floats.  \n",
    "A well-known issue with floating-point numbers is that they can’t accurately represent\n",
    "all base-10 decimals. Moreover, even simple mathematical calculations introduce small\n",
    "errors.  \n",
    "For example:"
   ]
  },
  {
   "cell_type": "code",
   "execution_count": 19,
   "metadata": {},
   "outputs": [
    {
     "name": "stdout",
     "output_type": "stream",
     "text": [
      "6.300000000000001\n",
      "False\n"
     ]
    }
   ],
   "source": [
    "a = 4.2\n",
    "b = 2.1\n",
    "print(a + b)\n",
    "print((a + b) == 6.3)"
   ]
  },
  {
   "cell_type": "markdown",
   "metadata": {},
   "source": [
    "These errors are a “feature” of the underlying CPU and the IEEE 754 arithmetic per‐\n",
    "formed by its floating-point unit. Since Python’s float data type stores data using the\n",
    "native representation, there’s nothing you can do to avoid such errors if you write your\n",
    "code using float instances.  \n",
    "If you want more accuracy (and are willing to give up some performance), you can use\n",
    "the decimal module:"
   ]
  },
  {
   "cell_type": "code",
   "execution_count": 21,
   "metadata": {},
   "outputs": [
    {
     "name": "stdout",
     "output_type": "stream",
     "text": [
      "6.3\n",
      "<class 'decimal.Decimal'>\n",
      "True\n"
     ]
    }
   ],
   "source": [
    "from decimal import Decimal\n",
    "a = Decimal('4.2')\n",
    "b = Decimal('2.1')\n",
    "print(a + b)\n",
    "print(type(a + b))\n",
    "print((a + b) == Decimal('6.3'))"
   ]
  },
  {
   "cell_type": "markdown",
   "metadata": {},
   "source": [
    "A major feature of decimal is that it allows you to control different aspects of calcula‐\n",
    "tions, including number of digits and rounding. To do this, you create a local context\n",
    "and change its settings.  \n",
    "For example:"
   ]
  },
  {
   "cell_type": "code",
   "execution_count": 22,
   "metadata": {},
   "outputs": [
    {
     "name": "stdout",
     "output_type": "stream",
     "text": [
      "0.7647058823529411764705882353\n",
      "0.765\n"
     ]
    }
   ],
   "source": [
    "from decimal import localcontext\n",
    "a = Decimal('1.3')\n",
    "b = Decimal('1.7')\n",
    "print(a / b)\n",
    "with localcontext() as ctx:\n",
    "    ctx.prec = 3\n",
    "    print(a / b)"
   ]
  },
  {
   "cell_type": "markdown",
   "metadata": {},
   "source": [
    "The decimal module implements IBM’s “General Decimal Arithmetic Specification.”"
   ]
  },
  {
   "cell_type": "markdown",
   "metadata": {},
   "source": [
    "# 5.3 Performing Complex-Valued Math"
   ]
  },
  {
   "cell_type": "markdown",
   "metadata": {},
   "source": [
    "Complex numbers can be specified using the complex(real, imag) function or by\n",
    "floating-point numbers with a j suffix.  \n",
    "For example:"
   ]
  },
  {
   "cell_type": "code",
   "execution_count": 32,
   "metadata": {},
   "outputs": [
    {
     "name": "stdout",
     "output_type": "stream",
     "text": [
      "(2+4j)\n",
      "(3-5j)\n"
     ]
    }
   ],
   "source": [
    "a = complex(2, 4)\n",
    "b = 3 - 5j\n",
    "print(a)\n",
    "print(b)"
   ]
  },
  {
   "cell_type": "markdown",
   "metadata": {},
   "source": [
    "The real, imaginary, and conjugate values are easy to obtain, as shown here:"
   ]
  },
  {
   "cell_type": "code",
   "execution_count": 33,
   "metadata": {},
   "outputs": [
    {
     "name": "stdout",
     "output_type": "stream",
     "text": [
      "2.0\n",
      "4.0\n",
      "(2-4j)\n"
     ]
    }
   ],
   "source": [
    "print(a.real)\n",
    "print(a.imag)\n",
    "print(a.conjugate())"
   ]
  },
  {
   "cell_type": "code",
   "execution_count": 34,
   "metadata": {},
   "outputs": [
    {
     "name": "stdout",
     "output_type": "stream",
     "text": [
      "(5-1j)\n",
      "(26+2j)\n",
      "(-0.4117647058823529+0.6470588235294118j)\n",
      "4.47213595499958\n"
     ]
    }
   ],
   "source": [
    "print(a + b)\n",
    "print(a * b)\n",
    "print(a / b)\n",
    "print(abs(a))\n"
   ]
  },
  {
   "cell_type": "markdown",
   "metadata": {},
   "source": [
    "To perform additional complex-valued functions such as sines, cosines, or square roots,\n",
    "use the cmath module:"
   ]
  },
  {
   "cell_type": "code",
   "execution_count": 36,
   "metadata": {},
   "outputs": [
    {
     "name": "stdout",
     "output_type": "stream",
     "text": [
      "(24.83130584894638-11.356612711218174j)\n",
      "(-11.36423470640106-24.814651485634187j)\n",
      "(-4.829809383269385-5.5920560936409816j)\n"
     ]
    }
   ],
   "source": [
    "import cmath\n",
    "print(cmath.sin(a))\n",
    "print(cmath.cos(a))\n",
    "print(cmath.exp(a))"
   ]
  },
  {
   "cell_type": "markdown",
   "metadata": {},
   "source": [
    "# 5.4 Working with Infinity and NaNs"
   ]
  },
  {
   "cell_type": "code",
   "execution_count": 41,
   "metadata": {},
   "outputs": [
    {
     "name": "stdout",
     "output_type": "stream",
     "text": [
      "inf\n",
      "-inf\n",
      "nan\n",
      "True\n",
      "True\n"
     ]
    }
   ],
   "source": [
    "import math\n",
    "a = float('inf')\n",
    "b = float('-inf')\n",
    "c = float('nan')\n",
    "print(a)\n",
    "print(b)\n",
    "print(c)\n",
    "print( math.isinf(a))\n",
    "print(math.isnan(c))"
   ]
  },
  {
   "cell_type": "markdown",
   "metadata": {},
   "source": [
    "# 5.5  Calculating with Fractions\n",
    "The fractions module can be used to perform mathematical calculations involving\n",
    "fractions. For example:\n"
   ]
  },
  {
   "cell_type": "code",
   "execution_count": 43,
   "metadata": {},
   "outputs": [
    {
     "name": "stdout",
     "output_type": "stream",
     "text": [
      "5/4\n",
      "7/16\n",
      "27/16\n",
      "35/64\n",
      "35\n",
      "64\n",
      "0.546875\n",
      "4/7\n",
      "15/4\n"
     ]
    }
   ],
   "source": [
    "from fractions import Fraction\n",
    "a = Fraction(5, 4)\n",
    "b = Fraction(7, 16)\n",
    "print(a)\n",
    "print(b)\n",
    "print(a + b)\n",
    "print(a * b)\n",
    "# Getting numerator/denominator\n",
    "c = a * b\n",
    "print(c.numerator)\n",
    "print(c.denominator)\n",
    "# Converting to a float\n",
    "print(float(c))\n",
    "\n",
    "# Converting a float to a fraction\n",
    "x = 3.75\n",
    "y = Fraction(*x.as_integer_ratio())\n",
    "print(y)"
   ]
  },
  {
   "cell_type": "markdown",
   "metadata": {},
   "source": [
    "# 5.6 Picking Things at Random\n",
    "You want to pick random items out of a sequence or generate random numbers.  \n",
    "The random module has various functions for random numbers and picking random\n",
    "items. For example, to pick a random item out of a sequence, use random.choice():  \n"
   ]
  },
  {
   "cell_type": "code",
   "execution_count": 49,
   "metadata": {},
   "outputs": [
    {
     "name": "stdout",
     "output_type": "stream",
     "text": [
      "2\n",
      "5\n",
      "6\n",
      "2\n",
      "3\n"
     ]
    }
   ],
   "source": [
    "import random\n",
    "values = [1, 2, 3, 4, 5, 6]\n",
    "print(random.choice(values))\n",
    "\n",
    "print(random.choice(values))\n",
    "\n",
    "print(random.choice(values))\n",
    "\n",
    "print(random.choice(values))\n",
    "\n",
    "print(random.choice(values))"
   ]
  },
  {
   "cell_type": "markdown",
   "metadata": {},
   "source": [
    "To take a sampling of N items where selected items are removed from further consid‐\n",
    "eration, use random.sample() instead:"
   ]
  },
  {
   "cell_type": "code",
   "execution_count": 50,
   "metadata": {},
   "outputs": [
    {
     "name": "stdout",
     "output_type": "stream",
     "text": [
      "[4, 6]\n",
      "[1, 4]\n"
     ]
    }
   ],
   "source": [
    "print(random.sample(values, 2))\n",
    "print(random.sample(values, 2))"
   ]
  },
  {
   "cell_type": "markdown",
   "metadata": {},
   "source": [
    "If you simply want to shuffle items in a sequence in place, use random.shuffle():"
   ]
  },
  {
   "cell_type": "code",
   "execution_count": 52,
   "metadata": {},
   "outputs": [
    {
     "name": "stdout",
     "output_type": "stream",
     "text": [
      "[2, 1, 6, 4, 3, 5]\n",
      "[3, 4, 5, 2, 1, 6]\n",
      "[6, 1, 2, 5, 3, 4]\n"
     ]
    }
   ],
   "source": [
    "print(values)\n",
    "random.shuffle(values)\n",
    "print(values)\n",
    "random.shuffle(values)\n",
    "print(values)"
   ]
  },
  {
   "cell_type": "markdown",
   "metadata": {},
   "source": [
    "To produce random integers, use random.randint():"
   ]
  },
  {
   "cell_type": "code",
   "execution_count": 53,
   "metadata": {},
   "outputs": [
    {
     "name": "stdout",
     "output_type": "stream",
     "text": [
      "10\n",
      "4\n",
      "3\n"
     ]
    }
   ],
   "source": [
    "print(random.randint(0,10))\n",
    "print(random.randint(0,10))\n",
    "print(random.randint(0,10))"
   ]
  },
  {
   "cell_type": "markdown",
   "metadata": {},
   "source": [
    "To produce uniform floating-point values in the range 0 to 1, use random.random():"
   ]
  },
  {
   "cell_type": "code",
   "execution_count": 54,
   "metadata": {},
   "outputs": [
    {
     "name": "stdout",
     "output_type": "stream",
     "text": [
      "0.6756730823611047\n",
      "0.7852419975131935\n",
      "0.6759628324814515\n"
     ]
    }
   ],
   "source": [
    "print(random.random())\n",
    "print(random.random())\n",
    "print(random.random())"
   ]
  },
  {
   "cell_type": "markdown",
   "metadata": {},
   "source": [
    "To get N random-bits expressed as an integer, use random.getrandbits():"
   ]
  },
  {
   "cell_type": "code",
   "execution_count": 60,
   "metadata": {},
   "outputs": [
    {
     "name": "stdout",
     "output_type": "stream",
     "text": [
      "1202932567717249817859938247996496152682914433763806814525540\n"
     ]
    }
   ],
   "source": [
    "print( random.getrandbits(200) )"
   ]
  },
  {
   "cell_type": "markdown",
   "metadata": {},
   "source": [
    "The random module computes random numbers using the Mersenne Twister algorithm.\n",
    "This is a deterministic algorithm, but you can alter the initial seed by using the\n",
    "random.seed() function. For example:  \n",
    "```python\n",
    "random.seed() # Seed based on system time or os.urandom()\n",
    "random.seed(12345) # Seed based on integer given\n",
    "random.seed(b'bytedata') # Seed based on byte data\n",
    "```  \n",
    "  \n",
    "In addition to the functionality shown, random() includes functions for uniform, Gaus‐\n",
    "sian, and other probabality distributions. For example, random.uniform() computes\n",
    "uniformly distributed numbers, and random.gauss() computes normally distributed\n",
    "numbers.  \n",
    "   \n",
    "Functions in random() should not be used in programs related to cryptography. If you\n",
    "need such functionality, consider using functions in the ssl module instead. For ex‐\n",
    "ample, ssl.RAND_bytes() can be used to generate a cryptographically secure sequence\n",
    "of random bytes.\n"
   ]
  },
  {
   "cell_type": "markdown",
   "metadata": {},
   "source": [
    "# 5.7 Converting Days to Seconds, and Other Basic Time Conversions\n",
    "To perform conversions and arithmetic involving different units of time, use the date\n",
    "time module. For example, to represent an interval of time, create a timedelta instance,\n",
    "like this:"
   ]
  },
  {
   "cell_type": "code",
   "execution_count": 70,
   "metadata": {},
   "outputs": [
    {
     "name": "stdout",
     "output_type": "stream",
     "text": [
      "2 days, 6:00:00\n",
      "4:30:00\n",
      "2 days, 10:30:00\n",
      "2\n",
      "37800\n",
      "10.5\n",
      "210600.0\n"
     ]
    }
   ],
   "source": [
    "from datetime import timedelta\n",
    "a = timedelta(days=2, hours=6)\n",
    "b = timedelta(hours=4.5)\n",
    "print(a)\n",
    "print(b)\n",
    "c = a + b\n",
    "print(c)\n",
    "print(c.days)\n",
    "print(c.seconds)\n",
    "print(c.seconds / 3600)\n",
    "print(c.total_seconds())"
   ]
  },
  {
   "cell_type": "markdown",
   "metadata": {},
   "source": [
    "If you need to represent specific dates and times, create datetime instances and use the\n",
    "standard mathematical operations to manipulate them. For example:"
   ]
  },
  {
   "cell_type": "code",
   "execution_count": 74,
   "metadata": {},
   "outputs": [
    {
     "name": "stdout",
     "output_type": "stream",
     "text": [
      "2012-09-23 00:00:00\n",
      "2012-10-03 00:00:00\n",
      "89 days, 0:00:00\n",
      "89\n",
      "2019-06-10 20:24:08.067326\n",
      "2019-06-10 20:34:08.067326\n"
     ]
    }
   ],
   "source": [
    "from datetime import datetime\n",
    "a = datetime(2012, 9, 23)\n",
    "print(a)\n",
    "print(a + timedelta(days=10))\n",
    "b = datetime(2012, 12, 21)\n",
    "d = b - a\n",
    "print(d)\n",
    "print(d.days)\n",
    "now = datetime.today()\n",
    "print(now)\n",
    "print(now + timedelta(minutes=10))\n"
   ]
  },
  {
   "cell_type": "markdown",
   "metadata": {},
   "source": [
    "When making calculations, it should be noted that datetime is aware of leap years. For\n",
    "example:"
   ]
  },
  {
   "cell_type": "code",
   "execution_count": 76,
   "metadata": {},
   "outputs": [
    {
     "name": "stdout",
     "output_type": "stream",
     "text": [
      "2 days, 0:00:00\n",
      "2 days, 0:00:00\n",
      "2\n",
      "1\n"
     ]
    }
   ],
   "source": [
    "a = datetime(2012, 3, 1)\n",
    "b = datetime(2012, 2, 28)\n",
    "print(a - b)\n",
    "print(timedelta(2))\n",
    "print((a - b).days)\n",
    "\n",
    "c = datetime(2013, 3, 1)\n",
    "d = datetime(2013, 2, 28)\n",
    "print((c - d).days)"
   ]
  },
  {
   "cell_type": "markdown",
   "metadata": {},
   "source": [
    "#  Determining Last Friday’s Date\n",
    "You want a general solution for finding a date for the last occurrence of a day of the\n",
    "week. Last Friday, for example"
   ]
  },
  {
   "cell_type": "code",
   "execution_count": 81,
   "metadata": {},
   "outputs": [],
   "source": [
    "from datetime import datetime, timedelta\n",
    "weekdays = ['Monday', 'Tuesday', 'Wednesday', 'Thursday', 'Friday', 'Saturday', 'Sunday']\n",
    "\n",
    "def get_previous_byday(dayname, start_date=None):\n",
    "    \n",
    "    if start_date is None:\n",
    "        start_date = datetime.today() # todays date\n",
    "        \n",
    "    day_num = start_date.weekday() # Mon = 0, tues = 1,...\n",
    "    day_num_target = weekdays.index(dayname) #Friday = 4\n",
    "    days_ago = (7 + day_num - day_num_target) % 7\n",
    "    \n",
    "    if days_ago == 0:\n",
    "        days_ago = 7\n",
    "        \n",
    "    target_date = start_date - timedelta(days=days_ago)\n",
    "    return target_date\n"
   ]
  },
  {
   "cell_type": "code",
   "execution_count": 82,
   "metadata": {},
   "outputs": [
    {
     "name": "stdout",
     "output_type": "stream",
     "text": [
      "2019-06-10 21:09:37.422082\n",
      "2019-06-03 21:09:37.423083\n",
      "2019-06-04 21:09:37.423083\n",
      "2019-06-07 21:09:37.423083\n"
     ]
    }
   ],
   "source": [
    "print(datetime.today()) # For reference\n",
    "\n",
    "print(get_previous_byday('Monday'))\n",
    "\n",
    "print(get_previous_byday('Tuesday')) # Previous week, not today\n",
    "\n",
    "print(get_previous_byday('Friday'))\n"
   ]
  },
  {
   "cell_type": "markdown",
   "metadata": {},
   "source": [
    "This recipe works by mapping the start date and the target date to their numeric position\n",
    "in the week (with Monday as day 0). Modular arithmetic is then used to figure out how\n",
    "many days ago the target date last occurred. From there, the desired date is calculated\n",
    "from the start date by subtracting an appropriate timedelta instance.  \n",
    "  \n",
    "If you’re performing a lot of date calculations like this, you may be better off installing\n",
    "the python-dateutil package instead. For example, here is an example of performing\n",
    "the same calculation using the relativedelta() function from dateutil:"
   ]
  },
  {
   "cell_type": "code",
   "execution_count": 84,
   "metadata": {},
   "outputs": [
    {
     "name": "stdout",
     "output_type": "stream",
     "text": [
      "2019-06-10 21:14:43.630421\n"
     ]
    }
   ],
   "source": [
    "from datetime import datetime\n",
    "from dateutil.relativedelta import relativedelta\n",
    "from dateutil.rrule import *\n",
    "d = datetime.now()\n",
    "print(d)"
   ]
  },
  {
   "cell_type": "code",
   "execution_count": 85,
   "metadata": {},
   "outputs": [
    {
     "name": "stdout",
     "output_type": "stream",
     "text": [
      "2019-06-14 21:14:43.630421\n"
     ]
    }
   ],
   "source": [
    "# Next Friday\n",
    "print(d + relativedelta(weekday=FR))"
   ]
  },
  {
   "cell_type": "code",
   "execution_count": 86,
   "metadata": {},
   "outputs": [
    {
     "name": "stdout",
     "output_type": "stream",
     "text": [
      "2019-06-07 21:14:43.630421\n"
     ]
    }
   ],
   "source": [
    "# Last Friday\n",
    "print(d + relativedelta(weekday=FR(-1)))"
   ]
  },
  {
   "cell_type": "markdown",
   "metadata": {},
   "source": [
    "# 5.8 Converting Strings into Datetimes"
   ]
  },
  {
   "cell_type": "code",
   "execution_count": 89,
   "metadata": {},
   "outputs": [
    {
     "name": "stdout",
     "output_type": "stream",
     "text": [
      "2012-09-20 00:00:00\n",
      "2454 days, 21:25:41.077442\n"
     ]
    }
   ],
   "source": [
    "from datetime import datetime\n",
    "text = '2012-09-20'\n",
    "y = datetime.strptime(text, '%Y-%m-%d')\n",
    "print(y)\n",
    "z = datetime.now()\n",
    "diff = z - y\n",
    "print(diff)"
   ]
  },
  {
   "cell_type": "markdown",
   "metadata": {},
   "source": [
    "The datetime.strptime() method supports a host of formatting codes, like %Y for the\n",
    "four-digit year and %m for the two-digit month. It’s also worth noting that these formatting placeholders also work in reverse, in case you need to represent a datetime object\n",
    "in string output and make it look nice.  \n",
    "  \n",
    " \n",
    "For example, let’s say you have some code that generates a datetime object, but you need\n",
    "to format a nice, human-readable date to put in the header of an auto-generated letter\n",
    "or report:  "
   ]
  },
  {
   "cell_type": "code",
   "execution_count": 93,
   "metadata": {},
   "outputs": [
    {
     "name": "stdout",
     "output_type": "stream",
     "text": [
      "Sunday September 23, 2012\n"
     ]
    }
   ],
   "source": [
    "z = datetime(2012, 9, 23, 21, 37, 4, 177393)\n",
    "nice_z = datetime.strftime(z, '%A %B %d, %Y')\n",
    "print(nice_z)"
   ]
  },
  {
   "cell_type": "markdown",
   "metadata": {},
   "source": [
    "It’s worth noting that the performance of strptime() is often much worse than you\n",
    "might expect, due to the fact that it’s written in pure Python and it has to deal with all\n",
    "sorts of system locale settings. If you are parsing a lot of dates in your code and you\n",
    "know the precise format, you will probably get much better performance by cooking\n",
    "up a custom solution instead. For example, if you knew that the dates were of the form\n",
    "“YYYY-MM-DD,” you could write a function like this:  \n",
    "```python\n",
    "from datetime import datetime\n",
    "def parse_ymd(s):\n",
    "    year_s, mon_s, day_s = s.split('-')\n",
    "    return datetime(int(year_s), int(mon_s), int(day_s))\n",
    "```"
   ]
  }
 ],
 "metadata": {
  "kernelspec": {
   "display_name": "Python 3",
   "language": "python",
   "name": "python3"
  },
  "language_info": {
   "codemirror_mode": {
    "name": "ipython",
    "version": 3
   },
   "file_extension": ".py",
   "mimetype": "text/x-python",
   "name": "python",
   "nbconvert_exporter": "python",
   "pygments_lexer": "ipython3",
   "version": "3.7.3"
  }
 },
 "nbformat": 4,
 "nbformat_minor": 2
}
