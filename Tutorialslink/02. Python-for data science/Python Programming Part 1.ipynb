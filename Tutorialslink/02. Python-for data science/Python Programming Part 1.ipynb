{
 "cells": [
  {
   "cell_type": "markdown",
   "metadata": {},
   "source": [
    "# What's Python\n",
    "Python is an elegant and robust programming language that delivers both the power and general\n",
    "applicability of traditional compiled languages with the ease of use of simpler scripting\n",
    "and interpreted languages.  \n",
    "  \n",
    "You will be amazed at how quickly you will pick up the language.  Your imagination will be the only limit.  \n",
    "# Origins of python\n",
    "Work on Python began in late 1989 by Guido van Rossum, at CWI  in the Netherlands. It was eventually released for public distribution in early 1991.  \n",
    "  \n",
    "At the time, van Rossum was a researcher with considerable language design experience with the\n",
    "interpreted language ABC, also developed at CWI, but he was unsatisfied with its ability to be developed\n",
    "into something more.  \n",
    "Having used and partially developed a higher-level language like ABC, falling back\n",
    "to C was not an attractive possibility.  \n",
    "\n",
    "and late in 1989, the seeds of Python were sown.  \n",
    "   \n",
    " # Features of Python\n",
    "1. **High Level Language** : English Like structure  \n",
    "2. **Object Oriented** : OOP allows for associating specific behaviors, characteristics, and/or capabilities with the data that they execute on or are representative of.  However, Python is not just an OO language like Java or Ruby. It is actually a pleasant mix of multiple programming paradigms. For instance, it even borrows a few things from functional languages like Lisp and Haskell.  \n",
    "3. **Scalable** : The term \"scalable\" is most often applied to measuring hardware throughput and usually refers to additional performance when new hardware is added to a system. Python provides basic building blocks on which you can build an application, and as those needs expand and grow, Python's pluggable and modular architecture allows your project to flourish as well as maintain manageability.\n",
    "4. **Extensible** : As the amount of Python code increases in your project, you will still be able to organize it logically by separating your code into multiple files, or modules, and be able to access code from one module and attributes from another. Python extensions can be written in C and C++ for the standard implementation of Python in C (also known as CPython). The Java language implementation of Python is called Jython, so extensions would be written using Java. Finally, there is IronPython, the C# implementation for the .NET or Mono platforms. You can extend IronPython in C# or Visual Basic.NET.  \n",
    "5. **Portable** : Python can be found on a wide variety of systems, contributing to its continued rapid growth in today's computing domain. Because Python is written in C, and because of C's portability, Python is available on practically every type of platform that has an ANSI C compiler.  \n",
    "6. **Easy to Learn**  \n",
    "7. **Easy to Read**  \n",
    "8. **Automatic Memory Manager** : The biggest pitfall with programming in C or C++ is that the responsibility of memory management is in the hands of the developer. Even if the application has very little to do with memory access, memory modification, and memory management, the programmer must still perform those duties, in addition to the original task at hand. Because memory management is performed by the Python interpreter, the application developer is able to steer clear of memory issues and focus on the immediate goal of just creating the application that was planned in the first place. This leads to fewer bugs, a more robust application, and shorter overall development time.  \n",
    "9. **Interpreted and (Byte-) Compiled** : Python is classified as an interpreted language, meaning that compile-time is no longer a factor during development. Traditionally, purely interpreted languages are almost always slower than compiledlanguages because execution does not take place in a system's native binary language. However, like Java, Python is actually byte-compiled, resulting in an intermediate form closer to machine language. This improves Python's performance, yet allows it to retain all the advantages of interpreted languages.  \n",
    "  \n",
    "  \n",
    "#### NOTE : \n",
    "Python source files typically end with the .py extension. The source is byte-compiled upon being loaded by the interpreter or by being byte compiled explicitly. Depending on how you invoke the interpreter, it may leave behind byte-compiled files with a .pyc or .pyo extension.  \n",
    "  \n",
    "# A Quick tour of Python\n",
    "1. **The print Statement \"Hello World!\"**  : In some languages, such as C, displaying to the screen is accomplished with a function, e.g., printf(), while with Python and most interpreted and scripting languages, it is a statement. Many shell script languages use an echo command for program output."
   ]
  },
  {
   "cell_type": "code",
   "execution_count": 3,
   "metadata": {},
   "outputs": [
    {
     "name": "stdout",
     "output_type": "stream",
     "text": [
      "Hello World!\n"
     ]
    },
    {
     "data": {
      "text/plain": [
       "'Hello World!'"
      ]
     },
     "execution_count": 3,
     "metadata": {},
     "output_type": "execute_result"
    }
   ],
   "source": [
    "myText = 'Hello World!'\n",
    "print(myText)\n",
    "myText"
   ]
  },
  {
   "cell_type": "markdown",
   "metadata": {},
   "source": [
    "Notice how just giving only the name (myText) reveals quotation marks around the string. The reason for this is to allow objects other than strings to be displayed in the same manner as this string being able to display a printable string representation of any object, not just strings.  \n",
    "  \n",
    "The quotes are there to indicate that the object whose value you just\n",
    "dumped to the print function is a string.  \n",
    "  \n",
    "Once you become more familiar with Python, you will recognize that **str()** is used for print statements, while **repr()** is what the interactive interpreter (the below one) calls to display your objects.  \n",
    "  "
   ]
  },
  {
   "cell_type": "code",
   "execution_count": 5,
   "metadata": {},
   "outputs": [
    {
     "name": "stdout",
     "output_type": "stream",
     "text": [
      "Hello World!\n"
     ]
    }
   ],
   "source": [
    "print(_)"
   ]
  },
  {
   "cell_type": "code",
   "execution_count": 6,
   "metadata": {},
   "outputs": [
    {
     "data": {
      "text/plain": [
       "'Hello World!'"
      ]
     },
     "execution_count": 6,
     "metadata": {},
     "output_type": "execute_result"
    }
   ],
   "source": [
    "_"
   ]
  },
  {
   "cell_type": "markdown",
   "metadata": {},
   "source": [
    "The underscore (_) also has special meaning in the interactive interpreter: the last evaluated expression.  \n",
    "Python's print statement, paired with the string format operator ( % ), supports string substitution,\n",
    "much like the printf() function in C:   "
   ]
  },
  {
   "cell_type": "code",
   "execution_count": 16,
   "metadata": {},
   "outputs": [
    {
     "name": "stdout",
     "output_type": "stream",
     "text": [
      "Python comes in top 5 languages\n"
     ]
    }
   ],
   "source": [
    " print(\"%s comes in top %d languages\" % (\"Python\", 5))"
   ]
  },
  {
   "cell_type": "markdown",
   "metadata": {},
   "source": [
    "**%s** means to substitute a string while **%d** indicates an integer should be substituted. Another popular one\n",
    "is **%f** for floating point numbers  \n",
    "**More formatting**  \n"
   ]
  },
  {
   "cell_type": "code",
   "execution_count": 45,
   "metadata": {
    "scrolled": true
   },
   "outputs": [
    {
     "name": "stdout",
     "output_type": "stream",
     "text": [
      "Person 1 : Praveen \n",
      "Person 2 : Sumit\n"
     ]
    }
   ],
   "source": [
    "print(\"Person {} : {} \\nPerson {} : {}\".format(1, 'Praveen', 2, 'Sumit'))"
   ]
  },
  {
   "cell_type": "code",
   "execution_count": 47,
   "metadata": {},
   "outputs": [
    {
     "name": "stdout",
     "output_type": "stream",
     "text": [
      "Meme no. 1 : Am i joke to you\n"
     ]
    }
   ],
   "source": [
    "myText = \"{} no. {} : Am i joke to you\"\n",
    "print(myText.format('Meme', 1))"
   ]
  },
  {
   "cell_type": "markdown",
   "metadata": {},
   "source": [
    "**Positional arguments are placed in order**  "
   ]
  },
  {
   "cell_type": "code",
   "execution_count": 1,
   "metadata": {},
   "outputs": [
    {
     "name": "stdout",
     "output_type": "stream",
     "text": [
      "I'm first --- No I'm first??\n"
     ]
    }
   ],
   "source": [
    "print(\"{0} --- {1}??\".format(\"I'm first\", \"No I'm first\")) "
   ]
  },
  {
   "cell_type": "code",
   "execution_count": 2,
   "metadata": {},
   "outputs": [
    {
     "name": "stdout",
     "output_type": "stream",
     "text": [
      "No I'm first --- I'm first??\n"
     ]
    }
   ],
   "source": [
    "print(\"{1} --- {0}??\".format(\"I'm first\", \"No I'm first\")) "
   ]
  },
  {
   "cell_type": "markdown",
   "metadata": {},
   "source": [
    "#### forcing Type conversion in format()"
   ]
  },
  {
   "cell_type": "code",
   "execution_count": 7,
   "metadata": {},
   "outputs": [
    {
     "name": "stdout",
     "output_type": "stream",
     "text": [
      "I'm 23 years old, pretty young??\n"
     ]
    }
   ],
   "source": [
    "print(\"I'm {:d} years old, pretty young??\".format(23))"
   ]
  },
  {
   "cell_type": "code",
   "execution_count": 10,
   "metadata": {},
   "outputs": [
    {
     "name": "stdout",
     "output_type": "stream",
     "text": [
      "I'm 23.534534 years old, pretty young??\n"
     ]
    }
   ],
   "source": [
    "print(\"I'm {:f} years old, pretty young??\".format(23.53453432))"
   ]
  },
  {
   "cell_type": "code",
   "execution_count": 12,
   "metadata": {},
   "outputs": [
    {
     "name": "stdout",
     "output_type": "stream",
     "text": [
      "I'm 22.000000 years old, and my friend sumit is 23.534534 years old.\n"
     ]
    }
   ],
   "source": [
    "print(\"I'm {1:f} years old, and my friend sumit is {0:f} years old.\".format(23.53453432, 22))"
   ]
  },
  {
   "cell_type": "code",
   "execution_count": 13,
   "metadata": {},
   "outputs": [
    {
     "name": "stdout",
     "output_type": "stream",
     "text": [
      "I'm 22 years old, and my friend sumit is 24 years old.\n"
     ]
    }
   ],
   "source": [
    "print(\"I'm {1:.0f} years old, and my friend sumit is {0:.0f} years old.\".format(23.53453432, 22))"
   ]
  },
  {
   "cell_type": "code",
   "execution_count": 14,
   "metadata": {},
   "outputs": [
    {
     "name": "stdout",
     "output_type": "stream",
     "text": [
      "I'm 22.0 years old, and my friend sumit is 23.5 years old.\n"
     ]
    }
   ],
   "source": [
    "print(\"I'm {1:.1f} years old, and my friend sumit is {0:.1f} years old.\".format(23.53453432, 22))"
   ]
  },
  {
   "cell_type": "code",
   "execution_count": 21,
   "metadata": {
    "scrolled": true
   },
   "outputs": [
    {
     "name": "stdout",
     "output_type": "stream",
     "text": [
      "The binary of 1024 is 10000000000\n"
     ]
    }
   ],
   "source": [
    "print(\"The binary of 1024 is {:b}\".format(1024)) "
   ]
  },
  {
   "cell_type": "code",
   "execution_count": 22,
   "metadata": {},
   "outputs": [
    {
     "name": "stdout",
     "output_type": "stream",
     "text": [
      "The octal of 1024 is 2000\n"
     ]
    }
   ],
   "source": [
    "print(\"The octal of 1024 is {:o}\".format(1024))"
   ]
  },
  {
   "cell_type": "code",
   "execution_count": 26,
   "metadata": {},
   "outputs": [
    {
     "name": "stdout",
     "output_type": "stream",
     "text": [
      "The hexadecimal of 491 is 1eb\n"
     ]
    }
   ],
   "source": [
    "print(\"The hexadecimal of 491 is {:x}\".format(491))"
   ]
  },
  {
   "cell_type": "code",
   "execution_count": 27,
   "metadata": {},
   "outputs": [
    {
     "name": "stdout",
     "output_type": "stream",
     "text": [
      "The hexadecimal of 491 is 1EB\n"
     ]
    }
   ],
   "source": [
    "print(\"The hexadecimal of 491 is {:X}\".format(491))"
   ]
  },
  {
   "cell_type": "code",
   "execution_count": 38,
   "metadata": {},
   "outputs": [
    {
     "name": "stdout",
     "output_type": "stream",
     "text": [
      "I'm God of Thunder my base power is 1.000000e+05\n"
     ]
    }
   ],
   "source": [
    "print(\"I'm God of Thunder my base power is {:e}\".format(100000))  #1 * 10^5"
   ]
  },
  {
   "cell_type": "code",
   "execution_count": 41,
   "metadata": {},
   "outputs": [
    {
     "name": "stdout",
     "output_type": "stream",
     "text": [
      "100000.0\n"
     ]
    }
   ],
   "source": [
    "print(1.000000e+05)"
   ]
  },
  {
   "cell_type": "markdown",
   "metadata": {},
   "source": [
    "s – strings  \n",
    "d – decimal integers (base-10)  \n",
    "f – floating point display  \n",
    "b – binary  \n",
    "o – octal  \n",
    "x – hexadecimal with lowercase letters after 9  \n",
    "X – hexadecimal with uppercase letters after 9  \n",
    "e – exponent notation   \n",
    "  \n",
    "#### Padding or adding spaces  \n",
    "<pre>\n",
    "<   :  left-align text in the field\n",
    "^   :  center text in the field\n",
    ">   :  right-align text in the field\n",
    "</pre>  \n",
    "  \n",
    "By default strings are left-justified - means string will only padd space if the padding given is greater than actual length of string.   \n",
    "  \n",
    "By default numbers are right-justified - means it will add padding to right side, if **n** is the padding space given it'll append **n-1** spaces in front of a number."
   ]
  },
  {
   "cell_type": "code",
   "execution_count": 72,
   "metadata": {},
   "outputs": [
    {
     "name": "stdout",
     "output_type": "stream",
     "text": [
      "hello world - python, hello world - C, hello world - C++\n"
     ]
    }
   ],
   "source": [
    "print('hello world - {0}, hello world - {1}, hello world - {2}'.format('python', 'C', 'C++'))"
   ]
  },
  {
   "cell_type": "code",
   "execution_count": 70,
   "metadata": {
    "scrolled": false
   },
   "outputs": [
    {
     "name": "stdout",
     "output_type": "stream",
     "text": [
      "hello world - python hello world - C        hello world - C++                    \n"
     ]
    }
   ],
   "source": [
    "print('hello world - {0:4} hello world - {1:8} hello world - {2:23}'.format('python', 'C', 'C++'))"
   ]
  },
  {
   "cell_type": "code",
   "execution_count": 66,
   "metadata": {},
   "outputs": [
    {
     "name": "stdout",
     "output_type": "stream",
     "text": [
      "11\n"
     ]
    }
   ],
   "source": [
    "print(len('hello world'))"
   ]
  },
  {
   "cell_type": "code",
   "execution_count": null,
   "metadata": {},
   "outputs": [],
   "source": [
    "print('hello world - {0}\\nhello world - {1}\\nhello world - {2}'.format('python', 'C', 'C++'))"
   ]
  },
  {
   "cell_type": "code",
   "execution_count": 63,
   "metadata": {},
   "outputs": [
    {
     "name": "stdout",
     "output_type": "stream",
     "text": [
      "hello world -1\n",
      "hello world -2\n",
      "hello world - 3\n",
      "hello world -  3\n"
     ]
    }
   ],
   "source": [
    "print('hello world -{0:0}\\nhello world -{1:1}\\nhello world -{2:2}\\nhello world -{2:3}'.format(1, 2, 3))"
   ]
  },
  {
   "cell_type": "code",
   "execution_count": 65,
   "metadata": {},
   "outputs": [
    {
     "name": "stdout",
     "output_type": "stream",
     "text": [
      "e    was founded in             2009!\n"
     ]
    }
   ],
   "source": [
    "print(\"{0:4} was founded in {1:16}!\"\n",
    "    .format(\"e\", 2009)) "
   ]
  },
  {
   "cell_type": "markdown",
   "metadata": {},
   "source": [
    "2. **Program Input**  \n",
    "The easiest way to obtain user input from the command line is with the raw_input() built-in function. It reads from standard input and assigns the string value to the variable you designate."
   ]
  },
  {
   "cell_type": "code",
   "execution_count": 11,
   "metadata": {},
   "outputs": [
    {
     "name": "stdout",
     "output_type": "stream",
     "text": [
      "What is your favourite color : Blue\n",
      "Blue\n",
      "<class 'str'>\n"
     ]
    }
   ],
   "source": [
    "ques = input('What is your favourite color : ')\n",
    "print(ques)\n",
    "print(type(ques))"
   ]
  },
  {
   "cell_type": "code",
   "execution_count": 12,
   "metadata": {},
   "outputs": [
    {
     "name": "stdout",
     "output_type": "stream",
     "text": [
      "What is your lucky number : 7\n",
      "7\n",
      "<class 'str'>\n"
     ]
    }
   ],
   "source": [
    "ques = input('What is your lucky number : ')\n",
    "print(ques)\n",
    "print(type(ques))"
   ]
  },
  {
   "cell_type": "markdown",
   "metadata": {},
   "source": [
    "Wait I just passed an integer what happend???  \n",
    "Told you beforehand by default print() uses str() so it converts everything to a string.  \n",
    "Now how to tackle it??   \n",
    "\n",
    "You can use the int() built-in function to convert any numeric input string to an integer representation."
   ]
  },
  {
   "cell_type": "code",
   "execution_count": 17,
   "metadata": {},
   "outputs": [
    {
     "name": "stdout",
     "output_type": "stream",
     "text": [
      "feed me some integer value this time : 6\n",
      "6\n",
      "<class 'int'>\n",
      "12\n"
     ]
    }
   ],
   "source": [
    "ques = int(input('feed me some integer value this time : '))\n",
    "print(ques)\n",
    "print(type(ques))\n",
    "print(ques*2)"
   ]
  },
  {
   "cell_type": "markdown",
   "metadata": {},
   "source": [
    "The int() function converts the string ques to an integer so that the mathematical operation can be\n",
    "performed.  \n",
    "  \n",
    "**NOTE**  \n",
    "If you are learning Python and need help on a new function you are\n",
    "not familiar with, it is easy to get that help just by calling the help()\n",
    "built-in function and passing in the name of the function you want help\n",
    "with:  \n",
    "  \n",
    "**Jupyter notebook cells also work as interactive interpreter**"
   ]
  },
  {
   "cell_type": "code",
   "execution_count": 23,
   "metadata": {},
   "outputs": [
    {
     "name": "stdout",
     "output_type": "stream",
     "text": [
      "Help on built-in function print in module builtins:\n",
      "\n",
      "print(...)\n",
      "    print(value, ..., sep=' ', end='\\n', file=sys.stdout, flush=False)\n",
      "    \n",
      "    Prints the values to a stream, or to sys.stdout by default.\n",
      "    Optional keyword arguments:\n",
      "    file:  a file-like object (stream); defaults to the current sys.stdout.\n",
      "    sep:   string inserted between values, default a space.\n",
      "    end:   string appended after the last value, default a newline.\n",
      "    flush: whether to forcibly flush the stream.\n",
      "\n"
     ]
    }
   ],
   "source": [
    "help(print)"
   ]
  },
  {
   "cell_type": "code",
   "execution_count": 24,
   "metadata": {},
   "outputs": [
    {
     "name": "stdout",
     "output_type": "stream",
     "text": [
      "\n"
     ]
    }
   ],
   "source": [
    "print()  # Press Shift + TAB"
   ]
  },
  {
   "cell_type": "markdown",
   "metadata": {},
   "source": [
    "3. **Comments**\n",
    "As with most scripting and Unix-shell languages, the hash or pound ( # ) sign signals that a comment\n",
    "begins from the # and continues until the end of the line.  "
   ]
  },
  {
   "cell_type": "code",
   "execution_count": 25,
   "metadata": {},
   "outputs": [
    {
     "name": "stdout",
     "output_type": "stream",
     "text": [
      "2\n"
     ]
    }
   ],
   "source": [
    "# Comment 1\n",
    "print(2) # comment 2\n",
    "# comment 3"
   ]
  },
  {
   "cell_type": "markdown",
   "metadata": {},
   "source": [
    "There are special comments called documentation strings, or \"doc strings\" for short. You can add a\n",
    "\"comment\" at the beginning of a module, class, or function string that serves as a doc string, a feature\n",
    "familiar to Java programmers:  \n",
    "    \n",
    "Unlike regular comments, however, doc strings can be accessed at runtime and be used to automatically\n",
    "generate documentation.  \n",
    "\n",
    "**NOTE**  \n",
    "select everything you wanna comment press **ctrl + ?** to comment and press again to uncomment.  "
   ]
  },
  {
   "cell_type": "code",
   "execution_count": 27,
   "metadata": {},
   "outputs": [],
   "source": [
    "# wett\n",
    "# fhgfh\n",
    "# dyy"
   ]
  },
  {
   "cell_type": "code",
   "execution_count": 28,
   "metadata": {},
   "outputs": [],
   "source": [
    "def displayFunc(stringToDislay):\n",
    "    '''\n",
    "    This function takes one argument named stringToDislay\n",
    "    which display any thing it recieved as string\n",
    "    '''\n",
    "    return stringToDislay"
   ]
  },
  {
   "cell_type": "code",
   "execution_count": 29,
   "metadata": {},
   "outputs": [
    {
     "name": "stdout",
     "output_type": "stream",
     "text": [
      "Help on function displayFunc in module __main__:\n",
      "\n",
      "displayFunc(stringToDislay)\n",
      "    This function takes one argument named stringToDislay\n",
      "    which display any thing it recieved as string\n",
      "\n"
     ]
    }
   ],
   "source": [
    "help(displayFunc)"
   ]
  },
  {
   "cell_type": "markdown",
   "metadata": {},
   "source": [
    "4. **Operators**  \n",
    "  \n",
    "The standard mathematical operators that you are familiar with work the same way in Python as in most\n",
    "other languages.  \n",
    "\n",
    "(Addition) **(+)**  \n",
    "(Subtraction)  **(-)**  \n",
    "(Multiplication)  **( * )**  \n",
    "(Division with floating points or decimals) **(/)**   \n",
    "(Integer Division) **(//)**  \n",
    "(Modulus - return remainder) **(%)**  \n",
    "(Exponent - Raise to the Power of) <strong>(**)</strong>\n",
    "   \n",
    "Python has two division operators, a single slash character for classic division and a doubleslash for \"floor\" division (rounds down to nearest whole number).  \n",
    "![](img/fvsc.PNG)   \n",
    "  \n",
    "Although we are emphasizing the mathematical nature of these operators, please note that some of these operators are overloaded for use with other data types as well, for example, strings and lists. Let us look at an example:"
   ]
  },
  {
   "cell_type": "code",
   "execution_count": 31,
   "metadata": {},
   "outputs": [
    {
     "name": "stdout",
     "output_type": "stream",
     "text": [
      "1\n"
     ]
    }
   ],
   "source": [
    " print(-2 * 4 + 3 ** 2) # -8 + 9"
   ]
  },
  {
   "cell_type": "markdown",
   "metadata": {},
   "source": [
    "As you can see, the operator precedence is what you expect: + and - are at the bottom, followed by\n",
    "*, /, //, and %; then comes the unary + and -(signs), and finally, we have ** at the top.  \n",
    "  \n",
    "  \n",
    "Python also provides the standard **comparison operators**, which return a Boolean value indicating the\n",
    "truthfulness of the expression:   \n",
    "  \n",
    "(Less than) **(<)**   \n",
    "(Less than & equal to) **(<=)**   \n",
    "(Greater than) **(>)**   \n",
    "(Greater than & equal to) **(>=)**    \n",
    "(Equal to) **(==)**   \n",
    "(Not equal to) **(!=)**    "
   ]
  },
  {
   "cell_type": "code",
   "execution_count": 33,
   "metadata": {},
   "outputs": [
    {
     "name": "stdout",
     "output_type": "stream",
     "text": [
      "True\n",
      "False\n",
      "False\n",
      "False\n",
      "True\n",
      "True\n"
     ]
    }
   ],
   "source": [
    "print(2 < 4)\n",
    "print(2 == 4)\n",
    "print(2 > 4)\n",
    "print(6.2 <= 6)\n",
    "print(6.2 <= 6.2)\n",
    "print(6.2 <= 6.20001)"
   ]
  },
  {
   "cell_type": "markdown",
   "metadata": {},
   "source": [
    "Python also provides the expression **conjunction operators**:  \n",
    "If every condition is True - **and**  \n",
    "If any one of all condition is True - **or**   \n",
    "If reversing the effect of True and False - **not**    \n",
    "  \n",
    "We can use these operations to chain together arbitrary expressions and logically combine the Boolean\n",
    "results:  "
   ]
  },
  {
   "cell_type": "code",
   "execution_count": 35,
   "metadata": {},
   "outputs": [
    {
     "name": "stdout",
     "output_type": "stream",
     "text": [
      "False\n",
      "True\n",
      "True\n",
      "True\n",
      "True\n"
     ]
    }
   ],
   "source": [
    "print(2 < 4 and 2 == 4) # False\n",
    "print(2 < 4 and 4.0 == 4) # True\n",
    "print(2 > 4 or 2 < 4) # True\n",
    "print(not 6.2 <= 6)# True\n",
    "print(3 < 4 < 5) # True"
   ]
  },
  {
   "cell_type": "markdown",
   "metadata": {},
   "source": [
    "The last example is an expression that may be invalid in other languages, but in Python it is really a\n",
    "short way of saying:  \n",
    "  \n",
    "```python\n",
    "3 < 4 and 4 < 5\n",
    "```"
   ]
  },
  {
   "cell_type": "markdown",
   "metadata": {},
   "source": [
    "5. **Variables and Assignment**  \n",
    "\n",
    "Rules for variables in Python are the same as they are in most other high-level languages inspired by (or\n",
    "more likely, written in) C.  \n",
    "  \n",
    "They are simply identifier names(var names- just like myText) with an alphabetic first character\n",
    "\"alphabetic\" meaning upper-or lowercase letters, including the underscore ( _ ). Any additional\n",
    "characters may be alphanumeric or underscore. Python is case-sensitive, meaning that the identifier\n",
    "\"cAsE\" is different from \"CaSe.\"  \n",
    "  \n",
    "Python is **dynamically typed**, meaning that no need to pre-declare a variable or its type. The\n",
    "type (and value) are initialized on assignment. Assignments are performed using the equal sign."
   ]
  },
  {
   "cell_type": "code",
   "execution_count": 40,
   "metadata": {},
   "outputs": [
    {
     "name": "stdout",
     "output_type": "stream",
     "text": [
      "Rohit Mehra weighs 90 Kg and he need to run 10.000000 miles which is the same as 16.090000 km\n"
     ]
    }
   ],
   "source": [
    "weigh = 90\n",
    "miles = 10.0\n",
    "name = 'Rohit Mehra'\n",
    "kilometers = 1.609 * miles\n",
    "print('%s weighs %d Kg and he need to run %f miles which is the same as %f km' % (name, weigh, miles, kilometers))"
   ]
  },
  {
   "cell_type": "code",
   "execution_count": 1,
   "metadata": {},
   "outputs": [
    {
     "name": "stdout",
     "output_type": "stream",
     "text": [
      "100\n",
      "100\n"
     ]
    }
   ],
   "source": [
    "## Advanced assignments \n",
    "n = 10\n",
    "n = n * 10\n",
    "print(n)\n",
    "n = 10\n",
    "n *= 10\n",
    "print(n)"
   ]
  },
  {
   "cell_type": "markdown",
   "metadata": {},
   "source": [
    "#### 6. Numbers\n",
    "- int  \n",
    "- float  \n",
    "- boolean  \n",
    "- complex   a\n",
    "**Example :**  \n",
    "  \n",
    "| int    | float      | complex    |   \n",
    "|--------|------------|------------|  \n",
    "| -786   | 32.3+e18   | 3.14j      |   \n",
    "| 080    | -32.54e100 | 9.322e-36j |   \n",
    "| -0x260 | 70.2-E12   | 4.53e-7j   |   \n",
    "  \n",
    "**Integers** You are limited only by the amount of (virtual) memory in your system as far as range of int is concerned.  \n",
    "If you are familiar with Java, a Python integer is similar to numbers of the BigInteger class type.  "
   ]
  },
  {
   "cell_type": "code",
   "execution_count": 3,
   "metadata": {},
   "outputs": [
    {
     "name": "stdout",
     "output_type": "stream",
     "text": [
      "12345678909876543211234567890987654321\n"
     ]
    }
   ],
   "source": [
    "bigInt = 12345678909876543211234567890987654321\n",
    "print(bigInt)"
   ]
  },
  {
   "cell_type": "markdown",
   "metadata": {},
   "source": [
    "**Boolean** values are a special case of integer. Although represented by the constants true and False, if\n",
    "put in a numeric context such as addition with other numbers, true is treated as the integer with value\n",
    "1, and False has a value of 0.  "
   ]
  },
  {
   "cell_type": "code",
   "execution_count": 4,
   "metadata": {},
   "outputs": [
    {
     "name": "stdout",
     "output_type": "stream",
     "text": [
      "2\n",
      "1\n",
      "-1\n"
     ]
    }
   ],
   "source": [
    "print(True+True)\n",
    "print(True - False)\n",
    "print(False-True)"
   ]
  },
  {
   "cell_type": "markdown",
   "metadata": {},
   "source": [
    "**Complex numbers** (numbers that involve the square root of -1, so-called \"imaginary\" numbers) are not\n",
    "supported in many languages and perhaps are implemented only as classes in others.  "
   ]
  },
  {
   "cell_type": "code",
   "execution_count": 5,
   "metadata": {},
   "outputs": [
    {
     "name": "stdout",
     "output_type": "stream",
     "text": [
      "(4+5j)\n",
      "<class 'complex'>\n"
     ]
    }
   ],
   "source": [
    "a = 4 + 5j\n",
    "print(a)\n",
    "print(type(a))"
   ]
  },
  {
   "cell_type": "code",
   "execution_count": 6,
   "metadata": {},
   "outputs": [
    {
     "name": "stdout",
     "output_type": "stream",
     "text": [
      "Floating Point numbers are accurate to 15 decimal places :  1.1234567890123457\n"
     ]
    }
   ],
   "source": [
    "fp = 1.12345678901234567890\n",
    "print(\"Floating Point numbers are accurate to 15 decimal places : \", fp)"
   ]
  },
  {
   "cell_type": "markdown",
   "metadata": {},
   "source": [
    "There is also a numeric type, **decimal**, for decimal floating numbers, but it is not a built-in type.\n",
    "You must import the **decimal** module to use these types of numbers. They were added to Python\n",
    "(version 2.4) because of a need for more accuracy. For example, the number 1.1 cannot be accurately\n",
    "representing with binary floating point numbers (floats) because it has a repeating fraction in binary.\n",
    "Because of this, numbers like 1.1 look like this as a float:  \n",
    "```python\n",
    ">>> 1.1\n",
    "1.10000000000000001\n",
    "```"
   ]
  },
  {
   "cell_type": "code",
   "execution_count": 7,
   "metadata": {},
   "outputs": [
    {
     "name": "stdout",
     "output_type": "stream",
     "text": [
      "1.1\n",
      "0.10000000000000009\n",
      "0.10000000000000009\n"
     ]
    }
   ],
   "source": [
    "print(1.1) # not now\n",
    "print(1.1-1.0) # ????\n",
    "print(1.10000000000000001-1.0)"
   ]
  },
  {
   "cell_type": "code",
   "execution_count": 8,
   "metadata": {},
   "outputs": [
    {
     "name": "stdout",
     "output_type": "stream",
     "text": [
      "1.1\n",
      "False\n",
      "<class 'decimal.Decimal'>\n"
     ]
    }
   ],
   "source": [
    "import decimal\n",
    "print(decimal.Decimal('1.1'))\n",
    "print(1.1 == decimal.Decimal('1.1'))\n",
    "print(type(decimal.Decimal('1.1')))"
   ]
  },
  {
   "cell_type": "markdown",
   "metadata": {},
   "source": [
    "#### 7. Strings\n",
    "Strings in Python are identified as a contiguous set of characters in between quotation marks. Python\n",
    "allows for either pairs of single or double quotes. Triple quotes (three consecutive single or double\n",
    "quotes) can be used to escape special characters."
   ]
  },
  {
   "cell_type": "code",
   "execution_count": 5,
   "metadata": {},
   "outputs": [
    {
     "name": "stdout",
     "output_type": "stream",
     "text": [
      "ravi\n",
      "tutorials' link\n",
      "I can add this \"\" and these ''  \n",
      "\n",
      "'ravi'\n",
      "\"tutorials' link\"\n",
      "'I can add this \"\" and these \\'\\' '\n"
     ]
    }
   ],
   "source": [
    "str1 = 'ravi'\n",
    "str2 = \"tutorials' link\"\n",
    "str3 = '''I can add this \"\" and these '' '''\n",
    "print(str1)\n",
    "print(str2)\n",
    "print(str3, '\\n')\n",
    "print(repr(str1))\n",
    "print(repr(str2))\n",
    "print(repr(str3))"
   ]
  },
  {
   "cell_type": "code",
   "execution_count": 8,
   "metadata": {},
   "outputs": [
    {
     "name": "stdout",
     "output_type": "stream",
     "text": [
      "Tutorials' link is a great place to learn\n",
      "\"Tutorials' link is a great place to learn\"\n",
      "\n",
      "Tutorials' link is a great place to learn\n",
      "\"Tutorials' link is a great place to learn\"\n"
     ]
    }
   ],
   "source": [
    "str1 = 'Tutorials\\' link is a great place to learn'\n",
    "str2 = \"Tutorials\\' link is a great place to learn\"\n",
    "print(str1)\n",
    "print(repr(str1))\n",
    "print()\n",
    "print(str2)\n",
    "print(repr(str2))"
   ]
  },
  {
   "cell_type": "markdown",
   "metadata": {},
   "source": [
    "Subsets of strings can be taken using the index **( [ ] )**\n",
    "and slice **( [ : ] )** operators, which work with indexes starting at 0 in the beginning of the string and\n",
    "working their way from -1 at the end"
   ]
  },
  {
   "cell_type": "code",
   "execution_count": 2,
   "metadata": {},
   "outputs": [
    {
     "name": "stdout",
     "output_type": "stream",
     "text": [
      "P\n",
      "s\n"
     ]
    }
   ],
   "source": [
    "str1 = 'Python'\n",
    "str2 = 'is pretty awesome'\n",
    "print(str1[0]) # first item, indexing in python begins from 0 --- P\n",
    "print(str2[1]) # second item,- s"
   ]
  },
  {
   "cell_type": "code",
   "execution_count": 3,
   "metadata": {},
   "outputs": [
    {
     "name": "stdout",
     "output_type": "stream",
     "text": [
      "Py\n",
      "Py\n",
      "thon\n"
     ]
    }
   ],
   "source": [
    "print(str1[0:2]) # [start:end] where index of end is not included -- Py\n",
    "print(str1[:2])\n",
    "print(str1[2:]) # [2: end]"
   ]
  },
  {
   "cell_type": "code",
   "execution_count": 6,
   "metadata": {
    "scrolled": true
   },
   "outputs": [
    {
     "name": "stdout",
     "output_type": "stream",
     "text": [
      "e\n",
      "m\n",
      "is pretty awesom\n",
      "is pretty awesome\n",
      "is pretty aw\n"
     ]
    }
   ],
   "source": [
    "print(str2[-1]) # last index or last value --- e\n",
    "print(str2[-2]) # second last value --- m\n",
    "print(str2[:-1]) # -1 index is not included\n",
    "print(str2[:])\n",
    "print(str2[:-5])"
   ]
  },
  {
   "cell_type": "markdown",
   "metadata": {},
   "source": [
    "**Concatinating strings**"
   ]
  },
  {
   "cell_type": "code",
   "execution_count": 15,
   "metadata": {
    "scrolled": true
   },
   "outputs": [
    {
     "name": "stdout",
     "output_type": "stream",
     "text": [
      "Pythonis pretty awesome\n",
      "Python is pretty awesome \n",
      "\n",
      "Python\n",
      "PythonPythonPython\n",
      "\n",
      "Hi there!\n",
      "New string here.\n",
      "\n"
     ]
    }
   ],
   "source": [
    "print(str1+str2)\n",
    "print(str1+' '+str2, '\\n')\n",
    "\n",
    "print(str1)\n",
    "print(str1*3)\n",
    "str3 = '''\n",
    "Hi there!\n",
    "New string here.\n",
    "'''\n",
    "print(str3)"
   ]
  },
  {
   "cell_type": "markdown",
   "metadata": {},
   "source": [
    "#### 8. Lists and Tuples\n",
    "Lists and tuples can be thought of as generic \"arrays\" with which to hold an arbitrary number of\n",
    "arbitrary Python objects(not only numbers). The items are ordered and accessed via index offsets, similar to arrays, exceptthat lists and tuples can store different types of objects.  \n",
    "  \n",
    "There are a few main differences between lists and tuples. Lists are enclosed in brackets **( [ ] )** and\n",
    "their elements and size can be changed. Tuples are enclosed in parentheses **( ( ) )** and cannot be\n",
    "updated (although their contents may be). Tuples can be thought of for now as \"read-only\" lists.\n",
    "Subsets can be taken with the slice operator **( [] and [ : ] )** in the same manner as strings.  "
   ]
  },
  {
   "cell_type": "code",
   "execution_count": 23,
   "metadata": {},
   "outputs": [
    {
     "name": "stdout",
     "output_type": "stream",
     "text": [
      "[1, 'ravinder', 2, 'Tutorials link']\n",
      "<class 'list'> \n",
      "\n",
      "ravinder\n",
      "['ravinder', 2]\n"
     ]
    }
   ],
   "source": [
    "li1 = [1, 'ravinder', 2, 'Tutorials link']\n",
    "print(li1)\n",
    "print(type(li1), '\\n')\n",
    "\n",
    "print(li1[1])\n",
    "print(li1[1:3])"
   ]
  },
  {
   "cell_type": "code",
   "execution_count": 24,
   "metadata": {},
   "outputs": [
    {
     "name": "stdout",
     "output_type": "stream",
     "text": [
      "[1, 'added this to index position 1.', 2, 'Tutorials link']\n"
     ]
    }
   ],
   "source": [
    "li1[1] = 'added this to index position 1.'\n",
    "print(li1)"
   ]
  },
  {
   "cell_type": "code",
   "execution_count": 25,
   "metadata": {},
   "outputs": [
    {
     "name": "stdout",
     "output_type": "stream",
     "text": [
      "(1, 'ravinder', 2, 'Tutorials link')\n",
      "<class 'tuple'>\n",
      "('ravinder', 2)\n"
     ]
    }
   ],
   "source": [
    "tup1 =(1, 'ravinder', 2, 'Tutorials link')\n",
    "print(tup1)\n",
    "print(type(tup1))\n",
    "print(tup1[1:3])"
   ]
  },
  {
   "cell_type": "code",
   "execution_count": 26,
   "metadata": {},
   "outputs": [
    {
     "ename": "TypeError",
     "evalue": "'tuple' object does not support item assignment",
     "output_type": "error",
     "traceback": [
      "\u001b[1;31m---------------------------------------------------------------------------\u001b[0m",
      "\u001b[1;31mTypeError\u001b[0m                                 Traceback (most recent call last)",
      "\u001b[1;32m<ipython-input-26-1a4260fd9de9>\u001b[0m in \u001b[0;36m<module>\u001b[1;34m()\u001b[0m\n\u001b[1;32m----> 1\u001b[1;33m \u001b[0mtup1\u001b[0m\u001b[1;33m[\u001b[0m\u001b[1;36m1\u001b[0m\u001b[1;33m]\u001b[0m \u001b[1;33m=\u001b[0m \u001b[1;34m'added this to index position 1.'\u001b[0m\u001b[1;33m\u001b[0m\u001b[0m\n\u001b[0m\u001b[0;32m      2\u001b[0m \u001b[0mtup1\u001b[0m\u001b[1;33m(\u001b[0m\u001b[0mli1\u001b[0m\u001b[1;33m)\u001b[0m\u001b[1;33m\u001b[0m\u001b[0m\n",
      "\u001b[1;31mTypeError\u001b[0m: 'tuple' object does not support item assignment"
     ]
    }
   ],
   "source": [
    "tup1[1] = 'added this to index position 1.'\n",
    "tup1(li1)"
   ]
  },
  {
   "cell_type": "markdown",
   "metadata": {},
   "source": [
    "#### 9. Dictionaries\n",
    "Dictionaries (or \"dicts\" for short) are Python's mapping type or hashes.  they are made up of key-value pairs. Keys can be almost any Python type, but are usually numbers or strings. Values, on the other hand, can be any arbitrary Python object. Dicts are enclosed by curly braces **( { } )**."
   ]
  },
  {
   "cell_type": "code",
   "execution_count": 38,
   "metadata": {},
   "outputs": [
    {
     "name": "stdout",
     "output_type": "stream",
     "text": [
      "{'name': 'ravinder', 'platform': 'jupyter notebook', 'course': 'python for data science', 'number of modules': 5} \n",
      "\n",
      "<class 'dict'>\n"
     ]
    }
   ],
   "source": [
    "di1 = {'name' : 'ravinder', 'platform' : 'jupyter notebook', \n",
    "       'course' : 'python for data science',\n",
    "      'number of modules' : 5}\n",
    "print(di1, '\\n')\n",
    "print(type(di1))"
   ]
  },
  {
   "cell_type": "code",
   "execution_count": 39,
   "metadata": {},
   "outputs": [
    {
     "name": "stdout",
     "output_type": "stream",
     "text": [
      "ravinder\n",
      "jupyter notebook\n",
      "python for data science\n",
      "5\n"
     ]
    }
   ],
   "source": [
    "print(di1['name'])\n",
    "print(di1['platform'])\n",
    "print(di1['course'])\n",
    "print(di1['number of modules'])"
   ]
  },
  {
   "cell_type": "code",
   "execution_count": 40,
   "metadata": {},
   "outputs": [
    {
     "name": "stdout",
     "output_type": "stream",
     "text": [
      "dict_keys(['name', 'platform', 'course', 'number of modules'])\n"
     ]
    }
   ],
   "source": [
    "print(di1.keys())"
   ]
  },
  {
   "cell_type": "code",
   "execution_count": 50,
   "metadata": {},
   "outputs": [
    {
     "name": "stdout",
     "output_type": "stream",
     "text": [
      "dict_values(['ravinder', 'jupyter notebook', 'python for data science', 5])\n"
     ]
    }
   ],
   "source": [
    "print(di1.values())"
   ]
  },
  {
   "cell_type": "code",
   "execution_count": 41,
   "metadata": {},
   "outputs": [
    {
     "name": "stdout",
     "output_type": "stream",
     "text": [
      "dict_items([('name', 'ravinder'), ('platform', 'jupyter notebook'), ('course', 'python for data science'), ('number of modules', 5)])\n"
     ]
    }
   ],
   "source": [
    "print(di1.items())"
   ]
  },
  {
   "cell_type": "code",
   "execution_count": 42,
   "metadata": {},
   "outputs": [
    {
     "ename": "KeyError",
     "evalue": "'jupyter notebook'",
     "output_type": "error",
     "traceback": [
      "\u001b[1;31m---------------------------------------------------------------------------\u001b[0m",
      "\u001b[1;31mKeyError\u001b[0m                                  Traceback (most recent call last)",
      "\u001b[1;32m<ipython-input-42-a5fd29fbea00>\u001b[0m in \u001b[0;36m<module>\u001b[1;34m()\u001b[0m\n\u001b[1;32m----> 1\u001b[1;33m \u001b[0mprint\u001b[0m\u001b[1;33m(\u001b[0m\u001b[0mdi1\u001b[0m\u001b[1;33m[\u001b[0m\u001b[1;34m'jupyter notebook'\u001b[0m\u001b[1;33m]\u001b[0m\u001b[1;33m)\u001b[0m\u001b[1;31m# cant call by values\u001b[0m\u001b[1;33m\u001b[0m\u001b[0m\n\u001b[0m",
      "\u001b[1;31mKeyError\u001b[0m: 'jupyter notebook'"
     ]
    }
   ],
   "source": [
    "print(di1['jupyter notebook'])# cant call by values"
   ]
  },
  {
   "cell_type": "code",
   "execution_count": 49,
   "metadata": {},
   "outputs": [
    {
     "name": "stdout",
     "output_type": "stream",
     "text": [
      "name                ravinder\n",
      "platform            jupyter notebook\n",
      "course              python for data science\n",
      "number of modules   5\n"
     ]
    }
   ],
   "source": [
    "# for loop\n",
    "for key, value in di1.items():\n",
    "    print('{0:<20}{1:}'.format(key, value))"
   ]
  },
  {
   "cell_type": "markdown",
   "metadata": {},
   "source": [
    "#### 10. Indentation\n",
    "No more braces and life without braces is loves <3 \n",
    "#### 10.1 if Statement\n",
    "**Syntax**  \n",
    "```python\n",
    "if condition_is_true:\n",
    "    # run all the code below this indentation\n",
    "```\n",
    "If the condition is non-zero or TRue, then the statement below if is executed; otherwise, execution \n",
    "continues on the first statement after outside the indentation."
   ]
  },
  {
   "cell_type": "code",
   "execution_count": 51,
   "metadata": {},
   "outputs": [
    {
     "name": "stdout",
     "output_type": "stream",
     "text": [
      "0 means False - so if is not running\n"
     ]
    }
   ],
   "source": [
    "if 0:\n",
    "    print('statement 1')\n",
    "    print('statement 2')\n",
    "    \n",
    "print('0 means False - so if is not running')"
   ]
  },
  {
   "cell_type": "code",
   "execution_count": 52,
   "metadata": {},
   "outputs": [
    {
     "name": "stdout",
     "output_type": "stream",
     "text": [
      "statement 1\n",
      "statement 2\n",
      "24 is non-zero means is also True - so if is running\n"
     ]
    }
   ],
   "source": [
    "if 24:\n",
    "    print('statement 1')\n",
    "    print('statement 2')\n",
    "    \n",
    "print('24 is non-zero means is also True - so if is running')    "
   ]
  },
  {
   "cell_type": "markdown",
   "metadata": {},
   "source": [
    "Python supports an **else** statement that is used with if in the following manner:  \n",
    "```python\n",
    "if condition_is_true:\n",
    "    # everything below this indentation will run\n",
    "else:\n",
    "    # nothing below else's indentation will run if, if-statement ran\n",
    "```\n",
    "  <br>\n",
    "  <br>\n",
    "  \n",
    "```python\n",
    "if condition_is_false:\n",
    "    # everything below this indentation will not run\n",
    "else:\n",
    "    # if-statement didn't run everthing below else's indentation will run\n",
    "```\n"
   ]
  },
  {
   "cell_type": "code",
   "execution_count": 1,
   "metadata": {},
   "outputs": [
    {
     "name": "stdout",
     "output_type": "stream",
     "text": [
      "Welcome Sir!\n"
     ]
    }
   ],
   "source": [
    "str1 = 'Ravinder'\n",
    "str2 = 'someone else'\n",
    "if str1:\n",
    "    print('Welcome Sir!')\n",
    "else:\n",
    "    print('Breach')"
   ]
  },
  {
   "cell_type": "code",
   "execution_count": 2,
   "metadata": {},
   "outputs": [
    {
     "name": "stdout",
     "output_type": "stream",
     "text": [
      "Welcome Sir!\n"
     ]
    }
   ],
   "source": [
    "if str2:\n",
    "    print('Welcome Sir!')\n",
    "else:\n",
    "    print('Breach')"
   ]
  },
  {
   "cell_type": "code",
   "execution_count": 4,
   "metadata": {},
   "outputs": [
    {
     "name": "stdout",
     "output_type": "stream",
     "text": [
      "Wlcome Sir!\n"
     ]
    }
   ],
   "source": [
    "if str1 == 'Ravinder':\n",
    "    print('Wlcome Sir!')\n",
    "else:\n",
    "    print('Breach')"
   ]
  },
  {
   "cell_type": "code",
   "execution_count": 5,
   "metadata": {},
   "outputs": [
    {
     "name": "stdout",
     "output_type": "stream",
     "text": [
      "Breach\n"
     ]
    }
   ],
   "source": [
    "if str2 == 'Ravinder':\n",
    "    print('Wlcome Sir!')\n",
    "else:\n",
    "    print('Breach')"
   ]
  },
  {
   "cell_type": "markdown",
   "metadata": {},
   "source": [
    "**There's no switch-case in python** you just gotta work with if-elif-else"
   ]
  },
  {
   "cell_type": "code",
   "execution_count": 9,
   "metadata": {},
   "outputs": [
    {
     "name": "stdout",
     "output_type": "stream",
     "text": [
      "enter a number : -20\n",
      "No. is negative.\n",
      "enter a number : +2\n",
      "No. is lesser than 10.\n",
      "enter a number : 40\n",
      "No. is lesser than 100 and greater than 10.\n",
      "enter a number : 1000\n",
      "No. is greater than 100.\n"
     ]
    }
   ],
   "source": [
    "# taking user input()\n",
    "def no_func(n):\n",
    "    if n< 0:\n",
    "        print('No. is negative.')\n",
    "    elif n < 10:\n",
    "        print('No. is lesser than 10.')\n",
    "    elif(n < 100 and n > 10):\n",
    "        print('No. is lesser than 100 and greater than 10.')\n",
    "    else:\n",
    "        print('No. is greater than 100.')\n",
    "        \n",
    "no_func(int(input('enter a number : '))) # -20\n",
    "no_func(int(input('enter a number : '))) # 2\n",
    "no_func(int(input('enter a number : '))) # 40\n",
    "no_func(int(input('enter a number : '))) # 1000"
   ]
  },
  {
   "cell_type": "markdown",
   "metadata": {},
   "source": [
    "#### 10.2 while Loop\n",
    "```python\n",
    "while expression:\n",
    "    # do something\n",
    "```  "
   ]
  },
  {
   "cell_type": "code",
   "execution_count": 10,
   "metadata": {},
   "outputs": [
    {
     "name": "stdout",
     "output_type": "stream",
     "text": [
      "0\n",
      "1\n",
      "2\n",
      "3\n",
      "4\n",
      "5\n",
      "6\n",
      "7\n",
      "8\n",
      "9\n",
      "10\n",
      "\n",
      "11\n"
     ]
    }
   ],
   "source": [
    "counting_counter = 0 # initial value of counter\n",
    "while(counting_counter <= 10):\n",
    "    print(counting_counter)\n",
    "    counting_counter += 1 # counting_counter = counting_counter + 1\n",
    "print()\n",
    "print(counting_counter)"
   ]
  },
  {
   "cell_type": "markdown",
   "metadata": {},
   "source": [
    "#### 10.3  for Loop and the range() Built-in Function\n",
    "The for loop in Python is more like a foreach iterative-type loop in a shell scripting language than a\n",
    "traditional for conditional loop that works like a counter. Python's for takes an iterable (such as a\n",
    "sequence or iterator) and traverses each element once."
   ]
  },
  {
   "cell_type": "code",
   "execution_count": 11,
   "metadata": {
    "scrolled": true
   },
   "outputs": [
    {
     "name": "stdout",
     "output_type": "stream",
     "text": [
      "1\n",
      "ravinder\n",
      "2\n",
      "Tutorials link\n"
     ]
    }
   ],
   "source": [
    "li1 = [1, 'ravinder', 2, 'Tutorials link']\n",
    "for item in li1:\n",
    "    print(item)"
   ]
  },
  {
   "cell_type": "code",
   "execution_count": 15,
   "metadata": {},
   "outputs": [
    {
     "name": "stdout",
     "output_type": "stream",
     "text": [
      "1 ,\n",
      "ravinder ,\n",
      "2 ,\n",
      "Tutorials link ,\n"
     ]
    }
   ],
   "source": [
    "for item in li1:\n",
    "    print(item, ',')"
   ]
  },
  {
   "cell_type": "code",
   "execution_count": 17,
   "metadata": {},
   "outputs": [
    {
     "name": "stdout",
     "output_type": "stream",
     "text": [
      "1 ravinder 2 Tutorials link\n"
     ]
    }
   ],
   "source": [
    "print(*li1)"
   ]
  },
  {
   "cell_type": "code",
   "execution_count": 18,
   "metadata": {},
   "outputs": [
    {
     "name": "stdout",
     "output_type": "stream",
     "text": [
      "1 ravinder 2 Tutorials link "
     ]
    }
   ],
   "source": [
    "for item in li1:\n",
    "    print(item, end = ' ')"
   ]
  },
  {
   "cell_type": "markdown",
   "metadata": {},
   "source": [
    "**range(start, end, step)**"
   ]
  },
  {
   "cell_type": "code",
   "execution_count": 25,
   "metadata": {},
   "outputs": [
    {
     "name": "stdout",
     "output_type": "stream",
     "text": [
      "0\n",
      "1\n",
      "2\n",
      "3\n",
      "4\n",
      "5\n",
      "6\n",
      "7\n"
     ]
    }
   ],
   "source": [
    "for no in range(0, 8):\n",
    "    print(no)"
   ]
  },
  {
   "cell_type": "code",
   "execution_count": 26,
   "metadata": {},
   "outputs": [
    {
     "name": "stdout",
     "output_type": "stream",
     "text": [
      "2\n",
      "3\n",
      "4\n",
      "5\n",
      "6\n",
      "7\n"
     ]
    }
   ],
   "source": [
    "for no in range(2, 8):\n",
    "    print(no)"
   ]
  },
  {
   "cell_type": "code",
   "execution_count": 27,
   "metadata": {},
   "outputs": [
    {
     "name": "stdout",
     "output_type": "stream",
     "text": [
      "0\n",
      "1\n",
      "2\n",
      "3\n",
      "4\n",
      "5\n",
      "6\n",
      "7\n"
     ]
    }
   ],
   "source": [
    "for no in range(0, 8, 1):\n",
    "    print(no)"
   ]
  },
  {
   "cell_type": "code",
   "execution_count": 28,
   "metadata": {},
   "outputs": [
    {
     "name": "stdout",
     "output_type": "stream",
     "text": [
      "0\n",
      "2\n",
      "4\n",
      "6\n"
     ]
    }
   ],
   "source": [
    "for no in range(0, 8, 2):\n",
    "    print(no)"
   ]
  },
  {
   "cell_type": "code",
   "execution_count": 32,
   "metadata": {},
   "outputs": [
    {
     "name": "stdout",
     "output_type": "stream",
     "text": [
      "range(0, 4)\n",
      "<class 'range'>\n"
     ]
    }
   ],
   "source": [
    "x = range(0, 4)\n",
    "print(x)\n",
    "print(type(x))"
   ]
  },
  {
   "cell_type": "code",
   "execution_count": 33,
   "metadata": {},
   "outputs": [
    {
     "name": "stdout",
     "output_type": "stream",
     "text": [
      "[0, 1, 2, 3]\n",
      "<class 'list'>\n"
     ]
    }
   ],
   "source": [
    "list1 = list(range(0, 4))\n",
    "print(list1)\n",
    "print(type(list1))"
   ]
  },
  {
   "cell_type": "code",
   "execution_count": 35,
   "metadata": {
    "scrolled": true
   },
   "outputs": [
    {
     "name": "stdout",
     "output_type": "stream",
     "text": [
      "R\n",
      "a\n",
      "v\n",
      "i\n",
      "n\n",
      "d\n",
      "e\n",
      "r\n"
     ]
    }
   ],
   "source": [
    "string = 'Ravinder'\n",
    "for characters in string:\n",
    "    print(characters)"
   ]
  },
  {
   "cell_type": "code",
   "execution_count": 40,
   "metadata": {},
   "outputs": [
    {
     "name": "stdout",
     "output_type": "stream",
     "text": [
      "R    0\n",
      "a    1\n",
      "v    2\n",
      "i    3\n",
      "n    4\n",
      "d    5\n",
      "e    6\n",
      "r    7\n"
     ]
    }
   ],
   "source": [
    "# Characters with their corresponding indexes:\n",
    "for count in range(len(string)):\n",
    "    print(string[count], \"{:>4d}\".format(count))"
   ]
  },
  {
   "cell_type": "markdown",
   "metadata": {},
   "source": [
    "**enumerate()**"
   ]
  },
  {
   "cell_type": "code",
   "execution_count": 41,
   "metadata": {},
   "outputs": [
    {
     "name": "stdout",
     "output_type": "stream",
     "text": [
      "R 0\n",
      "a 1\n",
      "v 2\n",
      "i 3\n",
      "n 4\n",
      "d 5\n",
      "e 6\n",
      "r 7\n"
     ]
    }
   ],
   "source": [
    "for count, char in enumerate(string):\n",
    "    print(char, count)"
   ]
  },
  {
   "cell_type": "markdown",
   "metadata": {},
   "source": [
    "#### 11. List Comprehensions\n",
    "These are just fancy terms to indicate how you can programmatically use a for loop to put together an\n",
    "entire list on a single line:"
   ]
  },
  {
   "cell_type": "code",
   "execution_count": 42,
   "metadata": {},
   "outputs": [
    {
     "name": "stdout",
     "output_type": "stream",
     "text": [
      "[1, 3, 5, 7, 9, 11, 13, 15, 17, 19, 21, 23, 25, 27, 29, 31, 33, 35, 37, 39, 41, 43, 45, 47, 49]\n"
     ]
    }
   ],
   "source": [
    "# Make a list of odd numbers fom 1 to 50\n",
    "odd_list = []\n",
    "for i in range(1, 50):\n",
    "    if i % 2 != 0:\n",
    "        odd_list.append(i)\n",
    "print(odd_list)\n"
   ]
  },
  {
   "cell_type": "code",
   "execution_count": 44,
   "metadata": {},
   "outputs": [
    {
     "name": "stdout",
     "output_type": "stream",
     "text": [
      "[1, 3, 5, 7, 9, 11, 13, 15, 17, 19, 21, 23, 25, 27, 29, 31, 33, 35, 37, 39, 41, 43, 45, 47, 49]\n"
     ]
    }
   ],
   "source": [
    "odd_li_comp = [ x for x in range(1, 50) if x % 2 !=0 ]\n",
    "print(odd_li_comp)"
   ]
  },
  {
   "cell_type": "markdown",
   "metadata": {},
   "source": [
    "#### 12. Files\n",
    "File access is one of the more important aspects of a language  \n",
    "**Open a File**\n",
    "```python\n",
    "file_obj = open(file_name, access_mode = 'r')\n",
    "```  \n",
    "The file_name variable contains the string name of the file we wish to open, and access_mode is either\n",
    "'r' for read, 'w' for write, or 'a' for append. Other flags that can be used in the access_mode string\n",
    "include the '+' for dual read-write access and the 'b' for binary access. If the mode is not provided, a\n",
    "default of read-only ('r') is used to open the file.  "
   ]
  },
  {
   "cell_type": "code",
   "execution_count": 45,
   "metadata": {},
   "outputs": [
    {
     "name": "stdout",
     "output_type": "stream",
     "text": [
      "Enter file name: test.txt\n",
      "Hi This is text line 1\n",
      "\n",
      "Hi This is text line 2\n"
     ]
    }
   ],
   "source": [
    "filename = input('Enter file name: ')\n",
    "fobj = open(filename, 'r')\n",
    "for eachLine in fobj:\n",
    "    print(eachLine)\n",
    "fobj.close()"
   ]
  },
  {
   "cell_type": "markdown",
   "metadata": {},
   "source": [
    "#### 13. Errors and Exceptions\n",
    "Syntax errors are detected on compilation, but Python also allows for the detection of errors during\n",
    "program execution. When an error is detected, the Python interpreter raises (aka throws, generates,\n",
    "triggers) an exception. Armed with the information that Python's exception reporting can generate at\n",
    "runtime, programmers can quickly debug their applications as well as fine-tune their software to take a\n",
    "specific course of action if an anticipated error occurs.  \n",
    "  \n",
    "To add error detection or exception handling to your code, just \"wrap\" it with a TRy-except statement.\n",
    "The indented-block following the **try** statement will be the code you want to manage. The code that comes after\n",
    "the **except** will be the code that executes if the exception you are anticipating occurs:"
   ]
  },
  {
   "cell_type": "code",
   "execution_count": 3,
   "metadata": {},
   "outputs": [
    {
     "name": "stdout",
     "output_type": "stream",
     "text": [
      "Enter file name: you.txt\n",
      "File doesn't exist\n"
     ]
    }
   ],
   "source": [
    "try:\n",
    "    filename = input('Enter file name: ')\n",
    "    fobj = open(filename, 'r')\n",
    "    for eachLine in fobj:\n",
    "        print(eachLine)\n",
    "    fobj.close()\n",
    "except:\n",
    "    print('File doesn\\'t exist')"
   ]
  },
  {
   "cell_type": "markdown",
   "metadata": {},
   "source": [
    "#### 14. Functions\n",
    "Like many other languages, functions in Python are called using the functional operator **( ( ) )**, functions\n",
    "must be declared before they can be called. You do not need to declare function (return) types or\n",
    "explicitly return values (None, Python's NULL object is returned by default if one is not given.)  \n",
    "  \n",
    "\n",
    "```python\n",
    "#How to Declare Functions\n",
    "def function_name(argument1, argument2,.....):\n",
    "    '''\n",
    "    documentation of function about what it does and arguments\n",
    "    '''\n",
    "    # actual work\n",
    "```"
   ]
  },
  {
   "cell_type": "code",
   "execution_count": 13,
   "metadata": {},
   "outputs": [
    {
     "name": "stdout",
     "output_type": "stream",
     "text": [
      "3\n"
     ]
    }
   ],
   "source": [
    "def add(x, y):\n",
    "    '''\n",
    "    Adds two numbers\n",
    "    '''\n",
    "    return a+b\n",
    "\n",
    "a = 1; b= 2;\n",
    "\n",
    "print(add(a, b)) # function call"
   ]
  },
  {
   "cell_type": "markdown",
   "metadata": {},
   "source": [
    "**Default Arguments**  \n",
    "Functions may have arguments that have default values.  if a value is not provided for the parameter, it will take on the assigned\n",
    "value as a default.  "
   ]
  },
  {
   "cell_type": "code",
   "execution_count": 14,
   "metadata": {},
   "outputs": [
    {
     "name": "stdout",
     "output_type": "stream",
     "text": [
      "16\n",
      "17\n"
     ]
    }
   ],
   "source": [
    "def expression(x, y, z = True):\n",
    "    '''\n",
    "    evaluates a expression\n",
    "    '''\n",
    "    return(x**y+z)\n",
    "\n",
    "print(expression(2, 4, z = False))\n",
    "print(expression(2, 4))"
   ]
  },
  {
   "cell_type": "code",
   "execution_count": 16,
   "metadata": {},
   "outputs": [
    {
     "ename": "SyntaxError",
     "evalue": "non-default argument follows default argument (<ipython-input-16-d5e299bf449f>, line 1)",
     "output_type": "error",
     "traceback": [
      "\u001b[0;36m  File \u001b[0;32m\"<ipython-input-16-d5e299bf449f>\"\u001b[0;36m, line \u001b[0;32m1\u001b[0m\n\u001b[0;31m    def expression(z = True, x, y):\u001b[0m\n\u001b[0m                  ^\u001b[0m\n\u001b[0;31mSyntaxError\u001b[0m\u001b[0;31m:\u001b[0m non-default argument follows default argument\n"
     ]
    }
   ],
   "source": [
    "def expression(z = True, x, y):\n",
    "    '''\n",
    "    evaluates a expression\n",
    "    '''\n",
    "    return(x**y+z)\n",
    "\n",
    "print(expression(z = False, 2, 4))\n",
    "#print(expression(2, 4))"
   ]
  },
  {
   "cell_type": "markdown",
   "metadata": {},
   "source": [
    "#### 15. Classes\n",
    "Classes are a core part of object-oriented programming and serve as a \"container\" for related data and\n",
    "logic. They provide a \"blueprint\" for creating \"real\" objects, called instances.  \n",
    "**Declare Classes**  "
   ]
  },
  {
   "cell_type": "code",
   "execution_count": 9,
   "metadata": {},
   "outputs": [],
   "source": [
    "class FirstClass(object):\n",
    "    \n",
    "\n",
    "    \"\"\"\n",
    "    my very first class: FirstClass\n",
    "    \"\"\"\n",
    "        \n",
    "        \n",
    "    version = 0.1 # class (data) attribute\n",
    "    \n",
    "    def __init__(self, name = 'Ravinder'):\n",
    "        \"\"\"\n",
    "        constructor\n",
    "        \"\"\"\n",
    "        self.name = name # class instance (data) attribute\n",
    "        print('Created a class instance for', name)\n",
    "        \n",
    "    def showname(self):\n",
    "        \"\"\"\n",
    "        display instance attribute and class name\n",
    "        \"\"\"\n",
    "        print('Your name is', self.name)\n",
    "        print('My class name is', self.__class__.__name__)\n",
    "        \n",
    "    def showver(self):\n",
    "        \"\"\"\n",
    "        display class(static) attribute\n",
    "        \"\"\"\n",
    "        print(self.version) # references FirstClass.version\n",
    "        \n",
    "    def addMe2Me(self, x): # does not use 'self'\n",
    "        \"\"\"\n",
    "        apply + operation to argument\n",
    "        \"\"\"\n",
    "        return x + x"
   ]
  },
  {
   "cell_type": "markdown",
   "metadata": {},
   "source": [
    "In the above class, we declared one static data type variable **version** shared among all instances and\n",
    "four methods, **__init__()**, **showname()**, **showver()**, and the familiar **addMe2Me()**.  \n",
    "  \n",
    "The show*() methods do not really do much but output the data they were created to output.  \n",
    "  \n",
    "The __init__() method has a special name, as do all those whose names begin and end with a double underscore **( __ )**.  \n",
    "  \n",
    "  \n",
    "The __init__() method is a function provided by default that is called when a class instance is created,\n",
    "similar to a constructor and called after the object has been instantiated. __init__() can be thought of\n",
    "as a constructor, but unlike constructors in other languages, it does not create an instanceit is really just\n",
    "the first method that is called after your object has been created.  \n",
    "  \n",
    "What is self? It is basically an instance's handle to itself, the instance on which a method was called.\n",
    "Other OO languages often use an identifier called this.  \n",
    "  \n",
    "####  Create Class Instances"
   ]
  },
  {
   "cell_type": "code",
   "execution_count": 10,
   "metadata": {},
   "outputs": [
    {
     "name": "stdout",
     "output_type": "stream",
     "text": [
      "Created a class instance for Ravinder\n"
     ]
    }
   ],
   "source": [
    "inst_1 = FirstClass()"
   ]
  },
  {
   "cell_type": "markdown",
   "metadata": {},
   "source": [
    "The string that is displayed is a result of a call to the __init__() method which we did not explicitly have\n",
    "to make. When an instance is created, __init__() is automatically called, whether we provided our own\n",
    "or the interpreter used the default one.  \n",
    "  \n",
    "Now that we have successfully created our first class instance, we can make some method calls, too:  \n",
    "  \n"
   ]
  },
  {
   "cell_type": "code",
   "execution_count": 11,
   "metadata": {},
   "outputs": [
    {
     "name": "stdout",
     "output_type": "stream",
     "text": [
      "Your name is Ravinder\n",
      "My class name is FirstClass\n",
      "None \n",
      "\n",
      "0.1\n",
      "None \n",
      "\n",
      "10\n",
      "xyzxyz\n"
     ]
    }
   ],
   "source": [
    "print(inst_1.showname(), '\\n')\n",
    "\n",
    "print(inst_1.showver(), '\\n')\n",
    "\n",
    "print(inst_1.addMe2Me(5))\n",
    "\n",
    "print(inst_1.addMe2Me('xyz'))"
   ]
  },
  {
   "cell_type": "code",
   "execution_count": 15,
   "metadata": {},
   "outputs": [
    {
     "name": "stdout",
     "output_type": "stream",
     "text": [
      "Created a class instance for Nitin Pandit\n",
      "Your name is Nitin Pandit\n",
      "My class name is FirstClass\n"
     ]
    }
   ],
   "source": [
    "inst_2 = FirstClass('Nitin Pandit')\n",
    "inst_2.showname()"
   ]
  },
  {
   "cell_type": "markdown",
   "metadata": {},
   "source": [
    "#### 16. Modules\n",
    "A module is a logical way to physically organize and distinguish related pieces of Python code into\n",
    "individual files. A module can contain executable code, functions, classes, or any and all of the above.  \n",
    "  \n",
    "Once a module is created, you may import that module using the import statement.\n",
    "```python\n",
    "import module_name\n",
    "```  \n",
    "We will now present our Hello World! example again, but using the output functions inside the sys\n",
    "module.  "
   ]
  },
  {
   "cell_type": "code",
   "execution_count": 22,
   "metadata": {},
   "outputs": [
    {
     "name": "stdout",
     "output_type": "stream",
     "text": [
      "Hello World!"
     ]
    }
   ],
   "source": [
    "import sys\n",
    "sys.stdout.write('Hello World!')"
   ]
  },
  {
   "cell_type": "code",
   "execution_count": 23,
   "metadata": {},
   "outputs": [
    {
     "data": {
      "text/plain": [
       "'linux'"
      ]
     },
     "execution_count": 23,
     "metadata": {},
     "output_type": "execute_result"
    }
   ],
   "source": [
    "sys.platform"
   ]
  },
  {
   "cell_type": "code",
   "execution_count": 24,
   "metadata": {},
   "outputs": [
    {
     "data": {
      "text/plain": [
       "'3.7.3 (default, Mar 27 2019, 22:11:17) \\n[GCC 7.3.0]'"
      ]
     },
     "execution_count": 24,
     "metadata": {},
     "output_type": "execute_result"
    }
   ],
   "source": [
    "sys.version"
   ]
  },
  {
   "cell_type": "markdown",
   "metadata": {},
   "source": [
    "We will cover all of the above topics in much greater detail later in this course"
   ]
  },
  {
   "cell_type": "code",
   "execution_count": null,
   "metadata": {},
   "outputs": [],
   "source": []
  },
  {
   "cell_type": "code",
   "execution_count": null,
   "metadata": {},
   "outputs": [],
   "source": []
  },
  {
   "cell_type": "code",
   "execution_count": null,
   "metadata": {},
   "outputs": [],
   "source": []
  },
  {
   "cell_type": "code",
   "execution_count": null,
   "metadata": {},
   "outputs": [],
   "source": []
  },
  {
   "cell_type": "code",
   "execution_count": null,
   "metadata": {},
   "outputs": [],
   "source": []
  },
  {
   "cell_type": "code",
   "execution_count": null,
   "metadata": {},
   "outputs": [],
   "source": []
  },
  {
   "cell_type": "markdown",
   "metadata": {},
   "source": [
    "--------------------------------------------------------------------------------------------------------------------   \n",
    "-------------------------------------------------------------------------------------------------------------------------------------------------------------------   \n",
    "-------------------------------------------------------------------------------------------------------------------------------------------------------------------   \n",
    "-------------------------------------------------------------------------------------------------------------------------------------------------------------------   \n",
    "-------------------------------------------------------------------------------------------------------------------------------------------------------------------   \n",
    "-------------------------------------------------------------------------------------------------------------------------------------------------------------------   \n",
    "-------------------------------------------------------------------------------------------------------------------------------------------------------------------   \n",
    "-------------------------------------------------------------------------------------------------------------------------------------------------------------------   \n",
    "-------------------------------------------------------------------------------------------------------------------------------------------------------------------   \n",
    "-------------------------------------------------------------------------------------------------------------------------------------------------------------------   \n",
    "-------------------------------------------------------------------------------------------------------------------------------------------------------------------   \n",
    "-------------------------------------------------------------------------------------------------------------------------------------------------------------------   \n",
    "-------------------------------------------------------------------------------------------------------------------------------------------------------------------   \n",
    "-------------------------------------------------------------------------------------------------------------------------------------------------------------------   \n",
    "-------------------------------------------------------------------------------------------------------------------------------------------------------------------   \n",
    "-------------------------------------------------------------------------------------------------------------------------------------------------------------------   \n",
    "-------------------------------------------------------------------------------------------------------------------------------------------------------------------   \n",
    "-------------------------------------------------------------------------------------------------------------------------------------------------------------------   \n",
    "-------------------------------------------------------------------------------------------------------------------------------------------------------------------   \n",
    "-------------------------------------------------------------------------------------------------------------------------------------------------------------------   \n",
    "-------------------------------------------------------------------------------------------------------------------------------------------------------------------   \n",
    "-------------------------------------------------------------------------------------------------------------------------------------------------------------------   \n",
    "-------------------------------------------------------------------------------------------------------------------------------------------------------------------   \n",
    "-------------------------------------------------------------------------------------------------------------------------------------------------------------------   \n",
    "-------------------------------------------------------------------------------------------------------------------------------------------------------------------   \n",
    "-------------------------------------------------------------------------------------------------------------------------------------------------------------------   \n",
    "-------------------------------------------------------------------------------------------------------------------------------------------------------------------   \n",
    "-------------------------------------------------------------------------------------------------------------------------------------------------------------------   \n",
    "-------------------------------------------------------------------------------------------------------------------------------------------------------------------   \n",
    "-------------------------------------------------------------------------------------------------------------------------------------------------------------------   \n",
    "-------------------------------------------------------------------------------------------------------------------------------------------------------------------   \n",
    "-------------------------------------------------------------------------------------------------------------------------------------------------------------------   \n",
    "-------------------------------------------------------------------------------------------------------------------------------------------------------------------   \n",
    "-------------------------------------------------------------------------------------------------------------------------------------------------------------------   \n",
    "-------------------------------------------------------------------------------------------------------------------------------------------------------------------   \n",
    "-------------------------------------------------------------------------------------------------------------------------------------------------------------------   \n",
    "-------------------------------------------------------------------------------------------------------------------------------------------------------------------   \n",
    "-------------------------------------------------------------------------------------------------------------------------------------------------------------------   \n",
    "-------------------------------------------------------------------------------------------------------------------------------------------------------------------   \n",
    "-------------------------------------------------------------------------------------------------------------------------------------------------------------------   \n",
    "-------------------------------------------------------------------------------------------------------------------------------------------------------------------   \n",
    "-------------------------------------------------------------------------------------------------------------------------------------------------------------------   \n",
    "-------------------------------------------------------------------------------------------------------------------------------------------------------------------   \n",
    "-------------------------------------------------------------------------------------------------------------------------------------------------------------------   \n",
    "-------------------------------------------------------------------------------------------------------------------------------------------------------------------   \n",
    "-------------------------------------------------------------------------------------------------------------------------------------------------------------------   \n",
    "-------------------------------------------------------------------------------------------------------------------------------------------------------------------   \n",
    "-------------------------------------------------------------------------------------------------------------------------------------------------------------------   \n",
    "-------------------------------------------------------------------------------------------------------------------------------------------------------------------   \n",
    "-------------------------------------------------------------------------------------------------------------------------------------------------------------------   \n",
    "-------------------------------------------------------------------------------------------------------------------------------------------------------------------   \n",
    "-------------------------------------------------------------------------------------------------------------------------------------------------------------------   \n",
    "-------------------------------------------------------------------------------------------------------------------------------------------------------------------   \n",
    "-------------------------------------------------------------------------------------------------------------------------------------------------------------------   \n",
    "-------------------------------------------------------------------------------------------------------------------------------------------------------------------   \n",
    "-------------------------------------------------------------------------------------------------------------------------------------------------------------------   \n",
    "-------------------------------------------------------------------------------------------------------------------------------------------------------------------   \n",
    "-------------------------------------------------------------------------------------------------------------------------------------------------------------------   \n",
    "-------------------------------------------------------------------------------------------------------------------------------------------------------------------   \n",
    "-------------------------------------------------------------------------------------------------------------------------------------------------------------------   \n",
    "-------------------------------------------------------------------------------------------------------------------------------------------------------------------   \n",
    "-------------------------------------------------------------------------------------------------------------------------------------------------------------------   \n",
    "-------------------------------------------------------------------------------------------------------------------------------------------------------------------   \n",
    "-------------------------------------------------------------------------------------------------------------------------------------------------------------------   \n",
    "-------------------------------------------------------------------------------------------------------------------------------------------------------------------   \n",
    "-----------------------------------------------v"
   ]
  },
  {
   "cell_type": "code",
   "execution_count": null,
   "metadata": {},
   "outputs": [],
   "source": []
  },
  {
   "cell_type": "code",
   "execution_count": null,
   "metadata": {},
   "outputs": [],
   "source": []
  },
  {
   "cell_type": "code",
   "execution_count": null,
   "metadata": {},
   "outputs": [],
   "source": []
  },
  {
   "cell_type": "code",
   "execution_count": null,
   "metadata": {},
   "outputs": [],
   "source": []
  },
  {
   "cell_type": "code",
   "execution_count": null,
   "metadata": {},
   "outputs": [],
   "source": []
  },
  {
   "cell_type": "code",
   "execution_count": null,
   "metadata": {},
   "outputs": [],
   "source": []
  },
  {
   "cell_type": "code",
   "execution_count": null,
   "metadata": {},
   "outputs": [],
   "source": []
  },
  {
   "cell_type": "code",
   "execution_count": null,
   "metadata": {},
   "outputs": [],
   "source": []
  },
  {
   "cell_type": "code",
   "execution_count": null,
   "metadata": {},
   "outputs": [],
   "source": []
  },
  {
   "cell_type": "code",
   "execution_count": null,
   "metadata": {},
   "outputs": [],
   "source": []
  },
  {
   "cell_type": "code",
   "execution_count": null,
   "metadata": {},
   "outputs": [],
   "source": []
  },
  {
   "cell_type": "markdown",
   "metadata": {},
   "source": [
    "# Chapter 1: NATIVE DATATYPES\n",
    "Let’s talk about datatypes. In Python, every\n",
    "value has a datatype, but you don’t need to declare the datatype of variables. How does that work? Based\n",
    "on each variable’s original assignment, Python figures out what type it is and keeps tracks of that internally.  \n",
    "  \n",
    "  \n",
    "Python has many native datatypes. Here are the important ones:  \n",
    "  \n",
    "1. **Booleans** are either True or False.\n",
    "2. **Numbers** can be integers (1 and 2), floats (1.1 and 1.2), fractions (1/2 and 2/3), or even complex numbers.\n",
    "3. **Strings** are sequences of Unicode characters, e.g. an HTML document.\n",
    "4. **Bytes** and byte arrays, e.g. a JPEG image file.\n",
    "5. **Lists** are ordered sequences of values.\n",
    "6. **Tuples** are ordered, immutable sequences of values.\n",
    "7. **Sets** are unordered bags of values.\n",
    "8. **Dictionaries** are unordered bags of key-value pairs.  \n",
    "  \n",
    "Of course, there are more types than these. Everything is an object in Python, so there are types like\n",
    "module, function, class, method, file, and even compiled code.  \n",
    "  \n",
    "  \n",
    "## 1. Booleans\n",
    "Booleans are either true or false. Python has two\n",
    "constants, cleverly named True and False, which can be\n",
    "used to assign boolean values directly. Expressions can\n",
    "also evaluate to a boolean value.  \n",
    "  "
   ]
  },
  {
   "cell_type": "code",
   "execution_count": 6,
   "metadata": {},
   "outputs": [
    {
     "name": "stdout",
     "output_type": "stream",
     "text": [
      "True\n",
      "True\n",
      "True\n",
      "True\n",
      "\n",
      "Condition is True\n",
      "\n",
      "False\n",
      "True\n"
     ]
    }
   ],
   "source": [
    "var1 = True\n",
    "var2 = False\n",
    "print(True == 1)\n",
    "print(False == 0)\n",
    "print(var1 == 1)\n",
    "print(var2 == 0, end = '\\n\\n')\n",
    "integer_var = 45\n",
    "\n",
    "\n",
    "if integer_var> 43:\n",
    "    print(\"Condition is True\", end = '\\n\\n')\n",
    "else:\n",
    "    print(\"Condition is False\", end = '\\n\\n')\n",
    "\n",
    "    \n",
    "size = 1\n",
    "print(size<0)\n",
    "print(size>0)"
   ]
  },
  {
   "cell_type": "markdown",
   "metadata": {},
   "source": [
    "Due to some legacy issues left over from Python 2, booleans can be treated as numbers. True is 1; False is\n",
    "0."
   ]
  },
  {
   "cell_type": "code",
   "execution_count": 10,
   "metadata": {},
   "outputs": [
    {
     "name": "stdout",
     "output_type": "stream",
     "text": [
      "2\n",
      "1\n",
      "1\n",
      "-1\n",
      "1\n",
      "0\n"
     ]
    },
    {
     "ename": "ZeroDivisionError",
     "evalue": "division by zero",
     "output_type": "error",
     "traceback": [
      "\u001b[1;31m---------------------------------------------------------------------------\u001b[0m",
      "\u001b[1;31mZeroDivisionError\u001b[0m                         Traceback (most recent call last)",
      "\u001b[1;32m<ipython-input-10-d45693b9ae13>\u001b[0m in \u001b[0;36m<module>\u001b[1;34m()\u001b[0m\n\u001b[0;32m      5\u001b[0m \u001b[0mprint\u001b[0m\u001b[1;33m(\u001b[0m\u001b[1;32mTrue\u001b[0m \u001b[1;33m-\u001b[0m \u001b[1;32mFalse\u001b[0m\u001b[1;33m)\u001b[0m\u001b[1;33m\u001b[0m\u001b[0m\n\u001b[0;32m      6\u001b[0m \u001b[0mprint\u001b[0m\u001b[1;33m(\u001b[0m\u001b[1;32mTrue\u001b[0m \u001b[1;33m-\u001b[0m \u001b[1;32mTrue\u001b[0m\u001b[1;33m)\u001b[0m\u001b[1;33m\u001b[0m\u001b[0m\n\u001b[1;32m----> 7\u001b[1;33m \u001b[0mprint\u001b[0m\u001b[1;33m(\u001b[0m\u001b[1;32mTrue\u001b[0m \u001b[1;33m/\u001b[0m \u001b[1;32mFalse\u001b[0m\u001b[1;33m)\u001b[0m \u001b[1;31m# ZeroDivisionError  1/0\u001b[0m\u001b[1;33m\u001b[0m\u001b[0m\n\u001b[0m",
      "\u001b[1;31mZeroDivisionError\u001b[0m: division by zero"
     ]
    }
   ],
   "source": [
    "print(True + True)\n",
    "print(True + False)\n",
    "print(True - False)\n",
    "print(False - True)\n",
    "print(True - False)\n",
    "print(True - True)\n",
    "print(True / False) # ZeroDivisionError  1/0"
   ]
  },
  {
   "cell_type": "markdown",
   "metadata": {},
   "source": [
    "## 2. NUMBERS\n",
    "There are so many to choose from. Python supports both integers and floating point\n",
    "numbers. There’s no type declaration to distinguish them; Python tells them apart by the presence or\n",
    "absence of a decimal point.  \n"
   ]
  },
  {
   "cell_type": "code",
   "execution_count": 18,
   "metadata": {},
   "outputs": [
    {
     "name": "stdout",
     "output_type": "stream",
     "text": [
      "<class 'int'>\n",
      "True\n",
      "<class 'int'>\n",
      "<class 'float'>\n"
     ]
    }
   ],
   "source": [
    "print(type(1)) # You can use the type() function to check the type of any value or variable. As you might expect, 1 is an int.\n",
    "\n",
    "print(isinstance(1, int)) # you can use the isinstance() function to check whether a value or variable is of a given type\n",
    "\n",
    "v = 1 + 1\n",
    "print(type(v)) # Adding an int to an int yields an int\n",
    "\n",
    "flo = 1 + 1.2\n",
    "print(type(flo)) # Adding an int to a float yields a float. Python coerces the int into a float to perform the addition, \n",
    "                # then returns a float as the result"
   ]
  },
  {
   "cell_type": "markdown",
   "metadata": {},
   "source": [
    "### COERCING INTEGERS TO FLOATS AND VICE-VERSA  \n",
    "As you just saw, some operators (like addition) will coerce (force) integers to floating point numbers as needed.\n",
    "You can also coerce (force) them by yourself"
   ]
  },
  {
   "cell_type": "code",
   "execution_count": 19,
   "metadata": {},
   "outputs": [
    {
     "name": "stdout",
     "output_type": "stream",
     "text": [
      "before coercing : <class 'int'> \n",
      "\n",
      "\n",
      "after coercing : <class 'float'> \n",
      "\n",
      "\n",
      "before coercing : <class 'float'> \n",
      "\n",
      "\n",
      "after coercing : <class 'int'> \n",
      "\n",
      "\n"
     ]
    }
   ],
   "source": [
    "print(\"before coercing :\", type(v), '\\n\\n') # int\n",
    "\n",
    "v = float(v) # COERCING to float\n",
    "print(\"after coercing :\", type(v), '\\n\\n') # float\n",
    "\n",
    "print(\"before coercing :\", type(flo), '\\n\\n') # float\n",
    "\n",
    "flo = int(flo)\n",
    "print(\"after coercing :\", type(flo), '\\n\\n')#int"
   ]
  },
  {
   "cell_type": "code",
   "execution_count": 20,
   "metadata": {},
   "outputs": [
    {
     "name": "stdout",
     "output_type": "stream",
     "text": [
      "Floating Point numbers are accurate to 15 decimal places :  1.1234567890123457\n"
     ]
    }
   ],
   "source": [
    "fp = 1.12345678901234567890\n",
    "print(\"Floating Point numbers are accurate to 15 decimal places : \", fp)"
   ]
  },
  {
   "cell_type": "code",
   "execution_count": 21,
   "metadata": {},
   "outputs": [
    {
     "name": "stdout",
     "output_type": "stream",
     "text": [
      "Integers can be arbitrarily large :  112345678901234567890\n"
     ]
    }
   ],
   "source": [
    "integer = 112345678901234567890\n",
    "print(\"Integers can be arbitrarily large : \", integer)"
   ]
  },
  {
   "cell_type": "markdown",
   "metadata": {},
   "source": [
    "**NOTE :** Python 2 had separate types for *int* and *long*. The *int* datatype was limited by\n",
    "*sys.maxint*, which varied by platform but was usually $2^{32}-1$. Python 3 has just one\n",
    "integer type, which behaves mostly like the old long type from Python 2. See [PEP\n",
    "237](https://www.python.org/dev/peps/pep-0237/) for details.  \n",
    "### COMMON NUMERICAL OPERATIONS\n",
    "You can do all kinds of things with numbers.  "
   ]
  },
  {
   "cell_type": "code",
   "execution_count": 31,
   "metadata": {},
   "outputs": [
    {
     "name": "stdout",
     "output_type": "stream",
     "text": [
      "5.5\n",
      "5\n",
      "-6\n",
      "-5.5\n",
      "5.0\n",
      "121\n",
      "1\n",
      "10\n"
     ]
    }
   ],
   "source": [
    "print( 11 / 2 )\n",
    "'''\n",
    "The / operator performs floating point division. It returns a float even if both the numerator and\n",
    "denominator are ints.\n",
    "'''\n",
    "print( 11 // 2 ) # 5.5---> 5 (nearest lowest integer)\n",
    "'''\n",
    "The // operator performs a quirky kind of integer division. When the result is positive, you can think of it\n",
    "as truncating (not rounding) to 0 decimal places, but be careful with that.\n",
    "'''\n",
    "print( -11 // 2 ) # -5.5 ---> -6 (nearest lowest integer)\n",
    "'''\n",
    "When integer-dividing negative numbers, the // operator rounds “up” to the nearest integer. Mathematically\n",
    "speaking, it’s rounding “down” since −6 is less than −5, but it could trip you up if you expecting it to\n",
    "truncate to −5.\n",
    "'''\n",
    "print( -11 / 2 ) # -5.5\n",
    "print( 11.0 // 2 )\n",
    "'''\n",
    "The // operator doesn’t always return an integer. If either the numerator or denominator is a float, it will\n",
    "still round to the nearest integer, but the actual return value will be a float\n",
    "'''\n",
    "print( 11 ** 2 )\n",
    "'''\n",
    "The ** operator means “raised to the power of.” 11^2 is 121\n",
    "'''\n",
    "print( 11 % 2 )\n",
    "'''\n",
    "The % operator gives the remainder after performing integer division. 11 divided by 2 is 5 with a remainder\n",
    "of 1, so the result here is 1.\n",
    "'''\n",
    "print(2*5) # mULTIPLICATION"
   ]
  },
  {
   "cell_type": "markdown",
   "metadata": {},
   "source": [
    "**NOTE :** In Python 2, the / operator usually meant integer division, but you could make it\n",
    "behave like floating point division by including a special directive in your code. In\n",
    "Python 3, the / operator always means floating point division. See [PEP 238](https://www.python.org/dev/peps/pep-0238/) for\n",
    "details.  \n",
    "### FRACTIONS\n",
    "Python isn’t limited to integers and floating point numbers. It can also do all the fancy math you learned in\n",
    "high school and promptly forgot about.  "
   ]
  },
  {
   "cell_type": "code",
   "execution_count": 39,
   "metadata": {},
   "outputs": [
    {
     "name": "stdout",
     "output_type": "stream",
     "text": [
      "1/3\n",
      "1/9\n",
      "<class 'fractions.Fraction'>\n",
      "3/2\n"
     ]
    },
    {
     "ename": "ZeroDivisionError",
     "evalue": "Fraction(0, 0)",
     "output_type": "error",
     "traceback": [
      "\u001b[1;31m---------------------------------------------------------------------------\u001b[0m",
      "\u001b[1;31mZeroDivisionError\u001b[0m                         Traceback (most recent call last)",
      "\u001b[1;32m<ipython-input-39-792dff330579>\u001b[0m in \u001b[0;36m<module>\u001b[1;34m()\u001b[0m\n\u001b[0;32m      7\u001b[0m \u001b[0mprint\u001b[0m\u001b[1;33m(\u001b[0m\u001b[0mtype\u001b[0m\u001b[1;33m(\u001b[0m\u001b[0mx\u001b[0m\u001b[1;33m)\u001b[0m\u001b[1;33m)\u001b[0m\u001b[1;33m\u001b[0m\u001b[0m\n\u001b[0;32m      8\u001b[0m \u001b[0mprint\u001b[0m\u001b[1;33m(\u001b[0m\u001b[0mfractions\u001b[0m\u001b[1;33m.\u001b[0m\u001b[0mFraction\u001b[0m\u001b[1;33m(\u001b[0m\u001b[1;36m6\u001b[0m\u001b[1;33m,\u001b[0m \u001b[1;36m4\u001b[0m\u001b[1;33m)\u001b[0m\u001b[1;33m)\u001b[0m \u001b[1;31m# 3/2\u001b[0m\u001b[1;33m\u001b[0m\u001b[0m\n\u001b[1;32m----> 9\u001b[1;33m \u001b[0mprint\u001b[0m\u001b[1;33m(\u001b[0m\u001b[0mfractions\u001b[0m\u001b[1;33m.\u001b[0m\u001b[0mFraction\u001b[0m\u001b[1;33m(\u001b[0m\u001b[1;36m0\u001b[0m\u001b[1;33m,\u001b[0m \u001b[1;36m0\u001b[0m\u001b[1;33m)\u001b[0m\u001b[1;33m)\u001b[0m \u001b[1;31m# ZeroDivisionError\u001b[0m\u001b[1;33m\u001b[0m\u001b[0m\n\u001b[0m",
      "\u001b[1;32m~\\Anaconda3\\lib\\fractions.py\u001b[0m in \u001b[0;36m__new__\u001b[1;34m(cls, numerator, denominator, _normalize)\u001b[0m\n\u001b[0;32m    176\u001b[0m \u001b[1;33m\u001b[0m\u001b[0m\n\u001b[0;32m    177\u001b[0m         \u001b[1;32mif\u001b[0m \u001b[0mdenominator\u001b[0m \u001b[1;33m==\u001b[0m \u001b[1;36m0\u001b[0m\u001b[1;33m:\u001b[0m\u001b[1;33m\u001b[0m\u001b[0m\n\u001b[1;32m--> 178\u001b[1;33m             \u001b[1;32mraise\u001b[0m \u001b[0mZeroDivisionError\u001b[0m\u001b[1;33m(\u001b[0m\u001b[1;34m'Fraction(%s, 0)'\u001b[0m \u001b[1;33m%\u001b[0m \u001b[0mnumerator\u001b[0m\u001b[1;33m)\u001b[0m\u001b[1;33m\u001b[0m\u001b[0m\n\u001b[0m\u001b[0;32m    179\u001b[0m         \u001b[1;32mif\u001b[0m \u001b[0m_normalize\u001b[0m\u001b[1;33m:\u001b[0m\u001b[1;33m\u001b[0m\u001b[0m\n\u001b[0;32m    180\u001b[0m             \u001b[1;32mif\u001b[0m \u001b[0mtype\u001b[0m\u001b[1;33m(\u001b[0m\u001b[0mnumerator\u001b[0m\u001b[1;33m)\u001b[0m \u001b[1;32mis\u001b[0m \u001b[0mint\u001b[0m \u001b[1;32mis\u001b[0m \u001b[0mtype\u001b[0m\u001b[1;33m(\u001b[0m\u001b[0mdenominator\u001b[0m\u001b[1;33m)\u001b[0m\u001b[1;33m:\u001b[0m\u001b[1;33m\u001b[0m\u001b[0m\n",
      "\u001b[1;31mZeroDivisionError\u001b[0m: Fraction(0, 0)"
     ]
    }
   ],
   "source": [
    "import fractions # To start using fractions, import the fractions module.\n",
    "\n",
    "x = fractions.Fraction(1, 3) # To define a fraction, create a Fraction object and pass in the numerator and denominator.\n",
    "\n",
    "print(x)\n",
    "print(x**2)\n",
    "print(type(x))\n",
    "print(fractions.Fraction(6, 4)) # 3/2 The Fraction object will automatically reduce fractions. (6/4) = (3/2)\n",
    "print(fractions.Fraction(0, 0)) # ZeroDivisionError - Python has the good sense not to create a fraction with a zero denominator.\n"
   ]
  },
  {
   "cell_type": "markdown",
   "metadata": {},
   "source": [
    "### TRIGONOMETRY\n",
    "You can also do basic trigonometry in Python."
   ]
  },
  {
   "cell_type": "code",
   "execution_count": 44,
   "metadata": {},
   "outputs": [
    {
     "name": "stdout",
     "output_type": "stream",
     "text": [
      "pi =  3.141592653589793\n",
      "sin(pi/2) =  1.0\n",
      "tan(pi/4) =  0.9999999999999999\n",
      "tan(pi/4) =  1.0006324445845896\n"
     ]
    }
   ],
   "source": [
    "import math\n",
    "print(\"pi = \", math.pi)\n",
    "print(\"sin(pi/2) = \", math.sin(math.pi / 2) )  # 1\n",
    "print(\"tan(pi/4) = \", math.tan(math.pi / 4) )  # 1\n",
    "print(\"tan(pi/4) = \", math.tan(fractions.Fraction(22, 7) / 4) ) # 1"
   ]
  },
  {
   "cell_type": "markdown",
   "metadata": {},
   "source": [
    "### NUMBERS IN A BOOLEAN CONTEXT\n",
    "You can use numbers in a boolean context, such as an\n",
    "if statement. **Zero values are false, and non-zero values\n",
    "are true**.  "
   ]
  },
  {
   "cell_type": "code",
   "execution_count": 47,
   "metadata": {},
   "outputs": [
    {
     "name": "stdout",
     "output_type": "stream",
     "text": [
      "yes, it's true\n",
      "yes, it's true\n",
      "no, it's false\n",
      "yes, it's true\n",
      "yes, it's true\n",
      "no, it's false\n"
     ]
    }
   ],
   "source": [
    "def is_it_true(anything):\n",
    "    '''\n",
    "    This is a function definition\n",
    "    '''\n",
    "    if anything:\n",
    "        print(\"yes, it's true\")\n",
    "    else:\n",
    "        print(\"no, it's false\")\n",
    "        \n",
    "\n",
    "is_it_true(1) \n",
    "is_it_true(-1)\n",
    "is_it_true(0)\n",
    "is_it_true(0.1)\n",
    "is_it_true(fractions.Fraction(1, 2))\n",
    "is_it_true(fractions.Fraction(0, 1))"
   ]
  },
  {
   "cell_type": "markdown",
   "metadata": {},
   "source": [
    "# 3. LISTS\n",
    "Lists are Python’s workhorse datatype. When I say \"list,\" you might be thinking \"array whose size I have to\n",
    "declare in advance, that can only contain items of the same type\". Don’t think that. Lists are much\n",
    "cooler than that.  \n",
    "  \n",
    "\n",
    "**Note :** A list in Python is much more than an array in Java (although it can be used as one if\n",
    "that’s really all you want out of life). A better analogy would be to the ArrayList\n",
    "class, which can hold arbitrary objects and can expand dynamically as new items are\n",
    "added.  \n",
    "### CREATING A LIST\n",
    "Creating a list is easy: use square brackets to wrap a comma-separated list of values"
   ]
  },
  {
   "cell_type": "code",
   "execution_count": 52,
   "metadata": {},
   "outputs": [
    {
     "name": "stdout",
     "output_type": "stream",
     "text": [
      "a_list =  ['a', 'b', 'mpilgrim', 'z', 'example']\n",
      "<class 'list'> \n",
      "\n",
      "\n"
     ]
    }
   ],
   "source": [
    "a_list = ['a', 'b', 'mpilgrim', 'z', 'example']\n",
    "print(\"a_list = \", a_list)\n",
    "print(type(a_list), \"\\n\\n\")"
   ]
  },
  {
   "cell_type": "markdown",
   "metadata": {},
   "source": [
    "### List Indexing"
   ]
  },
  {
   "cell_type": "code",
   "execution_count": 57,
   "metadata": {},
   "outputs": [
    {
     "name": "stdout",
     "output_type": "stream",
     "text": [
      "actual list =  ['a', 'b', 'mpilgrim', 'z', 'example'] \n",
      "\n",
      "\n",
      "First item of a list :  a\n",
      "Second item of a list :  b\n",
      "Third item of a list :  mpilgrim\n"
     ]
    },
    {
     "ename": "IndexError",
     "evalue": "list index out of range",
     "output_type": "error",
     "traceback": [
      "\u001b[1;31m---------------------------------------------------------------------------\u001b[0m",
      "\u001b[1;31mIndexError\u001b[0m                                Traceback (most recent call last)",
      "\u001b[1;32m<ipython-input-57-50bdfb17a7da>\u001b[0m in \u001b[0;36m<module>\u001b[1;34m()\u001b[0m\n\u001b[0;32m      3\u001b[0m \u001b[0mprint\u001b[0m\u001b[1;33m(\u001b[0m\u001b[1;34m\"Second item of a list : \"\u001b[0m\u001b[1;33m,\u001b[0m \u001b[0ma_list\u001b[0m\u001b[1;33m[\u001b[0m\u001b[1;36m1\u001b[0m\u001b[1;33m]\u001b[0m\u001b[1;33m)\u001b[0m\u001b[1;33m\u001b[0m\u001b[0m\n\u001b[0;32m      4\u001b[0m \u001b[0mprint\u001b[0m\u001b[1;33m(\u001b[0m\u001b[1;34m\"Third item of a list : \"\u001b[0m\u001b[1;33m,\u001b[0m \u001b[0ma_list\u001b[0m\u001b[1;33m[\u001b[0m\u001b[1;36m2\u001b[0m\u001b[1;33m]\u001b[0m\u001b[1;33m)\u001b[0m\u001b[1;33m\u001b[0m\u001b[0m\n\u001b[1;32m----> 5\u001b[1;33m \u001b[0mprint\u001b[0m\u001b[1;33m(\u001b[0m\u001b[1;34m\"Sixth item of list : \"\u001b[0m\u001b[1;33m,\u001b[0m \u001b[0ma_list\u001b[0m\u001b[1;33m[\u001b[0m\u001b[1;36m5\u001b[0m\u001b[1;33m]\u001b[0m\u001b[1;33m)\u001b[0m \u001b[1;31m# list index out of range\u001b[0m\u001b[1;33m\u001b[0m\u001b[0m\n\u001b[0m",
      "\u001b[1;31mIndexError\u001b[0m: list index out of range"
     ]
    }
   ],
   "source": [
    "print(\"actual list = \", a_list, \"\\n\\n\")\n",
    "print(\"First item of a list : \", a_list[0])\n",
    "print(\"Second item of a list : \", a_list[1])\n",
    "print(\"Third item of a list : \", a_list[2])\n",
    "print(\"Sixth item of list : \", a_list[5]) # list index out of range"
   ]
  },
  {
   "cell_type": "markdown",
   "metadata": {},
   "source": [
    "### List Negative Indexing"
   ]
  },
  {
   "cell_type": "code",
   "execution_count": 58,
   "metadata": {},
   "outputs": [
    {
     "name": "stdout",
     "output_type": "stream",
     "text": [
      "actual list =  ['a', 'b', 'mpilgrim', 'z', 'example'] \n",
      "\n",
      "\n",
      "Last item of a list :  example\n",
      "Second last item of a list :  z\n",
      "Third last item of a list :  mpilgrim\n"
     ]
    },
    {
     "ename": "IndexError",
     "evalue": "list index out of range",
     "output_type": "error",
     "traceback": [
      "\u001b[1;31m---------------------------------------------------------------------------\u001b[0m",
      "\u001b[1;31mIndexError\u001b[0m                                Traceback (most recent call last)",
      "\u001b[1;32m<ipython-input-58-6a1060dd8943>\u001b[0m in \u001b[0;36m<module>\u001b[1;34m()\u001b[0m\n\u001b[0;32m      3\u001b[0m \u001b[0mprint\u001b[0m\u001b[1;33m(\u001b[0m\u001b[1;34m\"Second last item of a list : \"\u001b[0m\u001b[1;33m,\u001b[0m \u001b[0ma_list\u001b[0m\u001b[1;33m[\u001b[0m\u001b[1;33m-\u001b[0m\u001b[1;36m2\u001b[0m\u001b[1;33m]\u001b[0m\u001b[1;33m)\u001b[0m\u001b[1;33m\u001b[0m\u001b[0m\n\u001b[0;32m      4\u001b[0m \u001b[0mprint\u001b[0m\u001b[1;33m(\u001b[0m\u001b[1;34m\"Third last item of a list : \"\u001b[0m\u001b[1;33m,\u001b[0m \u001b[0ma_list\u001b[0m\u001b[1;33m[\u001b[0m\u001b[1;33m-\u001b[0m\u001b[1;36m3\u001b[0m\u001b[1;33m]\u001b[0m\u001b[1;33m)\u001b[0m\u001b[1;33m\u001b[0m\u001b[0m\n\u001b[1;32m----> 5\u001b[1;33m \u001b[0mprint\u001b[0m\u001b[1;33m(\u001b[0m\u001b[1;34m\"Sixth last item of list : \"\u001b[0m\u001b[1;33m,\u001b[0m \u001b[0ma_list\u001b[0m\u001b[1;33m[\u001b[0m\u001b[1;33m-\u001b[0m\u001b[1;36m6\u001b[0m\u001b[1;33m]\u001b[0m\u001b[1;33m)\u001b[0m \u001b[1;31m# list index out of range\u001b[0m\u001b[1;33m\u001b[0m\u001b[0m\n\u001b[0m",
      "\u001b[1;31mIndexError\u001b[0m: list index out of range"
     ]
    }
   ],
   "source": [
    "print(\"actual list = \", a_list, \"\\n\\n\")\n",
    "print(\"Last item of a list : \", a_list[-1])\n",
    "print(\"Second last item of a list : \", a_list[-2])\n",
    "print(\"Third last item of a list : \", a_list[-3])\n",
    "print(\"Sixth last item of list : \", a_list[-6]) # list index out of range"
   ]
  },
  {
   "cell_type": "markdown",
   "metadata": {},
   "source": [
    "### Slicing a list\n",
    "Once you’ve defined a list, you can get any part of it as\n",
    "a new list. This is called slicing the list."
   ]
  },
  {
   "cell_type": "code",
   "execution_count": 59,
   "metadata": {},
   "outputs": [
    {
     "name": "stdout",
     "output_type": "stream",
     "text": [
      "actual list :  ['a', 'b', 'mpilgrim', 'z', 'example']\n",
      "index 1 to index 3(excluding index 3 element) element from actual list :  ['b', 'mpilgrim']\n",
      "index 1 to index -1(excluding index -1 element which is last element) from actual list :  ['b', 'mpilgrim', 'z']\n",
      "index 0 to index 3(excluding index 3 element) element from actual list :  ['a', 'b', 'mpilgrim']\n",
      "index 0 to index 3(excluding index 3 element) element from actual list :  ['a', 'b', 'mpilgrim']\n",
      "index start to index end(including) of actual list :  ['a', 'b', 'mpilgrim', 'z', 'example']\n"
     ]
    }
   ],
   "source": [
    "print(\"actual list : \", a_list)\n",
    "print(\"index 1 to index 3(excluding index 3 element) element from actual list : \", a_list[1:3])  # list[start : end]\n",
    "print(\"index 1 to index -1(excluding index -1 element which is last element) from actual list : \", a_list[1:-1])\n",
    "print(\"index 0 to index 3(excluding index 3 element) element from actual list : \", a_list[0:3])\n",
    "print(\"index 0 to index 3(excluding index 3 element) element from actual list : \", a_list[:3])\n",
    "print(\"index start to index end(including) of actual list : \", a_list[:])"
   ]
  },
  {
   "cell_type": "markdown",
   "metadata": {},
   "source": [
    "### ADDING ITEMS TO A LIST\n",
    "There are four ways to add items to a list."
   ]
  },
  {
   "cell_type": "code",
   "execution_count": 60,
   "metadata": {},
   "outputs": [
    {
     "name": "stdout",
     "output_type": "stream",
     "text": [
      "pre-adding to list =  ['a'] \n",
      "\n",
      "\n",
      "after-adding  [2.0, 3] =  ['a', 2.0, 3] \n",
      "\n",
      "\n",
      "Method 2 =  ['a', 2.0, 3, True] \n",
      "\n",
      "\n",
      "Method 3 =  ['a', 2.0, 3, True, 'four', 'Ω'] \n",
      "\n",
      "\n",
      "['Ω', 'a', 2.0, 3, True, 'four', 'Ω']\n"
     ]
    }
   ],
   "source": [
    "new_list = ['a']\n",
    "print(\"pre-adding to list = \", new_list, \"\\n\\n\")\n",
    "\n",
    "# Method 1:\n",
    "new_list = new_list + [2.0, 3] # adding [2.0, 3] to new_list\n",
    "print(\"after-adding  [2.0, 3] = \", new_list, \"\\n\\n\")\n",
    "\n",
    "# Method 2:\n",
    "new_list.append(True)\n",
    "print(\"Method 2 = \", new_list, \"\\n\\n\")\n",
    "\n",
    "# Method 3:\n",
    "new_list.extend(['four', 'Ω'])\n",
    "print(\"Method 3 = \", new_list, \"\\n\\n\")\n",
    "\n",
    "# Method 4:\n",
    "# adding new element at certain index position in a list\n",
    "new_list.insert(0, 'Ω') \n",
    "\n",
    "# Printing final final list\n",
    "print(new_list)"
   ]
  },
  {
   "cell_type": "markdown",
   "metadata": {},
   "source": [
    "Let’s look closer at the difference between append() and extend()"
   ]
  },
  {
   "cell_type": "code",
   "execution_count": 67,
   "metadata": {},
   "outputs": [
    {
     "name": "stdout",
     "output_type": "stream",
     "text": [
      "['a', 'b', 'c', 'd', 'e', 'f']\n",
      "6 \n",
      "\n",
      "\n",
      "['a', 'b', 'c', 'd', 'e', 'f', ['g', 'h', 'i']]\n",
      "7 \n",
      "\n",
      "\n"
     ]
    }
   ],
   "source": [
    "a_list = ['a', 'b', 'c']\n",
    "a_list.extend(['d', 'e', 'f'])\n",
    "'''\n",
    "The extend() method takes a single argument, which can be a list or string, and adds each of the items of that list\n",
    "to a_list.\n",
    "'''\n",
    "print(a_list)\n",
    "print(len(a_list), '\\n\\n')\n",
    "\n",
    "a_list.append(['g', 'h', 'i'])\n",
    "'''\n",
    "On the other hand, the append() method takes a single argument, which can be any datatype. Here, you’re\n",
    "calling the append() method with a list of three items\n",
    "'''\n",
    "print(a_list)\n",
    "print(len(a_list), '\\n\\n')"
   ]
  },
  {
   "cell_type": "markdown",
   "metadata": {},
   "source": [
    "###  SEARCHING FOR VALUES IN A LIST"
   ]
  },
  {
   "cell_type": "code",
   "execution_count": 10,
   "metadata": {},
   "outputs": [
    {
     "name": "stdout",
     "output_type": "stream",
     "text": [
      "list :  ['a', 'b', 'new', 'mpilgrim', 'new'] \n",
      "\n",
      "\n",
      "2\n",
      "True\n",
      "False\n",
      "3\n"
     ]
    },
    {
     "ename": "ValueError",
     "evalue": "'c' is not in list",
     "output_type": "error",
     "traceback": [
      "\u001b[0;31m---------------------------------------------------------------------------\u001b[0m",
      "\u001b[0;31mValueError\u001b[0m                                Traceback (most recent call last)",
      "\u001b[0;32m<ipython-input-10-f42b375f11ef>\u001b[0m in \u001b[0;36m<module>\u001b[0;34m\u001b[0m\n\u001b[1;32m     11\u001b[0m \u001b[0mprint\u001b[0m\u001b[0;34m(\u001b[0m\u001b[0ma_list\u001b[0m\u001b[0;34m.\u001b[0m\u001b[0mindex\u001b[0m\u001b[0;34m(\u001b[0m\u001b[0;34m'mpilgrim'\u001b[0m\u001b[0;34m)\u001b[0m\u001b[0;34m)\u001b[0m\u001b[0;34m\u001b[0m\u001b[0;34m\u001b[0m\u001b[0m\n\u001b[1;32m     12\u001b[0m \u001b[0;34m\u001b[0m\u001b[0m\n\u001b[0;32m---> 13\u001b[0;31m \u001b[0mprint\u001b[0m\u001b[0;34m(\u001b[0m\u001b[0ma_list\u001b[0m\u001b[0;34m.\u001b[0m\u001b[0mindex\u001b[0m\u001b[0;34m(\u001b[0m\u001b[0;34m'c'\u001b[0m\u001b[0;34m)\u001b[0m \u001b[0;34m)\u001b[0m\u001b[0;34m\u001b[0m\u001b[0;34m\u001b[0m\u001b[0m\n\u001b[0m",
      "\u001b[0;31mValueError\u001b[0m: 'c' is not in list"
     ]
    }
   ],
   "source": [
    "a_list = ['a', 'b', 'new', 'mpilgrim', 'new']\n",
    "print(\"list : \", a_list, '\\n\\n')\n",
    "# Counting occurence of a secific element\n",
    "print(a_list.count('new'))\n",
    "\n",
    "# Checking if element is present in list or not\n",
    "print('new' in a_list)\n",
    "print('c' in a_list)\n",
    "\n",
    "# Getting index position of certain element\n",
    "print(a_list.index('mpilgrim'))\n",
    "\n",
    "print(a_list.index('c') )"
   ]
  },
  {
   "cell_type": "markdown",
   "metadata": {},
   "source": [
    "Wait, what? That’s right: the index() method raises an exception if it doesn’t find the value in the list. This\n",
    "is notably different from most languages, which will return some invalid index (like -1). While this may seem\n",
    "annoying at first, I think you will come to appreciate it. It means your program will crash at the source of\n",
    "the problem instead of failing strangely and silently later. Remember, -1 is a valid list index. If the index()\n",
    "method returned -1, that could lead to some not-so-fun debugging sessions!  \n",
    "### REMOVING ITEMS FROM A LIST\n",
    "Lists can expand and contract automatically. You’ve seen\n",
    "the expansion part. There are several different ways to\n",
    "remove items from a list as well."
   ]
  },
  {
   "cell_type": "code",
   "execution_count": 11,
   "metadata": {},
   "outputs": [
    {
     "name": "stdout",
     "output_type": "stream",
     "text": [
      "['a', 'b', 'new', 'mpilgrim', 'new']\n",
      "['a', 'new', 'mpilgrim', 'new']\n"
     ]
    }
   ],
   "source": [
    "print(a_list)\n",
    "del a_list[1]\n",
    "print(a_list)"
   ]
  },
  {
   "cell_type": "markdown",
   "metadata": {},
   "source": [
    "Don’t know the positional index? Not a problem; you can remove items by value instead."
   ]
  },
  {
   "cell_type": "code",
   "execution_count": 12,
   "metadata": {},
   "outputs": [
    {
     "name": "stdout",
     "output_type": "stream",
     "text": [
      "None\n",
      "['a', 'mpilgrim', 'new']\n",
      "None\n",
      "['a', 'mpilgrim']\n"
     ]
    }
   ],
   "source": [
    "print(a_list.remove('new'))\n",
    "print(a_list)\n",
    "print(a_list.remove('new'))\n",
    "print(a_list)"
   ]
  },
  {
   "cell_type": "code",
   "execution_count": 14,
   "metadata": {},
   "outputs": [
    {
     "name": "stdout",
     "output_type": "stream",
     "text": [
      "['a', 'b', 'new', 'mpilgrim']\n",
      "mpilgrim\n",
      "['a', 'b', 'new']\n",
      "b\n",
      "['a', 'new']\n"
     ]
    }
   ],
   "source": [
    "a_list = ['a', 'b', 'new', 'mpilgrim']\n",
    "print(a_list)\n",
    "print(a_list.pop()) # Last item\n",
    "print(a_list)\n",
    "print(a_list.pop(1))\n",
    "print(a_list)"
   ]
  },
  {
   "cell_type": "markdown",
   "metadata": {},
   "source": [
    "- When called without arguments, the pop() list method removes the last item in the list and returns the value\n",
    "it removed.  \n",
    "- You can pop arbitrary items from a list. Just pass a positional index to the pop() method. It will remove that\n",
    "item, shift all the items after it to “fill the gap,” and return the value it removed.   \n",
    "  \n",
    "### LISTS IN A BOOLEAN CONTEXT\n",
    "```python\n",
    "def is_it_cat(answer):\n",
    "    if answer:\n",
    "        print('Yes it is')\n",
    "    else: \n",
    "        print('No, It')\n",
    "```"
   ]
  },
  {
   "cell_type": "code",
   "execution_count": 4,
   "metadata": {},
   "outputs": [],
   "source": [
    "def is_it_cat(answer):\n",
    "    if answer:\n",
    "        print('Yes it is.')\n",
    "    else: \n",
    "        print('No, It is not.')"
   ]
  },
  {
   "cell_type": "code",
   "execution_count": 5,
   "metadata": {},
   "outputs": [
    {
     "name": "stdout",
     "output_type": "stream",
     "text": [
      "No, It is not.\n",
      "None\n",
      "Yes it is.\n",
      "None\n",
      "Yes it is.\n",
      "None\n"
     ]
    }
   ],
   "source": [
    "print( is_it_cat([]) ) # In a boolean context, an empty list is false.\n",
    "\n",
    "print(is_it_cat(['a'])) # Any non-zero is True\n",
    "\n",
    "print(is_it_cat([False])) # Any list with at least one item is true. The value of the items is irrelevant."
   ]
  },
  {
   "cell_type": "markdown",
   "metadata": {},
   "source": [
    "## 4. TUPLES\n",
    "A tuple is an immutable list. A tuple can not be changed in any way once it is created.  "
   ]
  },
  {
   "cell_type": "code",
   "execution_count": 6,
   "metadata": {},
   "outputs": [
    {
     "name": "stdout",
     "output_type": "stream",
     "text": [
      "('a', 'b', 'mpilgrim', 'z', 'example')\n",
      "a\n",
      "('z', 'example')\n",
      "example\n"
     ]
    }
   ],
   "source": [
    "a_tuple = (\"a\", \"b\", \"mpilgrim\", \"z\", \"example\")\n",
    "print(a_tuple)\n",
    "print(a_tuple[0])\n",
    "print(a_tuple[3:])\n",
    "print(a_tuple[-1])"
   ]
  },
  {
   "cell_type": "markdown",
   "metadata": {},
   "source": [
    "The major difference between tuples and lists is that tuples can not be changed. In technical terms, tuples\n",
    "are immutable. In practical terms, they have no methods that would allow you to change them. Lists have\n",
    "methods like append(), extend(), insert(), remove(), and pop(). Tuples have none of these methods. You\n",
    "can slice a tuple (because that creates a new tuple), and you can check whether a tuple contains a particular\n",
    "value (because that doesn’t change the tuple)."
   ]
  },
  {
   "cell_type": "code",
   "execution_count": 9,
   "metadata": {},
   "outputs": [
    {
     "ename": "AttributeError",
     "evalue": "'tuple' object has no attribute 'append'",
     "output_type": "error",
     "traceback": [
      "\u001b[0;31m---------------------------------------------------------------------------\u001b[0m",
      "\u001b[0;31mAttributeError\u001b[0m                            Traceback (most recent call last)",
      "\u001b[0;32m<ipython-input-9-f1a30b8a6281>\u001b[0m in \u001b[0;36m<module>\u001b[0;34m\u001b[0m\n\u001b[0;32m----> 1\u001b[0;31m \u001b[0mprint\u001b[0m\u001b[0;34m(\u001b[0m \u001b[0ma_tuple\u001b[0m\u001b[0;34m.\u001b[0m\u001b[0mappend\u001b[0m\u001b[0;34m(\u001b[0m\u001b[0;34m\"new\"\u001b[0m\u001b[0;34m)\u001b[0m \u001b[0;34m)\u001b[0m\u001b[0;34m\u001b[0m\u001b[0;34m\u001b[0m\u001b[0m\n\u001b[0m",
      "\u001b[0;31mAttributeError\u001b[0m: 'tuple' object has no attribute 'append'"
     ]
    }
   ],
   "source": [
    "print( a_tuple.append(\"new\") ) "
   ]
  },
  {
   "cell_type": "code",
   "execution_count": 10,
   "metadata": {},
   "outputs": [
    {
     "ename": "AttributeError",
     "evalue": "'tuple' object has no attribute 'remove'",
     "output_type": "error",
     "traceback": [
      "\u001b[0;31m---------------------------------------------------------------------------\u001b[0m",
      "\u001b[0;31mAttributeError\u001b[0m                            Traceback (most recent call last)",
      "\u001b[0;32m<ipython-input-10-81cdc506b9a6>\u001b[0m in \u001b[0;36m<module>\u001b[0;34m\u001b[0m\n\u001b[0;32m----> 1\u001b[0;31m \u001b[0mprint\u001b[0m\u001b[0;34m(\u001b[0m \u001b[0ma_tuple\u001b[0m\u001b[0;34m.\u001b[0m\u001b[0mremove\u001b[0m\u001b[0;34m(\u001b[0m\u001b[0;34m\"z\"\u001b[0m\u001b[0;34m)\u001b[0m \u001b[0;34m)\u001b[0m\u001b[0;34m\u001b[0m\u001b[0;34m\u001b[0m\u001b[0m\n\u001b[0m",
      "\u001b[0;31mAttributeError\u001b[0m: 'tuple' object has no attribute 'remove'"
     ]
    }
   ],
   "source": [
    "print( a_tuple.remove(\"z\") )"
   ]
  },
  {
   "cell_type": "code",
   "execution_count": 11,
   "metadata": {},
   "outputs": [
    {
     "name": "stdout",
     "output_type": "stream",
     "text": [
      "4\n",
      "True\n"
     ]
    }
   ],
   "source": [
    "print( a_tuple.index(\"example\") )\n",
    "print( \"z\" in a_tuple )"
   ]
  },
  {
   "cell_type": "markdown",
   "metadata": {},
   "source": [
    "**So what are tuples good for?**  \n",
    "- Tuples are faster than lists. If you’re defining a constant set of values and all you’re ever going to do with it is iterate through it, use a tuple instead of a list.\n",
    "- It makes your code safer if you “write-protect” data that doesn’t need to be changed. Using a tuple instead of a list is like having an implied assert statement that shows this data is constant, and that special thought (and a specific function) is required to override that.\n",
    "- Some tuples can be used as dictionary keys, as you’ll see later. (Lists can never be used as dictionary keys.)  \n",
    "  \n",
    "**Tuples can be converted into lists, and vice-versa. The built-in tuple() function takes\n",
    "a list and returns a tuple with the same elements, and the list() function takes a\n",
    "tuple and returns a list. In effect, tuple() freezes a list, and list() thaws a tuple.**  \n",
    "### TUPLES IN A BOOLEAN CONTEXT\n",
    "```python\n",
    "def is_it_cat(answer):\n",
    "    if answer:\n",
    "        print('Yes it is')\n",
    "    else: \n",
    "        print('No, It')\n",
    "```"
   ]
  },
  {
   "cell_type": "code",
   "execution_count": 17,
   "metadata": {},
   "outputs": [],
   "source": [
    "def is_it_cat(answer):\n",
    "    if answer:\n",
    "        print('Yes, it is.')\n",
    "    else: \n",
    "        print('No, It is not.')"
   ]
  },
  {
   "cell_type": "code",
   "execution_count": 26,
   "metadata": {},
   "outputs": [
    {
     "name": "stdout",
     "output_type": "stream",
     "text": [
      "No, It is not.\n",
      "None\n",
      "Yes, it is.\n",
      "None\n",
      "No, It is not.\n",
      "None\n",
      "<class 'bool'>\n",
      "Yes, it is.\n",
      "None\n",
      "<class 'tuple'>\n"
     ]
    }
   ],
   "source": [
    "print( is_it_cat(()) ) # In a boolean context, an empty tuple is false.\n",
    "\n",
    "print(is_it_cat(('a'))) # Any non-zero  is True\n",
    "\n",
    "print( is_it_cat((False)) ) # Any tuple with at least one item is true. The value of the items is irrelevant.\n",
    "\n",
    "print( type((False)) )\n",
    "\n",
    "print( is_it_cat((False, )) )  # Any tuple with at least one item is true. The value of the items is irrelevant.\n",
    "\n",
    "\n",
    "print( type((False, )) )"
   ]
  },
  {
   "cell_type": "markdown",
   "metadata": {},
   "source": [
    "**what’s that comma doing there?**  \n",
    "To create a tuple of one item, you need a comma after the value. Without the comma, Python just assumes\n",
    "you have an extra pair of parentheses, which is harmless, but it doesn’t create a tuple.  \n",
    "#### ASSIGNING MULTIPLE VALUES AT ONCE"
   ]
  },
  {
   "cell_type": "code",
   "execution_count": 28,
   "metadata": {},
   "outputs": [
    {
     "name": "stdout",
     "output_type": "stream",
     "text": [
      "0\n",
      "2\n",
      "4\n"
     ]
    }
   ],
   "source": [
    "(MONDAY, TUESDAY, WEDNESDAY, THURSDAY, FRIDAY, SATURDAY, SUNDAY) = range(7) \n",
    "print(MONDAY)\n",
    "print(WEDNESDAY)\n",
    "print(FRIDAY)"
   ]
  },
  {
   "cell_type": "markdown",
   "metadata": {},
   "source": [
    "## 5. SETS\n",
    "Unordered collenction of distinct objects\n",
    "#### CREATING A SET"
   ]
  },
  {
   "cell_type": "code",
   "execution_count": 29,
   "metadata": {},
   "outputs": [
    {
     "name": "stdout",
     "output_type": "stream",
     "text": [
      "{1}\n",
      "<class 'set'>\n"
     ]
    }
   ],
   "source": [
    "a_set = {1}\n",
    "print(a_set)\n",
    "print(type(a_set))"
   ]
  },
  {
   "cell_type": "code",
   "execution_count": 30,
   "metadata": {},
   "outputs": [
    {
     "name": "stdout",
     "output_type": "stream",
     "text": [
      "{0, 1, 2, 3, 5}\n"
     ]
    }
   ],
   "source": [
    "li = [1, 2, 5, 3, 2, 0, 1]\n",
    "print(set(li))"
   ]
  },
  {
   "cell_type": "code",
   "execution_count": 31,
   "metadata": {},
   "outputs": [
    {
     "name": "stdout",
     "output_type": "stream",
     "text": [
      "[0, 1, 2, 3, 5]\n",
      "<class 'set'>\n"
     ]
    }
   ],
   "source": [
    "s = {1, 2, 5, 3, 2, 0, 1}\n",
    "print(list(s))\n",
    "print(type(s))"
   ]
  },
  {
   "cell_type": "markdown",
   "metadata": {},
   "source": [
    "#### MODIFYING A SET"
   ]
  },
  {
   "cell_type": "code",
   "execution_count": 34,
   "metadata": {},
   "outputs": [
    {
     "name": "stdout",
     "output_type": "stream",
     "text": [
      "{1, 2, 4}\n",
      "{1, 2, 4}\n"
     ]
    }
   ],
   "source": [
    "a_set = {1, 2}\n",
    "a_set.add(4)\n",
    "print(a_set)\n",
    "a_set.add(2)\n",
    "print(a_set)"
   ]
  },
  {
   "cell_type": "code",
   "execution_count": 37,
   "metadata": {},
   "outputs": [
    {
     "name": "stdout",
     "output_type": "stream",
     "text": [
      "{1, 2, 3, 4, 6}\n",
      "{1, 2, 3, 4, 5, 6, 8, 9, 13}\n",
      "{1, 2, 3, 4, 5, 6, 8, 9, 10, 13, 20, 30}\n"
     ]
    }
   ],
   "source": [
    "a_set = {1, 2, 3}\n",
    "a_set.update({2, 4, 6}) # The update() method takes one argument, a set, and adds all its members \n",
    "                        # to the original set. It’s as if you called the add() method with each member of the set\n",
    "\n",
    "print(a_set)\n",
    "\n",
    "a_set.update({3, 6, 9}, {1, 2, 3, 5, 8, 13}) # You can actually call the update() method with any number of \n",
    "                                             #arguments. When called with two sets, the update() method adds \n",
    "                                            #all the members of each set to the original set (dropping duplicates).\n",
    "print(a_set)\n",
    "\n",
    "a_set.update([10, 20, 30])\n",
    "print(a_set)"
   ]
  },
  {
   "cell_type": "markdown",
   "metadata": {},
   "source": [
    "#### REMOVING ITEMS FROM A SET\n",
    "There are three ways to remove individual values from a set. The first two, discard() and remove(), have\n",
    "one subtle difference.  "
   ]
  },
  {
   "cell_type": "code",
   "execution_count": 7,
   "metadata": {},
   "outputs": [
    {
     "name": "stdout",
     "output_type": "stream",
     "text": [
      "{1, 3, 36, 6, 45, 15, 21, 28}\n",
      "{1, 3, 36, 6, 45, 15, 21, 28}\n"
     ]
    }
   ],
   "source": [
    "a_set = {1, 3, 6, 10, 15, 21, 28, 36, 45}\n",
    "a_set.discard(10)\n",
    "print(a_set)\n",
    "a_set.discard(10) \n",
    "print(a_set)"
   ]
  },
  {
   "cell_type": "code",
   "execution_count": 8,
   "metadata": {},
   "outputs": [
    {
     "name": "stdout",
     "output_type": "stream",
     "text": [
      "{1, 3, 36, 6, 45, 15, 28}\n"
     ]
    },
    {
     "ename": "KeyError",
     "evalue": "21",
     "output_type": "error",
     "traceback": [
      "\u001b[0;31m---------------------------------------------------------------------------\u001b[0m",
      "\u001b[0;31mKeyError\u001b[0m                                  Traceback (most recent call last)",
      "\u001b[0;32m<ipython-input-8-485725fca7b3>\u001b[0m in \u001b[0;36m<module>\u001b[0;34m\u001b[0m\n\u001b[1;32m      1\u001b[0m \u001b[0ma_set\u001b[0m\u001b[0;34m.\u001b[0m\u001b[0mremove\u001b[0m\u001b[0;34m(\u001b[0m\u001b[0;36m21\u001b[0m\u001b[0;34m)\u001b[0m\u001b[0;34m\u001b[0m\u001b[0;34m\u001b[0m\u001b[0m\n\u001b[1;32m      2\u001b[0m \u001b[0mprint\u001b[0m\u001b[0;34m(\u001b[0m\u001b[0ma_set\u001b[0m\u001b[0;34m)\u001b[0m\u001b[0;34m\u001b[0m\u001b[0;34m\u001b[0m\u001b[0m\n\u001b[0;32m----> 3\u001b[0;31m \u001b[0ma_set\u001b[0m\u001b[0;34m.\u001b[0m\u001b[0mremove\u001b[0m\u001b[0;34m(\u001b[0m\u001b[0;36m21\u001b[0m\u001b[0;34m)\u001b[0m\u001b[0;34m\u001b[0m\u001b[0;34m\u001b[0m\u001b[0m\n\u001b[0m",
      "\u001b[0;31mKeyError\u001b[0m: 21"
     ]
    }
   ],
   "source": [
    "a_set.remove(21)\n",
    "print(a_set)\n",
    "a_set.remove(21)"
   ]
  },
  {
   "cell_type": "code",
   "execution_count": 9,
   "metadata": {},
   "outputs": [
    {
     "name": "stdout",
     "output_type": "stream",
     "text": [
      "{1, 3, 36, 6, 45, 15, 28}\n",
      "{3, 36, 6, 45, 15, 28}\n",
      "{36, 6, 45, 15, 28}\n"
     ]
    }
   ],
   "source": [
    "print(a_set)\n",
    "a_set.pop()\n",
    "print(a_set)\n",
    "\n",
    "a_set.pop()\n",
    "print(a_set)"
   ]
  },
  {
   "cell_type": "code",
   "execution_count": 10,
   "metadata": {},
   "outputs": [
    {
     "name": "stdout",
     "output_type": "stream",
     "text": [
      "set()\n"
     ]
    }
   ],
   "source": [
    "a_set.clear()\n",
    "print(a_set)"
   ]
  },
  {
   "cell_type": "markdown",
   "metadata": {},
   "source": [
    "#### COMMON SET OPERATIONS"
   ]
  },
  {
   "cell_type": "code",
   "execution_count": 13,
   "metadata": {},
   "outputs": [
    {
     "name": "stdout",
     "output_type": "stream",
     "text": [
      "True\n",
      "False\n",
      "{1, 2, 195, 4, 5, 3, 6, 8, 9, 12, 76, 15, 17, 18, 21, 30, 51, 127}\n",
      "{2, 5, 9, 12, 21}\n",
      "{195, 4, 76, 51, 30, 127}\n",
      "{1, 3, 195, 6, 4, 8, 76, 15, 17, 18, 51, 30, 127}\n"
     ]
    }
   ],
   "source": [
    "a_set = {2, 4, 5, 9, 12, 21, 30, 51, 76, 127, 195}\n",
    "print(30 in a_set)\n",
    "\n",
    "print(31 in a_set)\n",
    "\n",
    "b_set = {1, 2, 3, 5, 6, 8, 9, 12, 15, 17, 18, 21}\n",
    "\n",
    "union_set = a_set.union(b_set)\n",
    "print(union_set)\n",
    "\n",
    "intersection_set = a_set.intersection(b_set) \n",
    "print(intersection_set)\n",
    "\n",
    "diff_set = a_set.difference(b_set) # The difference() method returns a new set \n",
    "                                # containing all the elements that are in a_set but not b_set.\n",
    "print(diff_set)\n",
    "\n",
    "symm_diff_set = a_set.symmetric_difference(b_set) # The symmetric_difference() method returns a new set containing\n",
    "                                                    # all the elements that are in exactly one of the sets.\n",
    "print(symm_diff_set)"
   ]
  },
  {
   "cell_type": "code",
   "execution_count": 16,
   "metadata": {},
   "outputs": [
    {
     "name": "stdout",
     "output_type": "stream",
     "text": [
      "True\n",
      "True\n",
      "False\n",
      "False\n"
     ]
    }
   ],
   "source": [
    "a_set = {1, 2, 3}\n",
    "b_set = {1, 2, 3, 4}\n",
    "\n",
    "print(a_set.issubset(b_set))    # a_set is a subset of b_set — all the members of a_set are also members of b_set.\n",
    "print(b_set.issuperset(a_set))  # b_set is a superset of a_set, because all the members of a_set are also\n",
    "                                # members of b_set.\n",
    "\n",
    "a_set.add(5) \n",
    "print(a_set.issubset(b_set))\n",
    "print(b_set.issuperset(a_set))"
   ]
  },
  {
   "cell_type": "markdown",
   "metadata": {},
   "source": [
    "#### SETS IN A BOOLEAN CONTEXT\n",
    "```python\n",
    "def is_it_cat(answer):\n",
    "    if answer:\n",
    "        print('Yes it is')\n",
    "    else: \n",
    "        print('No, It')\n",
    "```"
   ]
  },
  {
   "cell_type": "code",
   "execution_count": 17,
   "metadata": {},
   "outputs": [],
   "source": [
    "def is_it_cat(answer):\n",
    "    if answer:\n",
    "        print('Yes, it is.')\n",
    "    else: \n",
    "        print('No, It is not.')"
   ]
  },
  {
   "cell_type": "code",
   "execution_count": 20,
   "metadata": {},
   "outputs": [
    {
     "name": "stdout",
     "output_type": "stream",
     "text": [
      "No, It is not.\n",
      "None\n",
      "Yes, it is.\n",
      "None\n",
      "Yes, it is.\n",
      "None\n"
     ]
    }
   ],
   "source": [
    "print( is_it_cat(set()) ) # In a boolean context, an empty set is false.\n",
    "\n",
    "print(is_it_cat(({'a'}))) # Any non-zero  is True\n",
    "\n",
    "print( is_it_cat({False})) # Any set with at least one item is true. The value of the items is irrelevant.\n"
   ]
  },
  {
   "cell_type": "markdown",
   "metadata": {},
   "source": [
    "### 6. DICTIONARIES\n",
    "A dictionary is an unordered set of key-value pairs. When you add a key to a dictionary, you must also add\n",
    "a value for that key. (You can always change the value later.)  \n",
    "  \n",
    "Python dictionaries are optimized for retrieving\n",
    "the value when you know the key, but not the other way around.  \n",
    "#### CREATING A DICTIONARY\n",
    "Creating a dictionary is easy. The syntax is similar to sets, but instead of values, you have key-value pairs.\n",
    "Once you have a dictionary, you can look up values by their key."
   ]
  },
  {
   "cell_type": "code",
   "execution_count": 1,
   "metadata": {},
   "outputs": [
    {
     "name": "stdout",
     "output_type": "stream",
     "text": [
      "<class 'dict'>\n",
      "{'Name': 'Ravinder', 'Password': 'TutorialsLink'}\n"
     ]
    }
   ],
   "source": [
    "a_dict = {'Name': 'Ravinder', 'Password': 'TutorialsLink'}\n",
    "print(type(a_dict))\n",
    "print(a_dict)"
   ]
  },
  {
   "cell_type": "code",
   "execution_count": 2,
   "metadata": {},
   "outputs": [
    {
     "name": "stdout",
     "output_type": "stream",
     "text": [
      "Ravinder\n",
      "TutorialsLink\n"
     ]
    }
   ],
   "source": [
    "print(a_dict['Name'])\n",
    "print(a_dict['Password'])"
   ]
  },
  {
   "cell_type": "code",
   "execution_count": 3,
   "metadata": {},
   "outputs": [
    {
     "ename": "KeyError",
     "evalue": "'Ravinder'",
     "output_type": "error",
     "traceback": [
      "\u001b[0;31m---------------------------------------------------------------------------\u001b[0m",
      "\u001b[0;31mKeyError\u001b[0m                                  Traceback (most recent call last)",
      "\u001b[0;32m<ipython-input-3-d4ebe9cc7ff0>\u001b[0m in \u001b[0;36m<module>\u001b[0;34m\u001b[0m\n\u001b[0;32m----> 1\u001b[0;31m \u001b[0mprint\u001b[0m\u001b[0;34m(\u001b[0m\u001b[0ma_dict\u001b[0m\u001b[0;34m[\u001b[0m\u001b[0;34m'Ravinder'\u001b[0m\u001b[0;34m]\u001b[0m\u001b[0;34m)\u001b[0m\u001b[0;34m\u001b[0m\u001b[0;34m\u001b[0m\u001b[0m\n\u001b[0m",
      "\u001b[0;31mKeyError\u001b[0m: 'Ravinder'"
     ]
    }
   ],
   "source": [
    "print(a_dict['Ravinder'])"
   ]
  },
  {
   "cell_type": "markdown",
   "metadata": {},
   "source": [
    "#### MODIFYING A DICTIONARY\n",
    "Dictionaries do not have any predefined size limit. You can add new key-value pairs to a dictionary at any\n",
    "time, or you can modify the value of an existing key."
   ]
  },
  {
   "cell_type": "code",
   "execution_count": 4,
   "metadata": {},
   "outputs": [
    {
     "name": "stdout",
     "output_type": "stream",
     "text": [
      "{'Name': 'Big3', 'Password': 'TutorialsLink'}\n"
     ]
    }
   ],
   "source": [
    "a_dict['Name'] = 'Big3' # No duplicate keys\n",
    "print(a_dict)"
   ]
  },
  {
   "cell_type": "code",
   "execution_count": 5,
   "metadata": {},
   "outputs": [
    {
     "name": "stdout",
     "output_type": "stream",
     "text": [
      "{'Name': 'Big3', 'Password': 'TutorialsLink', 'UserName': 'user@123'}\n"
     ]
    }
   ],
   "source": [
    "a_dict['UserName'] = 'user@123'\n",
    "print(a_dict)"
   ]
  },
  {
   "cell_type": "markdown",
   "metadata": {},
   "source": [
    "#### MIXED-VALUE DICTIONARIES\n",
    "Dictionaries aren’t just for strings. Dictionary values can be any datatype, including integers, booleans,\n",
    "arbitrary objects, or even other dictionaries. And within a single dictionary, the values don’t all need to be\n",
    "the same type; you can mix and match as needed. Dictionary keys are more restricted, but they can be\n",
    "strings, integers, and a few other types. "
   ]
  },
  {
   "cell_type": "code",
   "execution_count": 6,
   "metadata": {},
   "outputs": [
    {
     "name": "stdout",
     "output_type": "stream",
     "text": [
      "{1000: ['KB', 'MB', 'GB', 'TB', 'PB', 'EB', 'ZB', 'YB'], 1024: ['KiB', 'MiB', 'GiB', 'TiB', 'PiB', 'EiB', 'ZiB', 'YiB']}\n",
      "2\n"
     ]
    }
   ],
   "source": [
    "l1 = ['KB', 'MB', 'GB', 'TB', 'PB', 'EB', 'ZB', 'YB']\n",
    "l2 = ['KiB', 'MiB', 'GiB', 'TiB', 'PiB', 'EiB', 'ZiB', 'YiB']\n",
    "suff = {1000: l1, 1024: l2}\n",
    "print(suff)\n",
    "print(len(suff))"
   ]
  },
  {
   "cell_type": "code",
   "execution_count": 8,
   "metadata": {},
   "outputs": [
    {
     "name": "stdout",
     "output_type": "stream",
     "text": [
      "['KB', 'MB', 'GB', 'TB', 'PB', 'EB', 'ZB', 'YB']\n",
      "KB\n"
     ]
    }
   ],
   "source": [
    "print(suff[1000])\n",
    "print(suff[1000][0])"
   ]
  },
  {
   "cell_type": "markdown",
   "metadata": {},
   "source": [
    "#### DICTIONARIES IN A BOOLEAN CONTEXT\n",
    "```python\n",
    "def is_it_cat(answer):\n",
    "    if answer:\n",
    "        print('Yes, it is.')\n",
    "    else: \n",
    "        print('No, It is not.')\n",
    "```"
   ]
  },
  {
   "cell_type": "code",
   "execution_count": 10,
   "metadata": {},
   "outputs": [],
   "source": [
    "def is_it_cat(answer):\n",
    "    if answer:\n",
    "        print('Yes, it is.')\n",
    "    else: \n",
    "        print('No, It is not.')"
   ]
  },
  {
   "cell_type": "code",
   "execution_count": 19,
   "metadata": {},
   "outputs": [
    {
     "name": "stdout",
     "output_type": "stream",
     "text": [
      "No, It is not.\n",
      "None\n",
      "Yes, it is.\n",
      "None\n"
     ]
    }
   ],
   "source": [
    "print( is_it_cat( {} ) ) # In a boolean context, an empty dict is false\n",
    "print( is_it_cat( {'a':1} ) )# Any non-zero  is True"
   ]
  },
  {
   "cell_type": "markdown",
   "metadata": {},
   "source": [
    "### None\n",
    "None is a special constant in Python. It is a null value. None is not the same as False. None is not 0. None is\n",
    "not an empty string. Comparing None to anything other than None will always return False."
   ]
  },
  {
   "cell_type": "code",
   "execution_count": 28,
   "metadata": {},
   "outputs": [
    {
     "name": "stdout",
     "output_type": "stream",
     "text": [
      "<class 'NoneType'>\n",
      "False\n",
      "False\n",
      "False\n",
      "False\n",
      "True\n"
     ]
    }
   ],
   "source": [
    "print(type(None))\n",
    "print( None == False )\n",
    "print( None == True )\n",
    "print(None == 0)\n",
    "print(None == '')\n",
    "print(None == None)"
   ]
  },
  {
   "cell_type": "markdown",
   "metadata": {},
   "source": [
    "#### None IN A BOOLEAN CONTEXT\n",
    "```python\n",
    "def is_it_cat(answer):\n",
    "    if answer:\n",
    "        print('Yes, it is.')\n",
    "    else: \n",
    "        print('No, It is not.')\n",
    "```"
   ]
  },
  {
   "cell_type": "code",
   "execution_count": 29,
   "metadata": {},
   "outputs": [],
   "source": [
    "def is_it_cat(answer):\n",
    "    if answer:\n",
    "        print('Yes, it is.')\n",
    "    else: \n",
    "        print('No, It is not.')"
   ]
  },
  {
   "cell_type": "code",
   "execution_count": 30,
   "metadata": {},
   "outputs": [
    {
     "name": "stdout",
     "output_type": "stream",
     "text": [
      "No, It is not.\n",
      "None\n",
      "Yes, it is.\n",
      "None\n"
     ]
    }
   ],
   "source": [
    "print( is_it_cat( None ) ) # In a boolean context, an empty dict is false\n",
    "print( is_it_cat( not None ) )# Any non-zero  is True"
   ]
  }
 ],
 "metadata": {
  "kernelspec": {
   "display_name": "Python 3",
   "language": "python",
   "name": "python3"
  },
  "language_info": {
   "codemirror_mode": {
    "name": "ipython",
    "version": 3
   },
   "file_extension": ".py",
   "mimetype": "text/x-python",
   "name": "python",
   "nbconvert_exporter": "python",
   "pygments_lexer": "ipython3",
   "version": "3.7.3"
  }
 },
 "nbformat": 4,
 "nbformat_minor": 2
}
