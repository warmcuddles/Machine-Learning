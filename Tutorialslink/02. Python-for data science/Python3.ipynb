{
 "cells": [
  {
   "attachments": {},
   "cell_type": "markdown",
   "metadata": {},
   "source": [
    "# Chapter 0 : Installing Python Ecosystem\n",
    "- Go to link: [download python](https://www.python.org/downloads/)  \n",
    "- Click Download python3.x.x (Latest version)    \n",
    "![](img/dw.png)  \n",
    "## Firing Up IDLE\n",
    "After installing python on your system, search for **\"idle\"** and click \"IDLE python(3.x )\"\n",
    "## Writing your first code in idle shell mode\n",
    "![](img/idle.png)  \n",
    "![](img/idle2.png)  \n",
    "## Writing your code in interactive mode (IDLE)\n",
    "- Open Idle, click File ---> New File  \n",
    "- Now you won't see **>>>** these now you can write whole code as paragraph or text  \n",
    "- Write some code  \n",
    "![](img/code.png)  \n",
    "- Go to File and save code\n",
    "- Press F5 to run the code\n",
    "- and you'll see the output as below  \n",
    "![](img/code2.png)  \n",
    "### Setting Environment path for windows\n",
    "1. Window + E [Right Click]Computer > Properties >Advanced System Settings > Environment Variables\n",
    "2. Click [New] under \"System Variable\"  \n",
    "![](img/sv.png)\n",
    "**Variable Name**: PY_PATH,  \n",
    "**Variable Value**:C:\\Program Files\\Python36-32\\Scripts\\;C:\\Program Files\\Python36-32\\;  \n",
    "**Note** : Variable value could be different it depends on what version you installed and where it's installed\n",
    "\n",
    "To Check if python is added to environment or not, open up the terminal write python and enter and you'll see **>>>** these again now you can write python code in here.  \n",
    "## Don't get Scared\n",
    "**For Windows users**  \n",
    "If nothing above worked out!!  \n",
    "Don't worry because we're not gonna use IDLE or command prompt for python coding  \n",
    "What we'll be using are called jupyter notebooks  \n",
    "- To use jupyter notebook we need to download anaconda which comes with heavy bundle of packages pre-installed  \n",
    "- Go to link [Anaconda download](https://www.anaconda.com/distribution/)  \n",
    "- Pick the OS  \n",
    "- Download Latest version of python with Graphical installer or the one with maximum MBs'  \n",
    "- **Warning**: While instaaling anaconda It'll ask whether to add anaconda to environment path or not, Don't check that option Check the option below it.  \n",
    "- After installing Anaconda: Search for \"anaconda prompt in your system click on **\"anaconda prompt(my_root)\"**  \n",
    "- It'll open a window which will look like this:  \n",
    "![](img/ana.png)  \n",
    "- write **jupyter notebook** in that prompt and press enter and it'll launch the notebook  \n",
    "![](img/jup.png)  \n",
    "- It'll open up in your default browser, it'll tae sometime for first time if you've slow pc but if it doesn't open copy and paste the link shown in your desirable browser and press enter It'll open a interface like this  \n",
    "![](img/interface.png)  \n",
    "- From top right corner Click New---> click new folder to make newfolder click python3 to open a notebook environment to run python code, it'll look like this    \n",
    "![](img/p3.png)  \n",
    "**For Ubuntu users**  \n",
    "- You'll also have to download .sh file from this link [Anaconda download](https://www.anaconda.com/distribution/)  \n",
    "- then follow this tutorial [tutorial](https://www.digitalocean.com/community/tutorials/how-to-install-the-anaconda-python-distribution-on-ubuntu-18-04)"
   ]
  },
  {
   "cell_type": "markdown",
   "metadata": {},
   "source": [
    "# CHAPTER1. NATIVE DATATYPES\n",
    "let’s talk about datatypes. In Python, every\n",
    "value has a datatype, but you don’t need to declare the datatype of variables. How does that work? Based\n",
    "on each variable’s original assignment, Python figures out what type it is and keeps tracks of that internally.  \n",
    "<br>\n",
    "Python has many native datatypes. Here are the important ones:  \n",
    "  \n",
    "1. **Booleans** are either True or False.\n",
    "2. **Numbers** can be integers (1 and 2), floats (1.1 and 1.2), fractions (1/2 and 2/3), or even complex numbers.\n",
    "3. **Strings** are sequences of Unicode characters, e.g. an HTML document.\n",
    "4. **Bytes** and byte arrays, e.g. a JPEG image file.\n",
    "5. **Lists** are ordered sequences of values.\n",
    "6. **Tuples** are ordered, immutable sequences of values.\n",
    "7. **Sets** are unordered bags of values.\n",
    "8. **Dictionaries** are unordered bags of key-value pairs.  \n",
    "  \n",
    "Of course, there are more types than these. Everything is an object in Python, so there are types like\n",
    "module, function, class, method, file, and even compiled code  \n",
    "## BOOLEANS\n"
   ]
  },
  {
   "cell_type": "code",
   "execution_count": null,
   "metadata": {},
   "outputs": [],
   "source": []
  }
 ],
 "metadata": {
  "kernelspec": {
   "display_name": "Python 3",
   "language": "python",
   "name": "python3"
  },
  "language_info": {
   "codemirror_mode": {
    "name": "ipython",
    "version": 3
   },
   "file_extension": ".py",
   "mimetype": "text/x-python",
   "name": "python",
   "nbconvert_exporter": "python",
   "pygments_lexer": "ipython3",
   "version": "3.6.3"
  }
 },
 "nbformat": 4,
 "nbformat_minor": 2
}
