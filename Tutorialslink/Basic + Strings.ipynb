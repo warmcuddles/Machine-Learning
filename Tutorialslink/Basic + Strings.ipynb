{
 "cells": [
  {
   "cell_type": "markdown",
   "metadata": {},
   "source": [
    "# Introduction to Python\n",
    "- Python is a general purpose high level programming language.  \n",
    "- Python was developed by Guido Van Rossam in 1989 while working at National Research Institute at Netherlands.\n",
    "- It has simple easy-to-use syntax, making it the perfect language for someone trying to learn computer programming for the first time.\n",
    "- In contrast to other popular languages such as C, C++, Java, and C#, Python strives to provide a simple but powerful syntax.\n",
    "-  Python was made available to public in 1991. The official Date of Birth for Python is : Feb 20th 1991.  \n",
    "- Python has wide range of applications from Web development (like: Django and Bottle), scientific and mathematical computing (Orange, SymPy, NumPy) to desktop graphical user Interfaces (Pygame, Panda3D).\n",
    "- Python is used for software development at companies and organizations such as Google, Yahoo, Facebook, CERN, Industrial Light and Magic, and NASA. Experienced programmers can accomplish great\n",
    "things with Python, but Python’s beauty is that it is accessible to beginning programmers and allows them\n",
    "to tackle interesting problems more quickly than many other, more complex languages that have a steeper\n",
    "learning curve.  \n",
    "  \n",
    "   \n",
    "# Facts about Python\n",
    "- The name Python was selected from the TV Show **\"The Complete Monty Python's Circus\"**, which was broadcasted in BBC from 1969 to 1974.\n",
    "- Sir Guido developed Python language by taking almost all programming features from different languages:\n",
    "    - Functional Programming Features from C\n",
    "    - Object Oriented Programming Features from C++\n",
    "    - Scripting Language Features from Perl and Shell Script\n",
    "    - Modular Programming Features from Modula-3\n",
    "    - Most of syntax in Python Derived from C and ABC languages.  \n",
    "    \n",
    "**General characteristics of Python:**\n",
    "\n",
    "* **clean and simple language:** Easy-to-read and intuitive code, easy-to-learn minimalistic syntax, maintainability scales well with size of projects.\n",
    "* **expressive language:** Fewer lines of code, fewer bugs, easier to maintain.  \n",
    "  \n",
    "**Technical details:**\n",
    "  \n",
    "* **dynamically typed:** No need to define the type of variables, function arguments or return types.\n",
    "* **automatic memory management:** No need to explicitly allocate and deallocate memory for variables and data arrays. No memory leak bugs. \n",
    "* **interpreted:** No need to compile the code. The Python interpreter reads and executes the python code directly.  \n",
    "  \n",
    "# Uses of Python, Advantages and disadvantages  \n",
    "1. For developing Desktop Applications\n",
    "2. For developing web Applications\n",
    "3. For developing database Applications\n",
    "4. For Network Programming\n",
    "5. For developing games\n",
    "6. For Data Analysis Applications\n",
    "7. For Machine Learning\n",
    "8. For developing Artificial Intelligence Applications\n",
    "9. For IOT  \n",
    "  \n",
    "**Advantages**  \n",
    "* The main advantage is ease of programming, minimizing the time required to develop, debug and maintain the code.\n",
    "* Well designed language that encourage many good programming practices:\n",
    " * Modular and object-oriented programming, good system for packaging and re-use of code. This often results in more transparent, maintainable and bug-free code.\n",
    " * Documentation tightly integrated with the code.\n",
    "* A large standard library, and a large collection of add-on packages.  \n",
    "  \n",
    "**Disadvantages**  \n",
    "* Since Python is an interpreted and dynamically typed programming language, the execution of python code can be slow compared to compiled statically typed programming languages, such as C and Fortran.   \n",
    "  \n",
    "# Features of Python\n",
    "- **Simple and easy to learn**:\n",
    "    - Python is a simple programming language. When we read Python program,we can feel like\n",
    "reading english statements.\n",
    "    - The syntaxes are very simple and only 30+ kerywords are available.\n",
    "    - When compared with other languages, we can write programs with very less number of\n",
    "lines. Hence more readability and simplicity.\n",
    "    - We can reduce development and cost of the project.  \n",
    "    \n",
    "- **Open Source**:  \n",
    "    - We can use Python software without any licence and it is freeware.\n",
    "    - Its source code is open,so that we can we can customize based on our requirement.\n",
    "    - **Eg:** Jython is customized version of Python to work with Java Applications.   \n",
    "    \n",
    "- **High Level Programming language**:\n",
    "    - Python is high level programming language and hence it is programmer friendly language.\n",
    "    - Being a programmer we are not required to concentrate low level activities like memory management and security etc..\n",
    "- **Platform Independent**:\n",
    "    - Once we write a Python program,it can run on any platform without rewriting once again.\n",
    "- **Portability**:\n",
    "    - Python programs are portable. ie we can migrate from one platform to another platform very easily. Python programs will provide same results on any paltform.\n",
    "- **Dynamically Typed**:\n",
    "    - In Python we are not required to declare type for variables. Whenever we are assigning the value, based on value, type will be allocated automatically.Hence Python is considered as dynamically typed language.\n",
    "    - But Java, C etc are Statically Typed Languages because we have to provide type at the beginning only.\n",
    "    - This dynamic typing nature will provide more flexibility to the programmer.\n",
    "- **Both Procedure Oriented and Object Oriented**:\n",
    "    - Python language supports both Procedure oriented (like C, pascal etc) and object oriented (like C++,Java) features. Hence we can get benefits of both like security and reusability etc.\n",
    "- **Extensible**:\n",
    "    - We can use other language programs in Python.\n",
    "    - The main advantages of this approach are:\n",
    "        - We can use already existing legacy non-Python code\n",
    "        - We can improve performance of the application  \n",
    "- **Embedded**:\n",
    "    - We can use Python programs in any other language programs. i.e we can embedd Python programs anywhere."
   ]
  },
  {
   "cell_type": "markdown",
   "metadata": {},
   "source": [
    "# Keywords\n",
    "- In Python some words are reserved to represent some meaning or functionality. Such type\n",
    "of words are called Reserved words/Keywords.  \n",
    "- There are 35 reserved words available in Python 3.7.x as of now  \n",
    "  \n",
    "```python\n",
    ">>> import keyword\n",
    ">>> keyword.kwlist\n",
    "```\n",
    "Note:\n",
    "1. All Reserved words in Python contain only alphabet symbols.\n",
    "2. Except the following 3 reserved words, all contain only lower case alphabet symbols."
   ]
  },
  {
   "cell_type": "code",
   "execution_count": 3,
   "metadata": {
    "scrolled": true
   },
   "outputs": [
    {
     "name": "stdout",
     "output_type": "stream",
     "text": [
      "35\n",
      "['False', 'None', 'True', 'and', 'as', 'assert', 'async', 'await', 'break', 'class', 'continue', 'def', 'del', 'elif', 'else', 'except', 'finally', 'for', 'from', 'global', 'if', 'import', 'in', 'is', 'lambda', 'nonlocal', 'not', 'or', 'pass', 'raise', 'return', 'try', 'while', 'with', 'yield']\n"
     ]
    }
   ],
   "source": [
    "import keyword\n",
    "print(len(keyword.kwlist))\n",
    "print(keyword.kwlist)"
   ]
  },
  {
   "cell_type": "markdown",
   "metadata": {},
   "source": [
    "# Identifiers\n",
    "A name in Python program is called identifier.  \n",
    "It can be class name or function name or module name or variable name.  \n",
    "  \n",
    "Rules to define identifiers in Python:  \n",
    "    1. The only allowed characters in Python are\n",
    "        - alphabet symbols(either lower case or upper case)\n",
    "        - digits(0 to 9)\n",
    "        - underscore symbol(_)  By mistake if we are using any other symbol like $ then we will get syntax error.\n",
    "        - cash = 10  (CORRECT)\n",
    "        - ca$h =20    (WRONG)\n",
    "    2. Identifier should not starts with digit\n",
    "        - 123total    (WRONG)\n",
    "        - total123   (CORRECT)\n",
    "\n",
    "    3. Identifiers are case sensitive. Of course Python language is case sensitive language.\n",
    "```python\n",
    "    >>> total=10\n",
    "    >>> TOTAL=999\n",
    "    >>> print(total) #10\n",
    "    >>> print(TOTAL) #999\n",
    "```  \n",
    "# Quizz\n",
    "Q. Which of the following are valid Python identifiers?   \n",
    "\n",
    "- 123total (Wrong)  \n",
    "- total123 (Correct)  \n",
    "- java2share (Correct)  \n",
    "- ca$h (Wrong)  \n",
    "- _abc_abc_ (Correct)  \n",
    "- def (Wrong)  \n",
    "- if (Wrong)  \n",
    "  \n",
    "# Data Types\n",
    "- Data Type represent the type of data present inside a variable.\n",
    "- In Python we are not required to specify the type explicitly. Based on value provided,the type will be assigned automatically.Hence Python is Dynamically Typed Language.\n",
    "- Python contains the following inbuilt data types:  \n",
    "    \n",
    "    - int\n",
    "    - float\n",
    "    - complex\n",
    "    - bool\n",
    "    - str\n",
    "    - bytes\n",
    "    - bytearray\n",
    "    - range\n",
    "    - list\n",
    "    - tuple\n",
    "    - set\n",
    "    - frozenset\n",
    "    - dict\n",
    "    - None \n",
    "    \n",
    "**Python contains several inbuilt functions**  \n",
    "  \n",
    "- **type()**\n",
    "    - to check the type of variable  \n",
    "- **id()**\n",
    "    - to get address of object\n",
    "- **print()**\n",
    "    - to print the value  \n",
    "    \n",
    "**Python Memory Management**  \n",
    "> In python Everything is an **object**   \n",
    "  \n",
    "\n",
    "![](img\\mm.png)  \n",
    "**int data type:**  \n",
    "We can use int data type to represent whole numbers (integral values)  \n",
    "  \n",
    "In Python 3, there is effectively no limit to how long an integer value can be. Of course, it is constrained by the amount of memory your system has, as are all things, but beyond that an integer can be as long as you need it to be:  \n",
    "  "
   ]
  },
  {
   "cell_type": "code",
   "execution_count": 1,
   "metadata": {},
   "outputs": [
    {
     "name": "stdout",
     "output_type": "stream",
     "text": [
      "11111111111111111111111111111111111111111111111111111111111111112\n",
      "<class 'int'>\n"
     ]
    }
   ],
   "source": [
    "a = 11111111111111111111111111111111111111111111111111111111111111111\n",
    "print(a + 1)\n",
    "print(type(a))"
   ]
  },
  {
   "cell_type": "markdown",
   "metadata": {},
   "source": [
    "Python interprets a sequence of digits without any prefix to be a decimal number:  \n",
    "  \n",
    "|     Prefix     | Interpretation | Base |    Allowed Digits  |   \n",
    "|----------------|----------------|:----:|--------------------|  \n",
    "| 0b   or  0B    | Binary         | 2    |     0 & 1          |  \n",
    "| 0o  or  0O     | Octal          | 8    |     (0-7)          |  \n",
    "| 0x  or  0X     | HexaDecimal    | 16   | (0-9) & (a-f, A-F) |    \n",
    "  \n",
    "The datatype type of a Python integer, irrespective of the base used to specify it, is called int:  \n",
    "```python\n",
    ">>> type(10)\n",
    "<class 'int'>\n",
    ">>> type(0o10)\n",
    "<class 'int'>\n",
    ">>> type(0x10)\n",
    "<class 'int'>\n",
    "```"
   ]
  },
  {
   "cell_type": "code",
   "execution_count": 4,
   "metadata": {
    "scrolled": true
   },
   "outputs": [
    {
     "name": "stdout",
     "output_type": "stream",
     "text": [
      "7\n",
      "22\n",
      "0b111\n",
      "0b10110\n"
     ]
    }
   ],
   "source": [
    "a = 0B111\n",
    "b = 0b010110\n",
    "print(a)\n",
    "print(b)\n",
    "print(bin(a))\n",
    "print(bin(b))"
   ]
  },
  {
   "cell_type": "code",
   "execution_count": 25,
   "metadata": {},
   "outputs": [
    {
     "name": "stdout",
     "output_type": "stream",
     "text": [
      "83\n",
      "486\n",
      "0o123\n",
      "0o746\n"
     ]
    }
   ],
   "source": [
    "a = 0o123\n",
    "b = 0O746\n",
    "print(a)\n",
    "print(b)\n",
    "print(oct(a))\n",
    "print(oct(b))"
   ]
  },
  {
   "cell_type": "code",
   "execution_count": 28,
   "metadata": {},
   "outputs": [
    {
     "name": "stdout",
     "output_type": "stream",
     "text": [
      "64206\n",
      "48879\n",
      "3054\n",
      "0xface\n",
      "0xbeef\n",
      "0xbee\n"
     ]
    }
   ],
   "source": [
    "a = 0XFACE\n",
    "b = 0XBeef\n",
    "c = 0XBee\n",
    "print(a)\n",
    "print(b)\n",
    "print(c)\n",
    "print(hex(a))\n",
    "print(hex(b))\n",
    "print(hex(c))"
   ]
  },
  {
   "cell_type": "markdown",
   "metadata": {},
   "source": [
    "**float data type:**  \n",
    "- We can use float data type to represent floating point values (decimal values)   \n",
    "- Eg f = 1.234\n",
    "- We can also represent floating point values by using exponential form (scientific notation)  \n",
    "- Eg f = 1.2e3 (instead of 'e' we can use 'E')\n",
    "- The main advantage of exponential form is we can represent big values in less memory."
   ]
  },
  {
   "cell_type": "code",
   "execution_count": 6,
   "metadata": {},
   "outputs": [
    {
     "name": "stdout",
     "output_type": "stream",
     "text": [
      "1.234\n",
      "<class 'float'>\n",
      "1200.0\n",
      "<class 'float'>\n",
      "0.00012\n"
     ]
    }
   ],
   "source": [
    "a = 1.234\n",
    "print(a)\n",
    "print(type(a))\n",
    "b = 1.2E3 # 1.2 * 10^3\n",
    "print(b)\n",
    "print(type(b))\n",
    "c = 1.2e-4 # 1.2 * 10^(-4)\n",
    "print(c)"
   ]
  },
  {
   "cell_type": "markdown",
   "metadata": {},
   "source": [
    "Almost all platforms represent Python float values as 64-bit “double-precision” values, according to the [IEEE 754](https://en.wikipedia.org/wiki/IEEE_754-2008_revision) standard. In that case, the maximum value a floating-point number can have is approximately 1.8 ⨉ 10<sup>308</sup>. Python will indicate a number greater than that by the string **inf**:"
   ]
  },
  {
   "cell_type": "code",
   "execution_count": 13,
   "metadata": {},
   "outputs": [
    {
     "name": "stdout",
     "output_type": "stream",
     "text": [
      "1.79e+308\n",
      "inf\n"
     ]
    }
   ],
   "source": [
    "p = 1.79E308\n",
    "print(p)\n",
    "f = 1.8e308\n",
    "print(f)"
   ]
  },
  {
   "cell_type": "markdown",
   "metadata": {},
   "source": [
    "Floating point numbers are represented internally as binary (base-2) fractions. Most decimal fractions cannot be represented exactly as binary fractions, so in most cases the internal representation of a floating-point number is an approximation of the actual value. In practice, the difference between the actual value and the represented value is very small and should not usually cause significant problems.  \n",
    "  \n",
    "**Why can't decimal numbers be represented exactly in binary?**   \n",
    "Floating-point numbers are represented in computer hardware as base 2 (binary) fractions. For example, the decimal fraction  \n",
    "```python\n",
    "0.125\n",
    "```  \n",
    "has value 1/10 + 2/100 + 5/1000, and in the same way the binary fraction   \n",
    "```\n",
    "0.001\n",
    "```  \n",
    "has value 0/2 + 0/4 + 1/8. These two fractions have identical values, the only real difference being that the first is written in base 10 fractional notation, and the second in base 2.  \n",
    "Unfortunately, most decimal fractions cannot be represented exactly as binary fractions. A consequence is that, in general, the decimal floating-point numbers you enter are only approximated by the binary floating-point numbers actually stored in the machine.  \n",
    "  \n",
    "The problem is easier to understand at first in base 10. Consider the fraction 1/3. You can approximate that as a base 10 fraction:  \n",
    "```python\n",
    "0.3 or 0.33 or 0.333....\n",
    "```  \n",
    "and so on. No matter how many digits you’re willing to write down, the result will never be exactly 1/3, but will be an increasingly better approximation of 1/3.\n",
    "\n",
    "In the same way, no matter how many base 2 digits you’re willing to use, the decimal value 0.1 cannot be represented exactly as a base 2 fraction. In base 2, 1/10 is the infinitely repeating fraction  \n",
    "```python\n",
    "0.0001100110011001100110011001100110011001100110011...\n",
    "```  \n",
    "Stop at any finite number of bits, and you get an approximation. On most machines today, floats are approximated using a binary fraction with the numerator using the first 53 bits starting with the most significant bit and with the denominator as a power of two.  \n",
    "  \n",
    "Many users are not aware of the approximation because of the way values are displayed. Python only prints a decimal approximation to the true decimal value of the binary approximation stored by the machine. On most machines, if Python were to print the true decimal value of the binary approximation stored for 0.1, it would have to display  \n",
    "```python\n",
    ">>> 0.1\n",
    "0.1000000000000000055511151231257827021181583404541015625\n",
    "```  \n",
    "That is more digits than most people find useful, so Python keeps the number of digits manageable by displaying a rounded value instead  \n",
    "  \n",
    "To prove 0.1 is not exactly 1/10, summing three values of 0.1 may not yield exactly 0.3, either:  "
   ]
  },
  {
   "cell_type": "code",
   "execution_count": 45,
   "metadata": {
    "scrolled": true
   },
   "outputs": [
    {
     "name": "stdout",
     "output_type": "stream",
     "text": [
      "0.1000000000000000055511151231257827021182\n",
      "0.1\n",
      "False\n"
     ]
    }
   ],
   "source": [
    "print(format(0.1, '.40f'))\n",
    "print(0.1)\n",
    "print(0.1 + 0.1 + 0.1 == 0.3)"
   ]
  },
  {
   "cell_type": "markdown",
   "metadata": {},
   "source": [
    "Python provides tools that may help on those rare occasions when you really do want to know the exact value of a float. The float.as_integer_ratio() method expresses the value of a float as a fraction:"
   ]
  },
  {
   "cell_type": "code",
   "execution_count": 32,
   "metadata": {},
   "outputs": [
    {
     "name": "stdout",
     "output_type": "stream",
     "text": [
      "(3537115888337719, 1125899906842624)\n"
     ]
    }
   ],
   "source": [
    "x = 3.14159\n",
    "print(x.as_integer_ratio())"
   ]
  },
  {
   "cell_type": "markdown",
   "metadata": {},
   "source": [
    "Since the ratio is exact, it can be used to losslessly recreate the original value:"
   ]
  },
  {
   "cell_type": "code",
   "execution_count": 34,
   "metadata": {},
   "outputs": [
    {
     "data": {
      "text/plain": [
       "True"
      ]
     },
     "execution_count": 34,
     "metadata": {},
     "output_type": "execute_result"
    }
   ],
   "source": [
    "x == 3537115888337719 / 1125899906842624"
   ]
  },
  {
   "cell_type": "code",
   "execution_count": 35,
   "metadata": {},
   "outputs": [
    {
     "name": "stdout",
     "output_type": "stream",
     "text": [
      "(3602879701896397, 36028797018963968)\n"
     ]
    }
   ],
   "source": [
    "y = 0.1\n",
    "print(y.as_integer_ratio())"
   ]
  },
  {
   "cell_type": "code",
   "execution_count": 36,
   "metadata": {},
   "outputs": [
    {
     "data": {
      "text/plain": [
       "True"
      ]
     },
     "execution_count": 36,
     "metadata": {},
     "output_type": "execute_result"
    }
   ],
   "source": [
    "y == 3602879701896397 / 36028797018963968"
   ]
  },
  {
   "cell_type": "code",
   "execution_count": 37,
   "metadata": {},
   "outputs": [
    {
     "data": {
      "text/plain": [
       "0.1"
      ]
     },
     "execution_count": 37,
     "metadata": {},
     "output_type": "execute_result"
    }
   ],
   "source": [
    "3602879701896397 / 36028797018963968"
   ]
  },
  {
   "cell_type": "code",
   "execution_count": 43,
   "metadata": {},
   "outputs": [
    {
     "name": "stdout",
     "output_type": "stream",
     "text": [
      "True\n"
     ]
    }
   ],
   "source": [
    "from math import fsum\n",
    "print(0.1 == 0.1)"
   ]
  },
  {
   "cell_type": "code",
   "execution_count": 46,
   "metadata": {},
   "outputs": [
    {
     "name": "stdout",
     "output_type": "stream",
     "text": [
      "3602879701896397/36028797018963968\n",
      "(3602879701896397, 36028797018963968)\n",
      "0.1000000000000000055511151231257827021181583404541015625\n"
     ]
    }
   ],
   "source": [
    "from decimal import Decimal\n",
    "from fractions import Fraction\n",
    "\n",
    "print(Fraction.from_float(0.1))\n",
    "Fraction(3602879701896397, 36028797018963968)\n",
    "\n",
    "print((0.1).as_integer_ratio())\n",
    "\n",
    "print(Decimal.from_float(0.1))"
   ]
  },
  {
   "cell_type": "markdown",
   "metadata": {},
   "source": [
    "**Complex Number :**  \n",
    "- A complex number is of the form **a + jb**  \n",
    "- In the real part if we use int value then we can specify that either by decimal,octal,binary or hexa decimal form.  \n",
    "- But imaginary part should be specified only by using decimal form.\n",
    "- we can perform operations on complex type values."
   ]
  },
  {
   "cell_type": "code",
   "execution_count": 33,
   "metadata": {},
   "outputs": [
    {
     "name": "stdout",
     "output_type": "stream",
     "text": [
      "(30+4j)\n",
      "<class 'complex'>\n"
     ]
    }
   ],
   "source": [
    "a = 10 + 1.5j\n",
    "b = 20 + 2.5j\n",
    "c = a + b\n",
    "print(c)\n",
    "print(type(c))"
   ]
  },
  {
   "cell_type": "markdown",
   "metadata": {},
   "source": [
    "Complex data type has some inbuilt attributes to retrieve the real part and\n",
    "imaginary part\n"
   ]
  },
  {
   "cell_type": "code",
   "execution_count": 34,
   "metadata": {},
   "outputs": [
    {
     "name": "stdout",
     "output_type": "stream",
     "text": [
      "10.5\n",
      "3.6\n"
     ]
    }
   ],
   "source": [
    "c = 10.5 + 3.6j\n",
    "print(c.real)\n",
    "print(c.imag)"
   ]
  },
  {
   "cell_type": "markdown",
   "metadata": {},
   "source": [
    "**bool data type:**  \n",
    "- We can use this data type to represent boolean values.\n",
    "- The only allowed values for this data type are:\n",
    "- True and False\n",
    "- Internally Python represents True as 1 and False as 0   \n",
    "  \n",
    "```python\n",
    ">>> type(True)\n",
    "<class 'bool'>\n",
    ">>> type(False)\n",
    "<class 'bool'>\n",
    "```"
   ]
  },
  {
   "cell_type": "code",
   "execution_count": 35,
   "metadata": {},
   "outputs": [
    {
     "name": "stdout",
     "output_type": "stream",
     "text": [
      "True\n",
      "2\n",
      "1\n"
     ]
    }
   ],
   "source": [
    "a=10\n",
    "b=20\n",
    "c = a < b\n",
    "print(c)\n",
    "print(True+True)\n",
    "print(True-False)"
   ]
  },
  {
   "cell_type": "markdown",
   "metadata": {},
   "source": [
    "**str type:**  \n",
    "- str represents String data type.\n",
    "- A String is a sequence of characters enclosed within single quotes or double quotes.   \n",
    "  \n",
    "```python\n",
    ">>> print(\"I am a string.\")\n",
    "I am a string.\n",
    ">>> type(\"I am a string.\")\n",
    "<class 'str'>\n",
    ">>> print('I am too.')\n",
    "I am too.\n",
    ">>> type('I am too.')\n",
    "<class 'str'>\n",
    "```   \n",
    "  \n",
    "- By using single quotes or double quotes we cannot represent multi line string literals  \n",
    "- For this requirement we should go for triple single quotes(''') or triple double quotes(\"\"\")   \n",
    "- A string in Python can contain as many characters as you wish. The only limit is your machine’s memory resources. A string can also be empty:  \n",
    "  \n",
    "**What if you want to include a quote character as part of the string itself?**  \n",
    "- If you want to include either type of quote character within the string, the simplest way is to delimit the string with the other type. If a string is to contain a single quote, delimit it with double quotes and vice versa:"
   ]
  },
  {
   "cell_type": "code",
   "execution_count": 48,
   "metadata": {},
   "outputs": [
    {
     "name": "stdout",
     "output_type": "stream",
     "text": [
      "This string contains a single quote 'Hi' character.\n",
      "This string contains a double quote \"Hi\" character.\n"
     ]
    }
   ],
   "source": [
    "print(\"This string contains a single quote 'Hi' character.\")\n",
    "print('This string contains a double quote \"Hi\" character.')"
   ]
  },
  {
   "cell_type": "markdown",
   "metadata": {},
   "source": [
    "#### Suppressing Special Character Meaning\n",
    "```python\n",
    ">>> print('This string contains a single quote (') character.')\n",
    "SyntaxError: invalid syntax\n",
    "```  \n",
    "Specifying a backslash in front of the quote character in a string “escapes” it and causes Python to suppress its usual special meaning. It is then interpreted simply as a literal single quote character:  \n",
    "  \n",
    "```python\n",
    ">>> print('This string contains a single quote (\\') character.')\n",
    "This string contains a single quote (') character.\n",
    "```  \n",
    "  \n",
    "To break up a string over more than one line, include a backslash before each newline, and the newlines will be ignored:\n"
   ]
  },
  {
   "cell_type": "code",
   "execution_count": 53,
   "metadata": {},
   "outputs": [
    {
     "name": "stdout",
     "output_type": "stream",
     "text": [
      "abc\n"
     ]
    }
   ],
   "source": [
    "print(\"a\\\n",
    "b\\\n",
    "c\")"
   ]
  },
  {
   "cell_type": "markdown",
   "metadata": {},
   "source": [
    "To include a literal backslash in a string, escape it with a backslash:"
   ]
  },
  {
   "cell_type": "code",
   "execution_count": 54,
   "metadata": {},
   "outputs": [
    {
     "name": "stdout",
     "output_type": "stream",
     "text": [
      "foo\\bar\n"
     ]
    }
   ],
   "source": [
    "print('foo\\\\bar')"
   ]
  },
  {
   "cell_type": "markdown",
   "metadata": {},
   "source": [
    "#### Escape Sequence\n",
    "<pre>\n",
    "\\a\t        -   ASCII Bell (BEL) character  \n",
    "\\b\t        -   ASCII Backspace (BS) character  \n",
    "\\f\t        -   ASCII Formfeed (FF) character  \n",
    "\\n\t        -   ASCII Linefeed (LF) character  \n",
    "\\N{name}\t-   Character from Unicode database with given (name)  \n",
    "\\r\t        -   ASCII Carriage Return (CR) character  \n",
    "\\t\t        -   ASCII Horizontal Tab (TAB) character  \n",
    "\\uxxxx\t    -   Unicode character with 16-bit hex value xxxx  \n",
    "\\Uxxxxxxxx  -   Unicode character with 32-bit hex value xxxxxxxx  \n",
    "\\v\t        -   ASCII Vertical Tab (VT) character  \n",
    "\\oxx        -   Character with octal value xx  \n",
    "\\xhh        -   Character with hex value hh  \n",
    "</pre>  \n",
    "  \n",
    "```python\n",
    ">>> print(\"a\\tb\")\n",
    "a    b\n",
    ">>> print(\"a\\141\\x61\")\n",
    "aaa\n",
    ">>> print(\"a\\nb\")\n",
    "a\n",
    "b\n",
    ">>> print('\\u2192 \\N{rightwards arrow}') \n",
    "# This type of escape sequence is typically used to insert characters that are not readily generated from the keyboard or are #not easily readable or printable.\n",
    "```  \n",
    "#### Raw strings\n",
    "A raw string literal is preceded by r or R, which specifies that escape sequences in the associated string are not translated. The backslash character is left in the string:   \n",
    "```python\n",
    ">>> print('foo\\nbar')\n",
    "foo\n",
    "bar\n",
    ">>> print(r'foo\\nbar')\n",
    "foo\\nbar\n",
    "\n",
    ">>> print('foo\\\\bar')\n",
    "foo\\bar\n",
    ">>> print(R'foo\\\\bar')\n",
    "foo\\\\bar\n",
    "```  \n",
    "**Triple-Quoted Strings**  \n",
    "```python\n",
    ">>> print('''This string has a single (') and a double (\") quote.''')\n",
    "This string has a single (') and a double (\") quote.\n",
    "                          \n",
    ">>> print(\"\"\"This is a\n",
    "string that spans\n",
    "across several lines\"\"\")\n",
    "This is a\n",
    "string that spans\n",
    "across several lines\n",
    "```  \n",
    "  \n",
    "**Fundamental Data Types vs Immutability:**  \n",
    "All Fundamental Data types are immutable. i.e once we creates an object,we cannot\n",
    "perform any changes in that object. If we are trying to change then with those changes a\n",
    "new object will be created. This non-chageable behaviour is called immutability.  \n",
    "  \n",
    "In Python if a new object is required, then python wont create object immediately. First it\n",
    "will check if any object available with the required content or not. If available then\n",
    "existing object will be reused. If it is not available then only a new object will be created.  \n",
    "  \n",
    "The advantage of this approach is memory utilization and performance will be improved.\n",
    "But the problem in this approach is,several references pointing to the same object,by\n",
    "using one reference if we are allowed to change the content in the existing object then the\n",
    "remaining references will be effected. To prevent this immutability concept is required.\n",
    "According to this once creates an object we are not allowed to change content. If we are\n",
    "trying to change with those changes a new object will be created.  "
   ]
  },
  {
   "cell_type": "code",
   "execution_count": 55,
   "metadata": {},
   "outputs": [
    {
     "name": "stdout",
     "output_type": "stream",
     "text": [
      "True\n",
      "True\n",
      "140723625169760 140723625169760\n"
     ]
    }
   ],
   "source": [
    "a = 2\n",
    "b = 2\n",
    "print(a == b)\n",
    "print(a is b)\n",
    "print(id(a), id(b))"
   ]
  },
  {
   "cell_type": "code",
   "execution_count": 56,
   "metadata": {},
   "outputs": [
    {
     "name": "stdout",
     "output_type": "stream",
     "text": [
      "True\n",
      "False\n",
      "2359197449296 2359197650992\n"
     ]
    }
   ],
   "source": [
    "a = 10 + 5j\n",
    "b = 10 + 5j\n",
    "print(a == b)\n",
    "print(a is b)\n",
    "print(id(a), id(b))"
   ]
  },
  {
   "cell_type": "code",
   "execution_count": 57,
   "metadata": {},
   "outputs": [
    {
     "name": "stdout",
     "output_type": "stream",
     "text": [
      "True\n",
      "True\n",
      "140723624646992 140723624646992\n"
     ]
    }
   ],
   "source": [
    "a = True\n",
    "b = True\n",
    "print(a == b)\n",
    "print(a is b)\n",
    "print(id(a), id(b))"
   ]
  },
  {
   "cell_type": "code",
   "execution_count": 58,
   "metadata": {},
   "outputs": [
    {
     "name": "stdout",
     "output_type": "stream",
     "text": [
      "True\n",
      "True\n",
      "2359197634320 2359197634320\n"
     ]
    }
   ],
   "source": [
    "a = 'durga'\n",
    "b = 'durga'\n",
    "print(a == b)\n",
    "print(a is b)\n",
    "print(id(a), id(b))"
   ]
  },
  {
   "cell_type": "code",
   "execution_count": 62,
   "metadata": {},
   "outputs": [
    {
     "name": "stdout",
     "output_type": "stream",
     "text": [
      "3 2\n"
     ]
    }
   ],
   "source": [
    "a = 2\n",
    "b = 2\n",
    "a = 3 # new object formed\n",
    "print(a, b)"
   ]
  },
  {
   "cell_type": "markdown",
   "metadata": {},
   "source": [
    "**bytes Data Type:**  \n",
    "- Python supports a range of types to store sequences. There are six sequence types: strings, byte sequences (bytes objects), byte arrays (bytearray objects), lists, tuples, and range objects.  \n",
    "- bytes data type represents a group of byte numbers just like an array  \n",
    "- Strings contain Unicode characters. Their literals are written in single or double quotes : 'python', \"data\". Bytes and bytearray objects contain single bytes \n",
    "- Bytes objects can be constructed using constructor, bytes(), and from literals; use a 'b' prefix with normal string syntax: b'python'. To construct byte arrays, use the bytearray() function.  \n",
    "  \n",
    "**Create a bytes object in Python**  \n",
    "```python\n",
    ">>> x = b\"Bytes objects are immutable sequences of single bytes\"\n",
    ">>> print(x)\n",
    "```"
   ]
  },
  {
   "cell_type": "code",
   "execution_count": 63,
   "metadata": {},
   "outputs": [
    {
     "name": "stdout",
     "output_type": "stream",
     "text": [
      "b'Bytes objects are immutable sequences of single bytes'\n"
     ]
    }
   ],
   "source": [
    ">>> x = b\"Bytes objects are immutable sequences of single bytes\"\n",
    ">>> print(x)"
   ]
  },
  {
   "cell_type": "code",
   "execution_count": 64,
   "metadata": {},
   "outputs": [
    {
     "name": "stdout",
     "output_type": "stream",
     "text": [
      "b'Python, bytes'\n"
     ]
    }
   ],
   "source": [
    "#created from a iterable of ints, string, bytes or buffer objects.\n",
    "x = bytes('Python, bytes', 'utf8')\n",
    "print(x)"
   ]
  },
  {
   "cell_type": "markdown",
   "metadata": {},
   "source": [
    "**Convert bytes to string**  "
   ]
  },
  {
   "cell_type": "code",
   "execution_count": 65,
   "metadata": {},
   "outputs": [
    {
     "name": "stdout",
     "output_type": "stream",
     "text": [
      "b'El ni\\xc3\\xb1o come camar\\xc3\\xb3n'\n",
      "<class 'str'>\n",
      "El niño come camarón\n"
     ]
    }
   ],
   "source": [
    "x = b'El ni\\xc3\\xb1o come camar\\xc3\\xb3n'\n",
    "print(x)\n",
    "# create a string using the decode() method of bytes. \n",
    "#This method takes an encoding argument, such as UTF-8, and optionally an errors argument.\n",
    "\n",
    "s = x.decode()\n",
    "print(type(s))\n",
    "print(s)"
   ]
  },
  {
   "cell_type": "code",
   "execution_count": 66,
   "metadata": {},
   "outputs": [
    {
     "name": "stdout",
     "output_type": "stream",
     "text": [
      "b'\\xd8\\xe1\\xb7\\xeb\\xa8\\xe5 \\xd2\\xb7\\xe1'\n",
      "привет мир\n"
     ]
    }
   ],
   "source": [
    "#create a bytes object encoded using 'cp855'\n",
    "x = b'\\xd8\\xe1\\xb7\\xeb\\xa8\\xe5 \\xd2\\xb7\\xe1'\n",
    "print(x)\n",
    "#return a string using decode 'cp855'\n",
    "y = x.decode('cp855')\n",
    "print(y)"
   ]
  },
  {
   "cell_type": "markdown",
   "metadata": {},
   "source": [
    "**Convert hex string to bytes**  "
   ]
  },
  {
   "cell_type": "code",
   "execution_count": 71,
   "metadata": {},
   "outputs": [
    {
     "name": "stdout",
     "output_type": "stream",
     "text": [
      "B9 01EF\n",
      "b'\\xb9\\x01\\xef'\n"
     ]
    }
   ],
   "source": [
    "#create a string with hexadecimal data\n",
    "x = 'B9 01EF'\n",
    "print(x)\n",
    "y = bytes.fromhex(x) \n",
    "print(y)"
   ]
  },
  {
   "cell_type": "markdown",
   "metadata": {},
   "source": [
    "**Unicode code**  "
   ]
  },
  {
   "cell_type": "code",
   "execution_count": 78,
   "metadata": {},
   "outputs": [
    {
     "name": "stdout",
     "output_type": "stream",
     "text": [
      "97\n",
      "65\n"
     ]
    }
   ],
   "source": [
    "x = ord(b'a')\n",
    "print(x)\n",
    "print( ord('A') )"
   ]
  },
  {
   "cell_type": "code",
   "execution_count": 79,
   "metadata": {},
   "outputs": [
    {
     "name": "stdout",
     "output_type": "stream",
     "text": [
      "[80, 121, 116, 104, 111, 110, 32, 98, 121, 116, 101, 115]\n"
     ]
    }
   ],
   "source": [
    "#create a bytes object\n",
    "y = b'Python bytes'\n",
    "#generates a list of codes from the characters of bytes\n",
    "z = list(y)\n",
    "print(z)"
   ]
  },
  {
   "cell_type": "markdown",
   "metadata": {},
   "source": [
    "**Define a mapping table characters for use with a bytes object in Python**  "
   ]
  },
  {
   "cell_type": "code",
   "execution_count": 81,
   "metadata": {},
   "outputs": [
    {
     "name": "stdout",
     "output_type": "stream",
     "text": [
      "Writy u Python zunwtion to zinx u xistinwt puir oz numvyrs whosy proxuwt is oxx zrom u syquynwy oz intygyr vuluys.\n"
     ]
    }
   ],
   "source": [
    "b_table = bytes.maketrans(b'abcdef', b'uvwxyz')\n",
    "st = 'Write a Python function to find a distinct pair of numbers whose product is odd from a sequence of integer values.'\n",
    "b_new = st.translate(b_table)\n",
    "print(b_new)"
   ]
  },
  {
   "cell_type": "markdown",
   "metadata": {},
   "source": [
    "**Convert bytes to hex in Python**  "
   ]
  },
  {
   "cell_type": "code",
   "execution_count": 84,
   "metadata": {},
   "outputs": [
    {
     "name": "stdout",
     "output_type": "stream",
     "text": [
      "b'507974686f6e'\n",
      "Python\n"
     ]
    }
   ],
   "source": [
    "import binascii\n",
    "a = binascii.hexlify(\"Python\".encode(\"utf8\"))\n",
    "print(a)\n",
    "print( binascii.unhexlify(a).decode(\"utf8\") )"
   ]
  },
  {
   "cell_type": "markdown",
   "metadata": {},
   "source": [
    "**How to get the character from the numeric code in bytes objects**  "
   ]
  },
  {
   "cell_type": "code",
   "execution_count": 87,
   "metadata": {},
   "outputs": [
    {
     "name": "stdout",
     "output_type": "stream",
     "text": [
      "<\n",
      "Ā\n",
      "Ũ\n",
      "Ө\n"
     ]
    }
   ],
   "source": [
    "print(chr(60))\n",
    "print(chr(256))\n",
    "print(chr(360))\n",
    "print(chr(1256))"
   ]
  },
  {
   "cell_type": "markdown",
   "metadata": {},
   "source": [
    "**Create a bytearray object in Python**"
   ]
  },
  {
   "cell_type": "code",
   "execution_count": 1,
   "metadata": {},
   "outputs": [
    {
     "name": "stdout",
     "output_type": "stream",
     "text": [
      "bytearray(b'Python Bytes')\n",
      "bytearray(b'^[e}o#xese\\xc8')\n"
     ]
    }
   ],
   "source": [
    "x = bytearray(\"Python Bytes\", \"utf8\")\n",
    "print(x)\n",
    "y = bytearray([94, 91, 101, 125, 111, 35, 120, 101, 115, 101, 200])\n",
    "print(y)"
   ]
  },
  {
   "cell_type": "markdown",
   "metadata": {},
   "source": [
    "**Difference between bytes and bytearray object in Python**  \n",
    "- bytes are immutable bytearray are mutuable"
   ]
  },
  {
   "cell_type": "code",
   "execution_count": 4,
   "metadata": {},
   "outputs": [
    {
     "name": "stdout",
     "output_type": "stream",
     "text": [
      "bytearray(b'Python bytearray-')\n"
     ]
    }
   ],
   "source": [
    "x = bytearray(\"Python bytearray\", \"utf8\")\n",
    "x.append(45)\n",
    "print(x)"
   ]
  },
  {
   "cell_type": "code",
   "execution_count": 5,
   "metadata": {},
   "outputs": [
    {
     "ename": "AttributeError",
     "evalue": "'bytes' object has no attribute 'append'",
     "output_type": "error",
     "traceback": [
      "\u001b[1;31m---------------------------------------------------------------------------\u001b[0m",
      "\u001b[1;31mAttributeError\u001b[0m                            Traceback (most recent call last)",
      "\u001b[1;32m<ipython-input-5-1aefe010bc5d>\u001b[0m in \u001b[0;36m<module>\u001b[1;34m\u001b[0m\n\u001b[0;32m      1\u001b[0m \u001b[0mx\u001b[0m \u001b[1;33m=\u001b[0m \u001b[0mbytes\u001b[0m\u001b[1;33m(\u001b[0m\u001b[1;34m\"Python bytearray\"\u001b[0m\u001b[1;33m,\u001b[0m \u001b[1;34m\"utf8\"\u001b[0m\u001b[1;33m)\u001b[0m\u001b[1;33m\u001b[0m\u001b[1;33m\u001b[0m\u001b[0m\n\u001b[1;32m----> 2\u001b[1;33m \u001b[0mx\u001b[0m\u001b[1;33m.\u001b[0m\u001b[0mappend\u001b[0m\u001b[1;33m(\u001b[0m\u001b[1;36m45\u001b[0m\u001b[1;33m)\u001b[0m\u001b[1;33m\u001b[0m\u001b[1;33m\u001b[0m\u001b[0m\n\u001b[0m\u001b[0;32m      3\u001b[0m \u001b[0mprint\u001b[0m\u001b[1;33m(\u001b[0m\u001b[0mx\u001b[0m\u001b[1;33m)\u001b[0m\u001b[1;33m\u001b[0m\u001b[1;33m\u001b[0m\u001b[0m\n",
      "\u001b[1;31mAttributeError\u001b[0m: 'bytes' object has no attribute 'append'"
     ]
    }
   ],
   "source": [
    "x = bytes(\"Python bytearray\", \"utf8\")\n",
    "x.append(45)\n",
    "print(x)"
   ]
  },
  {
   "cell_type": "markdown",
   "metadata": {},
   "source": [
    "**Difference between bytes and string object**    \n",
    "```python\n",
    ">>> # bytes objects are immutable sequences of integers, each value in the sequence\n",
    ">>> # string objects are immutable sequences of unicode characters.\n",
    ">>> x = \"Python String\"\n",
    ">>> y = b\"Python String\"\n",
    ">>> print(x)\n",
    "    Python String\n",
    ">>> print(y)\n",
    "    b'Python String'\n",
    ">>> # Found in unicode representation of characters but not in ascii\n",
    ">>> x = \"Python\"\n",
    ">>> y = bytes(\"Python\", \"utf8\")\n",
    ">>> print(x)\n",
    "    Python\n",
    ">>> print(y)\n",
    "    b'Python'\n",
    "```\n",
    "**list data type:**  \n",
    "An ordered, mutable, heterogenous collection of eleemnts is nothing but list, where\n",
    "duplicates also allowed.  \n"
   ]
  },
  {
   "cell_type": "code",
   "execution_count": 6,
   "metadata": {},
   "outputs": [
    {
     "name": "stdout",
     "output_type": "stream",
     "text": [
      "[10, 20, 30, 'Ravinder']\n",
      "[10, 30, 'Ravinder']\n",
      "[10, 30, 'Ravinder', 10, 30, 'Ravinder']\n"
     ]
    }
   ],
   "source": [
    "list=[10,20,30]\n",
    "list.append(\"Ravinder\")\n",
    "print(list)\n",
    "list.remove(20)\n",
    "print(list)\n",
    "list2=list*2\n",
    "print(list2)"
   ]
  },
  {
   "cell_type": "markdown",
   "metadata": {},
   "source": [
    "**tuple data type:**  \n",
    "- tuple data type is exactly same as list data type except that it is immutable.i.e we cannot\n",
    "chage values.  \n",
    "- Tuple elements can be represented within parenthesis.\n",
    "- tuple is the read only version of list"
   ]
  },
  {
   "cell_type": "code",
   "execution_count": 7,
   "metadata": {},
   "outputs": [
    {
     "name": "stdout",
     "output_type": "stream",
     "text": [
      "<class 'tuple'>\n"
     ]
    },
    {
     "ename": "TypeError",
     "evalue": "'tuple' object does not support item assignment",
     "output_type": "error",
     "traceback": [
      "\u001b[1;31m---------------------------------------------------------------------------\u001b[0m",
      "\u001b[1;31mTypeError\u001b[0m                                 Traceback (most recent call last)",
      "\u001b[1;32m<ipython-input-7-91d235e9addc>\u001b[0m in \u001b[0;36m<module>\u001b[1;34m\u001b[0m\n\u001b[0;32m      2\u001b[0m \u001b[0mprint\u001b[0m\u001b[1;33m(\u001b[0m\u001b[0mtype\u001b[0m\u001b[1;33m(\u001b[0m\u001b[0mt\u001b[0m\u001b[1;33m)\u001b[0m\u001b[1;33m)\u001b[0m\u001b[1;33m\u001b[0m\u001b[1;33m\u001b[0m\u001b[0m\n\u001b[0;32m      3\u001b[0m \u001b[1;33m\u001b[0m\u001b[0m\n\u001b[1;32m----> 4\u001b[1;33m \u001b[0mt\u001b[0m\u001b[1;33m[\u001b[0m\u001b[1;36m0\u001b[0m\u001b[1;33m]\u001b[0m\u001b[1;33m=\u001b[0m\u001b[1;36m100\u001b[0m\u001b[1;33m\u001b[0m\u001b[1;33m\u001b[0m\u001b[0m\n\u001b[0m",
      "\u001b[1;31mTypeError\u001b[0m: 'tuple' object does not support item assignment"
     ]
    }
   ],
   "source": [
    "t=(10,20,30,40)\n",
    "print(type(t))\n",
    "\n",
    "t[0]=100"
   ]
  },
  {
   "cell_type": "markdown",
   "metadata": {},
   "source": [
    "**set Data Type:**  \n",
    "- If we want to represent a group of values without duplicates where order is not important then we should go for set Data Type."
   ]
  },
  {
   "cell_type": "code",
   "execution_count": 8,
   "metadata": {},
   "outputs": [
    {
     "name": "stdout",
     "output_type": "stream",
     "text": [
      "{0, 100, 200, 10, 'durga'}\n",
      "{0, 100, 200, 10, 'durga', 60}\n",
      "{0, 200, 10, 'durga', 60}\n"
     ]
    }
   ],
   "source": [
    "s={100,0,10,200,10,'durga'}\n",
    "print(s)\n",
    "\n",
    "s.add(60)\n",
    "print(s)\n",
    "\n",
    "s.remove(100)\n",
    "print(s)"
   ]
  },
  {
   "cell_type": "markdown",
   "metadata": {},
   "source": [
    "**frozenset Data Type**  \n",
    "- It is exactly same as set except that it is immutable.  \n",
    "- Hence we cannot use add or remove functions."
   ]
  },
  {
   "cell_type": "code",
   "execution_count": 11,
   "metadata": {},
   "outputs": [
    {
     "name": "stdout",
     "output_type": "stream",
     "text": [
      "<class 'frozenset'>\n"
     ]
    },
    {
     "ename": "AttributeError",
     "evalue": "'frozenset' object has no attribute 'add'",
     "output_type": "error",
     "traceback": [
      "\u001b[1;31m---------------------------------------------------------------------------\u001b[0m",
      "\u001b[1;31mAttributeError\u001b[0m                            Traceback (most recent call last)",
      "\u001b[1;32m<ipython-input-11-611b24e3350e>\u001b[0m in \u001b[0;36m<module>\u001b[1;34m\u001b[0m\n\u001b[0;32m      2\u001b[0m \u001b[0mfs\u001b[0m\u001b[1;33m=\u001b[0m\u001b[0mfrozenset\u001b[0m\u001b[1;33m(\u001b[0m\u001b[0ms\u001b[0m\u001b[1;33m)\u001b[0m\u001b[1;33m\u001b[0m\u001b[1;33m\u001b[0m\u001b[0m\n\u001b[0;32m      3\u001b[0m \u001b[0mprint\u001b[0m\u001b[1;33m(\u001b[0m\u001b[0mtype\u001b[0m\u001b[1;33m(\u001b[0m\u001b[0mfs\u001b[0m\u001b[1;33m)\u001b[0m\u001b[1;33m)\u001b[0m\u001b[1;33m\u001b[0m\u001b[1;33m\u001b[0m\u001b[0m\n\u001b[1;32m----> 4\u001b[1;33m \u001b[0mfs\u001b[0m\u001b[1;33m.\u001b[0m\u001b[0madd\u001b[0m\u001b[1;33m(\u001b[0m\u001b[1;36m70\u001b[0m\u001b[1;33m)\u001b[0m\u001b[1;33m\u001b[0m\u001b[1;33m\u001b[0m\u001b[0m\n\u001b[0m",
      "\u001b[1;31mAttributeError\u001b[0m: 'frozenset' object has no attribute 'add'"
     ]
    }
   ],
   "source": [
    "s={10,20,30,40}\n",
    "fs=frozenset(s)\n",
    "print(type(fs))\n",
    "fs.add(70)"
   ]
  },
  {
   "cell_type": "markdown",
   "metadata": {},
   "source": [
    "**dict Data Type:**  \n",
    "- If we want to represent a group of values as key-value pairs then we should go for dict data type.\n",
    "Eg:\n",
    "```python\n",
    "d={101:'durga',102:'ravi',103:'shiva'}\n",
    "```\n",
    "- Duplicate keys are not allowed but values can be duplicated. If we are trying\n",
    "# Operators\n",
    "Operator is a symbol that performs certain operations.\n",
    "Python provides the following set of operators\n",
    "1. Arithmetic Operators\n",
    "2. Relational Operators or Comparison Operators\n",
    "3. Logical operators\n",
    "4. Bitwise oeprators\n",
    "5. Assignment operators\n",
    "6. Special operators  \n",
    "  \n",
    "### 1. Arithmetic Operators:  \n",
    "Addition ==> +  \n",
    "Subtraction ==> -   \n",
    "Multiplication ==> *    \n",
    "Division operator ==> /  \n",
    "Modulo operator ==> %  \n",
    "Floor Division operator ==> //  \n",
    "Exponent operator or power operator ==> **  "
   ]
  },
  {
   "cell_type": "code",
   "execution_count": 2,
   "metadata": {},
   "outputs": [
    {
     "name": "stdout",
     "output_type": "stream",
     "text": [
      "a+b = 12\n",
      "a-b = 8\n",
      "a*b = 20\n",
      "a/b = 5.0\n",
      "a//b = 5\n",
      "a%b = 0\n",
      "a**b = 100\n"
     ]
    }
   ],
   "source": [
    "a=10\n",
    "b=2\n",
    "print('a+b =',a+b)\n",
    "print('a-b =',a-b)\n",
    "print('a*b =',a*b)\n",
    "print('a/b =',a/b)\n",
    "print('a//b =',a//b)\n",
    "print('a%b =',a%b)\n",
    "print('a**b =',a**b) "
   ]
  },
  {
   "cell_type": "markdown",
   "metadata": {},
   "source": [
    "**NOTE**   \n",
    "'/' operator always performs floating point arithmetic. Hence it will always returns\n",
    "float value.  \n",
    "But Floor division (//) can perform both floating point and integral arithmetic. If\n",
    "arguments are int type then result is int type. If atleast one argument is float type then\n",
    "result is float type.\n",
    "### 2. Relational Operators:\n",
    "(>,>=,<,<=)  "
   ]
  },
  {
   "cell_type": "code",
   "execution_count": 4,
   "metadata": {},
   "outputs": [
    {
     "name": "stdout",
     "output_type": "stream",
     "text": [
      "a > b is  False\n",
      "a >= b is  False\n",
      "a < b is  True\n",
      "a <= b is  True\n"
     ]
    }
   ],
   "source": [
    "a=10\n",
    "b=20\n",
    "print(\"a > b is \",a>b)\n",
    "print(\"a >= b is \",a>=b)\n",
    "print(\"a < b is \",a<b)\n",
    "print(\"a <= b is \",a<=b)"
   ]
  },
  {
   "cell_type": "code",
   "execution_count": 5,
   "metadata": {},
   "outputs": [
    {
     "name": "stdout",
     "output_type": "stream",
     "text": [
      "a > b is  False\n",
      "a >= b is  True\n",
      "a < b is  False\n"
     ]
    }
   ],
   "source": [
    "a=\"Ravinder\"\n",
    "b=\"Ravinder\"\n",
    "print(\"a > b is \",a>b)\n",
    "print(\"a >= b is \",a>=b)\n",
    "print(\"a < b is \",a<b) "
   ]
  },
  {
   "cell_type": "markdown",
   "metadata": {},
   "source": [
    "Chaining of relational operators is possible. In the chaining, if all comparisons\n",
    "returns True then only result is True. If atleast one comparison returns False then the\n",
    "result is False\n"
   ]
  },
  {
   "cell_type": "code",
   "execution_count": 8,
   "metadata": {},
   "outputs": [
    {
     "name": "stdout",
     "output_type": "stream",
     "text": [
      "False\n",
      "True\n"
     ]
    }
   ],
   "source": [
    "print(10<20<30<40>50)\n",
    "print(10<20<30<40<50)"
   ]
  },
  {
   "cell_type": "markdown",
   "metadata": {},
   "source": [
    "### equality operators:\n",
    "(== , !=)  \n",
    "We can apply these operators for any type even for incompatible types also"
   ]
  },
  {
   "cell_type": "code",
   "execution_count": 10,
   "metadata": {},
   "outputs": [
    {
     "name": "stdout",
     "output_type": "stream",
     "text": [
      "True\n",
      "True\n",
      "False\n",
      "False\n"
     ]
    }
   ],
   "source": [
    "print(10 == 10)\n",
    "print(10 != 20)\n",
    "print( 10 != 10 )\n",
    "print(\"Ravinder\" == 'ravinder')"
   ]
  },
  {
   "cell_type": "markdown",
   "metadata": {},
   "source": [
    "**Note** : Chaining concept is applicable for equality operators. If atleast one comparison\n",
    "returns False then the result is False. otherwise the result is True."
   ]
  },
  {
   "cell_type": "code",
   "execution_count": 11,
   "metadata": {},
   "outputs": [
    {
     "name": "stdout",
     "output_type": "stream",
     "text": [
      "False\n",
      "True\n"
     ]
    }
   ],
   "source": [
    "print(10==20==30==40 )\n",
    "print(10==10==10==10 )"
   ]
  },
  {
   "cell_type": "markdown",
   "metadata": {},
   "source": [
    "### 3. Logical Operators\n",
    "(and, or ,not)   \n",
    "and ==> If both arguments are True then only result is True    \n",
    "or ====> If atleast one arugemnt is True then result is True    \n",
    "not ==> complement   \n",
    "  \n",
    "non-boolean types behaviour:  \n",
    "- 0 means False\n",
    "- non-zero means True\n",
    "- empty string is always treated as False  \n",
    "\n",
    "**x and y:**  \n",
    "- if x is evaluates to false return x otherwise return y  "
   ]
  },
  {
   "cell_type": "code",
   "execution_count": 33,
   "metadata": {
    "scrolled": true
   },
   "outputs": [
    {
     "name": "stdout",
     "output_type": "stream",
     "text": [
      "7\n"
     ]
    }
   ],
   "source": [
    "print(9 and 7) #if x is evaluates to false return x otherwise return y"
   ]
  },
  {
   "cell_type": "code",
   "execution_count": 34,
   "metadata": {},
   "outputs": [
    {
     "name": "stdout",
     "output_type": "stream",
     "text": [
      "x and y is False\n",
      "x or y is True\n",
      "not x is False\n"
     ]
    }
   ],
   "source": [
    "x = True\n",
    "y = False\n",
    "\n",
    "# Output: x and y is False\n",
    "print('x and y is',x and y)\n",
    "\n",
    "# Output: x or y is True\n",
    "print('x or y is',x or y)\n",
    "\n",
    "# Output: not x is False\n",
    "print('not x is',not x)"
   ]
  },
  {
   "cell_type": "markdown",
   "metadata": {},
   "source": [
    "**x or y:**  \n",
    "If x evaluates to True then result is x otherwise result is y  "
   ]
  },
  {
   "cell_type": "code",
   "execution_count": 35,
   "metadata": {},
   "outputs": [
    {
     "name": "stdout",
     "output_type": "stream",
     "text": [
      "10\n",
      "20\n"
     ]
    }
   ],
   "source": [
    "print(10 or 20)\n",
    "print(0 or 20)"
   ]
  },
  {
   "cell_type": "markdown",
   "metadata": {},
   "source": [
    "**not x:**  \n",
    "- If x is evalutates to False then result is True otherwise False"
   ]
  },
  {
   "cell_type": "code",
   "execution_count": 36,
   "metadata": {},
   "outputs": [
    {
     "name": "stdout",
     "output_type": "stream",
     "text": [
      "False\n",
      "True\n"
     ]
    }
   ],
   "source": [
    "print(not 10)\n",
    "print(not 0)"
   ]
  },
  {
   "cell_type": "code",
   "execution_count": 41,
   "metadata": {},
   "outputs": [
    {
     "name": "stdout",
     "output_type": "stream",
     "text": [
      "ravi\n",
      "\n",
      "\n",
      "KIKI\n",
      "KIKI\n",
      "True\n",
      "False\n"
     ]
    }
   ],
   "source": [
    "print(\"KIKI\" and \"ravi\")\n",
    "print(\"\" and \"KIKI\")\n",
    "print(\"KIKI\" and \"\")\n",
    "print(\"\" or \"KIKI\")\n",
    "print(\"KIKI\" or \"\")\n",
    "print(not \"\")\n",
    "print(not \"KIKI\")"
   ]
  },
  {
   "cell_type": "markdown",
   "metadata": {},
   "source": [
    "### 4. Bitwise Operators\n",
    "- We can apply these operators bitwise.\n",
    "- These operators are applicable only for int and boolean types.\n",
    "- By mistake if we are trying to apply for any other type then we will get Error  \n",
    "(&,|,^,~,<<,>>)  \n",
    "- Bitwise operators act on operands as if they were string of binary digits. It operates bit by bit, hence the name.\n",
    "- In the table below: Let x = 10 (0000 1010 in binary) and y = 4 (0000 0100 in binary)   \n",
    "  \n",
    "| Operator | Meaning                                                           | Example                |\n",
    "|----------|-------------------------------------------------------------------|------------------------|\n",
    "| &        | If both bits are 1 then only result is 1 otherwise result is 0    | x & y = 0 (0000 0000)  |\n",
    "| |        | If atleast one bit is 1 then result is 1 otherwise result is 0    | x | y = 14 (0000 1110) |\n",
    "| ~        |  bitwise complement operator i.e 1 means 0 and 0 means 1          | ~x = -11 (1111 0101)   |\n",
    "| ^        | If bits are different then only result is 1 otherwise result is 0 | x ^ y = 14 (0000 1110) |\n",
    "| >>       | Bitwise right shift                                               | x>> 2 = 2 (0000 0010)  |\n",
    "| <<       | Bitwise left shift                                                | x<< 2 = 40 (0010 1000) |  \n",
    "### 5. Assignmnet Operators\n",
    "- Assignment operators are used in Python to assign values to variables.\n",
    "\n",
    "- a = 5 is a simple assignment operator that assigns the value 5 on the right to the variable a on the left.\n",
    "\n",
    "- There are various compound operators in Python like a += 5 that adds to the variable and later assigns the same. It is equivalent to a = a + 5.  \n",
    "  \n",
    "| Operator | Exmple  | Equivalent to |\n",
    "|----------|---------|---------------|\n",
    "| =        | x = 5   | x = 5         |\n",
    "| +=       | x += 5  | x = x + 5     |\n",
    "| -=       | x -= 5  | x = x - 5     |\n",
    "| *=       | x *= 5  | x = x * 5     |\n",
    "| /=       | x /= 5  | x = x / 5     |\n",
    "| %=       | x %= 5  | x = x % 5     |  \n",
    "| //=      | x //= 5 | x = x // 5    |\n",
    "| **=      | x **= 5 | x = x ** 5    |\n",
    "| &=       | x &= 5  | x = x & 5     |\n",
    "| |=       | x |= 5  | x = x | 5     |\n",
    "| ^=       | x ^= 5  | x = x ^ 5     |\n",
    "| >>=      | x >>= 5 | x = x >> 5    |\n",
    "| <<=      | x <<= 5 | x = x << 5    |  \n",
    "  \n",
    "### 6. Ternary Operator:  \n",
    "x = firstValue if condition is True else secondValue  \n",
    "```python\n",
    "a if condition else b\n",
    "```  \n",
    "Ternory operators can be nested"
   ]
  },
  {
   "cell_type": "code",
   "execution_count": 2,
   "metadata": {},
   "outputs": [
    {
     "name": "stdout",
     "output_type": "stream",
     "text": [
      "a is greater than b\n"
     ]
    }
   ],
   "source": [
    "a = 30\n",
    "b = 20\n",
    "print('a is greater than b') if(a > b) else print('b is greater than a')"
   ]
  },
  {
   "cell_type": "markdown",
   "metadata": {},
   "source": [
    "**WAP to find minimum of 3 numbers**  "
   ]
  },
  {
   "cell_type": "code",
   "execution_count": 22,
   "metadata": {},
   "outputs": [
    {
     "name": "stdout",
     "output_type": "stream",
     "text": [
      "Enter First number...3\n",
      "Enter Second number...4\n",
      "Enter Third number...2\n",
      "2\n"
     ]
    }
   ],
   "source": [
    "a = int(input('Enter First number...'))\n",
    "b = int(input('Enter Second number...'))\n",
    "c = int(input('Enter Third number...'))\n",
    "\n",
    "min = a if((a<b) and (a<c)) else b if(b<c) else c\n",
    "print(min)"
   ]
  },
  {
   "cell_type": "markdown",
   "metadata": {},
   "source": [
    "**WAP to find maximum of 3 numbers**  "
   ]
  },
  {
   "cell_type": "code",
   "execution_count": 21,
   "metadata": {
    "scrolled": true
   },
   "outputs": [
    {
     "name": "stdout",
     "output_type": "stream",
     "text": [
      "Enter First number...3\n",
      "Enter Second number...4\n",
      "Enter Third number...2\n",
      "2\n"
     ]
    }
   ],
   "source": [
    "a = int(input('Enter First number...'))\n",
    "b = int(input('Enter Second number...'))\n",
    "c = int(input('Enter Third number...'))\n",
    "\n",
    "max = a if((a>b) and (a>c)) else b if(b>c) else c\n",
    "print(max)"
   ]
  },
  {
   "cell_type": "code",
   "execution_count": 7,
   "metadata": {},
   "outputs": [
    {
     "name": "stdout",
     "output_type": "stream",
     "text": [
      "3\n"
     ]
    }
   ],
   "source": [
    "a = 3\n",
    "b = 2\n",
    "c = 1\n",
    "if((a>b) and (a>c)):\n",
    "    print(a)\n",
    "elif b>c:\n",
    "    print(b)\n",
    "else:\n",
    "    print(c)"
   ]
  },
  {
   "cell_type": "code",
   "execution_count": 8,
   "metadata": {},
   "outputs": [
    {
     "name": "stdout",
     "output_type": "stream",
     "text": [
      "Enter First Number:2\n",
      "Enter Second Number:3\n",
      "First Number is Less than Second Number\n"
     ]
    }
   ],
   "source": [
    "a = int(input(\"Enter First Number:\"))\n",
    "b = int(input(\"Enter Second Number:\"))\n",
    "print(\"Both numbers are equal\" if a==b else \"First Number is Less than Second Number\" if a<b else \"First Number Greater than Second Number\") "
   ]
  },
  {
   "cell_type": "markdown",
   "metadata": {},
   "source": [
    "### 7. Special operators:\n",
    "Python language offers some special type of operators like the identity operator or the membership operator. They are described below with examples.  \n",
    "**Identity operators(address comparison)**  \n",
    "is and is not are the identity operators in Python. They are used to check if two values (or variables) are located on the same part of the memory. Two variables that are equal does not imply that they are identical.  \n",
    "```python\n",
    "r1 is r2 returns True if both r1 and r2 are pointing to the same object\n",
    "r1 is not r2 returns True if both r1 and r2 are not pointing to the same object\n",
    "```\n"
   ]
  },
  {
   "cell_type": "code",
   "execution_count": 13,
   "metadata": {},
   "outputs": [
    {
     "name": "stdout",
     "output_type": "stream",
     "text": [
      "False\n",
      "140736679809984\n",
      "140736679809984\n",
      "True\n",
      "2121191551976\n",
      "2121191551976\n",
      "False\n",
      "2121191606024\n",
      "2121191605960\n"
     ]
    }
   ],
   "source": [
    "x1 = 5\n",
    "y1 = 5\n",
    "x2 = 'Hello'\n",
    "y2 = 'Hello'\n",
    "x3 = [1,2,3]\n",
    "y3 = [1,2,3]\n",
    "\n",
    "# Output: False\n",
    "print(x1 is not y1)\n",
    "print(id(x1))\n",
    "print(id(y1))\n",
    "\n",
    "# Output: True\n",
    "print(x2 is y2)\n",
    "print(id(x2))\n",
    "print(id(y2))\n",
    "\n",
    "# Output: False\n",
    "print(x3 is y3)\n",
    "print(id(x3))\n",
    "print(id(y3))"
   ]
  },
  {
   "cell_type": "markdown",
   "metadata": {},
   "source": [
    "Here, we see that x1 and y1 are integers of same values, so they are equal as well as identical. Same is the case with x2 and y2 (strings).  \n",
    "\n",
    "But x3 and y3 are list. They are equal but not identical. It is because interpreter locates them separately in memory although they are equal."
   ]
  },
  {
   "cell_type": "code",
   "execution_count": 16,
   "metadata": {},
   "outputs": [
    {
     "name": "stdout",
     "output_type": "stream",
     "text": [
      "True\n"
     ]
    }
   ],
   "source": [
    "x3 = [1,2,3]\n",
    "y3 = x3\n",
    "print(x3 is y3)"
   ]
  },
  {
   "cell_type": "markdown",
   "metadata": {},
   "source": [
    "- Immutable Object: int, float, long, complex, string tuple, bool\n",
    "- Mutable Object: list, dict, set, byte array, user-defined classes  \n",
    "  \n",
    "Let’s see what happens when we apply id() on an immutable object, an integer:  \n",
    "  \n",
    "```python\n",
    ">>> a = 89\n",
    ">>> id(a)\n",
    "140736679812672\n",
    ">>> a = 89 + 1\n",
    ">>> print(a)\n",
    "90\n",
    ">>> id(a)\n",
    "140736679812704  # this is different from before!\n",
    "```  \n",
    "  \n",
    "…and contrasting the result with a mutable object, a list:  \n",
    "```python\n",
    ">>> L = [1, 2, 3]\n",
    ">>> id(L)\n",
    "2121190586120\n",
    ">>> L += [4]\n",
    ">>> print(L)\n",
    "[1, 2, 3, 4]\n",
    ">>> id(L)\n",
    "2121190586120    # this is the same as before! \n",
    "```"
   ]
  },
  {
   "cell_type": "markdown",
   "metadata": {},
   "source": [
    "We see that when we attempt to modify an immutable object (integer in this case), Python simply gives us a different object instead. On the other hand, we are able to make changes to an mutable object (a list) and have it remain the same object throughout.   \n",
    "  \n",
    "It’s important to distinguish the identity function id() and identity operator is from the comparison operator ==, which evaluates whether the values are equal.  \n",
    "**'==' VS 'is' operators**  \n",
    "Read this [article](http://foobarnbaz.com/2012/07/08/understanding-python-variables/)  \n",
    "For string interning read this [article](http://guilload.com/python-string-interning/)  \n",
    "**Membership operators:**  \n",
    "in and not in are the membership operators in Python. They are used to test whether a value or variable is found in a sequence (string, list, tuple, set and dictionary).  \n",
    "\n",
    "In a dictionary we can only test for presence of key, not the value.  \n",
    "- in --> Returns True if the given object present in the specified Collection\n",
    "- not in --> Retruns True if the given object not present in the specified Collection"
   ]
  },
  {
   "cell_type": "code",
   "execution_count": 24,
   "metadata": {},
   "outputs": [
    {
     "name": "stdout",
     "output_type": "stream",
     "text": [
      "True\n",
      "True\n",
      "True\n",
      "False\n"
     ]
    }
   ],
   "source": [
    "x = 'Hello world'\n",
    "y = {1:'a',2:'b'}\n",
    "\n",
    "# Output: True\n",
    "print('H' in x)\n",
    "\n",
    "# Output: True\n",
    "print('hello' not in x)\n",
    "\n",
    "# Output: True\n",
    "print(1 in y)\n",
    "\n",
    "# Output: False\n",
    "print('a' in y)"
   ]
  },
  {
   "cell_type": "markdown",
   "metadata": {},
   "source": [
    "### Operator Precedence:  \n",
    "If multiple operators present then which operator will be evaluated first is decided by\n",
    "operator precedence.  \n",
    "  \n",
    "| Operator           | Name                                             |\n",
    "|--------------------|--------------------------------------------------|\n",
    "| ()                 | Parenthesis                                      |\n",
    "| **                 | exponential                                      |\n",
    "| ~,-                | Bitwise complement operator,unary minus operator |\n",
    "| *,/,%,//           | multiplication,division,modulo,floor division    |\n",
    "| +,-                | addition,subtraction                             |\n",
    "| <<,>>              | Left and Right Shift                             |\n",
    "| &                  | bitwise And                                      |\n",
    "| ^                  | Bitwise X-OR                                     |\n",
    "| |                  | Bitwise OR                                       |\n",
    "| >,>=,<,<=, ==, !=  | Relational or Comparison operators               |\n",
    "| =,+=,-=,*=...      | Assignment operators                             |\n",
    "| is , is not        | Identity Operators                               |\n",
    "| in , not in        | Membership operators                             |\n",
    "| not                | Logical not                                      |\n",
    "| and                | Logical and                                      |\n",
    "| or                 | Logical or                                       |"
   ]
  },
  {
   "cell_type": "code",
   "execution_count": 25,
   "metadata": {},
   "outputs": [
    {
     "name": "stdout",
     "output_type": "stream",
     "text": [
      "100.0\n",
      "100.0\n",
      "70.0\n"
     ]
    }
   ],
   "source": [
    "a=30\n",
    "b=20\n",
    "c=10\n",
    "d=5\n",
    "print((a+b)*c/d) #100.0\n",
    "print((a+b)*(c/d)) #100.0\n",
    "print(a+(b*c)/d) #70.0 "
   ]
  },
  {
   "cell_type": "markdown",
   "metadata": {},
   "source": [
    "# Modules  \n",
    "**Mathematical Functions (math Module)**  \n",
    "- A Module is collection of functions, variables and classes etc.\n",
    "- math is a module that contains several functions to perform mathematical operations\n",
    "- If we want to use any module in Python, first we have to import that module.\n",
    "```python\n",
    "import math\n",
    "```  \n",
    "  \n",
    "Once we import a module then we can call any function of that module"
   ]
  },
  {
   "cell_type": "code",
   "execution_count": 1,
   "metadata": {},
   "outputs": [
    {
     "name": "stdout",
     "output_type": "stream",
     "text": [
      "4.0\n",
      "3.141592653589793\n"
     ]
    }
   ],
   "source": [
    "import math\n",
    "print(math.sqrt(16))\n",
    "print(math.pi)"
   ]
  },
  {
   "cell_type": "markdown",
   "metadata": {},
   "source": [
    "**We can create alias name by using as keyword.**  \n",
    "```python\n",
    "import math as m\n",
    "```"
   ]
  },
  {
   "cell_type": "code",
   "execution_count": 3,
   "metadata": {},
   "outputs": [
    {
     "name": "stdout",
     "output_type": "stream",
     "text": [
      "4.0\n",
      "3.141592653589793\n"
     ]
    }
   ],
   "source": [
    "import math as m\n",
    "print(m.sqrt(16))\n",
    "print(m.pi)"
   ]
  },
  {
   "cell_type": "markdown",
   "metadata": {},
   "source": [
    "**We can import a particular member of a module explicitly as follows:**  \n",
    "```python\n",
    "from math import sqrt\n",
    "from math import sqrt,pi\n",
    "```"
   ]
  },
  {
   "cell_type": "code",
   "execution_count": 4,
   "metadata": {},
   "outputs": [
    {
     "name": "stdout",
     "output_type": "stream",
     "text": [
      "4.0\n",
      "3.141592653589793\n",
      "3.141592653589793\n"
     ]
    }
   ],
   "source": [
    "from math import sqrt,pi\n",
    "print(sqrt(16))\n",
    "print(pi)\n",
    "print(math.pi)"
   ]
  },
  {
   "cell_type": "markdown",
   "metadata": {},
   "source": [
    "important functions of math module:  \n",
    "ceil(x)  \n",
    "floor(x)  \n",
    "pow(x,y)  \n",
    "factorial(x)  \n",
    "trunc(x)  \n",
    "gcd(x,y)  \n",
    "sin(x)  \n",
    "cos(x)   \n",
    "tan(x)  \n",
    "  \n",
    "**important variables of math module:**  \n",
    "  \n",
    "| varibale           | value                              |\n",
    "|--------------------|------------------------------------|\n",
    "| e                  | 2.71                               |\n",
    "| inf                | infinity                           |\n",
    "| nan                | not a number                       |  \n",
    "  \n",
    "**Write a Python program to find area of circle**  \n"
   ]
  },
  {
   "cell_type": "code",
   "execution_count": 5,
   "metadata": {},
   "outputs": [
    {
     "name": "stdout",
     "output_type": "stream",
     "text": [
      "Area of Circle is : 804.247719318987\n"
     ]
    }
   ],
   "source": [
    "from math import pi\n",
    "r=16\n",
    "print(\"Area of Circle is :\",pi*r**2)"
   ]
  },
  {
   "cell_type": "markdown",
   "metadata": {},
   "source": [
    "# Input And Output Statements\n",
    "- input() function can be used to read data directly in our required format.We are not required to perform type casting.\n",
    "```python\n",
    "x=input(\"Enter Value)\n",
    "print(type(x))\n",
    "```  \n",
    "  \n",
    "every input value is treated as str type only.  \n",
    "**Write a program to read 2 numbers from the keyboard and print sum.**  "
   ]
  },
  {
   "cell_type": "code",
   "execution_count": 6,
   "metadata": {},
   "outputs": [
    {
     "name": "stdout",
     "output_type": "stream",
     "text": [
      "Enter First Number:5\n",
      "Enter Second Number:6\n",
      "The Sum: 11\n"
     ]
    }
   ],
   "source": [
    "x=input(\"Enter First Number:\")\n",
    "y=input(\"Enter Second Number:\")\n",
    "i = int(x)\n",
    "j = int(y)\n",
    "print(\"The Sum:\",i+j) "
   ]
  },
  {
   "cell_type": "code",
   "execution_count": 7,
   "metadata": {},
   "outputs": [
    {
     "name": "stdout",
     "output_type": "stream",
     "text": [
      "Enter First Number:5\n",
      "Enter Second Number:6\n",
      "The Sum: 11\n"
     ]
    }
   ],
   "source": [
    "x=int(input(\"Enter First Number:\"))\n",
    "y=int(input(\"Enter Second Number:\"))\n",
    "print(\"The Sum:\",x+y) "
   ]
  },
  {
   "cell_type": "markdown",
   "metadata": {},
   "source": [
    "**How to read multiple values from the keyboard in a single line:**  \n",
    "    "
   ]
  },
  {
   "cell_type": "code",
   "execution_count": 11,
   "metadata": {},
   "outputs": [
    {
     "name": "stdout",
     "output_type": "stream",
     "text": [
      "Enter 2 numbers :5 4\n",
      "Product is : 20\n"
     ]
    }
   ],
   "source": [
    "a,b= [int(x) for x in input(\"Enter 2 numbers :\").split()]\n",
    "print(\"Product is :\", a*b) "
   ]
  },
  {
   "cell_type": "markdown",
   "metadata": {},
   "source": [
    "**Q. Write a program to read 3 float numbers from the keyboard with , seperator and print\n",
    "their sum.**"
   ]
  },
  {
   "cell_type": "code",
   "execution_count": 13,
   "metadata": {},
   "outputs": [
    {
     "name": "stdout",
     "output_type": "stream",
     "text": [
      "Enter 3 float numbers :4,5,6\n",
      "The Sum is : 15.0\n"
     ]
    }
   ],
   "source": [
    "a,b,c= [float(x) for x in input(\"Enter 3 float numbers :\").split(',')]\n",
    "print(\"The Sum is :\", a+b+c) "
   ]
  },
  {
   "cell_type": "markdown",
   "metadata": {},
   "source": [
    "**eval():** "
   ]
  },
  {
   "cell_type": "code",
   "execution_count": 15,
   "metadata": {},
   "outputs": [
    {
     "name": "stdout",
     "output_type": "stream",
     "text": [
      "60\n"
     ]
    }
   ],
   "source": [
    "x = eval(\"10+20+30\")\n",
    "print(x)"
   ]
  },
  {
   "cell_type": "code",
   "execution_count": 18,
   "metadata": {},
   "outputs": [
    {
     "name": "stdout",
     "output_type": "stream",
     "text": [
      "Enter Expression10+2*3/4\n",
      "11.5\n"
     ]
    }
   ],
   "source": [
    "x = eval(input(\"Enter Expression\"))\n",
    "print(x)"
   ]
  },
  {
   "cell_type": "markdown",
   "metadata": {},
   "source": [
    "eval() can evaluate the Input to list, tuple, set, etc based the provided Input."
   ]
  },
  {
   "cell_type": "code",
   "execution_count": 21,
   "metadata": {},
   "outputs": [
    {
     "name": "stdout",
     "output_type": "stream",
     "text": [
      "Enter List1,2,3\n",
      "<class 'tuple'>\n",
      "(1, 2, 3)\n"
     ]
    }
   ],
   "source": [
    "l = eval(input(\"Enter List\"))\n",
    "print (type(l))\n",
    "print(l) "
   ]
  },
  {
   "cell_type": "markdown",
   "metadata": {},
   "source": [
    "# Command Line Arguments\n",
    "The Argument which are passing at the time of execution are called Command Line\n",
    "Arguments  \n",
    "  \n",
    "Till now, we have taken input in python using raw_input() or input(). There is another method that uses command line arguments. The command line arguments must be given whenever we want to give the input before the start of the script, while on the other hand, raw_input() is used to get the input while the python program / script is running.  \n",
    "\n",
    "For example, in the UNIX environment, the arguments ‘-a’ and ‘-l’ for the ‘ls’ command give different results.  \n",
    "\n",
    "The command line arguments in python can be processed by using either ‘sys’ module or ‘argparse’ module.  \n",
    "- argv is not Array it is a List. It is available in sys Module.\n",
    "- The Argument which are passing at the time of execution are called Command Line Arguments.\n"
   ]
  },
  {
   "cell_type": "code",
   "execution_count": null,
   "metadata": {},
   "outputs": [],
   "source": [
    "from sys import argv\n",
    "print(\"The Number of Command Line Arguments:\", len(argv))\n",
    "print(\"The List of Command Line Arguments:\", argv)\n",
    "print(\"Command Line Arguments one by one:\")\n",
    "for x in argv:\n",
    "    print(x) "
   ]
  },
  {
   "cell_type": "markdown",
   "metadata": {},
   "source": [
    "![](img\\cml1.png)"
   ]
  },
  {
   "cell_type": "code",
   "execution_count": null,
   "metadata": {},
   "outputs": [],
   "source": [
    "from sys import argv\n",
    "sum=0\n",
    "args=argv[1:]\n",
    "for x in args :\n",
    "    n=int(x)\n",
    "    sum=sum+n\n",
    "print(\"The Sum:\",sum) "
   ]
  },
  {
   "cell_type": "markdown",
   "metadata": {},
   "source": [
    "![](img\\cml2.png)  \n",
    "  \n",
    "**Note1:** usually space is seperator between command line arguments. If our command line\n",
    "argument itself contains space then we should enclose within double quotes(but not\n",
    "single quotes)\n"
   ]
  },
  {
   "cell_type": "code",
   "execution_count": null,
   "metadata": {},
   "outputs": [],
   "source": [
    "from sys import argv\n",
    "print(argv[1]) "
   ]
  },
  {
   "cell_type": "markdown",
   "metadata": {},
   "source": [
    "![](img\\cml3.png)  \n",
    "  \n",
    "**Note2:** Within the Python program command line arguments are available in the String\n",
    "form. Based on our requirement,we can convert into corresponding type by using type\n",
    "casting methods.  \n",
    "  \n",
    "**Note3:** If we are trying to access command line arguments with out of range index then\n",
    "we will get Error.  \n",
    "  \n",
    "# output statements\n",
    "- We can use print() function to display output.  \n",
    "- print() without any argument, Just it prints new line character  \n",
    "  "
   ]
  },
  {
   "cell_type": "code",
   "execution_count": 29,
   "metadata": {},
   "outputs": [
    {
     "name": "stdout",
     "output_type": "stream",
     "text": [
      "Hello World\n",
      "Hello \n",
      " World\n",
      "Hello\tWorld\n",
      "HelloHelloHelloHelloHelloHelloHelloHelloHelloHello\n",
      "HelloHelloHelloHelloHelloHelloHelloHelloHelloHello\n",
      "HelloWorld\n"
     ]
    }
   ],
   "source": [
    "print(\"Hello World\")\n",
    "\n",
    "#We can use escape characters also\n",
    "print(\"Hello \\n World\")\n",
    "print(\"Hello\\tWorld\")\n",
    "\n",
    "#We can use repetetion operator (*) in the string\n",
    "print(10*\"Hello\")\n",
    "print(\"Hello\"*10)\n",
    "\n",
    "#We can use + operator also\n",
    "print(\"Hello\"+\"World\") "
   ]
  },
  {
   "cell_type": "markdown",
   "metadata": {},
   "source": [
    "Note:  \n",
    "- If both arguments are String type then + operator acts as concatenation operator.\n",
    "- If one argument is string type and second is any other type like int then we will get Error\n",
    "- If both arguments are number type then + operator acts as arithmetic addition operator.  \n"
   ]
  },
  {
   "cell_type": "code",
   "execution_count": 30,
   "metadata": {},
   "outputs": [
    {
     "name": "stdout",
     "output_type": "stream",
     "text": [
      "HelloWorld\n",
      "Hello World\n"
     ]
    }
   ],
   "source": [
    "print(\"Hello\"+\"World\")\n",
    "print(\"Hello\",\"World\") "
   ]
  },
  {
   "cell_type": "markdown",
   "metadata": {},
   "source": [
    "**print with variable number of arguments:**"
   ]
  },
  {
   "cell_type": "code",
   "execution_count": 32,
   "metadata": {},
   "outputs": [
    {
     "name": "stdout",
     "output_type": "stream",
     "text": [
      "The Values are : 10 20 30\n"
     ]
    }
   ],
   "source": [
    "a,b,c=10,20,30\n",
    "print(\"The Values are :\",a,b,c) "
   ]
  },
  {
   "cell_type": "markdown",
   "metadata": {},
   "source": [
    "By default output values are seperated by space.If we want we can specify seperator by\n",
    "using \"sep\" attribute."
   ]
  },
  {
   "cell_type": "code",
   "execution_count": 33,
   "metadata": {},
   "outputs": [
    {
     "name": "stdout",
     "output_type": "stream",
     "text": [
      "10,20,30\n",
      "10:20:30\n"
     ]
    }
   ],
   "source": [
    "a,b,c=10,20,30\n",
    "print(a,b,c,sep=',')\n",
    "print(a,b,c,sep=':') "
   ]
  },
  {
   "cell_type": "markdown",
   "metadata": {},
   "source": [
    "**print() with end attribute:**"
   ]
  },
  {
   "cell_type": "code",
   "execution_count": 35,
   "metadata": {},
   "outputs": [
    {
     "name": "stdout",
     "output_type": "stream",
     "text": [
      "Hello\n",
      "Hi\n",
      "Yo\n",
      "Hello Hi Yo\n"
     ]
    }
   ],
   "source": [
    "print(\"Hello\")\n",
    "print(\"Hi\")\n",
    "print(\"Yo\") \n",
    "\n",
    "print(\"Hello\",end=' ')\n",
    "print(\"Hi\",end=' ')\n",
    "print(\"Yo\") "
   ]
  },
  {
   "cell_type": "markdown",
   "metadata": {},
   "source": [
    "**Note:** The default value for end attribute is \\n,which is nothing but new line character.  \n",
    "**print(object) statement:**  \n",
    "We can pass any object (like list,tuple,set etc)as argument to the print() statement. "
   ]
  },
  {
   "cell_type": "code",
   "execution_count": 36,
   "metadata": {},
   "outputs": [
    {
     "name": "stdout",
     "output_type": "stream",
     "text": [
      "[10, 20, 30, 40]\n",
      "(10, 20, 30, 40)\n"
     ]
    }
   ],
   "source": [
    "l=[10,20,30,40]\n",
    "t=(10,20,30,40)\n",
    "print(l)\n",
    "print(t) "
   ]
  },
  {
   "cell_type": "markdown",
   "metadata": {},
   "source": [
    "**print(String,variable list):**  \n",
    "We can use print() statement with String and any number of arguments.  \n"
   ]
  },
  {
   "cell_type": "code",
   "execution_count": 38,
   "metadata": {},
   "outputs": [
    {
     "name": "stdout",
     "output_type": "stream",
     "text": [
      "Hello Ravinder ,Your Age is 23\n",
      "You are teaching C++ and Python\n"
     ]
    }
   ],
   "source": [
    "s=\"Ravinder\"\n",
    "a=23\n",
    "s1=\"C++\"\n",
    "s2=\"Python\"\n",
    "print(\"Hello\",s,\",Your Age is\",a)\n",
    "print(\"You are teaching\",s1,\"and\",s2) "
   ]
  },
  {
   "cell_type": "markdown",
   "metadata": {},
   "source": [
    "**print(formatted string):**  \n",
    "%i====>int  \n",
    "%d====>int  \n",
    "%f=====>float  \n",
    "%s======>String type   \n",
    "**print(\"formatted string\" %(variable list))**  "
   ]
  },
  {
   "cell_type": "code",
   "execution_count": 39,
   "metadata": {},
   "outputs": [
    {
     "name": "stdout",
     "output_type": "stream",
     "text": [
      "a value is 10\n",
      "b value is 20 and c value is 30\n"
     ]
    }
   ],
   "source": [
    "a=10\n",
    "b=20\n",
    "c=30\n",
    "print(\"a value is %i\" %a)\n",
    "print(\"b value is %d and c value is %d\" %(b,c)) "
   ]
  },
  {
   "cell_type": "code",
   "execution_count": 40,
   "metadata": {},
   "outputs": [
    {
     "name": "stdout",
     "output_type": "stream",
     "text": [
      "Hello Durga ...The List of Items are [10, 20, 30, 40]\n"
     ]
    }
   ],
   "source": [
    "s=\"Durga\"\n",
    "list=[10,20,30,40]\n",
    "print(\"Hello %s ...The List of Items are %s\" %(s,list)) "
   ]
  },
  {
   "cell_type": "markdown",
   "metadata": {},
   "source": [
    " **print() with replacement operator {}**   "
   ]
  },
  {
   "cell_type": "code",
   "execution_count": 42,
   "metadata": {},
   "outputs": [
    {
     "name": "stdout",
     "output_type": "stream",
     "text": [
      "Hello Ravinder your salary is 10000 and Your Friend Rohit is waiting\n",
      "Hello Ravinder your salary is 10000 and Your Friend Rohit is waiting\n"
     ]
    }
   ],
   "source": [
    "name=\"Ravinder\"\n",
    "salary=10000\n",
    "gf=\"Rohit\"\n",
    "print(\"Hello {0} your salary is {1} and Your Friend {2} is waiting\".format(name, salary, gf))\n",
    "print(\"Hello {x} your salary is {y} and Your Friend {z} is waiting\".format(x=name, y=salary, z=gf))"
   ]
  },
  {
   "cell_type": "markdown",
   "metadata": {},
   "source": [
    "# Flow Control\n",
    "Flow control describes the order in which statements will be executed at runtime.  \n",
    "![](img\\sav.png)  \n",
    "### Conditional Statements\n",
    "**if**  \n",
    "\n",
    "```python\n",
    "if condition : statement  \n",
    "or \n",
    "if condition :  \n",
    "    statement-1  \n",
    "    statement-2  \n",
    "    statement-3  \n",
    "If condition is true then statements will be executed.  \n",
    "```"
   ]
  },
  {
   "cell_type": "code",
   "execution_count": 7,
   "metadata": {},
   "outputs": [
    {
     "name": "stdout",
     "output_type": "stream",
     "text": [
      "Enter Your Name:Ravinder\n",
      "Hello Ravinder, Good Morning\n",
      "How are you!!!\n"
     ]
    }
   ],
   "source": [
    "name=input(\"Enter Your Name:\")\n",
    "if name==\"Ravinder\":\n",
    "    print(\"Hello %s, Good Morning\"%name)\n",
    "print(\"How are you!!!\") "
   ]
  },
  {
   "cell_type": "markdown",
   "metadata": {},
   "source": [
    "**if-else:**  \n",
    "```python\n",
    "if condition :\n",
    "    Action-1\n",
    "else:\n",
    "    Action-2\n",
    "```  \n",
    "  \n",
    "if condition is true then Action-1 will be executed otherwise Action-2 will be executed"
   ]
  },
  {
   "cell_type": "code",
   "execution_count": 8,
   "metadata": {},
   "outputs": [
    {
     "name": "stdout",
     "output_type": "stream",
     "text": [
      "Enter Name:Ravinder\n",
      "Hello Ravinder, Good Morning\n",
      "How are you!!!\n"
     ]
    }
   ],
   "source": [
    "name=input(\"Enter Name:\")\n",
    "if name==\"Ravinder\" :\n",
    "    print(\"Hello Ravinder, Good Morning\")\n",
    "else:\n",
    "    print(\"Hello, Who are you?\")\n",
    "print(\"How are you!!!\") "
   ]
  },
  {
   "cell_type": "markdown",
   "metadata": {},
   "source": [
    "### if-elif-else:\n",
    "Syntax:  \n",
    "```python\n",
    "if condition1:\n",
    "    Action-1\n",
    "elif condition2:\n",
    "    Action-2\n",
    "elif condition3:\n",
    "    Action-3\n",
    "elif condition4:\n",
    "    Action-4\n",
    "...\n",
    "else:\n",
    "    Default Action\n",
    "```  \n",
    "Based condition the corresponding action will be executed."
   ]
  },
  {
   "cell_type": "code",
   "execution_count": 9,
   "metadata": {},
   "outputs": [
    {
     "name": "stdout",
     "output_type": "stream",
     "text": [
      "Enter your favourite brand : Puma\n",
      "It's another shoe brand\n"
     ]
    }
   ],
   "source": [
    "brand = input(\"Enter your favourite brand : \")\n",
    "if brand == 'Addidas':\n",
    "    print('It\\'s shoes brand')\n",
    "elif brand == 'Puma':\n",
    "    print('It\\'s another shoe brand')\n",
    "else:\n",
    "    print('You chose an unkown brand')"
   ]
  },
  {
   "cell_type": "markdown",
   "metadata": {},
   "source": [
    "**There is no switch statement in Python**  "
   ]
  },
  {
   "cell_type": "code",
   "execution_count": null,
   "metadata": {
    "scrolled": true
   },
   "outputs": [],
   "source": [
    "from pyswitch import Switch   # pyswitch can be found on PyPI\n",
    "\n",
    "myswitch = Switch()\n",
    "\n",
    "@myswitch.case(42)\n",
    "def case42(value):\n",
    "    print \"I got 42!\"\n",
    "\n",
    "@myswitch.case(range(10))\n",
    "def caseRange10(value):\n",
    "    print \"I got a number from 0-9, and it was %d!\" % value\n",
    "\n",
    "@myswitch.caseIn('lo')\n",
    "def caseLo(value):\n",
    "    print \"I got a string with 'lo' in it; it was '%s'\" % value\n",
    "\n",
    "@myswitch.caseRegEx(r'\\b([Pp]y\\w)\\b')\n",
    "def caseReExPy(matchOb):\n",
    "    print r\"I got a string that matched the regex '\\b[Pp]y\\w\\b', and the match was '%s'\" % matchOb.group(1)\n",
    "\n",
    "@myswitch.default\n",
    "def caseDefault(value):\n",
    "    print \"Hey, default handler here, with a value of %r.\" % value\n",
    "\n",
    "myswitch(5)  # prints: I got a number from 0-9, and it was 5!\n",
    "myswitch('foobar')  # prints: Hey, default handler here, with a value of foobar.\n",
    "myswitch('The word is Python')  # prints: I got a string that matched the regex '\\b[Pp]y\\w\\b', and the match was 'Python'"
   ]
  },
  {
   "cell_type": "code",
   "execution_count": 25,
   "metadata": {},
   "outputs": [],
   "source": [
    "def switch(x):\n",
    "    return {\n",
    "        1 : 'output for case 1',\n",
    "        2 : 'output for case 2',\n",
    "        3 : 'output for case 3'\n",
    "    }.get(x, 'default case')  "
   ]
  },
  {
   "cell_type": "code",
   "execution_count": 26,
   "metadata": {},
   "outputs": [
    {
     "data": {
      "text/plain": [
       "'default case'"
      ]
     },
     "execution_count": 26,
     "metadata": {},
     "output_type": "execute_result"
    }
   ],
   "source": [
    "f(5)"
   ]
  },
  {
   "cell_type": "code",
   "execution_count": 36,
   "metadata": {},
   "outputs": [
    {
     "data": {
      "text/plain": [
       "'output for case b'"
      ]
     },
     "execution_count": 36,
     "metadata": {},
     "output_type": "execute_result"
    }
   ],
   "source": [
    "choices = {'a': 'output for case a', 'b': 'output for case b'}\n",
    "#choices.get('key_name', 'default')\n",
    "choices.get('b', 'default')"
   ]
  },
  {
   "cell_type": "markdown",
   "metadata": {},
   "source": [
    "```C\n",
    "// C Language version of a simple 'switch/case'.\n",
    "switch( key ) \n",
    "{\n",
    "    case 'a' :\n",
    "        print('output for case 1')\n",
    "        break;\n",
    "    case 'b' :\n",
    "        print('output for case 1')\n",
    "        break;\n",
    "    default :\n",
    "        print('default')\n",
    "}\n",
    "```"
   ]
  },
  {
   "cell_type": "markdown",
   "metadata": {},
   "source": [
    "**Write a program to take a single digit number from the key board and print is value in English word?**  "
   ]
  },
  {
   "cell_type": "code",
   "execution_count": 37,
   "metadata": {},
   "outputs": [
    {
     "name": "stdout",
     "output_type": "stream",
     "text": [
      "Enter a digit from o to 9:7\n",
      "SEVEN\n"
     ]
    }
   ],
   "source": [
    "n=int(input(\"Enter a digit from o to 9:\"))\n",
    "if n==0 :\n",
    "    print(\"ZERO\")\n",
    "elif n==1:\n",
    "    print(\"ONE\")\n",
    "elif n==2:\n",
    "    print(\"TWO\")\n",
    "elif n==3:\n",
    "    print(\"THREE\")\n",
    "elif n==4:\n",
    "    print(\"FOUR\")\n",
    "elif n==5:\n",
    "    print(\"FIVE\")\n",
    "elif n==6:\n",
    "    print(\"SIX\")\n",
    "elif n==7:\n",
    "    print(\"SEVEN\")\n",
    "elif n==8:\n",
    "    print(\"EIGHT\")\n",
    "elif n==9:\n",
    "    print(\"NINE\")\n",
    "else:\n",
    "    print(\"PLEASE ENTER A DIGIT FROM 0 TO 9\") "
   ]
  },
  {
   "cell_type": "markdown",
   "metadata": {},
   "source": [
    "### Iterative Statements\n",
    "- If we want to execute a group of statements multiple times then we should go for Iterative statements.\n",
    "- Python supports 2 types of iterative statements.\n",
    "- **for loop**\n",
    "- **while loop**  \n",
    "  \n",
    "**for loop:**  \n",
    "- If we want to execute some action for every element present in some sequence(it may be string or collection)then we should go for 'for' loop.\n",
    "*Syntax:*   \n",
    "```python\n",
    "for x in sequence :\n",
    "    body\n",
    "```\n",
    "- where sequence can be string or any collection.\n",
    "- Body will be executed for every element present in the sequence  \n",
    "  \n",
    "**To print numbers from 1 to 10 by using while loop**  "
   ]
  },
  {
   "cell_type": "code",
   "execution_count": 43,
   "metadata": {},
   "outputs": [
    {
     "name": "stdout",
     "output_type": "stream",
     "text": [
      "1\n",
      "2\n",
      "3\n",
      "4\n",
      "5\n",
      "6\n",
      "7\n",
      "8\n",
      "9\n",
      "10\n"
     ]
    }
   ],
   "source": [
    "for i in range(1, 11):\n",
    "    print(i)"
   ]
  },
  {
   "cell_type": "markdown",
   "metadata": {},
   "source": [
    "**To print characters present in string index wise:**  "
   ]
  },
  {
   "cell_type": "code",
   "execution_count": 40,
   "metadata": {},
   "outputs": [
    {
     "name": "stdout",
     "output_type": "stream",
     "text": [
      "Enter Your Name: Ravinder Singh\n",
      "The character present at  0 index is : R\n",
      "The character present at  1 index is : a\n",
      "The character present at  2 index is : v\n",
      "The character present at  3 index is : i\n",
      "The character present at  4 index is : n\n",
      "The character present at  5 index is : d\n",
      "The character present at  6 index is : e\n",
      "The character present at  7 index is : r\n",
      "The character present at  8 index is :  \n",
      "The character present at  9 index is : S\n",
      "The character present at  10 index is : i\n",
      "The character present at  11 index is : n\n",
      "The character present at  12 index is : g\n",
      "The character present at  13 index is : h\n"
     ]
    }
   ],
   "source": [
    "s=input(\"Enter Your Name: \")\n",
    "i=0\n",
    "for x in s :\n",
    "    print(\"The character present at \",i,\"index is :\",x)\n",
    "    i=i+1 "
   ]
  },
  {
   "cell_type": "code",
   "execution_count": 41,
   "metadata": {},
   "outputs": [
    {
     "name": "stdout",
     "output_type": "stream",
     "text": [
      "Enter Your Name: Ravi Singh\n",
      "The character present at  0 index is : R\n",
      "The character present at  1 index is : a\n",
      "The character present at  2 index is : v\n",
      "The character present at  3 index is : i\n",
      "The character present at  4 index is :  \n",
      "The character present at  5 index is : S\n",
      "The character present at  6 index is : i\n",
      "The character present at  7 index is : n\n",
      "The character present at  8 index is : g\n",
      "The character present at  9 index is : h\n"
     ]
    }
   ],
   "source": [
    "s=input(\"Enter Your Name: \")\n",
    "for i, x in enumerate(s):\n",
    "    print(\"The character present at \",i,\"index is :\",x)"
   ]
  },
  {
   "cell_type": "markdown",
   "metadata": {},
   "source": [
    "**while loop:**  \n",
    "If we want to execute a group of statements iteratively until some condition false,then we\n",
    "should go for while loop.  \n",
    "*Syntax:*  \n",
    "```python\n",
    "while condition :\n",
    "    body\n",
    "```  \n",
    "**To print numbers from 1 to 10 by using while loop**  "
   ]
  },
  {
   "cell_type": "code",
   "execution_count": 42,
   "metadata": {},
   "outputs": [
    {
     "name": "stdout",
     "output_type": "stream",
     "text": [
      "1\n",
      "2\n",
      "3\n",
      "4\n",
      "5\n",
      "6\n",
      "7\n",
      "8\n",
      "9\n",
      "10\n"
     ]
    }
   ],
   "source": [
    "x=1\n",
    "while x <=10:\n",
    "    print(x)\n",
    "    x=x+1 "
   ]
  },
  {
   "cell_type": "markdown",
   "metadata": {},
   "source": [
    "**To display the sum of first n numbers**  "
   ]
  },
  {
   "cell_type": "code",
   "execution_count": 47,
   "metadata": {},
   "outputs": [
    {
     "name": "stdout",
     "output_type": "stream",
     "text": [
      "Enter value of n : 5\n",
      "15\n"
     ]
    }
   ],
   "source": [
    "n = int(input('Enter value of n : '))\n",
    "sum = 0\n",
    "i = 1\n",
    "while(i < n+1):\n",
    "    sum += i\n",
    "    i += 1\n",
    "print(sum)"
   ]
  },
  {
   "cell_type": "markdown",
   "metadata": {},
   "source": [
    "**Nested Loops:**  \n",
    "Sometimes we can take a loop inside another loop,which are also known as nested loops.  "
   ]
  },
  {
   "cell_type": "code",
   "execution_count": 1,
   "metadata": {
    "scrolled": true
   },
   "outputs": [
    {
     "name": "stdout",
     "output_type": "stream",
     "text": [
      "i= 0  j= 0\n",
      "i= 0  j= 1\n",
      "i= 0  j= 2\n",
      "i= 0  j= 3\n",
      "i= 1  j= 0\n",
      "i= 1  j= 1\n",
      "i= 1  j= 2\n",
      "i= 1  j= 3\n",
      "i= 2  j= 0\n",
      "i= 2  j= 1\n",
      "i= 2  j= 2\n",
      "i= 2  j= 3\n",
      "i= 3  j= 0\n",
      "i= 3  j= 1\n",
      "i= 3  j= 2\n",
      "i= 3  j= 3\n"
     ]
    }
   ],
   "source": [
    "for i in range(4):\n",
    "    for j in range(4):\n",
    "        print(\"i=\",i,\" j=\",j) "
   ]
  },
  {
   "cell_type": "markdown",
   "metadata": {},
   "source": [
    "**Write a program to dispaly *'s in Right angled triangled form**    \n",
    "<pre>\n",
    "*\n",
    "* *\n",
    "* * *\n",
    "* * * *\n",
    "* * * * *\n",
    "* * * * * *\n",
    "* * * * * * *\n",
    "</pre>"
   ]
  },
  {
   "cell_type": "code",
   "execution_count": 5,
   "metadata": {},
   "outputs": [
    {
     "name": "stdout",
     "output_type": "stream",
     "text": [
      "Enter number of rows:7\n",
      "* \n",
      "* * \n",
      "* * * \n",
      "* * * * \n",
      "* * * * * \n",
      "* * * * * * \n",
      "* * * * * * * \n"
     ]
    }
   ],
   "source": [
    "n = int(input(\"Enter number of rows:\")) \n",
    "for row in range(1, n+1):\n",
    "    for col in range(1, row+1):\n",
    "        print('*', end = \" \")\n",
    "    print()"
   ]
  },
  {
   "cell_type": "code",
   "execution_count": 14,
   "metadata": {},
   "outputs": [
    {
     "name": "stdout",
     "output_type": "stream",
     "text": [
      "Enter number of rows:7\n",
      "* \n",
      "* * \n",
      "* * * \n",
      "* * * * \n",
      "* * * * * \n",
      "* * * * * * \n",
      "* * * * * * * \n"
     ]
    }
   ],
   "source": [
    "n = int(input(\"Enter number of rows:\"))\n",
    "for i in range(1,n+1):\n",
    "    print('* '*i) "
   ]
  },
  {
   "cell_type": "markdown",
   "metadata": {},
   "source": [
    "** Write a program to display *'s in pyramid style(also known as equivalent triangle)**  \n",
    "<pre>\n",
    "      *\n",
    "     * *\n",
    "    * * *\n",
    "   * * * *\n",
    "  * * * * *\n",
    " * * * * * *\n",
    "* * * * * * *  \n",
    "</pre>"
   ]
  },
  {
   "cell_type": "code",
   "execution_count": 3,
   "metadata": {},
   "outputs": [
    {
     "name": "stdout",
     "output_type": "stream",
     "text": [
      "Enter number of rows:7\n",
      "            * \n",
      "          * * * \n",
      "        * * * * * \n",
      "      * * * * * * * \n",
      "    * * * * * * * * * \n",
      "  * * * * * * * * * * * \n",
      "* * * * * * * * * * * * * \n"
     ]
    }
   ],
   "source": [
    "n = int(input(\"Enter number of rows:\")) \n",
    "for row in range(1, n+1):\n",
    "    k=0\n",
    "    for space in range(1, n-row+1):\n",
    "        print(' ', end = \" \")\n",
    "    while(k != 2*row-1):\n",
    "        print('*', end = \" \")\n",
    "        k+=1\n",
    "    print()"
   ]
  },
  {
   "cell_type": "code",
   "execution_count": 4,
   "metadata": {},
   "outputs": [
    {
     "name": "stdout",
     "output_type": "stream",
     "text": [
      "Enter number of rows:7\n",
      "      * \n",
      "     * * \n",
      "    * * * \n",
      "   * * * * \n",
      "  * * * * * \n",
      " * * * * * * \n",
      "* * * * * * * \n"
     ]
    }
   ],
   "source": [
    "n = int(input(\"Enter number of rows:\"))\n",
    "for i in range(1,n+1):\n",
    "    print(\" \" * (n-i),end=\"\")\n",
    "    print(\"* \"*i) "
   ]
  },
  {
   "cell_type": "markdown",
   "metadata": {},
   "source": [
    "### Transfer Statements/ Jumping Statements\n",
    "**break:**  \n",
    "We can use break statement inside loops to break loop execution based on some\n",
    "condition.  "
   ]
  },
  {
   "cell_type": "code",
   "execution_count": 8,
   "metadata": {},
   "outputs": [
    {
     "name": "stdout",
     "output_type": "stream",
     "text": [
      "0\n",
      "1\n",
      "2\n",
      "3\n",
      "4\n",
      "5\n",
      "6\n",
      "value of i = 7, break\n"
     ]
    }
   ],
   "source": [
    "for i in range(10):\n",
    "    if i==7:\n",
    "        print(\"value of i = 7, break\")\n",
    "        break\n",
    "    print(i) "
   ]
  },
  {
   "cell_type": "code",
   "execution_count": 9,
   "metadata": {},
   "outputs": [
    {
     "name": "stdout",
     "output_type": "stream",
     "text": [
      "10\n",
      "20\n",
      "To place this order insurence must be required\n"
     ]
    }
   ],
   "source": [
    "cart=[10,20,600,60,70]\n",
    "for item in cart:\n",
    "    if item>500:\n",
    "        print(\"To place this order insurence must be required\")\n",
    "        break\n",
    "    print(item) "
   ]
  },
  {
   "cell_type": "markdown",
   "metadata": {},
   "source": [
    "**continue:**  \n",
    "We can use continue statement to skip current iteration and continue next iteration.  "
   ]
  },
  {
   "cell_type": "code",
   "execution_count": 10,
   "metadata": {},
   "outputs": [
    {
     "name": "stdout",
     "output_type": "stream",
     "text": [
      "1\n",
      "3\n",
      "5\n",
      "7\n",
      "9\n"
     ]
    }
   ],
   "source": [
    "for i in range(10):\n",
    "    if i%2==0:\n",
    "        continue\n",
    "    print(i) "
   ]
  },
  {
   "cell_type": "code",
   "execution_count": 11,
   "metadata": {},
   "outputs": [
    {
     "name": "stdout",
     "output_type": "stream",
     "text": [
      "10\n",
      "20\n",
      "We cannot process this item : 500\n",
      "We cannot process this item : 700\n",
      "50\n",
      "60\n"
     ]
    }
   ],
   "source": [
    "cart=[10,20,500,700,50,60]\n",
    "for item in cart:\n",
    "    if item>=500:\n",
    "        print(\"We cannot process this item :\",item)\n",
    "        continue\n",
    "    print(item) "
   ]
  },
  {
   "cell_type": "markdown",
   "metadata": {},
   "source": [
    "**What is the difference between for loop and while loop in Python?**  \n",
    "- Repeat code for every item in sequence ==>for loop\n",
    "- Repeat code as long as condition is true ==>while loop  \n",
    "  \n",
    "**How to exit from the loop?**  \n",
    "- by using break statement  \n",
    "  \n",
    "**How to skip some iterations inside loop?**  \n",
    "- by using continue statement  \n",
    "  \n",
    "**When else part will be executed wrt loops?**  \n",
    "- If loop executed without break  \n",
    "  \n",
    "**pass statement:**  \n",
    "- pass is a keyword in Python.\n",
    "- In our programming syntactically if block is required which won't do anything then we can\n",
    "define that empty block with pass keyword.\n",
    "- It is an empty statement\n",
    "- It is null statement\n",
    "- It won't do anything"
   ]
  },
  {
   "cell_type": "code",
   "execution_count": 12,
   "metadata": {},
   "outputs": [],
   "source": [
    "def m1(): \n",
    "    #do nothing\n",
    "    pass"
   ]
  },
  {
   "cell_type": "markdown",
   "metadata": {},
   "source": [
    "**use case of pass:**  \n",
    "Sometimes in the parent class we have to declare a function with empty body and child\n",
    "class responsible to provide proper implementation. Such type of empty body we can\n",
    "define by using pass keyword. (It is something like abstract method in java)"
   ]
  },
  {
   "cell_type": "code",
   "execution_count": 13,
   "metadata": {},
   "outputs": [
    {
     "name": "stdout",
     "output_type": "stream",
     "text": [
      "0\n",
      "9\n",
      "18\n",
      "27\n",
      "36\n",
      "45\n",
      "54\n",
      "63\n",
      "72\n",
      "81\n",
      "90\n",
      "99\n"
     ]
    }
   ],
   "source": [
    "for i in range(100):\n",
    "    if i%9==0:\n",
    "        print(i)\n",
    "    else:\n",
    "        pass"
   ]
  },
  {
   "cell_type": "markdown",
   "metadata": {},
   "source": [
    "**del statement:**  \n",
    "- del is a keyword in Python.\n",
    "- After using a variable, it is highly recommended to delete that variable if it is no longer\n",
    "required,so that the corresponding object is eligible for Garbage Collection.\n",
    "- We can delete variable by using del keyword.  "
   ]
  },
  {
   "cell_type": "code",
   "execution_count": 14,
   "metadata": {},
   "outputs": [
    {
     "name": "stdout",
     "output_type": "stream",
     "text": [
      "10\n"
     ]
    },
    {
     "ename": "NameError",
     "evalue": "name 'x' is not defined",
     "output_type": "error",
     "traceback": [
      "\u001b[1;31m---------------------------------------------------------------------------\u001b[0m",
      "\u001b[1;31mNameError\u001b[0m                                 Traceback (most recent call last)",
      "\u001b[1;32m<ipython-input-14-e06b3d0b4de8>\u001b[0m in \u001b[0;36m<module>\u001b[1;34m\u001b[0m\n\u001b[0;32m      2\u001b[0m \u001b[0mprint\u001b[0m\u001b[1;33m(\u001b[0m\u001b[0mx\u001b[0m\u001b[1;33m)\u001b[0m\u001b[1;33m\u001b[0m\u001b[1;33m\u001b[0m\u001b[0m\n\u001b[0;32m      3\u001b[0m \u001b[1;32mdel\u001b[0m \u001b[0mx\u001b[0m\u001b[1;33m\u001b[0m\u001b[1;33m\u001b[0m\u001b[0m\n\u001b[1;32m----> 4\u001b[1;33m \u001b[0mprint\u001b[0m\u001b[1;33m(\u001b[0m\u001b[0mx\u001b[0m\u001b[1;33m)\u001b[0m\u001b[1;33m\u001b[0m\u001b[1;33m\u001b[0m\u001b[0m\n\u001b[0m",
      "\u001b[1;31mNameError\u001b[0m: name 'x' is not defined"
     ]
    }
   ],
   "source": [
    "x=10\n",
    "print(x)\n",
    "del x \n",
    "print(x)"
   ]
  },
  {
   "cell_type": "markdown",
   "metadata": {},
   "source": [
    "**Note:**  \n",
    "We can delete variables which are pointing to immutable objects.But we cannot delete\n",
    "the elements present inside immutable object."
   ]
  },
  {
   "cell_type": "code",
   "execution_count": 15,
   "metadata": {},
   "outputs": [
    {
     "name": "stdout",
     "output_type": "stream",
     "text": [
      "durga\n",
      "durga\n"
     ]
    },
    {
     "ename": "TypeError",
     "evalue": "'str' object doesn't support item deletion",
     "output_type": "error",
     "traceback": [
      "\u001b[1;31m---------------------------------------------------------------------------\u001b[0m",
      "\u001b[1;31mTypeError\u001b[0m                                 Traceback (most recent call last)",
      "\u001b[1;32m<ipython-input-15-d351d0a548fd>\u001b[0m in \u001b[0;36m<module>\u001b[1;34m\u001b[0m\n\u001b[0;32m      4\u001b[0m \u001b[0ms\u001b[0m\u001b[1;33m=\u001b[0m\u001b[1;34m\"durga\"\u001b[0m\u001b[1;33m\u001b[0m\u001b[1;33m\u001b[0m\u001b[0m\n\u001b[0;32m      5\u001b[0m \u001b[0mprint\u001b[0m\u001b[1;33m(\u001b[0m\u001b[0ms\u001b[0m\u001b[1;33m)\u001b[0m\u001b[1;33m\u001b[0m\u001b[1;33m\u001b[0m\u001b[0m\n\u001b[1;32m----> 6\u001b[1;33m \u001b[1;32mdel\u001b[0m \u001b[0ms\u001b[0m\u001b[1;33m[\u001b[0m\u001b[1;36m0\u001b[0m\u001b[1;33m]\u001b[0m \u001b[1;31m# invalid\u001b[0m\u001b[1;33m\u001b[0m\u001b[1;33m\u001b[0m\u001b[0m\n\u001b[0m",
      "\u001b[1;31mTypeError\u001b[0m: 'str' object doesn't support item deletion"
     ]
    }
   ],
   "source": [
    "s=\"durga\"\n",
    "print(s)\n",
    "del s # valid\n",
    "s=\"durga\"\n",
    "print(s)\n",
    "del s[0] # invalid"
   ]
  },
  {
   "cell_type": "markdown",
   "metadata": {},
   "source": [
    "**Difference between del and None:**  \n",
    "- In the case del, the variable will be removed and we cannot access that variable(unbind\n",
    "operation)  \n",
    "- But in the case of None assignment the variable won't be removed but the corresponding\n",
    "object is eligible for Garbage Collection(re bind operation). Hence after assigning with\n",
    "None value,we can access that variable.  \n",
    "# String\n",
    "- The most commonly used object in any project and in any programming language is String only.\n",
    "- Hence we should aware complete information about String data type.  \n",
    "- This tutorial focuses on common problems involving text\n",
    "manipulation, such as pulling apart strings, searching, substitution, lexing, and parsing.\n",
    "- Many of these tasks can be easily solved using built-in methods of strings. However,\n",
    "more complicated operations might require the use of regular expressions or the cre‐\n",
    "ation of a full-fledged parser. All of these topics are covered.   \n",
    "> Any sequence of characters within either single quotes or double quotes is considered as a String.  \n"
   ]
  },
  {
   "cell_type": "code",
   "execution_count": 16,
   "metadata": {},
   "outputs": [
    {
     "name": "stdout",
     "output_type": "stream",
     "text": [
      "<class 'str'>\n",
      "<class 'str'>\n"
     ]
    }
   ],
   "source": [
    "s1='durga'\n",
    "s2=\"durga\"\n",
    "print(type(s1))\n",
    "print(type(s2))"
   ]
  },
  {
   "cell_type": "markdown",
   "metadata": {},
   "source": [
    "**Note:** In most of other languges like C, C++,Java, a single character with in single quotes is treated\n",
    "as char data type value. But in Python we are not having char data type.Hence it is treated as\n",
    "String only"
   ]
  },
  {
   "cell_type": "markdown",
   "metadata": {},
   "source": [
    "**define multi-line String literals:**  \n",
    "We can define multi-line String literals by using triple single or double quotes.  \n",
    "Eg:  \n",
    "```python\n",
    ">>> s='''I'm \n",
    "Ravinder \n",
    "singh  \n",
    "```  \n",
    "  \n",
    "**How to access characters of a String:**  \n",
    "We can access characters of a string by using the following ways.  \n",
    "1. By using index  \n",
    "2. By using slice operator   \n",
    "**1. By using index:**  \n",
    "- Python supports both +ve and -ve index.\n",
    "- positive index means left to right(Forward direction)\n",
    "- negative index means right to left(Backward direction)"
   ]
  },
  {
   "cell_type": "code",
   "execution_count": 20,
   "metadata": {},
   "outputs": [
    {
     "name": "stdout",
     "output_type": "stream",
     "text": [
      "R a v i\n",
      "i v a R\n"
     ]
    }
   ],
   "source": [
    "s = 'Ravi'\n",
    "print(s[0], s[1], s[2], s[3])\n",
    "print(s[-1],s[-2], s[-3], s[-4])"
   ]
  },
  {
   "cell_type": "markdown",
   "metadata": {},
   "source": [
    "**Note:** If we are trying to access characters of a string with out of range index then we will get\n",
    "error saying : IndexError  \n",
    "**Write a program to accept some string from the keyboard and display its characters by\n",
    "index wise(both positive and nEgative index)**  "
   ]
  },
  {
   "cell_type": "code",
   "execution_count": 22,
   "metadata": {},
   "outputs": [
    {
     "name": "stdout",
     "output_type": "stream",
     "text": [
      "Enter Some String:RAVI\n",
      "The character present at Positive index 0 and at Negative index -4 is R\n",
      "The character present at Positive index 1 and at Negative index -3 is A\n",
      "The character present at Positive index 2 and at Negative index -2 is V\n",
      "The character present at Positive index 3 and at Negative index -1 is I\n"
     ]
    }
   ],
   "source": [
    "s=input(\"Enter Some String:\")\n",
    "i=0\n",
    "for x in s:\n",
    "    print(\"The character present at Positive index {} and at Negative index {} is {}\".format(i,i-len(s),x))\n",
    "    i=i+1 "
   ]
  },
  {
   "cell_type": "markdown",
   "metadata": {},
   "source": [
    "**Accessing characters by using slice operator:**  \n",
    "```python\n",
    "str[Begin_index:end_index:step]\n",
    "```  \n",
    "  \n",
    "**Note:** If we are not specifying begin index then it will consider from beginning of the string.\n",
    "If we are not specifying end index then it will consider up to end of the string\n",
    "The default value for step is 1\n"
   ]
  },
  {
   "cell_type": "code",
   "execution_count": 6,
   "metadata": {},
   "outputs": [
    {
     "name": "stdout",
     "output_type": "stream",
     "text": [
      "Learning\n",
      "Python is very very easy!!!\n",
      "Lann\n",
      "!!!ysae yrev yrev si nohtyP gninraeL\n"
     ]
    }
   ],
   "source": [
    "s=\"Learning Python is very very easy!!!\"\n",
    "print(s[0:8:1])\n",
    "print(s[9::1])\n",
    "print(s[0:8:2])\n",
    "print(s[::-1])"
   ]
  },
  {
   "cell_type": "markdown",
   "metadata": {},
   "source": [
    "**Behaviour of slice operator:**  \n",
    "  \n",
    "- step value can be either +ve or –ve  \n",
    "- if +ve then it should be forward direction(left to right) and we have to consider bEgin to end-1   \n",
    "- if -ve then it should be backward direction(right to left) and we have to consider bEgin to end+1  \n",
    "  \n",
    "**Mathematical Operators for String:**  \n",
    "We can apply the following mathematical operators for Strings.\n",
    "1. + operator for concatenation\n",
    "2. * operator for repetition\n",
    "\n",
    "Note:\n",
    "1. To use + operator for Strings, compulsory both arguments should be str type\n",
    "2. To use * operator for Strings, compulsory one argument should be str and other argument should be int"
   ]
  },
  {
   "cell_type": "code",
   "execution_count": 8,
   "metadata": {},
   "outputs": [
    {
     "name": "stdout",
     "output_type": "stream",
     "text": [
      "Ravinder Singh\n",
      "Ravinder Ravinder \n"
     ]
    }
   ],
   "source": [
    "print(\"Ravinder\" + \" \" + \"Singh\") \n",
    "print(\"Ravinder \"*2) "
   ]
  },
  {
   "cell_type": "markdown",
   "metadata": {},
   "source": [
    "**len() in-built function:**  \n",
    "We can use len() function to find the number of characters present in the string."
   ]
  },
  {
   "cell_type": "code",
   "execution_count": 9,
   "metadata": {},
   "outputs": [
    {
     "name": "stdout",
     "output_type": "stream",
     "text": [
      "36\n"
     ]
    }
   ],
   "source": [
    "print(len(s))"
   ]
  },
  {
   "cell_type": "markdown",
   "metadata": {},
   "source": [
    "**Checking Membership:**  \n",
    "We can check whether the character or string is the member of another string or not by using in\n",
    "and not in operators\n"
   ]
  },
  {
   "cell_type": "code",
   "execution_count": 10,
   "metadata": {},
   "outputs": [
    {
     "name": "stdout",
     "output_type": "stream",
     "text": [
      "True\n",
      "False\n"
     ]
    }
   ],
   "source": [
    "s='Ravinder'\n",
    "print('d' in s) \n",
    "print('z' in s) "
   ]
  },
  {
   "cell_type": "markdown",
   "metadata": {},
   "source": [
    "**Comparison of Strings:**  \n",
    "We can use comparison operators (<,<=,>,>=) and equality operators(==,!=) for strings.\n",
    "Comparison will be performed based on alphabetical order.     "
   ]
  },
  {
   "cell_type": "code",
   "execution_count": 12,
   "metadata": {},
   "outputs": [
    {
     "name": "stdout",
     "output_type": "stream",
     "text": [
      "Enter first string:Ravinder\n",
      "Enter Second string:Ravinder\n",
      "Both strings are equal\n"
     ]
    }
   ],
   "source": [
    "s1=input(\"Enter first string:\")\n",
    "s2=input(\"Enter Second string:\")\n",
    "if s1==s2:\n",
    "    print(\"Both strings are equal\")\n",
    "elif s1<s2:\n",
    "    print(\"First String is less than Second String\")\n",
    "else:\n",
    "    print(\"First String is greater than Second String\")"
   ]
  },
  {
   "cell_type": "markdown",
   "metadata": {},
   "source": [
    "**Removing spaces from the string:**  \n",
    "We can use the following 3 methods:  \n",
    "   \n",
    "| functions | Descrip                             |\n",
    "|-----------|-------------------------------------|\n",
    "| rstrip()  | To remove spaces at right hand side |\n",
    "| strip()   | To remove spaces at left hand side  |\n",
    "| lstrip()  | To remove spaces both sides         |   \n",
    "  "
   ]
  },
  {
   "cell_type": "code",
   "execution_count": 5,
   "metadata": {},
   "outputs": [
    {
     "name": "stdout",
     "output_type": "stream",
     "text": [
      "Hello   World!\n",
      "Hello   World!  \n",
      "  Hello   World!\n"
     ]
    }
   ],
   "source": [
    "st = '  Hello   World!  '\n",
    "print(st.strip())\n",
    "print(st.lstrip())\n",
    "print(st.rstrip())"
   ]
  },
  {
   "cell_type": "markdown",
   "metadata": {},
   "source": [
    "### Finding Substrings:\n",
    "We can use the following 4 methods  \n",
    "**For forward direction:**  \n",
    "- find()\n",
    "- index()  \n",
    "**For backward direction:**  \n",
    "- rfind()\n",
    "- rindex()  \n",
    "  \n",
    "**1. find():**  \n",
    "```python\n",
    "s.find(substring)  \n",
    "```\n",
    "Returns index of first occurrence of the given substring. If it is not available then we will get -1\n"
   ]
  },
  {
   "cell_type": "code",
   "execution_count": 6,
   "metadata": {},
   "outputs": [
    {
     "name": "stdout",
     "output_type": "stream",
     "text": [
      "9\n",
      "-1\n",
      "3\n",
      "21\n"
     ]
    }
   ],
   "source": [
    "s=\"Learning Python is very easy\" \n",
    "print(s.find(\"Python\")) #9\n",
    "print(s.find(\"Java\")) # -1\n",
    "print(s.find(\"r\"))#3\n",
    "print(s.rfind(\"r\"))#21 "
   ]
  },
  {
   "cell_type": "markdown",
   "metadata": {},
   "source": [
    "**Note:** By default find() method can search total string. We can also specify the boundaries to\n",
    "search.  \n",
    "```python\n",
    "s.find(substring,begin,end)\n",
    "```  \n",
    "It will always search from bEgin index to end-1 index"
   ]
  },
  {
   "cell_type": "code",
   "execution_count": 8,
   "metadata": {},
   "outputs": [
    {
     "name": "stdout",
     "output_type": "stream",
     "text": [
      "3\n",
      "9\n",
      "-1\n"
     ]
    }
   ],
   "source": [
    "s=\"RavinderSingh\"\n",
    "print(s.find('i'))#3\n",
    "print(s.find('i',4,12))#9\n",
    "print(s.find('z',7,15))#-1 "
   ]
  },
  {
   "cell_type": "markdown",
   "metadata": {},
   "source": [
    "**index() method:**  \n",
    "index() method is exactly same as find() method except that if the specified substring is not\n",
    "available then we will get ValueError.  \n"
   ]
  },
  {
   "cell_type": "code",
   "execution_count": 9,
   "metadata": {},
   "outputs": [
    {
     "name": "stdout",
     "output_type": "stream",
     "text": [
      "Enter main string:learning python is very easy\n",
      "Enter sub string:python\n",
      "substring found\n"
     ]
    }
   ],
   "source": [
    "s=input(\"Enter main string:\")\n",
    "subs=input(\"Enter sub string:\")\n",
    "try:\n",
    "    n=s.index(subs)\n",
    "except ValueError:\n",
    "    print(\"substring not found\")\n",
    "else:\n",
    "    print(\"substring found\")"
   ]
  },
  {
   "cell_type": "markdown",
   "metadata": {},
   "source": [
    "**Program to display all positions of substring in a given main string**  "
   ]
  },
  {
   "cell_type": "code",
   "execution_count": 11,
   "metadata": {},
   "outputs": [
    {
     "name": "stdout",
     "output_type": "stream",
     "text": [
      "Enter main string:abbababababbacdefgbb\n",
      "Enter sub string:bb\n",
      "Found at position 1\n",
      "Found at position 10\n",
      "Found at position 18\n"
     ]
    }
   ],
   "source": [
    "s=input(\"Enter main string:\")\n",
    "subs=input(\"Enter sub string:\")\n",
    "\n",
    "flag=False\n",
    "pos=-1\n",
    "n=len(s)\n",
    "\n",
    "while True:\n",
    "    pos=s.find(subs,pos+1,n)\n",
    "    if pos==-1:\n",
    "        break\n",
    "    print(\"Found at position\",pos)\n",
    "    flag=True\n",
    "if flag==False:\n",
    "    print(\"Not Found\") "
   ]
  },
  {
   "cell_type": "markdown",
   "metadata": {},
   "source": [
    "**Counting substring in the given String:**  \n",
    "We can find the number of occurrences of substring present in the given string by using count()\n",
    "method.  \n",
    "1. s.count(substring) ==> It will search through out the string\n",
    "2. s.count(substring, bEgin, end) ===> It will search from bEgin index to end-1 index"
   ]
  },
  {
   "cell_type": "code",
   "execution_count": 12,
   "metadata": {},
   "outputs": [
    {
     "name": "stdout",
     "output_type": "stream",
     "text": [
      "6\n",
      "4\n",
      "2\n"
     ]
    }
   ],
   "source": [
    "s=\"abcabcabcabcadda\"\n",
    "print(s.count('a'))\n",
    "print(s.count('ab'))\n",
    "print(s.count('a',3,7)) "
   ]
  },
  {
   "cell_type": "markdown",
   "metadata": {},
   "source": [
    "**Replacing a string with another string:**  \n",
    "```python\n",
    "s.replace(oldstring,newstring)\n",
    "```\n",
    "inside s, every occurrence of oldstring will be replaced with newstring  "
   ]
  },
  {
   "cell_type": "code",
   "execution_count": 13,
   "metadata": {},
   "outputs": [
    {
     "name": "stdout",
     "output_type": "stream",
     "text": [
      "Learning Python is very easy\n"
     ]
    }
   ],
   "source": [
    "s=\"Learning Python is very difficult\"\n",
    "s1=s.replace(\"difficult\",\"easy\")\n",
    "print(s1)"
   ]
  },
  {
   "cell_type": "code",
   "execution_count": 13,
   "metadata": {},
   "outputs": [
    {
     "name": "stdout",
     "output_type": "stream",
     "text": [
      "bbbbbbbbbbbbbb\n"
     ]
    }
   ],
   "source": [
    "s=\"ababababababab\"\n",
    "s1=s.replace(\"a\",\"b\")\n",
    "print(s1)"
   ]
  },
  {
   "cell_type": "markdown",
   "metadata": {},
   "source": [
    "**Q. String objects are immutable then how we can change the content by\n",
    "using replace() method.**  \n",
    "- Once we creates string object, we cannot change the content.This non changeable behaviour is\n",
    "nothing but immutability. If we are trying to change the content by using any method, then with\n",
    "those changes a new object will be created and changes won't be happend in existing object.\n",
    "- Hence with replace() method also a new object got created but existing object won't be changed."
   ]
  },
  {
   "cell_type": "code",
   "execution_count": 15,
   "metadata": {},
   "outputs": [
    {
     "name": "stdout",
     "output_type": "stream",
     "text": [
      "abab is available at : 2474481223696\n",
      "bbbb is available at : 2474481224592\n"
     ]
    }
   ],
   "source": [
    "s=\"abab\"\n",
    "print(s,\"is available at :\",id(s))\n",
    "s=s.replace(\"a\",\"b\")\n",
    "print(s1,\"is available at :\",id(s1))"
   ]
  },
  {
   "cell_type": "markdown",
   "metadata": {},
   "source": [
    "**Splitting of Strings:**  \n",
    "- We can split the given string according to specified seperator by using split() method.\n",
    "l=s.split(seperator)  \n",
    "- The default seperator is space. The return type of split() method is List\n"
   ]
  },
  {
   "cell_type": "code",
   "execution_count": 18,
   "metadata": {},
   "outputs": [
    {
     "name": "stdout",
     "output_type": "stream",
     "text": [
      "Ravinder\n",
      "Singh\n",
      "Tutorials\n"
     ]
    }
   ],
   "source": [
    "s=\"Ravinder Singh Tutorials\"\n",
    "l=s.split()\n",
    "for x in l:\n",
    "    print(x) "
   ]
  },
  {
   "cell_type": "code",
   "execution_count": 19,
   "metadata": {},
   "outputs": [
    {
     "name": "stdout",
     "output_type": "stream",
     "text": [
      "23\n",
      "04\n",
      "109\n"
     ]
    }
   ],
   "source": [
    "s=\"23-04-109\"\n",
    "l=s.split('-')\n",
    "for x in l:\n",
    "    print(x)"
   ]
  },
  {
   "cell_type": "markdown",
   "metadata": {},
   "source": [
    "**Joining of Strings**  \n",
    "- We can join a group of strings(list or tuple) wrt the given seperator.\n",
    "```python\n",
    "s=seperator.join(group of strings)\n",
    "```"
   ]
  },
  {
   "cell_type": "code",
   "execution_count": 20,
   "metadata": {},
   "outputs": [
    {
     "name": "stdout",
     "output_type": "stream",
     "text": [
      "sunny bunny money\n"
     ]
    }
   ],
   "source": [
    "t=('sunny','bunny','money')\n",
    "s=' '.join(t)\n",
    "print(s)"
   ]
  },
  {
   "cell_type": "code",
   "execution_count": 21,
   "metadata": {},
   "outputs": [
    {
     "name": "stdout",
     "output_type": "stream",
     "text": [
      "hyderabad, singapore, london, dubai\n"
     ]
    }
   ],
   "source": [
    "l=['hyderabad','singapore','london','dubai']\n",
    "s=', '.join(l)\n",
    "print(s)"
   ]
  },
  {
   "cell_type": "markdown",
   "metadata": {},
   "source": [
    "**Changing case of a String:**  \n",
    "We can change case of a string by using the following 4 methods.\n",
    "1. **upper()**  ===>To convert all characters to upper case\n",
    "2. **lower()**  ===>To convert all characters to lower case\n",
    "3. **swapcase()**  ===>converts all lower case characters to upper case and all upper case characters to\n",
    "lower case\n",
    "4. **title()**  ===>To convert all character to title case. i.e first character in every word should be upper\n",
    "case and all remaining characters should be in lower case.\n",
    "5. **capitalize()**  ==>Only first character will be converted to upper case and all remaining characters\n",
    "can be converted to lower case \n"
   ]
  },
  {
   "cell_type": "code",
   "execution_count": 22,
   "metadata": {},
   "outputs": [
    {
     "name": "stdout",
     "output_type": "stream",
     "text": [
      "LEARNING PYTHON IS VERY EASY\n",
      "learning python is very easy\n",
      "LEARNING pYTHON IS VERY eASY\n",
      "Learning Python Is Very Easy\n",
      "Learning python is very easy\n"
     ]
    }
   ],
   "source": [
    "s='learning Python is very Easy'\n",
    "print(s.upper())\n",
    "print(s.lower())\n",
    "print(s.swapcase())\n",
    "print(s.title())\n",
    "print(s.capitalize())"
   ]
  },
  {
   "cell_type": "markdown",
   "metadata": {},
   "source": [
    "**Checking starting and ending part of the string:**  \n",
    "Python contains the following methods for this purpose\n",
    "1. s.startswith(substring)\n",
    "2. s.endswith(substring)"
   ]
  },
  {
   "cell_type": "code",
   "execution_count": 23,
   "metadata": {},
   "outputs": [
    {
     "name": "stdout",
     "output_type": "stream",
     "text": [
      "True\n",
      "False\n",
      "True\n"
     ]
    }
   ],
   "source": [
    "s='learning Python is very easy'\n",
    "print(s.startswith('learning'))\n",
    "print(s.endswith('learning'))\n",
    "print(s.endswith('easy'))"
   ]
  },
  {
   "cell_type": "markdown",
   "metadata": {},
   "source": [
    "**To check type of characters present in a string:**  \n",
    "Python contains the following methods for this purpose.  \n",
    "1. **isalnum():** Returns True if all characters are alphanumeric( a to z , A to Z ,0 to9 )  \n",
    "2. **isalpha():** Returns True if all characters are only alphabet symbols(a to z,A to Z)  \n",
    "3. **isdigit():** Returns True if all characters are digits only( 0 to 9)  \n",
    "4. **islower():** Returns True if all characters are lower case alphabet symbols  \n",
    "5. **isupper():** Returns True if all characters are upper case aplhabet symbols  \n",
    "6. **istitle():** Returns True if string is in title case  \n",
    "7. **isspace():** Returns True if string contains only spaces  "
   ]
  },
  {
   "cell_type": "code",
   "execution_count": 25,
   "metadata": {},
   "outputs": [
    {
     "name": "stdout",
     "output_type": "stream",
     "text": [
      "True\n",
      "False\n",
      "True\n",
      "False\n",
      "True\n",
      "True\n",
      "False\n",
      "True\n",
      "True\n",
      "False\n",
      "True\n",
      "True\n"
     ]
    }
   ],
   "source": [
    "print('Ravi9582'.isalnum()) #True\n",
    "print('ravi786'.isalpha()) #False\n",
    "print('ravi'.isalpha()) #True\n",
    "print('ravi'.isdigit()) #False\n",
    "print('786786'.isdigit()) #True\n",
    "print('abc'.islower()) #True\n",
    "print('Abc'.islower()) #False\n",
    "print('abc123'.islower()) #True\n",
    "print('ABC'.isupper()) #True\n",
    "print('Learning python is Easy'.istitle()) #False\n",
    "print('Learning Python Is Easy'.istitle()) #True\n",
    "print(' '.isspace()) #True"
   ]
  },
  {
   "cell_type": "markdown",
   "metadata": {},
   "source": [
    "**Formatting the Strings:**  \n",
    "We can format the strings with variable values by using replacement operator {} and format()\n",
    "method.  \n",
    "**Case- 1: Basic Formatting for default, positional and keyword arguments**"
   ]
  },
  {
   "cell_type": "code",
   "execution_count": 29,
   "metadata": {},
   "outputs": [
    {
     "name": "stdout",
     "output_type": "stream",
     "text": [
      "Ravi's salary is 100000 and his age is 50\n",
      "Ravi's salary is 100000 and his age is 50\n",
      "Ravi's age is 50 and his salary is 100000\n",
      "Ravi's salary is 100000 and his age is 50\n"
     ]
    }
   ],
   "source": [
    "name='Ravi'\n",
    "salary=100000\n",
    "age=50\n",
    "print(\"{}'s salary is {} and his age is {}\".format(name,salary,age))\n",
    "print(\"{0}'s salary is {1} and his age is {2}\".format(name,salary,age))\n",
    "print(\"{0}'s age is {2} and his salary is {1}\".format(name,salary,age))\n",
    "print(\"{x}'s salary is {y} and his age is {z}\".format(z=age,y=salary,x=name))"
   ]
  },
  {
   "cell_type": "markdown",
   "metadata": {},
   "source": [
    "**Case-2: Formatting Numbers**  \n",
    "d--->Decimal IntEger  \n",
    "f----->Fixed point number(float).The default precision is 6  \n",
    "b-->Binary format  \n",
    "o--->Octal Format  \n",
    "x-->Hexa Decimal Format(Lower case)  \n",
    "X-->Hexa Decimal Format(Upper case)  "
   ]
  },
  {
   "cell_type": "code",
   "execution_count": 24,
   "metadata": {},
   "outputs": [
    {
     "name": "stdout",
     "output_type": "stream",
     "text": [
      "The intEger number is: 123\n",
      "The intEger number is: 123\n",
      "The intEger number is: 123.000000\n",
      "The intEger number is: 123.23\n",
      "The intEger number is: 1111011\n",
      "The intEger number is: 173\n",
      "The intEger number is: 7B\n",
      "The intEger number is: 7b\n"
     ]
    }
   ],
   "source": [
    "print(\"The intEger number is: {}\".format(123))\n",
    "print(\"The intEger number is: {:d}\".format(123))\n",
    "print(\"The intEger number is: {:f}\".format(123))\n",
    "print(\"The intEger number is: {:.2f}\".format(123.234235))\n",
    "print(\"The intEger number is: {:b}\".format(123))\n",
    "print(\"The intEger number is: {:o}\".format(123))\n",
    "print(\"The intEger number is: {:X}\".format(123))\n",
    "print(\"The intEger number is: {:x}\".format(123))"
   ]
  },
  {
   "cell_type": "markdown",
   "metadata": {},
   "source": [
    "**Case 4 : Padding**  "
   ]
  },
  {
   "cell_type": "code",
   "execution_count": 40,
   "metadata": {},
   "outputs": [
    {
     "name": "stdout",
     "output_type": "stream",
     "text": [
      "The intEger number is: 124563\n",
      "The intEger number is:    124563\n",
      "The float number is: 123.456700\n",
      "The float number is: 0123.457\n",
      "The float number is: 0003.470\n",
      "The float number is:    3.470\n"
     ]
    }
   ],
   "source": [
    "print(\"The intEger number is: {:5d}\".format(124563))\n",
    "print(\"The intEger number is: {:9d}\".format(124563))\n",
    "print(\"The float number is: {:8f}\".format(123.4567))\n",
    "print(\"The float number is: {:08.3f}\".format(123.4567))\n",
    "print(\"The float number is: {:08.3f}\".format(3.47))\n",
    "print(\"The float number is: {:8.3f}\".format(3.47))"
   ]
  },
  {
   "cell_type": "markdown",
   "metadata": {},
   "source": [
    "**{:08.3f}**\n",
    "- Total positions should be minimum 8.\n",
    "- After decimal point exactly 3 digits are allowed.If it is less then 0s will be placed in the last\n",
    "positions\n",
    "- If total number is < 8 positions then 0 will be placed in MSBs\n",
    "- If total number is >8 positions then all integral digits will be considered.\n",
    "- The extra digits we can take only 0  \n",
    "  \n",
    "**Case-4: Number formatting with alignment**  \n",
    "<pre>\n",
    "<      Left Alignment to the remaining space\n",
    "^      Center alignment to the remaining space\n",
    ">      Right alignment to the remaining space\n",
    "=      Forces the signed(+) (-) to the left most position\n",
    "</pre>\n",
    "\n",
    "**Note:** Default Alignment for numbers is Right Alignment."
   ]
  },
  {
   "cell_type": "code",
   "execution_count": 51,
   "metadata": {},
   "outputs": [
    {
     "name": "stdout",
     "output_type": "stream",
     "text": [
      "1.)   12\n",
      "2.)12   \n",
      "3.)12000\n",
      "4.)   12\n",
      "5.)00012\n",
      "6.) 12  \n",
      "7.)-  12\n",
      "8.)  12.235  \n",
      "9.)- 12.235\n"
     ]
    }
   ],
   "source": [
    "print(\"1.){:5d}\".format(12))\n",
    "print(\"2.){:<5d}\".format(12))\n",
    "print(\"3.){:<05d}\".format(12))\n",
    "print(\"4.){:>5d}\".format(12))\n",
    "print(\"5.){:>05d}\".format(12))\n",
    "print(\"6.){:^5d}\".format(12))\n",
    "print(\"7.){:=5d}\".format(-12))\n",
    "print(\"8.){:^10.3f}\".format(12.23456))\n",
    "print(\"9.){:=8.3f}\".format(-12.23456))"
   ]
  },
  {
   "cell_type": "markdown",
   "metadata": {},
   "source": [
    "**Case-5: String formatting with format()**  \n",
    "Similar to numbers, we can format String values also with format() method  \n",
    "**Note:** Default Alignment for string is left Alignment."
   ]
  },
  {
   "cell_type": "code",
   "execution_count": 54,
   "metadata": {},
   "outputs": [
    {
     "name": "stdout",
     "output_type": "stream",
     "text": [
      "1)   12\n",
      "2)rat  \n",
      "3)  rat\n",
      "4)rat  \n",
      "5) rat \n",
      "6)***rat****\n"
     ]
    }
   ],
   "source": [
    "print(\"1){:5d}\".format(12))\n",
    "print(\"2){:5}\".format(\"rat\"))\n",
    "print(\"3){:>5}\".format(\"rat\"))\n",
    "print(\"4){:<5}\".format(\"rat\"))\n",
    "print(\"5){:^5}\".format(\"rat\"))\n",
    "print(\"6){:*^10}\".format(\"rat\")) #Instead of * we can use any character(like +,$,a etc) "
   ]
  },
  {
   "cell_type": "markdown",
   "metadata": {},
   "source": [
    "**Case-6: Truncating Strings with format() method**  "
   ]
  },
  {
   "cell_type": "code",
   "execution_count": 59,
   "metadata": {},
   "outputs": [
    {
     "name": "stdout",
     "output_type": "stream",
     "text": [
      "Ravi\n",
      "Ravi \n",
      " Ravi\n",
      "Ravi \n",
      "Ravi*\n"
     ]
    }
   ],
   "source": [
    "print(\"{:.4}\".format(\"Ravinder Singh\"))\n",
    "print(\"{:5.4}\".format(\"Ravinder Singh\"))\n",
    "print(\"{:>5.4}\".format(\"Ravinder Singh\"))\n",
    "print(\"{:^5.4}\".format(\"Ravinder Singh\"))\n",
    "print(\"{:*^5.4}\".format(\"Ravinder Singh\")) "
   ]
  },
  {
   "cell_type": "markdown",
   "metadata": {},
   "source": [
    "**Case-7: Formatting dictionary members using format()**  "
   ]
  },
  {
   "cell_type": "code",
   "execution_count": 63,
   "metadata": {},
   "outputs": [
    {
     "name": "stdout",
     "output_type": "stream",
     "text": [
      "Ravi's age is: 28\n"
     ]
    }
   ],
   "source": [
    "person={'age':28,\n",
    "        'name':'Ravi'}\n",
    "\n",
    "print(\"{p[name]}'s age is: {p[age]}\".format(p=person))"
   ]
  },
  {
   "cell_type": "markdown",
   "metadata": {},
   "source": [
    "**Note: p is alias name of dictionary**  \n",
    "<pre>More convinient way is to use **person</pre>"
   ]
  },
  {
   "cell_type": "code",
   "execution_count": 64,
   "metadata": {},
   "outputs": [
    {
     "name": "stdout",
     "output_type": "stream",
     "text": [
      "Ravi's age is: 28\n"
     ]
    }
   ],
   "source": [
    "person={'age':28,\n",
    "        'name':'Ravi'}\n",
    "\n",
    "print(\"{name}'s age is: {age}\".format(**person))"
   ]
  },
  {
   "cell_type": "markdown",
   "metadata": {},
   "source": [
    "**Case-8: Formatting class members using format()**      "
   ]
  },
  {
   "cell_type": "code",
   "execution_count": 66,
   "metadata": {},
   "outputs": [
    {
     "name": "stdout",
     "output_type": "stream",
     "text": [
      "Ravi's age is :28\n"
     ]
    }
   ],
   "source": [
    "class Person:\n",
    "    age=28\n",
    "    name=\"Ravi\"\n",
    "print(\"{p.name}'s age is :{p.age}\".format(p=Person())) "
   ]
  },
  {
   "cell_type": "code",
   "execution_count": 68,
   "metadata": {},
   "outputs": [
    {
     "name": "stdout",
     "output_type": "stream",
     "text": [
      "Ravi's age is :28\n",
      "Rohit's age is :30\n"
     ]
    }
   ],
   "source": [
    "class Person:\n",
    "    def __init__(self,name,age):\n",
    "        self.name=name\n",
    "        self.age=age\n",
    "print(\"{p.name}'s age is :{p.age}\".format(p=Person('Ravi',28)))\n",
    "print(\"{p.name}'s age is :{p.age}\".format(p=Person('Rohit',30))) "
   ]
  },
  {
   "cell_type": "markdown",
   "metadata": {},
   "source": [
    "**Case-9: Dynamic Formatting using format()**  "
   ]
  },
  {
   "cell_type": "code",
   "execution_count": 69,
   "metadata": {},
   "outputs": [
    {
     "name": "stdout",
     "output_type": "stream",
     "text": [
      "RAVI*\n",
      "*RAVI*\n",
      "RAVI**\n",
      "**RAVI\n"
     ]
    }
   ],
   "source": [
    "string=\"{:{fill}{align}{width}}\"\n",
    "print(string.format('RAVI',fill='*',align='^',width=5))\n",
    "print(string.format('RAVI',fill='*',align='^',width=6))\n",
    "print(string.format('RAVI',fill='*',align='<',width=6))\n",
    "print(string.format('RAVI',fill='*',align='>',width=6)) "
   ]
  },
  {
   "cell_type": "markdown",
   "metadata": {},
   "source": [
    "**Case-10: Dynamic Float format template**"
   ]
  },
  {
   "cell_type": "code",
   "execution_count": 70,
   "metadata": {},
   "outputs": [
    {
     "name": "stdout",
     "output_type": "stream",
     "text": [
      "123.24  \n",
      "  123.24\n"
     ]
    }
   ],
   "source": [
    "num=\"{:{align}{width}.{precision}f}\"\n",
    "print(num.format(123.236,align='<',width=8,precision=2))\n",
    "print(num.format(123.236,align='>',width=8,precision=2)) "
   ]
  },
  {
   "cell_type": "markdown",
   "metadata": {},
   "source": [
    "**Case-11: Formatting Date values**  "
   ]
  },
  {
   "cell_type": "code",
   "execution_count": 73,
   "metadata": {},
   "outputs": [
    {
     "name": "stdout",
     "output_type": "stream",
     "text": [
      "2019-06-19 10:46:04.783929\n",
      "It's now :19/06/2019 10:46:04\n"
     ]
    }
   ],
   "source": [
    "import datetime\n",
    "#datetime formatting\n",
    "date=datetime.datetime.now()\n",
    "print(date)\n",
    "print(\"It's now :{:%d/%m/%Y %H:%M:%S}\".format(date)) "
   ]
  },
  {
   "cell_type": "markdown",
   "metadata": {},
   "source": [
    "**Important Programs Regarding String Concept**  \n",
    "**Q1. Write a program to reverse the given String**"
   ]
  },
  {
   "cell_type": "code",
   "execution_count": 30,
   "metadata": {},
   "outputs": [
    {
     "name": "stdout",
     "output_type": "stream",
     "text": [
      "Enter Some String:Learning Python is very easy!!\n",
      "!!ysae yrev si nohtyP gninraeL\n",
      "Enter Some String:Ravinder\n",
      "rednivaR\n",
      "Enter Some String:Ravinder Singh\n",
      "hgniS rednivaR\n"
     ]
    }
   ],
   "source": [
    "#1st Way:\n",
    "s=input(\"Enter Some String:\")\n",
    "print(s[::-1]) \n",
    "\n",
    "#2nd Way:\n",
    "s=input(\"Enter Some String:\")\n",
    "print(''.join(reversed(s)))  #''.join(list(reversed(s)))\n",
    "\n",
    "#3rd Way:\n",
    "s=input(\"Enter Some String:\")\n",
    "i=len(s)-1\n",
    "target=''\n",
    "while i>=0:\n",
    "    target=target+s[i]\n",
    "    i=i-1\n",
    "print(target)"
   ]
  },
  {
   "cell_type": "markdown",
   "metadata": {},
   "source": [
    "**Q2 Program to reverse order of words.**"
   ]
  },
  {
   "cell_type": "code",
   "execution_count": 36,
   "metadata": {},
   "outputs": [
    {
     "name": "stdout",
     "output_type": "stream",
     "text": [
      "Enter Some String:Learning Python is very Easy\n",
      "Easy very is Python Learning\n"
     ]
    }
   ],
   "source": [
    "#input: Learning Python is very Easy\n",
    "#output: Easy Very is Python Learning\n",
    "\n",
    "s=input(\"Enter Some String:\")\n",
    "l=s.split()\n",
    "l1=[]\n",
    "i=len(l)-1\n",
    "while i>=0:\n",
    "    l1.append(l[i])\n",
    "    i=i-1\n",
    "output=' '.join(l1)\n",
    "print(output) "
   ]
  },
  {
   "cell_type": "markdown",
   "metadata": {},
   "source": [
    "**Q3. Program to reverse internal content of each word.**  "
   ]
  },
  {
   "cell_type": "code",
   "execution_count": 38,
   "metadata": {},
   "outputs": [
    {
     "name": "stdout",
     "output_type": "stream",
     "text": [
      "Enter Some String:gninraeL nohtyP si yrev ysaE\n",
      "Learning Python is very Easy\n"
     ]
    }
   ],
   "source": [
    "#input: Learning Python is very Easy\n",
    "#output: gninraeL nohtyP si yrev ysaE\n",
    "\n",
    "s=input(\"Enter Some String:\")\n",
    "l=s.split()\n",
    "li=[]\n",
    "i=0\n",
    "while i<len(l):\n",
    "    li.append(l[i][::-1])\n",
    "    i=i+1\n",
    "output=' '.join(li)\n",
    "print(output) "
   ]
  },
  {
   "cell_type": "markdown",
   "metadata": {},
   "source": [
    "**Q4. Write a program to sort the characters of the string and first alphabet symbols\n",
    "followed by numeric values**  \n",
    "input: B4A1D3  \n",
    "Output: ABD134  \n"
   ]
  },
  {
   "cell_type": "code",
   "execution_count": 6,
   "metadata": {},
   "outputs": [
    {
     "name": "stdout",
     "output_type": "stream",
     "text": [
      "Enter Some String:B4A1D3\n",
      "ABD134\n"
     ]
    }
   ],
   "source": [
    "s=input(\"Enter Some String:\")\n",
    "s1=s2=output=''\n",
    "for x in s:\n",
    "    if x.isalpha():\n",
    "        s1=s1+x\n",
    "    else:\n",
    "        s2=s2+x\n",
    "for x in sorted(s1):\n",
    "    output=output+x\n",
    "for x in sorted(s2):\n",
    "    output=output+x\n",
    "print(output) "
   ]
  },
  {
   "cell_type": "markdown",
   "metadata": {},
   "source": [
    "**Q5. Write a program for the following requirement**  \n",
    "input: a4b3c2  \n",
    "output: aaaabbbcc  "
   ]
  },
  {
   "cell_type": "code",
   "execution_count": 7,
   "metadata": {},
   "outputs": [
    {
     "name": "stdout",
     "output_type": "stream",
     "text": [
      "Enter Some String:a4b3c2\n",
      "aaaabbbcc\n"
     ]
    }
   ],
   "source": [
    "s=input(\"Enter Some String:\")\n",
    "output=''\n",
    "for x in s:\n",
    "    if x.isalpha():\n",
    "        output=output+x\n",
    "        previous=x \n",
    "    else:\n",
    "        output=output+previous*(int(x)-1)\n",
    "print(output) "
   ]
  },
  {
   "cell_type": "markdown",
   "metadata": {},
   "source": [
    "**Q6. Write a program to perform the following activity**  \n",
    "input: a4k3b2  \n",
    "output:aeknbd  \n",
    "  \n",
    "**Note:**   \n",
    "- chr(unicode)===>The corresponding character  \n",
    "- ord(character)===>The corresponding unicode value  \n",
    "```python\n",
    ">>> ord('A')\n",
    ">>> 65\n",
    ">>> chr(65)\n",
    ">>> 'A'\n",
    "```"
   ]
  },
  {
   "cell_type": "code",
   "execution_count": 8,
   "metadata": {},
   "outputs": [
    {
     "name": "stdout",
     "output_type": "stream",
     "text": [
      "Enter Some String:a4k3b2\n",
      "aeknbd\n"
     ]
    }
   ],
   "source": [
    "s=input(\"Enter Some String:\")\n",
    "output=''\n",
    "for x in s:\n",
    "    if x.isalpha():\n",
    "        output=output+x\n",
    "        previous=x\n",
    "    else:\n",
    "        output=output+chr(ord(previous)+int(x))\n",
    "print(output)"
   ]
  },
  {
   "cell_type": "markdown",
   "metadata": {},
   "source": [
    "**Q7 Write a program to remove duplicate characters from the given input string?**  \n",
    "input: ABCDABBCDABBBCCCDDEEEF  \n",
    "output: ABCDEF  "
   ]
  },
  {
   "cell_type": "code",
   "execution_count": 13,
   "metadata": {},
   "outputs": [
    {
     "name": "stdout",
     "output_type": "stream",
     "text": [
      "Enter Some String:ABCDABBCDABBBCCCDDEEEF\n",
      "ABCDEF\n"
     ]
    }
   ],
   "source": [
    "s=input(\"Enter Some String:\")\n",
    "l=[]\n",
    "for x in s:\n",
    "    if x not in l:\n",
    "        l.append(x)\n",
    "output=''.join(l)\n",
    "print(output) "
   ]
  },
  {
   "cell_type": "code",
   "execution_count": 15,
   "metadata": {},
   "outputs": [
    {
     "data": {
      "text/plain": [
       "'mpt'"
      ]
     },
     "execution_count": 15,
     "metadata": {},
     "output_type": "execute_result"
    }
   ],
   "source": [
    "from collections import OrderedDict\n",
    "foo = \"mppmt\"\n",
    "\"\".join(OrderedDict.fromkeys(foo))"
   ]
  },
  {
   "cell_type": "markdown",
   "metadata": {},
   "source": [
    "**Q8  Write a program to find the number of occurrences of each character present in the\n",
    "given String?**   \n",
    "input: ABCABCABBCDE  \n",
    "output: A-3,B-4,C-3,D-1,E-1"
   ]
  },
  {
   "cell_type": "code",
   "execution_count": 16,
   "metadata": {},
   "outputs": [
    {
     "name": "stdout",
     "output_type": "stream",
     "text": [
      "Enter the Some String:ABCABCABBCDE\n",
      "A = 3 Times\n",
      "B = 4 Times\n",
      "C = 3 Times\n",
      "D = 1 Times\n",
      "E = 1 Times\n"
     ]
    }
   ],
   "source": [
    "s=input(\"Enter the Some String:\")\n",
    "d={}\n",
    "for x in s:\n",
    "    if x in d.keys():\n",
    "        d[x]=d[x]+1\n",
    "    else:\n",
    "        d[x]=1 \n",
    "for k,v in d.items():\n",
    "    print(\"{} = {} Times\".format(k,v)) "
   ]
  }
 ],
 "metadata": {
  "kernelspec": {
   "display_name": "Python 3",
   "language": "python",
   "name": "python3"
  },
  "language_info": {
   "codemirror_mode": {
    "name": "ipython",
    "version": 3
   },
   "file_extension": ".py",
   "mimetype": "text/x-python",
   "name": "python",
   "nbconvert_exporter": "python",
   "pygments_lexer": "ipython3",
   "version": "3.7.3"
  }
 },
 "nbformat": 4,
 "nbformat_minor": 2
}
