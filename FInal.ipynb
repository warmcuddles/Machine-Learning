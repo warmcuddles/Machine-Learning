{
 "cells": [
  {
   "cell_type": "code",
   "execution_count": 1,
   "metadata": {},
   "outputs": [],
   "source": [
    "import pandas as pd\n",
    "df = pd.read_csv(r'C:\\Users\\warm cuddles\\Downloads\\Compressed\\FW Application Data as of 14-07 to 15-07\\commercial_report_from_2019_07_14_to_2019_07_15.csv')"
   ]
  },
  {
   "cell_type": "code",
   "execution_count": 3,
   "metadata": {},
   "outputs": [],
   "source": [
    "pd.set_option('display.max_rows', None)\n",
    "pd.set_option('display.max_columns', None)"
   ]
  },
  {
   "cell_type": "code",
   "execution_count": 4,
   "metadata": {},
   "outputs": [
    {
     "data": {
      "text/html": [
       "<div>\n",
       "<style scoped>\n",
       "    .dataframe tbody tr th:only-of-type {\n",
       "        vertical-align: middle;\n",
       "    }\n",
       "\n",
       "    .dataframe tbody tr th {\n",
       "        vertical-align: top;\n",
       "    }\n",
       "\n",
       "    .dataframe thead th {\n",
       "        text-align: right;\n",
       "    }\n",
       "</style>\n",
       "<table border=\"1\" class=\"dataframe\">\n",
       "  <thead>\n",
       "    <tr style=\"text-align: right;\">\n",
       "      <th></th>\n",
       "      <th>SR No</th>\n",
       "      <th>SURVEY ID</th>\n",
       "      <th>ENUMERATOR ID</th>\n",
       "      <th>ENUMERATOR NAME</th>\n",
       "      <th>CSCID</th>\n",
       "      <th>VLE NAME</th>\n",
       "      <th>STATE CODE</th>\n",
       "      <th>STATE NAME</th>\n",
       "      <th>DISTRICT CODE</th>\n",
       "      <th>DISTRICT NAME</th>\n",
       "      <th>TOWN CODE</th>\n",
       "      <th>TOWN NAME</th>\n",
       "      <th>WARD NUMBER</th>\n",
       "      <th>WARD NAME</th>\n",
       "      <th>GP CODE</th>\n",
       "      <th>GP NAME</th>\n",
       "      <th>VILLAGE CODE</th>\n",
       "      <th>VILLAGE NAME</th>\n",
       "      <th>BLOCK CODE</th>\n",
       "      <th>BLOCK NAME</th>\n",
       "      <th>IV UNIT CODE</th>\n",
       "      <th>IV UNIT NAME</th>\n",
       "      <th>UFS BLOCK CODE</th>\n",
       "      <th>UFS BLOCK NAME</th>\n",
       "      <th>PINCODE</th>\n",
       "      <th>SURVEY AREA TYPE</th>\n",
       "      <th>EC HOUSE ADDRESS</th>\n",
       "      <th>PURPOSE OF EC HOUSE</th>\n",
       "      <th>EC HOUSE NUMBER</th>\n",
       "      <th>NAME OF ESTABLISHMENT/OWNER</th>\n",
       "      <th>ADDRESS</th>\n",
       "      <th>MOBILE OF MANAGER/OWNER</th>\n",
       "      <th>EMAIL OF ESTABLISHMENT/MANAGER/OWNER</th>\n",
       "      <th>NATURE OF ECONOMIC ACTIVITY</th>\n",
       "      <th>SECTION NIC CODE</th>\n",
       "      <th>SECTION</th>\n",
       "      <th>DIVISION NIC CODE</th>\n",
       "      <th>DIVISION</th>\n",
       "      <th>GROUP NIC CODE</th>\n",
       "      <th>GROUP</th>\n",
       "      <th>OWNERSHIP(CODE)</th>\n",
       "      <th>MAJOR SOURCE OF FINANCE</th>\n",
       "      <th>HIRED WORKER(AS ON DATE)</th>\n",
       "      <th>NON HIRED WORKER(AS ON DATE)</th>\n",
       "      <th>CONTRACTUAL WORKER(AS ON DATE)</th>\n",
       "      <th>USES IT FOR BUISNESS OPERATION</th>\n",
       "      <th>MANUFACTURING SERVICES</th>\n",
       "      <th>EXPORTING UNIT</th>\n",
       "      <th>IMPORTING UNIT</th>\n",
       "      <th>INVESTMENT</th>\n",
       "      <th>ANNUAL TURNOVER</th>\n",
       "      <th>PAN NUMBER</th>\n",
       "      <th>REGISTERING AUTHORITY</th>\n",
       "      <th>ADDITIONAL REG./LICENSE</th>\n",
       "      <th>NAME OF MAIN ENTERPRISE</th>\n",
       "      <th>PAN OF MAIN ENTERPRISE</th>\n",
       "      <th>REG. AUTHORITY OF MAIN ENTERPRISE</th>\n",
       "      <th>Latitude</th>\n",
       "      <th>LONGITUDE</th>\n",
       "      <th>CREATED ON</th>\n",
       "      <th>START TIME</th>\n",
       "      <th>END TIME</th>\n",
       "      <th>SURVEY STATUS</th>\n",
       "      <th>APP VERSION</th>\n",
       "    </tr>\n",
       "  </thead>\n",
       "  <tbody>\n",
       "    <tr>\n",
       "      <th>0</th>\n",
       "      <td>1</td>\n",
       "      <td>RC2443851883424347600160014</td>\n",
       "      <td>898526324347</td>\n",
       "      <td>Pragneshkumar Bharatkumar Raval</td>\n",
       "      <td>2.444244e+11</td>\n",
       "      <td>Patel Amrubhai</td>\n",
       "      <td>24</td>\n",
       "      <td>Gujarat</td>\n",
       "      <td>438</td>\n",
       "      <td>Ahmadabad</td>\n",
       "      <td>NaN</td>\n",
       "      <td>NaN</td>\n",
       "      <td>NaN</td>\n",
       "      <td>NaN</td>\n",
       "      <td>244108.0</td>\n",
       "      <td>Gokalpura</td>\n",
       "      <td>518834.0</td>\n",
       "      <td>Gokalpura</td>\n",
       "      <td>3780.0</td>\n",
       "      <td>Sanand</td>\n",
       "      <td>NaN</td>\n",
       "      <td>NaN</td>\n",
       "      <td>NaN</td>\n",
       "      <td>NaN</td>\n",
       "      <td>382110.0</td>\n",
       "      <td>rural</td>\n",
       "      <td>ADDRESS SINALGRE, PO RARI, VILLIGE</td>\n",
       "      <td>Commercial</td>\n",
       "      <td>RC2443851883424347600160014</td>\n",
       "      <td>NaN</td>\n",
       "      <td>GUJURAT</td>\n",
       "      <td>9401973657</td>\n",
       "      <td>ramdhenu93@gmail.com</td>\n",
       "      <td>Manufacturing</td>\n",
       "      <td>3</td>\n",
       "      <td>MANUFACTURING</td>\n",
       "      <td>32</td>\n",
       "      <td>Other manufacturing</td>\n",
       "      <td>329</td>\n",
       "      <td>Other manufacturing n.e.c.</td>\n",
       "      <td>Commercial Private corporate sector</td>\n",
       "      <td>Loan from cooperative banks &amp; so</td>\n",
       "      <td>2000.0</td>\n",
       "      <td>25.0</td>\n",
       "      <td>12</td>\n",
       "      <td>NaN</td>\n",
       "      <td>No</td>\n",
       "      <td>No</td>\n",
       "      <td>NaN</td>\n",
       "      <td>5 – 10 Crore</td>\n",
       "      <td>75 - 250 Crore</td>\n",
       "      <td>AAAAA1111A</td>\n",
       "      <td>Any other Act (not covered above)_NA_ _</td>\n",
       "      <td>Not Registered_NA_ _</td>\n",
       "      <td>NaN</td>\n",
       "      <td>AAAAA1111A</td>\n",
       "      <td>NaN</td>\n",
       "      <td>25.687525</td>\n",
       "      <td>90.281694</td>\n",
       "      <td>2019-07-15 11:22:27</td>\n",
       "      <td>2019-07-15 16:37:02</td>\n",
       "      <td>2019-07-15 16:52:20</td>\n",
       "      <td>1</td>\n",
       "      <td>Beta version-5.10</td>\n",
       "    </tr>\n",
       "    <tr>\n",
       "      <th>1</th>\n",
       "      <td>2</td>\n",
       "      <td>RC24438518834894458944322249</td>\n",
       "      <td>473215482983</td>\n",
       "      <td>LAKHAMI CHAND</td>\n",
       "      <td>1.177653e+11</td>\n",
       "      <td>SHER SINGH</td>\n",
       "      <td>24</td>\n",
       "      <td>Gujarat</td>\n",
       "      <td>438</td>\n",
       "      <td>Ahmadabad</td>\n",
       "      <td>NaN</td>\n",
       "      <td>NaN</td>\n",
       "      <td>NaN</td>\n",
       "      <td>NaN</td>\n",
       "      <td>244108.0</td>\n",
       "      <td>Gokalpura</td>\n",
       "      <td>518834.0</td>\n",
       "      <td>Gokalpura</td>\n",
       "      <td>3780.0</td>\n",
       "      <td>Sanand</td>\n",
       "      <td>NaN</td>\n",
       "      <td>NaN</td>\n",
       "      <td>NaN</td>\n",
       "      <td>NaN</td>\n",
       "      <td>382110.0</td>\n",
       "      <td>rural</td>\n",
       "      <td>PARIKHARA, BALLIA,</td>\n",
       "      <td>Commercial</td>\n",
       "      <td>RC24438518834894458944322249</td>\n",
       "      <td>NaN</td>\n",
       "      <td>PARIKHARA</td>\n",
       "      <td>9918129738</td>\n",
       "      <td>test@test.com</td>\n",
       "      <td>Services</td>\n",
       "      <td>18</td>\n",
       "      <td>OTHER SERVICE ACTIVITIES</td>\n",
       "      <td>96</td>\n",
       "      <td>Other personal service activities</td>\n",
       "      <td>960</td>\n",
       "      <td>Other personal service activities</td>\n",
       "      <td>Commercial Private corporate sector</td>\n",
       "      <td>Self-Finance</td>\n",
       "      <td>1.0</td>\n",
       "      <td>NaN</td>\n",
       "      <td>NaN</td>\n",
       "      <td>NaN</td>\n",
       "      <td>No</td>\n",
       "      <td>No</td>\n",
       "      <td>NaN</td>\n",
       "      <td>&lt; 10 lakh</td>\n",
       "      <td>&lt;= 1 lakh</td>\n",
       "      <td>AAAAA1111A</td>\n",
       "      <td>Not Registered_NA_ _</td>\n",
       "      <td>Not Registered_NA_ _</td>\n",
       "      <td>NaN</td>\n",
       "      <td>AAAAA1111A</td>\n",
       "      <td>NaN</td>\n",
       "      <td>25.780053</td>\n",
       "      <td>84.157858</td>\n",
       "      <td>2019-07-15 05:38:27</td>\n",
       "      <td>2019-07-03 13:09:44</td>\n",
       "      <td>2019-07-03 13:12:19</td>\n",
       "      <td>1</td>\n",
       "      <td>Beta version-5.15</td>\n",
       "    </tr>\n",
       "    <tr>\n",
       "      <th>2</th>\n",
       "      <td>3</td>\n",
       "      <td>RC24438518834894458944322251</td>\n",
       "      <td>473215482983</td>\n",
       "      <td>LAKHAMI CHAND</td>\n",
       "      <td>1.177653e+11</td>\n",
       "      <td>SHER SINGH</td>\n",
       "      <td>24</td>\n",
       "      <td>Gujarat</td>\n",
       "      <td>438</td>\n",
       "      <td>Ahmadabad</td>\n",
       "      <td>NaN</td>\n",
       "      <td>NaN</td>\n",
       "      <td>NaN</td>\n",
       "      <td>NaN</td>\n",
       "      <td>244108.0</td>\n",
       "      <td>Gokalpura</td>\n",
       "      <td>518834.0</td>\n",
       "      <td>Gokalpura</td>\n",
       "      <td>3780.0</td>\n",
       "      <td>Sanand</td>\n",
       "      <td>NaN</td>\n",
       "      <td>NaN</td>\n",
       "      <td>NaN</td>\n",
       "      <td>NaN</td>\n",
       "      <td>382110.0</td>\n",
       "      <td>rural</td>\n",
       "      <td>PARIKHRA, BALLIA,</td>\n",
       "      <td>Commercial</td>\n",
       "      <td>RC24438518834894458944322251</td>\n",
       "      <td>NaN</td>\n",
       "      <td>PARIKHARA</td>\n",
       "      <td>9161709414</td>\n",
       "      <td>test@test.com</td>\n",
       "      <td>Services</td>\n",
       "      <td>8</td>\n",
       "      <td>ACCOMODATION AND FOOD SERVICES ACTIVITIES</td>\n",
       "      <td>56</td>\n",
       "      <td>Food and beverage service activities</td>\n",
       "      <td>563</td>\n",
       "      <td>Beverage serving activities</td>\n",
       "      <td>Commercial Proprietary (including HUF)</td>\n",
       "      <td>Self-Finance</td>\n",
       "      <td>1.0</td>\n",
       "      <td>NaN</td>\n",
       "      <td>NaN</td>\n",
       "      <td>NaN</td>\n",
       "      <td>No</td>\n",
       "      <td>No</td>\n",
       "      <td>NaN</td>\n",
       "      <td>&lt; 10 lakh</td>\n",
       "      <td>&lt;= 1 lakh</td>\n",
       "      <td>AAAAA1111A</td>\n",
       "      <td>Not Registered_NA_ _</td>\n",
       "      <td>Not Registered_NA_ _</td>\n",
       "      <td>NaN</td>\n",
       "      <td>AAAAA1111A</td>\n",
       "      <td>NaN</td>\n",
       "      <td>25.778171</td>\n",
       "      <td>84.156868</td>\n",
       "      <td>2019-07-15 05:38:24</td>\n",
       "      <td>2019-07-03 13:22:31</td>\n",
       "      <td>2019-07-03 13:26:19</td>\n",
       "      <td>1</td>\n",
       "      <td>Beta version-5.15</td>\n",
       "    </tr>\n",
       "    <tr>\n",
       "      <th>3</th>\n",
       "      <td>4</td>\n",
       "      <td>RC24438518834894458944322250</td>\n",
       "      <td>473215482983</td>\n",
       "      <td>LAKHAMI CHAND</td>\n",
       "      <td>1.177653e+11</td>\n",
       "      <td>SHER SINGH</td>\n",
       "      <td>24</td>\n",
       "      <td>Gujarat</td>\n",
       "      <td>438</td>\n",
       "      <td>Ahmadabad</td>\n",
       "      <td>NaN</td>\n",
       "      <td>NaN</td>\n",
       "      <td>NaN</td>\n",
       "      <td>NaN</td>\n",
       "      <td>244108.0</td>\n",
       "      <td>Gokalpura</td>\n",
       "      <td>518834.0</td>\n",
       "      <td>Gokalpura</td>\n",
       "      <td>3780.0</td>\n",
       "      <td>Sanand</td>\n",
       "      <td>NaN</td>\n",
       "      <td>NaN</td>\n",
       "      <td>NaN</td>\n",
       "      <td>NaN</td>\n",
       "      <td>382110.0</td>\n",
       "      <td>rural</td>\n",
       "      <td>PARIKHARA, BALLIA, BALLIA</td>\n",
       "      <td>Commercial</td>\n",
       "      <td>RC24438518834894458944322250</td>\n",
       "      <td>NaN</td>\n",
       "      <td>PARIKHARA</td>\n",
       "      <td>9305044524</td>\n",
       "      <td>ajaialways4u@gmail.com</td>\n",
       "      <td>Manufacturing</td>\n",
       "      <td>3</td>\n",
       "      <td>MANUFACTURING</td>\n",
       "      <td>10</td>\n",
       "      <td>Manufacture of food products</td>\n",
       "      <td>107</td>\n",
       "      <td>Manufacture of other food products</td>\n",
       "      <td>Commercial Proprietary (including HUF)</td>\n",
       "      <td>Self-Finance</td>\n",
       "      <td>2.0</td>\n",
       "      <td>NaN</td>\n",
       "      <td>NaN</td>\n",
       "      <td>NaN</td>\n",
       "      <td>Yes</td>\n",
       "      <td>No</td>\n",
       "      <td>NaN</td>\n",
       "      <td>&lt; 10 lakh</td>\n",
       "      <td>1 – 5 lakh</td>\n",
       "      <td>AAAAA1111A</td>\n",
       "      <td>Not Registered_NA_ _</td>\n",
       "      <td>Not Registered_NA_ _</td>\n",
       "      <td>NaN</td>\n",
       "      <td>AAAAA1111A</td>\n",
       "      <td>NaN</td>\n",
       "      <td>25.778911</td>\n",
       "      <td>84.156033</td>\n",
       "      <td>2019-07-15 05:38:26</td>\n",
       "      <td>2019-07-03 13:12:53</td>\n",
       "      <td>2019-07-03 13:18:34</td>\n",
       "      <td>1</td>\n",
       "      <td>Beta version-5.15</td>\n",
       "    </tr>\n",
       "    <tr>\n",
       "      <th>4</th>\n",
       "      <td>5</td>\n",
       "      <td>UC193108672338941526888</td>\n",
       "      <td>372956488732</td>\n",
       "      <td>Debjit Sarkar</td>\n",
       "      <td>3.347254e+11</td>\n",
       "      <td>BAPPA MODAK</td>\n",
       "      <td>19</td>\n",
       "      <td>West Bengal</td>\n",
       "      <td>310</td>\n",
       "      <td>Dakshin Dinajpur</td>\n",
       "      <td>2201.0</td>\n",
       "      <td>GANGARAMPUR</td>\n",
       "      <td>8.0</td>\n",
       "      <td>8</td>\n",
       "      <td>NaN</td>\n",
       "      <td>NaN</td>\n",
       "      <td>NaN</td>\n",
       "      <td>NaN</td>\n",
       "      <td>NaN</td>\n",
       "      <td>NaN</td>\n",
       "      <td>9.0</td>\n",
       "      <td>NaN</td>\n",
       "      <td>1</td>\n",
       "      <td>BLOCK 1</td>\n",
       "      <td>733124.0</td>\n",
       "      <td>urban</td>\n",
       "      <td>NIMTALA, JURANPUR, NEAR BUS STOP</td>\n",
       "      <td>Commercial</td>\n",
       "      <td>UC193108672338941526888</td>\n",
       "      <td>NaN</td>\n",
       "      <td>JURANPUR</td>\n",
       "      <td>1111111111</td>\n",
       "      <td>test@test.com</td>\n",
       "      <td>Manufacturing</td>\n",
       "      <td>3</td>\n",
       "      <td>MANUFACTURING</td>\n",
       "      <td>24</td>\n",
       "      <td>Manufacture of basic metals</td>\n",
       "      <td>241</td>\n",
       "      <td>Manufacture of basic iron and steel</td>\n",
       "      <td>Commercial Proprietary (including HUF)</td>\n",
       "      <td>Self-Finance</td>\n",
       "      <td>NaN</td>\n",
       "      <td>2.0</td>\n",
       "      <td>NaN</td>\n",
       "      <td>NaN</td>\n",
       "      <td>No</td>\n",
       "      <td>No</td>\n",
       "      <td>NaN</td>\n",
       "      <td>&lt; 10 lakh</td>\n",
       "      <td>&lt;= 1 lakh</td>\n",
       "      <td>AAAAA1111A</td>\n",
       "      <td>Not Registered_N/A_ _</td>\n",
       "      <td>Not Registered_N/A_ _</td>\n",
       "      <td>NaN</td>\n",
       "      <td>AAAAA1111A</td>\n",
       "      <td>NaN</td>\n",
       "      <td>23.699866</td>\n",
       "      <td>88.190199</td>\n",
       "      <td>2019-07-15 03:43:58</td>\n",
       "      <td>2019-07-14 18:32:15</td>\n",
       "      <td>2019-07-14 18:41:16</td>\n",
       "      <td>1</td>\n",
       "      <td>Beta version-5.15</td>\n",
       "    </tr>\n",
       "  </tbody>\n",
       "</table>\n",
       "</div>"
      ],
      "text/plain": [
       "   SR No                     SURVEY ID  ENUMERATOR ID  \\\n",
       "0      1   RC2443851883424347600160014   898526324347   \n",
       "1      2  RC24438518834894458944322249   473215482983   \n",
       "2      3  RC24438518834894458944322251   473215482983   \n",
       "3      4  RC24438518834894458944322250   473215482983   \n",
       "4      5       UC193108672338941526888   372956488732   \n",
       "\n",
       "                   ENUMERATOR NAME         CSCID        VLE NAME  STATE CODE  \\\n",
       "0  Pragneshkumar Bharatkumar Raval  2.444244e+11  Patel Amrubhai          24   \n",
       "1                    LAKHAMI CHAND  1.177653e+11      SHER SINGH          24   \n",
       "2                    LAKHAMI CHAND  1.177653e+11      SHER SINGH          24   \n",
       "3                    LAKHAMI CHAND  1.177653e+11      SHER SINGH          24   \n",
       "4                    Debjit Sarkar  3.347254e+11     BAPPA MODAK          19   \n",
       "\n",
       "    STATE NAME  DISTRICT CODE     DISTRICT NAME  TOWN CODE    TOWN NAME  \\\n",
       "0      Gujarat            438         Ahmadabad        NaN          NaN   \n",
       "1      Gujarat            438         Ahmadabad        NaN          NaN   \n",
       "2      Gujarat            438         Ahmadabad        NaN          NaN   \n",
       "3      Gujarat            438         Ahmadabad        NaN          NaN   \n",
       "4  West Bengal            310  Dakshin Dinajpur     2201.0  GANGARAMPUR   \n",
       "\n",
       "   WARD NUMBER WARD NAME   GP CODE    GP NAME  VILLAGE CODE VILLAGE NAME  \\\n",
       "0          NaN       NaN  244108.0  Gokalpura      518834.0    Gokalpura   \n",
       "1          NaN       NaN  244108.0  Gokalpura      518834.0    Gokalpura   \n",
       "2          NaN       NaN  244108.0  Gokalpura      518834.0    Gokalpura   \n",
       "3          NaN       NaN  244108.0  Gokalpura      518834.0    Gokalpura   \n",
       "4          8.0         8       NaN        NaN           NaN          NaN   \n",
       "\n",
       "   BLOCK CODE BLOCK NAME  IV UNIT CODE IV UNIT NAME UFS BLOCK CODE  \\\n",
       "0      3780.0     Sanand           NaN          NaN            NaN   \n",
       "1      3780.0     Sanand           NaN          NaN            NaN   \n",
       "2      3780.0     Sanand           NaN          NaN            NaN   \n",
       "3      3780.0     Sanand           NaN          NaN            NaN   \n",
       "4         NaN        NaN           9.0          NaN              1   \n",
       "\n",
       "  UFS BLOCK NAME   PINCODE SURVEY AREA TYPE  \\\n",
       "0            NaN  382110.0            rural   \n",
       "1            NaN  382110.0            rural   \n",
       "2            NaN  382110.0            rural   \n",
       "3            NaN  382110.0            rural   \n",
       "4        BLOCK 1  733124.0            urban   \n",
       "\n",
       "                     EC HOUSE ADDRESS PURPOSE OF EC HOUSE  \\\n",
       "0  ADDRESS SINALGRE, PO RARI, VILLIGE          Commercial   \n",
       "1                 PARIKHARA, BALLIA,           Commercial   \n",
       "2                  PARIKHRA, BALLIA,           Commercial   \n",
       "3           PARIKHARA, BALLIA, BALLIA          Commercial   \n",
       "4   NIMTALA, JURANPUR, NEAR BUS STOP           Commercial   \n",
       "\n",
       "                EC HOUSE NUMBER  NAME OF ESTABLISHMENT/OWNER    ADDRESS  \\\n",
       "0   RC2443851883424347600160014                          NaN    GUJURAT   \n",
       "1  RC24438518834894458944322249                          NaN  PARIKHARA   \n",
       "2  RC24438518834894458944322251                          NaN  PARIKHARA   \n",
       "3  RC24438518834894458944322250                          NaN  PARIKHARA   \n",
       "4       UC193108672338941526888                          NaN   JURANPUR   \n",
       "\n",
       "   MOBILE OF MANAGER/OWNER EMAIL OF ESTABLISHMENT/MANAGER/OWNER  \\\n",
       "0               9401973657                 ramdhenu93@gmail.com   \n",
       "1               9918129738                        test@test.com   \n",
       "2               9161709414                        test@test.com   \n",
       "3               9305044524               ajaialways4u@gmail.com   \n",
       "4               1111111111                        test@test.com   \n",
       "\n",
       "  NATURE OF ECONOMIC ACTIVITY  SECTION NIC CODE  \\\n",
       "0               Manufacturing                 3   \n",
       "1                    Services                18   \n",
       "2                    Services                 8   \n",
       "3               Manufacturing                 3   \n",
       "4               Manufacturing                 3   \n",
       "\n",
       "                                     SECTION  DIVISION NIC CODE  \\\n",
       "0                              MANUFACTURING                 32   \n",
       "1                   OTHER SERVICE ACTIVITIES                 96   \n",
       "2  ACCOMODATION AND FOOD SERVICES ACTIVITIES                 56   \n",
       "3                              MANUFACTURING                 10   \n",
       "4                              MANUFACTURING                 24   \n",
       "\n",
       "                               DIVISION  GROUP NIC CODE  \\\n",
       "0                   Other manufacturing             329   \n",
       "1     Other personal service activities             960   \n",
       "2  Food and beverage service activities             563   \n",
       "3          Manufacture of food products             107   \n",
       "4           Manufacture of basic metals             241   \n",
       "\n",
       "                                 GROUP  \\\n",
       "0           Other manufacturing n.e.c.   \n",
       "1    Other personal service activities   \n",
       "2          Beverage serving activities   \n",
       "3   Manufacture of other food products   \n",
       "4  Manufacture of basic iron and steel   \n",
       "\n",
       "                          OWNERSHIP(CODE)           MAJOR SOURCE OF FINANCE  \\\n",
       "0     Commercial Private corporate sector  Loan from cooperative banks & so   \n",
       "1     Commercial Private corporate sector                      Self-Finance   \n",
       "2  Commercial Proprietary (including HUF)                      Self-Finance   \n",
       "3  Commercial Proprietary (including HUF)                      Self-Finance   \n",
       "4  Commercial Proprietary (including HUF)                      Self-Finance   \n",
       "\n",
       "   HIRED WORKER(AS ON DATE)  NON HIRED WORKER(AS ON DATE)  \\\n",
       "0                    2000.0                          25.0   \n",
       "1                       1.0                           NaN   \n",
       "2                       1.0                           NaN   \n",
       "3                       2.0                           NaN   \n",
       "4                       NaN                           2.0   \n",
       "\n",
       "  CONTRACTUAL WORKER(AS ON DATE)  USES IT FOR BUISNESS OPERATION  \\\n",
       "0                             12                             NaN   \n",
       "1                            NaN                             NaN   \n",
       "2                            NaN                             NaN   \n",
       "3                            NaN                             NaN   \n",
       "4                            NaN                             NaN   \n",
       "\n",
       "  MANUFACTURING SERVICES EXPORTING UNIT IMPORTING UNIT    INVESTMENT  \\\n",
       "0                     No             No            NaN  5 – 10 Crore   \n",
       "1                     No             No            NaN     < 10 lakh   \n",
       "2                     No             No            NaN     < 10 lakh   \n",
       "3                    Yes             No            NaN     < 10 lakh   \n",
       "4                     No             No            NaN     < 10 lakh   \n",
       "\n",
       "  ANNUAL TURNOVER  PAN NUMBER                     REGISTERING AUTHORITY  \\\n",
       "0  75 - 250 Crore  AAAAA1111A  Any other Act (not covered above)_NA_ _    \n",
       "1       <= 1 lakh  AAAAA1111A                     Not Registered_NA_ _    \n",
       "2       <= 1 lakh  AAAAA1111A                     Not Registered_NA_ _    \n",
       "3      1 – 5 lakh  AAAAA1111A                     Not Registered_NA_ _    \n",
       "4       <= 1 lakh  AAAAA1111A                    Not Registered_N/A_ _    \n",
       "\n",
       "  ADDITIONAL REG./LICENSE NAME OF MAIN ENTERPRISE PAN OF MAIN ENTERPRISE  \\\n",
       "0   Not Registered_NA_ _                      NaN             AAAAA1111A   \n",
       "1   Not Registered_NA_ _                      NaN             AAAAA1111A   \n",
       "2   Not Registered_NA_ _                      NaN             AAAAA1111A   \n",
       "3   Not Registered_NA_ _                      NaN             AAAAA1111A   \n",
       "4  Not Registered_N/A_ _                      NaN             AAAAA1111A   \n",
       "\n",
       "  REG. AUTHORITY OF MAIN ENTERPRISE   Latitude  LONGITUDE  \\\n",
       "0                               NaN  25.687525  90.281694   \n",
       "1                               NaN  25.780053  84.157858   \n",
       "2                               NaN  25.778171  84.156868   \n",
       "3                               NaN  25.778911  84.156033   \n",
       "4                               NaN  23.699866  88.190199   \n",
       "\n",
       "            CREATED ON           START TIME             END TIME  \\\n",
       "0  2019-07-15 11:22:27  2019-07-15 16:37:02  2019-07-15 16:52:20   \n",
       "1  2019-07-15 05:38:27  2019-07-03 13:09:44  2019-07-03 13:12:19   \n",
       "2  2019-07-15 05:38:24  2019-07-03 13:22:31  2019-07-03 13:26:19   \n",
       "3  2019-07-15 05:38:26  2019-07-03 13:12:53  2019-07-03 13:18:34   \n",
       "4  2019-07-15 03:43:58  2019-07-14 18:32:15  2019-07-14 18:41:16   \n",
       "\n",
       "   SURVEY STATUS        APP VERSION  \n",
       "0              1  Beta version-5.10  \n",
       "1              1  Beta version-5.15  \n",
       "2              1  Beta version-5.15  \n",
       "3              1  Beta version-5.15  \n",
       "4              1  Beta version-5.15  "
      ]
     },
     "execution_count": 4,
     "metadata": {},
     "output_type": "execute_result"
    }
   ],
   "source": [
    "df.head()"
   ]
  },
  {
   "cell_type": "code",
   "execution_count": 14,
   "metadata": {},
   "outputs": [
    {
     "data": {
      "text/plain": [
       "Index(['SR No', 'SURVEY ID', 'ENUMERATOR ID', 'ENUMERATOR NAME', 'CSCID',\n",
       "       'VLE NAME', 'STATE CODE', 'STATE NAME', 'DISTRICT CODE',\n",
       "       'DISTRICT NAME', 'TOWN CODE', 'TOWN NAME', 'WARD NUMBER', 'WARD NAME',\n",
       "       'GP CODE', 'GP NAME', 'VILLAGE CODE', 'VILLAGE NAME', 'BLOCK CODE',\n",
       "       'BLOCK NAME', 'IV UNIT CODE', 'IV UNIT NAME', 'UFS BLOCK CODE',\n",
       "       'UFS BLOCK NAME', 'PINCODE', 'SURVEY AREA TYPE', 'EC HOUSE ADDRESS',\n",
       "       'PURPOSE OF EC HOUSE', 'EC HOUSE NUMBER', 'NAME OF ESTABLISHMENT/OWNER',\n",
       "       'ADDRESS', 'MOBILE OF MANAGER/OWNER',\n",
       "       'EMAIL OF ESTABLISHMENT/MANAGER/OWNER', 'NATURE OF ECONOMIC ACTIVITY',\n",
       "       'SECTION NIC CODE', 'SECTION', 'DIVISION NIC CODE', 'DIVISION',\n",
       "       'GROUP NIC CODE', 'GROUP', 'OWNERSHIP(CODE)', 'MAJOR SOURCE OF FINANCE',\n",
       "       'HIRED WORKER(AS ON DATE)', 'NON HIRED WORKER(AS ON DATE)',\n",
       "       'CONTRACTUAL WORKER(AS ON DATE)', 'USES IT FOR BUISNESS OPERATION',\n",
       "       'MANUFACTURING SERVICES', 'EXPORTING UNIT', 'IMPORTING UNIT',\n",
       "       'INVESTMENT', 'ANNUAL TURNOVER', 'PAN NUMBER', 'REGISTERING AUTHORITY',\n",
       "       'ADDITIONAL REG./LICENSE', 'NAME OF MAIN ENTERPRISE',\n",
       "       'PAN OF MAIN ENTERPRISE', 'REG. AUTHORITY OF MAIN ENTERPRISE',\n",
       "       'Latitude', 'LONGITUDE', 'CREATED ON', 'START TIME', 'END TIME',\n",
       "       'SURVEY STATUS', 'APP VERSION'],\n",
       "      dtype='object')"
      ]
     },
     "execution_count": 14,
     "metadata": {},
     "output_type": "execute_result"
    }
   ],
   "source": [
    "df.columns"
   ]
  },
  {
   "cell_type": "code",
   "execution_count": 15,
   "metadata": {},
   "outputs": [
    {
     "data": {
      "text/plain": [
       "array(['rural', 'urban'], dtype=object)"
      ]
     },
     "execution_count": 15,
     "metadata": {},
     "output_type": "execute_result"
    }
   ],
   "source": [
    "df['SURVEY AREA TYPE'].unique()"
   ]
  },
  {
   "cell_type": "code",
   "execution_count": 37,
   "metadata": {},
   "outputs": [],
   "source": [
    "d1 = df[['SURVEY AREA TYPE', 'SURVEY ID']].drop_duplicates().groupby(['SURVEY AREA TYPE']).count().reset_index()\n",
    "d1.columns = ['SURVEY AREA TYPE', 'count_commercial']"
   ]
  },
  {
   "cell_type": "code",
   "execution_count": 29,
   "metadata": {},
   "outputs": [],
   "source": [
    "df1 = pd.read_csv(r'C:\\Users\\warm cuddles\\Downloads\\Compressed\\FW Application Data as of 14-07 to 15-07\\others_report_from_2019_07_14_to_2019_07_15.csv')"
   ]
  },
  {
   "cell_type": "code",
   "execution_count": 39,
   "metadata": {},
   "outputs": [],
   "source": [
    "d2 = df1[['SURVEY AREA TYPE', 'SURVEY ID']].drop_duplicates().groupby(['SURVEY AREA TYPE']).count().reset_index(drop = True)\n",
    "d2.columns = ['count_others']"
   ]
  },
  {
   "cell_type": "code",
   "execution_count": 31,
   "metadata": {},
   "outputs": [],
   "source": [
    "df2 = pd.read_csv(r'C:\\Users\\warm cuddles\\Downloads\\Compressed\\FW Application Data as of 14-07 to 15-07\\residential_cum_commercial_report_from_2019_07_14_to_2019_07_15.csv')"
   ]
  },
  {
   "cell_type": "code",
   "execution_count": 40,
   "metadata": {},
   "outputs": [],
   "source": [
    "d3 = df2[['SURVEY AREA TYPE', 'SURVEY ID']].drop_duplicates().groupby(['SURVEY AREA TYPE']).count().reset_index(drop = True)\n",
    "d3.columns = ['count_resd_cum_comm']"
   ]
  },
  {
   "cell_type": "code",
   "execution_count": 68,
   "metadata": {},
   "outputs": [],
   "source": [
    "matrix1 = pd.concat([d1, d2, d3], axis = 1)"
   ]
  },
  {
   "cell_type": "code",
   "execution_count": 69,
   "metadata": {},
   "outputs": [
    {
     "data": {
      "text/html": [
       "<div>\n",
       "<style scoped>\n",
       "    .dataframe tbody tr th:only-of-type {\n",
       "        vertical-align: middle;\n",
       "    }\n",
       "\n",
       "    .dataframe tbody tr th {\n",
       "        vertical-align: top;\n",
       "    }\n",
       "\n",
       "    .dataframe thead th {\n",
       "        text-align: right;\n",
       "    }\n",
       "</style>\n",
       "<table border=\"1\" class=\"dataframe\">\n",
       "  <thead>\n",
       "    <tr style=\"text-align: right;\">\n",
       "      <th></th>\n",
       "      <th>SURVEY AREA TYPE</th>\n",
       "      <th>count_commercial</th>\n",
       "      <th>count_others</th>\n",
       "      <th>count_resd_cum_comm</th>\n",
       "    </tr>\n",
       "  </thead>\n",
       "  <tbody>\n",
       "    <tr>\n",
       "      <th>0</th>\n",
       "      <td>rural</td>\n",
       "      <td>148</td>\n",
       "      <td>47</td>\n",
       "      <td>109</td>\n",
       "    </tr>\n",
       "    <tr>\n",
       "      <th>1</th>\n",
       "      <td>urban</td>\n",
       "      <td>253</td>\n",
       "      <td>245</td>\n",
       "      <td>249</td>\n",
       "    </tr>\n",
       "  </tbody>\n",
       "</table>\n",
       "</div>"
      ],
      "text/plain": [
       "  SURVEY AREA TYPE  count_commercial  count_others  count_resd_cum_comm\n",
       "0            rural               148            47                  109\n",
       "1            urban               253           245                  249"
      ]
     },
     "execution_count": 69,
     "metadata": {},
     "output_type": "execute_result"
    }
   ],
   "source": [
    "matrix1"
   ]
  },
  {
   "cell_type": "code",
   "execution_count": 44,
   "metadata": {
    "scrolled": true
   },
   "outputs": [
    {
     "data": {
      "text/plain": [
       "Index(['SR No', 'SURVEY ID', 'ENUMERATOR ID', 'ENUMERATOR NAME', 'CSCID',\n",
       "       'VLE NAME', 'STATE CODE', 'STATE NAME', 'DISTRICT CODE',\n",
       "       'DISTRICT NAME', 'TOWN CODE', 'TOWN NAME', 'WARD NUMBER', 'WARD NAME',\n",
       "       'GP CODE', 'GP NAME', 'VILLAGE CODE', 'VILLAGE NAME', 'BLOCK CODE',\n",
       "       'BLOCK NAME', 'IV UNIT CODE', 'IV UNIT NAME', 'UFS BLOCK CODE',\n",
       "       'UFS BLOCK NAME', 'PINCODE', 'SURVEY AREA TYPE', 'EC HOUSE ADDRESS',\n",
       "       'PURPOSE OF EC HOUSE', 'EC HOUSE NUMBER', 'NAME OF ESTABLISHMENT/OWNER',\n",
       "       'ADDRESS', 'MOBILE OF MANAGER/OWNER',\n",
       "       'EMAIL OF ESTABLISHMENT/MANAGER/OWNER', 'NATURE OF ECONOMIC ACTIVITY',\n",
       "       'SECTION NIC CODE', 'SECTION', 'DIVISION NIC CODE', 'DIVISION',\n",
       "       'GROUP NIC CODE', 'GROUP', 'OWNERSHIP(CODE)', 'MAJOR SOURCE OF FINANCE',\n",
       "       'HIRED WORKER(AS ON DATE)', 'NON HIRED WORKER(AS ON DATE)',\n",
       "       'CONTRACTUAL WORKER(AS ON DATE)', 'USES IT FOR BUISNESS OPERATION',\n",
       "       'MANUFACTURING SERVICES', 'EXPORTING UNIT', 'IMPORTING UNIT',\n",
       "       'INVESTMENT', 'ANNUAL TURNOVER', 'PAN NUMBER', 'REGISTERING AUTHORITY',\n",
       "       'ADDITIONAL REG./LICENSE', 'NAME OF MAIN ENTERPRISE',\n",
       "       'PAN OF MAIN ENTERPRISE', 'REG. AUTHORITY OF MAIN ENTERPRISE',\n",
       "       'Latitude', 'LONGITUDE', 'CREATED ON', 'START TIME', 'END TIME',\n",
       "       'SURVEY STATUS', 'APP VERSION'],\n",
       "      dtype='object')"
      ]
     },
     "execution_count": 44,
     "metadata": {},
     "output_type": "execute_result"
    }
   ],
   "source": [
    "df.columns"
   ]
  },
  {
   "cell_type": "code",
   "execution_count": 45,
   "metadata": {},
   "outputs": [
    {
     "data": {
      "text/plain": [
       "array(['Manufacturing', 'Services', 'Trading', 'Construction',\n",
       "       'Electricity, Gas and water supply ', 'Primary'], dtype=object)"
      ]
     },
     "execution_count": 45,
     "metadata": {},
     "output_type": "execute_result"
    }
   ],
   "source": [
    "df['NATURE OF ECONOMIC ACTIVITY'].unique()"
   ]
  },
  {
   "cell_type": "code",
   "execution_count": 63,
   "metadata": {},
   "outputs": [],
   "source": [
    "r1 = df[['NATURE OF ECONOMIC ACTIVITY', 'SURVEY ID']].drop_duplicates().groupby(['NATURE OF ECONOMIC ACTIVITY']).count().reset_index(drop = True)\n",
    "r1.columns = ['count_commercial']"
   ]
  },
  {
   "cell_type": "code",
   "execution_count": 47,
   "metadata": {},
   "outputs": [
    {
     "data": {
      "text/plain": [
       "Index(['SR No', 'SURVEY ID', 'ENUMERATOR ID', 'ENUMERATOR NAME', 'CSCID',\n",
       "       'VLE NAME', 'STATE CODE', 'STATE NAME', 'DISTRICT CODE',\n",
       "       'DISTRICT NAME', 'TOWN CODE', 'TOWN NAME', 'WARD NUMBER', 'WARD NAME',\n",
       "       'GP CODE', 'GP NAME', 'VILLAGE CODE', 'VILLAGE NAME', 'BLOCK CODE',\n",
       "       'BLOCK NAME', 'IV UNIT CODE', 'IV UNIT NAME', 'UFS BLOCK CODE',\n",
       "       'UFS BLOCK NAME', 'PINCODE', 'REMARK', 'SURVEY AREA TYPE',\n",
       "       'EC HOUSE ADDRESS', 'PURPOSE OF EC HOUSE', 'EC HOUSE NUMBER',\n",
       "       'LATITUDE', 'LONGITUDE', 'CREATED ON', 'START TIME', 'END TIME',\n",
       "       'SURVEY STATUS', 'APP VERSION'],\n",
       "      dtype='object')"
      ]
     },
     "execution_count": 47,
     "metadata": {},
     "output_type": "execute_result"
    }
   ],
   "source": [
    "df1.columns"
   ]
  },
  {
   "cell_type": "code",
   "execution_count": 48,
   "metadata": {},
   "outputs": [
    {
     "data": {
      "text/plain": [
       "Index(['SR No', 'SURVEY ID', 'ENUMERATOR ID', 'ENUMERATOR NAME', 'CSCID',\n",
       "       'VLE NAME', 'STATE CODE', 'STATE NAME', 'DISTRICT CODE',\n",
       "       'DISTRICT NAME', 'TOWN CODE', 'TOWN NAME', 'WARD NUMBER', 'WARD NAME',\n",
       "       'GP CODE', 'GP NAME', 'VILLAGE CODE', 'VILLAGE NAME', 'BLOCK CODE',\n",
       "       'BLOCK NAME', 'IV UNIT CODE', 'IV UNIT NAME', 'UFS BLOCK CODE',\n",
       "       'UFS BLOCK NAME', 'PINCODE', 'SURVEY AREA TYPE', 'EC HOUSE ADDRESS',\n",
       "       'PURPOSE OF EC HOUSE', 'EC HOUSE NUMBER', 'SERIAL NO HOUSEHOLD',\n",
       "       'NAME OF HOH', 'MOBILE OF HEAD PERSON', 'MEMBER RESIDE HOUSE',\n",
       "       'MEMBER REISDE ACTIVITY', 'NO HOUSEHOLD ESTABLISHMENT',\n",
       "       'OWNERSHIP OF ESTABLISHMENT', 'TYPE OF ESTABLISHMENT',\n",
       "       'SERIAL NO ESTABLISHMENT', 'NAME OF OWNER', 'MOBILE OF OWNER',\n",
       "       'NATURE OF ECONOMIC ACTIVITY', 'SECTION NIC CODE', 'SECTION',\n",
       "       'DIVISION NIC CODE', 'DIVISION', 'GROUP NIC CODE', 'GROUP', 'AGE',\n",
       "       'GENDER', 'SOCIAL GROUP', 'RELIGION', 'NATURE OF ESTABLISHMENT',\n",
       "       'MAJOR SOURCE OF FINANCE', 'HIRED WORKER(AS ON DATE)',\n",
       "       'NON HIRED WORKER(AS ON DATE)', 'CONTRACTUAL WORKER(AS ON DATE)',\n",
       "       'MANUFACTURING SERVICES', 'EXPORTING UNIT', 'EXPORT SERVICES',\n",
       "       'INVESTMENT', 'ANNUAL TURNOVER', 'LATITUDE', 'LONGITUDE', 'CREATED ON',\n",
       "       'START TIME', 'END TIME', 'SURVEY STATUS', 'APP VERSION'],\n",
       "      dtype='object')"
      ]
     },
     "execution_count": 48,
     "metadata": {},
     "output_type": "execute_result"
    }
   ],
   "source": [
    "df2.columns"
   ]
  },
  {
   "cell_type": "code",
   "execution_count": 62,
   "metadata": {},
   "outputs": [],
   "source": [
    "r2 = df2[['NATURE OF ECONOMIC ACTIVITY', 'SURVEY ID']].drop_duplicates().groupby(['NATURE OF ECONOMIC ACTIVITY']).count().reset_index()\n",
    "r2.columns = ['NATURE OF ECONOMIC ACTIVITY', 'count_resd_cum_comm']"
   ]
  },
  {
   "cell_type": "code",
   "execution_count": 70,
   "metadata": {},
   "outputs": [
    {
     "data": {
      "text/html": [
       "<div>\n",
       "<style scoped>\n",
       "    .dataframe tbody tr th:only-of-type {\n",
       "        vertical-align: middle;\n",
       "    }\n",
       "\n",
       "    .dataframe tbody tr th {\n",
       "        vertical-align: top;\n",
       "    }\n",
       "\n",
       "    .dataframe thead th {\n",
       "        text-align: right;\n",
       "    }\n",
       "</style>\n",
       "<table border=\"1\" class=\"dataframe\">\n",
       "  <thead>\n",
       "    <tr style=\"text-align: right;\">\n",
       "      <th></th>\n",
       "      <th>NATURE OF ECONOMIC ACTIVITY</th>\n",
       "      <th>count_resd_cum_comm</th>\n",
       "      <th>count_commercial</th>\n",
       "    </tr>\n",
       "  </thead>\n",
       "  <tbody>\n",
       "    <tr>\n",
       "      <th>0</th>\n",
       "      <td>Construction</td>\n",
       "      <td>25</td>\n",
       "      <td>24.0</td>\n",
       "    </tr>\n",
       "    <tr>\n",
       "      <th>1</th>\n",
       "      <td>Electricity, Gas and water supply</td>\n",
       "      <td>19</td>\n",
       "      <td>22.0</td>\n",
       "    </tr>\n",
       "    <tr>\n",
       "      <th>2</th>\n",
       "      <td>Manufacturing</td>\n",
       "      <td>83</td>\n",
       "      <td>83.0</td>\n",
       "    </tr>\n",
       "    <tr>\n",
       "      <th>3</th>\n",
       "      <td>Primary</td>\n",
       "      <td>118</td>\n",
       "      <td>47.0</td>\n",
       "    </tr>\n",
       "    <tr>\n",
       "      <th>4</th>\n",
       "      <td>Select Nature of economic activity</td>\n",
       "      <td>2</td>\n",
       "      <td>134.0</td>\n",
       "    </tr>\n",
       "    <tr>\n",
       "      <th>5</th>\n",
       "      <td>Services</td>\n",
       "      <td>81</td>\n",
       "      <td>91.0</td>\n",
       "    </tr>\n",
       "    <tr>\n",
       "      <th>6</th>\n",
       "      <td>Trading</td>\n",
       "      <td>36</td>\n",
       "      <td>NaN</td>\n",
       "    </tr>\n",
       "  </tbody>\n",
       "</table>\n",
       "</div>"
      ],
      "text/plain": [
       "          NATURE OF ECONOMIC ACTIVITY  count_resd_cum_comm  count_commercial\n",
       "0                        Construction                   25              24.0\n",
       "1  Electricity, Gas and water supply                    19              22.0\n",
       "2                       Manufacturing                   83              83.0\n",
       "3                             Primary                  118              47.0\n",
       "4  Select Nature of economic activity                    2             134.0\n",
       "5                            Services                   81              91.0\n",
       "6                             Trading                   36               NaN"
      ]
     },
     "execution_count": 70,
     "metadata": {},
     "output_type": "execute_result"
    }
   ],
   "source": [
    "matrix2 = pd.concat([r2, r1], axis = 1)\n",
    "matrix2"
   ]
  },
  {
   "cell_type": "code",
   "execution_count": 79,
   "metadata": {},
   "outputs": [
    {
     "data": {
      "text/plain": [
       "Index(['SR No', 'SURVEY ID', 'ENUMERATOR ID', 'ENUMERATOR NAME', 'CSCID',\n",
       "       'VLE NAME', 'STATE CODE', 'STATE NAME', 'DISTRICT CODE',\n",
       "       'DISTRICT NAME', 'TOWN CODE', 'TOWN NAME', 'WARD NUMBER', 'WARD NAME',\n",
       "       'GP CODE', 'GP NAME', 'VILLAGE CODE', 'VILLAGE NAME', 'BLOCK CODE',\n",
       "       'BLOCK NAME', 'IV UNIT CODE', 'IV UNIT NAME', 'UFS BLOCK CODE',\n",
       "       'UFS BLOCK NAME', 'PINCODE', 'SURVEY AREA TYPE', 'EC HOUSE ADDRESS',\n",
       "       'PURPOSE OF EC HOUSE', 'EC HOUSE NUMBER', 'NAME OF ESTABLISHMENT/OWNER',\n",
       "       'ADDRESS', 'MOBILE OF MANAGER/OWNER',\n",
       "       'EMAIL OF ESTABLISHMENT/MANAGER/OWNER', 'NATURE OF ECONOMIC ACTIVITY',\n",
       "       'SECTION NIC CODE', 'SECTION', 'DIVISION NIC CODE', 'DIVISION',\n",
       "       'GROUP NIC CODE', 'GROUP', 'OWNERSHIP(CODE)', 'MAJOR SOURCE OF FINANCE',\n",
       "       'HIRED WORKER(AS ON DATE)', 'NON HIRED WORKER(AS ON DATE)',\n",
       "       'CONTRACTUAL WORKER(AS ON DATE)', 'USES IT FOR BUISNESS OPERATION',\n",
       "       'MANUFACTURING SERVICES', 'EXPORTING UNIT', 'IMPORTING UNIT',\n",
       "       'INVESTMENT', 'ANNUAL TURNOVER', 'PAN NUMBER', 'REGISTERING AUTHORITY',\n",
       "       'ADDITIONAL REG./LICENSE', 'NAME OF MAIN ENTERPRISE',\n",
       "       'PAN OF MAIN ENTERPRISE', 'REG. AUTHORITY OF MAIN ENTERPRISE',\n",
       "       'Latitude', 'LONGITUDE', 'CREATED ON', 'START TIME', 'END TIME',\n",
       "       'SURVEY STATUS', 'APP VERSION'],\n",
       "      dtype='object')"
      ]
     },
     "execution_count": 79,
     "metadata": {},
     "output_type": "execute_result"
    }
   ],
   "source": [
    "df.columns"
   ]
  },
  {
   "cell_type": "code",
   "execution_count": 139,
   "metadata": {},
   "outputs": [
    {
     "data": {
      "text/plain": [
       "array(['12', nan, '15', '2', '13', '10', '6', '9', '4', '5', '1', '14',\n",
       "       '7', '3', '8', '02', '50', '03',\n",
       "       '2e7SKLo8/yLbFI84D5Yotg\\n:YWFhYWFhYWFhYWFhYWFhYQ\\n',\n",
       "       'HP1yJPGJyUU6vzmE9sGPfQ\\n:YWFhYWFhYWFhYWFhYWFhYQ\\n', '100', '21',\n",
       "       '20'], dtype=object)"
      ]
     },
     "execution_count": 139,
     "metadata": {},
     "output_type": "execute_result"
    }
   ],
   "source": [
    "df['CONTRACTUAL WORKER(AS ON DATE)'].unique()"
   ]
  },
  {
   "cell_type": "code",
   "execution_count": 147,
   "metadata": {},
   "outputs": [],
   "source": [
    "df_re = df[(df['CONTRACTUAL WORKER(AS ON DATE)'] != '2e7SKLo8/yLbFI84D5Yotg\\n:YWFhYWFhYWFhYWFhYWFhYQ\\n') & (df['CONTRACTUAL WORKER(AS ON DATE)'] != 'HP1yJPGJyUU6vzmE9sGPfQ\\n:YWFhYWFhYWFhYWFhYWFhYQ\\n')]"
   ]
  },
  {
   "cell_type": "code",
   "execution_count": 164,
   "metadata": {
    "scrolled": false
   },
   "outputs": [
    {
     "data": {
      "text/plain": [
       "Text(0.5, 0.98, 'Commercial')"
      ]
     },
     "execution_count": 164,
     "metadata": {},
     "output_type": "execute_result"
    },
    {
     "data": {
      "image/png": "[encoded data removed]",
      "text/plain": [
       "<Figure size 2016x720 with 3 Axes>"
      ]
     },
     "metadata": {
      "needs_background": "light"
     },
     "output_type": "display_data"
    }
   ],
   "source": [
    "%matplotlib inline\n",
    "f = plt.figure(figsize=(28, 10))\n",
    "ax = f.add_subplot(311)\n",
    "ax2 = f.add_subplot(312)\n",
    "ax3 = f.add_subplot(313)\n",
    "\n",
    "sns.countplot(x=\"HIRED WORKER(AS ON DATE)\", data=df_re, ax = ax)\n",
    "sns.countplot(x=\"NON HIRED WORKER(AS ON DATE)\", data=df_re, ax = ax2)\n",
    "sns.countplot(x=\"CONTRACTUAL WORKER(AS ON DATE)\", data=df_re, ax = ax3)\n",
    "plt.suptitle('Commercial')"
   ]
  },
  {
   "cell_type": "code",
   "execution_count": 150,
   "metadata": {},
   "outputs": [
    {
     "data": {
      "text/plain": [
       "Index(['SR No', 'SURVEY ID', 'ENUMERATOR ID', 'ENUMERATOR NAME', 'CSCID',\n",
       "       'VLE NAME', 'STATE CODE', 'STATE NAME', 'DISTRICT CODE',\n",
       "       'DISTRICT NAME', 'TOWN CODE', 'TOWN NAME', 'WARD NUMBER', 'WARD NAME',\n",
       "       'GP CODE', 'GP NAME', 'VILLAGE CODE', 'VILLAGE NAME', 'BLOCK CODE',\n",
       "       'BLOCK NAME', 'IV UNIT CODE', 'IV UNIT NAME', 'UFS BLOCK CODE',\n",
       "       'UFS BLOCK NAME', 'PINCODE', 'SURVEY AREA TYPE', 'EC HOUSE ADDRESS',\n",
       "       'PURPOSE OF EC HOUSE', 'EC HOUSE NUMBER', 'SERIAL NO HOUSEHOLD',\n",
       "       'NAME OF HOH', 'MOBILE OF HEAD PERSON', 'MEMBER RESIDE HOUSE',\n",
       "       'MEMBER REISDE ACTIVITY', 'NO HOUSEHOLD ESTABLISHMENT',\n",
       "       'OWNERSHIP OF ESTABLISHMENT', 'TYPE OF ESTABLISHMENT',\n",
       "       'SERIAL NO ESTABLISHMENT', 'NAME OF OWNER', 'MOBILE OF OWNER',\n",
       "       'NATURE OF ECONOMIC ACTIVITY', 'SECTION NIC CODE', 'SECTION',\n",
       "       'DIVISION NIC CODE', 'DIVISION', 'GROUP NIC CODE', 'GROUP', 'AGE',\n",
       "       'GENDER', 'SOCIAL GROUP', 'RELIGION', 'NATURE OF ESTABLISHMENT',\n",
       "       'MAJOR SOURCE OF FINANCE', 'HIRED WORKER(AS ON DATE)',\n",
       "       'NON HIRED WORKER(AS ON DATE)', 'CONTRACTUAL WORKER(AS ON DATE)',\n",
       "       'MANUFACTURING SERVICES', 'EXPORTING UNIT', 'EXPORT SERVICES',\n",
       "       'INVESTMENT', 'ANNUAL TURNOVER', 'LATITUDE', 'LONGITUDE', 'CREATED ON',\n",
       "       'START TIME', 'END TIME', 'SURVEY STATUS', 'APP VERSION'],\n",
       "      dtype='object')"
      ]
     },
     "execution_count": 150,
     "metadata": {},
     "output_type": "execute_result"
    }
   ],
   "source": [
    "df2.columns"
   ]
  },
  {
   "cell_type": "code",
   "execution_count": 165,
   "metadata": {},
   "outputs": [
    {
     "data": {
      "text/plain": [
       "Text(0.5, 0.98, 'Res_cum_comm')"
      ]
     },
     "execution_count": 165,
     "metadata": {},
     "output_type": "execute_result"
    },
    {
     "data": {
      "image/png": "[encoded data removed]",
      "text/plain": [
       "<Figure size 2016x720 with 3 Axes>"
      ]
     },
     "metadata": {
      "needs_background": "light"
     },
     "output_type": "display_data"
    }
   ],
   "source": [
    "f = plt.figure(figsize=(28, 10))\n",
    "ax = f.add_subplot(311)\n",
    "ax2 = f.add_subplot(312)\n",
    "ax3 = f.add_subplot(313)\n",
    "sns.countplot(x=\"HIRED WORKER(AS ON DATE)\", data=df2, ax = ax)\n",
    "sns.countplot(x=\"NON HIRED WORKER(AS ON DATE)\", data=df2, ax = ax2)\n",
    "sns.countplot(x=\"CONTRACTUAL WORKER(AS ON DATE)\", data=df2, ax = ax3)\n",
    "plt.suptitle('Res_cum_comm')"
   ]
  },
  {
   "cell_type": "code",
   "execution_count": 166,
   "metadata": {},
   "outputs": [
    {
     "data": {
      "text/plain": [
       "Index(['SR No', 'SURVEY ID', 'ENUMERATOR ID', 'ENUMERATOR NAME', 'CSCID',\n",
       "       'VLE NAME', 'STATE CODE', 'STATE NAME', 'DISTRICT CODE',\n",
       "       'DISTRICT NAME', 'TOWN CODE', 'TOWN NAME', 'WARD NUMBER', 'WARD NAME',\n",
       "       'GP CODE', 'GP NAME', 'VILLAGE CODE', 'VILLAGE NAME', 'BLOCK CODE',\n",
       "       'BLOCK NAME', 'IV UNIT CODE', 'IV UNIT NAME', 'UFS BLOCK CODE',\n",
       "       'UFS BLOCK NAME', 'PINCODE', 'SURVEY AREA TYPE', 'EC HOUSE ADDRESS',\n",
       "       'PURPOSE OF EC HOUSE', 'EC HOUSE NUMBER', 'NAME OF ESTABLISHMENT/OWNER',\n",
       "       'ADDRESS', 'MOBILE OF MANAGER/OWNER',\n",
       "       'EMAIL OF ESTABLISHMENT/MANAGER/OWNER', 'NATURE OF ECONOMIC ACTIVITY',\n",
       "       'SECTION NIC CODE', 'SECTION', 'DIVISION NIC CODE', 'DIVISION',\n",
       "       'GROUP NIC CODE', 'GROUP', 'OWNERSHIP(CODE)', 'MAJOR SOURCE OF FINANCE',\n",
       "       'HIRED WORKER(AS ON DATE)', 'NON HIRED WORKER(AS ON DATE)',\n",
       "       'CONTRACTUAL WORKER(AS ON DATE)', 'USES IT FOR BUISNESS OPERATION',\n",
       "       'MANUFACTURING SERVICES', 'EXPORTING UNIT', 'IMPORTING UNIT',\n",
       "       'INVESTMENT', 'ANNUAL TURNOVER', 'PAN NUMBER', 'REGISTERING AUTHORITY',\n",
       "       'ADDITIONAL REG./LICENSE', 'NAME OF MAIN ENTERPRISE',\n",
       "       'PAN OF MAIN ENTERPRISE', 'REG. AUTHORITY OF MAIN ENTERPRISE',\n",
       "       'Latitude', 'LONGITUDE', 'CREATED ON', 'START TIME', 'END TIME',\n",
       "       'SURVEY STATUS', 'APP VERSION'],\n",
       "      dtype='object')"
      ]
     },
     "execution_count": 166,
     "metadata": {},
     "output_type": "execute_result"
    }
   ],
   "source": [
    "df_re.columns"
   ]
  },
  {
   "cell_type": "code",
   "execution_count": 207,
   "metadata": {},
   "outputs": [
    {
     "name": "stderr",
     "output_type": "stream",
     "text": [
      "C:\\ProgramData\\Anaconda3\\lib\\site-packages\\ipykernel_launcher.py:1: SettingWithCopyWarning: \n",
      "A value is trying to be set on a copy of a slice from a DataFrame.\n",
      "Try using .loc[row_indexer,col_indexer] = value instead\n",
      "\n",
      "See the caveats in the documentation: http://pandas.pydata.org/pandas-docs/stable/indexing.html#indexing-view-versus-copy\n",
      "  \"\"\"Entry point for launching an IPython kernel.\n"
     ]
    }
   ],
   "source": [
    "df_re['End-Start'] = pd.to_datetime(df_re['END TIME'])-pd.to_datetime(df_re['START TIME'])"
   ]
  },
  {
   "cell_type": "code",
   "execution_count": 208,
   "metadata": {},
   "outputs": [
    {
     "name": "stderr",
     "output_type": "stream",
     "text": [
      "C:\\ProgramData\\Anaconda3\\lib\\site-packages\\ipykernel_launcher.py:1: SettingWithCopyWarning: \n",
      "A value is trying to be set on a copy of a slice from a DataFrame.\n",
      "Try using .loc[row_indexer,col_indexer] = value instead\n",
      "\n",
      "See the caveats in the documentation: http://pandas.pydata.org/pandas-docs/stable/indexing.html#indexing-view-versus-copy\n",
      "  \"\"\"Entry point for launching an IPython kernel.\n"
     ]
    }
   ],
   "source": [
    "df_re['start_time_only'] = pd.to_datetime(df_re['START TIME']).dt.time"
   ]
  },
  {
   "cell_type": "code",
   "execution_count": 219,
   "metadata": {},
   "outputs": [
    {
     "data": {
      "text/plain": [
       "Index(['SR No', 'SURVEY ID', 'ENUMERATOR ID', 'ENUMERATOR NAME', 'CSCID',\n",
       "       'VLE NAME', 'STATE CODE', 'STATE NAME', 'DISTRICT CODE',\n",
       "       'DISTRICT NAME', 'TOWN CODE', 'TOWN NAME', 'WARD NUMBER', 'WARD NAME',\n",
       "       'GP CODE', 'GP NAME', 'VILLAGE CODE', 'VILLAGE NAME', 'BLOCK CODE',\n",
       "       'BLOCK NAME', 'IV UNIT CODE', 'IV UNIT NAME', 'UFS BLOCK CODE',\n",
       "       'UFS BLOCK NAME', 'PINCODE', 'SURVEY AREA TYPE', 'EC HOUSE ADDRESS',\n",
       "       'PURPOSE OF EC HOUSE', 'EC HOUSE NUMBER', 'NAME OF ESTABLISHMENT/OWNER',\n",
       "       'ADDRESS', 'MOBILE OF MANAGER/OWNER',\n",
       "       'EMAIL OF ESTABLISHMENT/MANAGER/OWNER', 'NATURE OF ECONOMIC ACTIVITY',\n",
       "       'SECTION NIC CODE', 'SECTION', 'DIVISION NIC CODE', 'DIVISION',\n",
       "       'GROUP NIC CODE', 'GROUP', 'OWNERSHIP(CODE)', 'MAJOR SOURCE OF FINANCE',\n",
       "       'HIRED WORKER(AS ON DATE)', 'NON HIRED WORKER(AS ON DATE)',\n",
       "       'CONTRACTUAL WORKER(AS ON DATE)', 'USES IT FOR BUISNESS OPERATION',\n",
       "       'MANUFACTURING SERVICES', 'EXPORTING UNIT', 'IMPORTING UNIT',\n",
       "       'INVESTMENT', 'ANNUAL TURNOVER', 'PAN NUMBER', 'REGISTERING AUTHORITY',\n",
       "       'ADDITIONAL REG./LICENSE', 'NAME OF MAIN ENTERPRISE',\n",
       "       'PAN OF MAIN ENTERPRISE', 'REG. AUTHORITY OF MAIN ENTERPRISE',\n",
       "       'Latitude', 'LONGITUDE', 'CREATED ON', 'START TIME', 'END TIME',\n",
       "       'SURVEY STATUS', 'APP VERSION'],\n",
       "      dtype='object')"
      ]
     },
     "execution_count": 219,
     "metadata": {},
     "output_type": "execute_result"
    }
   ],
   "source": [
    "df_re.columns"
   ]
  },
  {
   "cell_type": "code",
   "execution_count": 218,
   "metadata": {},
   "outputs": [
    {
     "name": "stderr",
     "output_type": "stream",
     "text": [
      "C:\\ProgramData\\Anaconda3\\lib\\site-packages\\pandas\\core\\frame.py:3940: SettingWithCopyWarning: \n",
      "A value is trying to be set on a copy of a slice from a DataFrame\n",
      "\n",
      "See the caveats in the documentation: http://pandas.pydata.org/pandas-docs/stable/indexing.html#indexing-view-versus-copy\n",
      "  errors=errors)\n"
     ]
    }
   ],
   "source": [
    "df_re.drop(['End-Start', 'start_time_only'], inplace = True, axis = 1)"
   ]
  },
  {
   "cell_type": "code",
   "execution_count": 289,
   "metadata": {
    "scrolled": false
   },
   "outputs": [
    {
     "data": {
      "text/plain": [
       "Text(0.5, 1.0, 'Time difference in seconds end - start ---- Commercial')"
      ]
     },
     "execution_count": 289,
     "metadata": {},
     "output_type": "execute_result"
    },
    {
     "data": {
      "image/png": "[encoded data removed]",
      "text/plain": [
       "<Figure size 1440x720 with 1 Axes>"
      ]
     },
     "metadata": {
      "needs_background": "light"
     },
     "output_type": "display_data"
    }
   ],
   "source": [
    "fq_comm = pd.DataFrame()\n",
    "fq_comm = pd.DataFrame((pd.to_datetime(df_re['END TIME']) - pd.to_datetime(df_re['START TIME'])).dt.total_seconds(), columns = ['Time_diff_commercial'])\n",
    "fq_comm.plot(figsize=(20,10), linewidth=5, fontsize=20)\n",
    "plt.ylabel('Time in seconds')\n",
    "plt.xlabel('# Observations')\n",
    "plt.title('Time difference in seconds end - start ---- Commercial')"
   ]
  },
  {
   "cell_type": "code",
   "execution_count": 290,
   "metadata": {},
   "outputs": [
    {
     "data": {
      "text/plain": [
       "Text(0.5, 1.0, 'Time difference in seconds end - start-------Others')"
      ]
     },
     "execution_count": 290,
     "metadata": {},
     "output_type": "execute_result"
    },
    {
     "data": {
      "image/png": "[encoded data removed]",
      "text/plain": [
       "<Figure size 1440x720 with 1 Axes>"
      ]
     },
     "metadata": {
      "needs_background": "light"
     },
     "output_type": "display_data"
    }
   ],
   "source": [
    "fq_others = pd.DataFrame()\n",
    "fq_others = pd.DataFrame((pd.to_datetime(df1['END TIME']) - pd.to_datetime(df1['START TIME'])).dt.total_seconds(), columns = ['Time_diff_others'])\n",
    "fq_others.plot(figsize=(20,10), linewidth=5, fontsize=20)\n",
    "plt.ylabel('Time in seconds')\n",
    "plt.xlabel('# Observations')\n",
    "plt.title('Time difference in seconds end - start-------Others')"
   ]
  },
  {
   "cell_type": "code",
   "execution_count": 332,
   "metadata": {
    "scrolled": false
   },
   "outputs": [
    {
     "name": "stderr",
     "output_type": "stream",
     "text": [
      "C:\\ProgramData\\Anaconda3\\lib\\site-packages\\ipykernel_launcher.py:2: FutureWarning: convert_objects is deprecated.  To re-infer data dtypes for object columns, use Series.infer_objects()\n",
      "For all other conversions use the data-type specific converters pd.to_datetime, pd.to_timedelta and pd.to_numeric.\n",
      "  \n"
     ]
    },
    {
     "data": {
      "text/plain": [
       "Text(0.5, 1.0, 'Time difference in seconds end - start-------cum')"
      ]
     },
     "execution_count": 332,
     "metadata": {},
     "output_type": "execute_result"
    },
    {
     "data": {
      "image/png": "[encoded data removed]",
      "text/plain": [
       "<Figure size 1440x720 with 1 Axes>"
      ]
     },
     "metadata": {
      "needs_background": "light"
     },
     "output_type": "display_data"
    }
   ],
   "source": [
    "fq_cum = pd.DataFrame()\n",
    "fq_cum = pd.DataFrame(((pd.to_datetime(df2['END TIME']) - df2['START TIME'].convert_objects(convert_dates='coerce')).dt.total_seconds()), columns = ['Time_diff_CUM'])\n",
    "fq_cum.plot(figsize=(20,10), linewidth=5, fontsize=20)\n",
    "plt.ylabel('Time in seconds')\n",
    "plt.xlabel('# Observations')\n",
    "plt.title('Time difference in seconds end - start-------cum')"
   ]
  },
  {
   "cell_type": "markdown",
   "metadata": {},
   "source": [
    "## Outliers"
   ]
  },
  {
   "cell_type": "code",
   "execution_count": 333,
   "metadata": {},
   "outputs": [
    {
     "data": {
      "text/plain": [
       "Text(0.5, 0.98, 'Res_cum_comm')"
      ]
     },
     "execution_count": 333,
     "metadata": {},
     "output_type": "execute_result"
    },
    {
     "data": {
      "image/png": "[encoded data removed]",
      "text/plain": [
       "<Figure size 2016x720 with 3 Axes>"
      ]
     },
     "metadata": {
      "needs_background": "light"
     },
     "output_type": "display_data"
    }
   ],
   "source": [
    "f = plt.figure(figsize=(28, 10))\n",
    "ax = f.add_subplot(311)\n",
    "ax2 = f.add_subplot(312)\n",
    "ax3 = f.add_subplot(313)\n",
    "sns.boxplot(x=\"HIRED WORKER(AS ON DATE)\", data=df2, ax = ax)\n",
    "sns.boxplot(x=\"NON HIRED WORKER(AS ON DATE)\", data=df2, ax = ax2)\n",
    "sns.boxplot(x=\"CONTRACTUAL WORKER(AS ON DATE)\", data=df2, ax = ax3)\n",
    "plt.suptitle('Res_cum_comm')"
   ]
  },
  {
   "cell_type": "code",
   "execution_count": 347,
   "metadata": {},
   "outputs": [
    {
     "data": {
      "text/html": [
       "<div>\n",
       "<style scoped>\n",
       "    .dataframe tbody tr th:only-of-type {\n",
       "        vertical-align: middle;\n",
       "    }\n",
       "\n",
       "    .dataframe tbody tr th {\n",
       "        vertical-align: top;\n",
       "    }\n",
       "\n",
       "    .dataframe thead th {\n",
       "        text-align: right;\n",
       "    }\n",
       "</style>\n",
       "<table border=\"1\" class=\"dataframe\">\n",
       "  <thead>\n",
       "    <tr style=\"text-align: right;\">\n",
       "      <th></th>\n",
       "      <th>SURVEY AREA TYPE</th>\n",
       "      <th>count_commercial</th>\n",
       "      <th>count_others</th>\n",
       "      <th>count_resd_cum_comm</th>\n",
       "    </tr>\n",
       "  </thead>\n",
       "  <tbody>\n",
       "    <tr>\n",
       "      <th>0</th>\n",
       "      <td>rural</td>\n",
       "      <td>148</td>\n",
       "      <td>47</td>\n",
       "      <td>109</td>\n",
       "    </tr>\n",
       "    <tr>\n",
       "      <th>1</th>\n",
       "      <td>urban</td>\n",
       "      <td>253</td>\n",
       "      <td>245</td>\n",
       "      <td>249</td>\n",
       "    </tr>\n",
       "  </tbody>\n",
       "</table>\n",
       "</div>"
      ],
      "text/plain": [
       "  SURVEY AREA TYPE  count_commercial  count_others  count_resd_cum_comm\n",
       "0            rural               148            47                  109\n",
       "1            urban               253           245                  249"
      ]
     },
     "execution_count": 347,
     "metadata": {},
     "output_type": "execute_result"
    }
   ],
   "source": [
    "matrix1"
   ]
  },
  {
   "cell_type": "code",
   "execution_count": 348,
   "metadata": {},
   "outputs": [
    {
     "data": {
      "text/html": [
       "<div>\n",
       "<style scoped>\n",
       "    .dataframe tbody tr th:only-of-type {\n",
       "        vertical-align: middle;\n",
       "    }\n",
       "\n",
       "    .dataframe tbody tr th {\n",
       "        vertical-align: top;\n",
       "    }\n",
       "\n",
       "    .dataframe thead th {\n",
       "        text-align: right;\n",
       "    }\n",
       "</style>\n",
       "<table border=\"1\" class=\"dataframe\">\n",
       "  <thead>\n",
       "    <tr style=\"text-align: right;\">\n",
       "      <th></th>\n",
       "      <th>NATURE OF ECONOMIC ACTIVITY</th>\n",
       "      <th>count_resd_cum_comm</th>\n",
       "      <th>count_commercial</th>\n",
       "    </tr>\n",
       "  </thead>\n",
       "  <tbody>\n",
       "    <tr>\n",
       "      <th>0</th>\n",
       "      <td>Construction</td>\n",
       "      <td>25</td>\n",
       "      <td>24.0</td>\n",
       "    </tr>\n",
       "    <tr>\n",
       "      <th>1</th>\n",
       "      <td>Electricity, Gas and water supply</td>\n",
       "      <td>19</td>\n",
       "      <td>22.0</td>\n",
       "    </tr>\n",
       "    <tr>\n",
       "      <th>2</th>\n",
       "      <td>Manufacturing</td>\n",
       "      <td>83</td>\n",
       "      <td>83.0</td>\n",
       "    </tr>\n",
       "    <tr>\n",
       "      <th>3</th>\n",
       "      <td>Primary</td>\n",
       "      <td>118</td>\n",
       "      <td>47.0</td>\n",
       "    </tr>\n",
       "    <tr>\n",
       "      <th>4</th>\n",
       "      <td>Select Nature of economic activity</td>\n",
       "      <td>2</td>\n",
       "      <td>134.0</td>\n",
       "    </tr>\n",
       "    <tr>\n",
       "      <th>5</th>\n",
       "      <td>Services</td>\n",
       "      <td>81</td>\n",
       "      <td>91.0</td>\n",
       "    </tr>\n",
       "    <tr>\n",
       "      <th>6</th>\n",
       "      <td>Trading</td>\n",
       "      <td>36</td>\n",
       "      <td>NaN</td>\n",
       "    </tr>\n",
       "  </tbody>\n",
       "</table>\n",
       "</div>"
      ],
      "text/plain": [
       "          NATURE OF ECONOMIC ACTIVITY  count_resd_cum_comm  count_commercial\n",
       "0                        Construction                   25              24.0\n",
       "1  Electricity, Gas and water supply                    19              22.0\n",
       "2                       Manufacturing                   83              83.0\n",
       "3                             Primary                  118              47.0\n",
       "4  Select Nature of economic activity                    2             134.0\n",
       "5                            Services                   81              91.0\n",
       "6                             Trading                   36               NaN"
      ]
     },
     "execution_count": 348,
     "metadata": {},
     "output_type": "execute_result"
    }
   ],
   "source": [
    "matrix2"
   ]
  },
  {
   "cell_type": "code",
   "execution_count": null,
   "metadata": {},
   "outputs": [],
   "source": []
  }
 ],
 "metadata": {
  "kernelspec": {
   "display_name": "Python 3",
   "language": "python",
   "name": "python3"
  },
  "language_info": {
   "codemirror_mode": {
    "name": "ipython",
    "version": 3
   },
   "file_extension": ".py",
   "mimetype": "text/x-python",
   "name": "python",
   "nbconvert_exporter": "python",
   "pygments_lexer": "ipython3",
   "version": "3.7.3"
  }
 },
 "nbformat": 4,
 "nbformat_minor": 2
}
