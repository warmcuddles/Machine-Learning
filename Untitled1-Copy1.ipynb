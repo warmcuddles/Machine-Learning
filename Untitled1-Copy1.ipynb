{
 "cells": [
  {
   "cell_type": "code",
   "execution_count": 15,
   "metadata": {
    "scrolled": false
   },
   "outputs": [
    {
     "data": {
      "application/vnd.plotly.v1+json": {
       "config": {
        "plotlyServerURL": "https://plot.ly"
       },
       "data": [
        {
         "alignmentgroup": "True",
         "customdata": [
          [
           "PUDUCHERRY",
           138642453972
          ],
          [
           "PUDUCHERRY",
           142673238548
          ],
          [
           "PUDUCHERRY",
           638824973175
          ],
          [
           "PUDUCHERRY",
           257944286831
          ],
          [
           "PUDUCHERRY",
           332126748547
          ],
          [
           "PUDUCHERRY",
           612832874973
          ],
          [
           "PUDUCHERRY",
           638281273457
          ],
          [
           "PUDUCHERRY",
           845963712374
          ],
          [
           "PUDUCHERRY",
           128239347467
          ],
          [
           "PUDUCHERRY",
           244738178639
          ],
          [
           "PUDUCHERRY",
           277339484681
          ],
          [
           "PUDUCHERRY",
           372149485782
          ],
          [
           "PUDUCHERRY",
           378473258962
          ],
          [
           "PUDUCHERRY",
           384891624572
          ],
          [
           "PUDUCHERRY",
           437932648127
          ],
          [
           "PUDUCHERRY",
           721923378845
          ],
          [
           "PUDUCHERRY",
           723634187529
          ],
          [
           "PUDUCHERRY",
           844673532927
          ],
          [
           "PUDUCHERRY",
           845243139867
          ],
          [
           "PUDUCHERRY",
           867283934517
          ],
          [
           "PUDUCHERRY",
           927134582764
          ],
          [
           "PUDUCHERRY",
           387948224537
          ],
          [
           "PUDUCHERRY",
           459873146273
          ],
          [
           "PUDUCHERRY",
           518424627837
          ],
          [
           "PUDUCHERRY",
           567214829373
          ],
          [
           "PUDUCHERRY",
           937483227615
          ],
          [
           "PUDUCHERRY",
           944282177536
          ],
          [
           "PUDUCHERRY",
           481472735268
          ],
          [
           "PUDUCHERRY",
           982476214385
          ],
          [
           "PUDUCHERRY",
           265733174284
          ],
          [
           "PUDUCHERRY",
           491582737428
          ],
          [
           "PUDUCHERRY",
           625419384837
          ],
          [
           "PUDUCHERRY",
           136287244973
          ],
          [
           "PUDUCHERRY",
           415782368793
          ],
          [
           "PUDUCHERRY",
           448726172583
          ],
          [
           "PUDUCHERRY",
           569321724874
          ],
          [
           "PUDUCHERRY",
           733188596422
          ],
          [
           "PUDUCHERRY",
           898514242637
          ],
          [
           "PUDUCHERRY",
           234319478756
          ],
          [
           "PUDUCHERRY",
           486734322859
          ],
          [
           "PUDUCHERRY",
           489323727465
          ],
          [
           "PUDUCHERRY",
           719828233544
          ],
          [
           "Tripura",
           248577336418
          ],
          [
           "Tripura",
           252344198673
          ],
          [
           "Tripura",
           272348371486
          ],
          [
           "Tripura",
           478928734216
          ],
          [
           "Tripura",
           652843379247
          ],
          [
           "Tripura",
           732968873245
          ],
          [
           "Tripura",
           743821685234
          ],
          [
           "Tripura",
           334274278916
          ],
          [
           "Tripura",
           452432687917
          ],
          [
           "Tripura",
           948725267381
          ],
          [
           "Tripura",
           386794247135
          ],
          [
           "Tripura",
           632427984815
          ],
          [
           "Tripura",
           679813427458
          ],
          [
           "Tripura",
           281679442835
          ],
          [
           "Tripura",
           574436232987
          ],
          [
           "Tripura",
           823894146537
          ],
          [
           "Tripura",
           986754372382
          ],
          [
           "Tripura",
           214938386724
          ],
          [
           "Tripura",
           341249273576
          ],
          [
           "Tripura",
           238985167724
          ],
          [
           "Tripura",
           247834927186
          ],
          [
           "Tripura",
           536174884392
          ],
          [
           "Tripura",
           126249437783
          ],
          [
           "Tripura",
           149874582336
          ],
          [
           "Tripura",
           422715637894
          ],
          [
           "Tripura",
           639741824782
          ],
          [
           "Tripura",
           932835644721
          ],
          [
           "Tripura",
           163954722884
          ],
          [
           "Tripura",
           183972454276
          ],
          [
           "Tripura",
           342125863879
          ],
          [
           "Tripura",
           723423594871
          ],
          [
           "Tripura",
           783416728345
          ],
          [
           "Tripura",
           854732623419
          ],
          [
           "Tripura",
           275438271683
          ],
          [
           "Tripura",
           643215428978
          ],
          [
           "Tripura",
           738821639574
          ],
          [
           "Tripura",
           846177284932
          ],
          [
           "Tripura",
           248312578943
          ],
          [
           "Tripura",
           258613787493
          ],
          [
           "Tripura",
           623738489721
          ],
          [
           "Tripura",
           638297345741
          ],
          [
           "Tripura",
           787242168349
          ],
          [
           "Tripura",
           821644875323
          ],
          [
           "Tripura",
           182747624339
          ],
          [
           "Tripura",
           295884371324
          ],
          [
           "Tripura",
           522374881673
          ],
          [
           "Tripura",
           537824867241
          ],
          [
           "Tripura",
           578264338712
          ],
          [
           "Tripura",
           742378548961
          ],
          [
           "Tripura",
           787432934285
          ],
          [
           "Tripura",
           897475234832
          ],
          [
           "Tripura",
           968248753374
          ],
          [
           "Tripura",
           326753984214
          ],
          [
           "Tripura",
           149876538242
          ],
          [
           "Tripura",
           187298245637
          ],
          [
           "Tripura",
           339247672885
          ],
          [
           "Tripura",
           961783348254
          ],
          [
           "Tripura",
           698124343772
          ],
          [
           "Tripura",
           874867242393
          ],
          [
           "Tripura",
           232435941787
          ],
          [
           "Tripura",
           293324157486
          ],
          [
           "Tripura",
           385177622344
          ],
          [
           "Tripura",
           484322761938
          ],
          [
           "Tripura",
           842841376759
          ],
          [
           "Tripura",
           882439357421
          ],
          [
           "Tripura",
           465347783912
          ],
          [
           "Tripura",
           779353248481
          ],
          [
           "Tripura",
           165493428378
          ],
          [
           "Tripura",
           244788369572
          ],
          [
           "Tripura",
           252968771448
          ],
          [
           "Tripura",
           277324988156
          ],
          [
           "Tripura",
           382874645731
          ],
          [
           "Tripura",
           387732612954
          ],
          [
           "Tripura",
           485637319287
          ],
          [
           "Tripura",
           684592717243
          ],
          [
           "Tripura",
           874421675923
          ],
          [
           "Tripura",
           744822389135
          ],
          [
           "Tripura",
           968358727144
          ],
          [
           "Tripura",
           498321865342
          ],
          [
           "Tripura",
           574936288321
          ],
          [
           "Tripura",
           613428735792
          ],
          [
           "Tripura",
           637431872584
          ],
          [
           "Tripura",
           185347927483
          ],
          [
           "Tripura",
           784768942523
          ],
          [
           "Tripura",
           834174359827
          ],
          [
           "Tripura",
           381467254397
          ],
          [
           "Tripura",
           424819638532
          ],
          [
           "Tripura",
           485326197732
          ],
          [
           "Tripura",
           943567848227
          ],
          [
           "Tripura",
           342285467397
          ],
          [
           "Tripura",
           725424136987
          ],
          [
           "Tripura",
           749538618273
          ],
          [
           "Tripura",
           873982464321
          ],
          [
           "Tripura",
           231838757494
          ],
          [
           "Tripura",
           727281643943
          ],
          [
           "Tripura",
           942572764388
          ],
          [
           "Tripura",
           258637913824
          ],
          [
           "Tripura",
           472721486985
          ],
          [
           "Tripura",
           641732985274
          ],
          [
           "Tripura",
           787429831254
          ],
          [
           "Tripura",
           877586934214
          ],
          [
           "Tripura",
           324598137487
          ],
          [
           "Tripura",
           267189785233
          ],
          [
           "Tripura",
           432797428815
          ],
          [
           "Tripura",
           746824831379
          ],
          [
           "Tripura",
           347241886527
          ],
          [
           "Tripura",
           748623718392
          ],
          [
           "Tripura",
           819223487367
          ],
          [
           "Tripura",
           369157387242
          ],
          [
           "Tripura",
           567873328421
          ],
          [
           "Tripura",
           143842397276
          ],
          [
           "Tripura",
           234178468935
          ],
          [
           "Tripura",
           423917738258
          ],
          [
           "Tripura",
           549738421678
          ],
          [
           "Tripura",
           637317945282
          ],
          [
           "Tripura",
           738284425319
          ],
          [
           "Tripura",
           774564389821
          ],
          [
           "Tripura",
           625848797343
          ],
          [
           "Tripura",
           854231967274
          ],
          [
           "Tripura",
           948334186522
          ],
          [
           "Tripura",
           225417986837
          ]
         ],
         "hoverlabel": {
          "namelength": 0
         },
         "hovertemplate": "Survey_interval=8-12_August_2019<br>total_number_of_houses_covered=%{x}<br>state_name=%{customdata[0]}<br>enumerator_id=%{customdata[1]}",
         "legendgroup": "Survey_interval=8-12_August_2019",
         "marker": {
          "color": "#636efa"
         },
         "name": "Survey_interval=8-12_August_2019",
         "notched": false,
         "offsetgroup": "Survey_interval=8-12_August_2019",
         "orientation": "h",
         "showlegend": true,
         "type": "box",
         "x": [
          25,
          19,
          4,
          31,
          22,
          11,
          158,
          23,
          60,
          27,
          72,
          61,
          145,
          106,
          48,
          39,
          58,
          118,
          66,
          300,
          34,
          228,
          97,
          233,
          294,
          187,
          11,
          3,
          1,
          33,
          61,
          7,
          186,
          50,
          62,
          149,
          38,
          101,
          104,
          87,
          1,
          167,
          45,
          60,
          15,
          65,
          121,
          59,
          57,
          37,
          78,
          21,
          121,
          22,
          20,
          70,
          32,
          6,
          31,
          205,
          35,
          179,
          130,
          121,
          261,
          267,
          236,
          119,
          172,
          122,
          47,
          131,
          55,
          12,
          2,
          57,
          108,
          166,
          94,
          65,
          262,
          70,
          62,
          208,
          167,
          270,
          113,
          66,
          20,
          105,
          62,
          26,
          153,
          1,
          26,
          46,
          49,
          35,
          227,
          36,
          75,
          78,
          205,
          61,
          174,
          63,
          58,
          49,
          121,
          83,
          85,
          122,
          60,
          186,
          24,
          65,
          61,
          70,
          63,
          123,
          69,
          161,
          128,
          138,
          98,
          234,
          184,
          66,
          161,
          18,
          95,
          118,
          136,
          203,
          124,
          7,
          109,
          73,
          184,
          204,
          137,
          129,
          20,
          20,
          56,
          32,
          55,
          109,
          4,
          120,
          27,
          43,
          3,
          148,
          1,
          69,
          22,
          117,
          51,
          103,
          56,
          71,
          76
         ],
         "x0": " ",
         "xaxis": "x",
         "y0": " ",
         "yaxis": "y"
        },
        {
         "alignmentgroup": "True",
         "customdata": [
          [
           "PUDUCHERRY",
           325287314771
          ],
          [
           "PUDUCHERRY",
           257944286831
          ],
          [
           "PUDUCHERRY",
           332126748547
          ],
          [
           "PUDUCHERRY",
           638281273457
          ],
          [
           "PUDUCHERRY",
           244738178639
          ],
          [
           "PUDUCHERRY",
           437932648127
          ],
          [
           "PUDUCHERRY",
           867283934517
          ],
          [
           "PUDUCHERRY",
           387948224537
          ],
          [
           "PUDUCHERRY",
           459873146273
          ],
          [
           "PUDUCHERRY",
           518424627837
          ],
          [
           "PUDUCHERRY",
           567214829373
          ],
          [
           "PUDUCHERRY",
           937483227615
          ],
          [
           "PUDUCHERRY",
           944282177536
          ],
          [
           "PUDUCHERRY",
           491582737428
          ],
          [
           "PUDUCHERRY",
           625419384837
          ],
          [
           "PUDUCHERRY",
           136287244973
          ],
          [
           "PUDUCHERRY",
           569321724874
          ],
          [
           "PUDUCHERRY",
           733188596422
          ],
          [
           "Tripura",
           443727281856
          ],
          [
           "Tripura",
           248577336418
          ],
          [
           "Tripura",
           252344198673
          ],
          [
           "Tripura",
           272348371486
          ],
          [
           "Tripura",
           478928734216
          ],
          [
           "Tripura",
           652843379247
          ],
          [
           "Tripura",
           743821685234
          ],
          [
           "Tripura",
           936742381524
          ],
          [
           "Tripura",
           386794247135
          ],
          [
           "Tripura",
           679813427458
          ],
          [
           "Tripura",
           574436232987
          ],
          [
           "Tripura",
           823894146537
          ],
          [
           "Tripura",
           986754372382
          ],
          [
           "Tripura",
           214938386724
          ],
          [
           "Tripura",
           341249273576
          ],
          [
           "Tripura",
           298316544837
          ],
          [
           "Tripura",
           238985167724
          ],
          [
           "Tripura",
           126249437783
          ],
          [
           "Tripura",
           149874582336
          ],
          [
           "Tripura",
           422715637894
          ],
          [
           "Tripura",
           639741824782
          ],
          [
           "Tripura",
           932835644721
          ],
          [
           "Tripura",
           163954722884
          ],
          [
           "Tripura",
           183972454276
          ],
          [
           "Tripura",
           342125863879
          ],
          [
           "Tripura",
           723423594871
          ],
          [
           "Tripura",
           783416728345
          ],
          [
           "Tripura",
           854732623419
          ],
          [
           "Tripura",
           243845621737
          ],
          [
           "Tripura",
           327283564491
          ],
          [
           "Tripura",
           643215428978
          ],
          [
           "Tripura",
           738821639574
          ],
          [
           "Tripura",
           846177284932
          ],
          [
           "Tripura",
           248312578943
          ],
          [
           "Tripura",
           258613787493
          ],
          [
           "Tripura",
           623738489721
          ],
          [
           "Tripura",
           638297345741
          ],
          [
           "Tripura",
           821644875323
          ],
          [
           "Tripura",
           182747624339
          ],
          [
           "Tripura",
           296783142847
          ],
          [
           "Tripura",
           522374881673
          ],
          [
           "Tripura",
           537824867241
          ],
          [
           "Tripura",
           742378548961
          ],
          [
           "Tripura",
           787432934285
          ],
          [
           "Tripura",
           897475234832
          ],
          [
           "Tripura",
           495812332478
          ],
          [
           "Tripura",
           326753984214
          ],
          [
           "Tripura",
           491845786327
          ],
          [
           "Tripura",
           837946418732
          ],
          [
           "Tripura",
           149876538242
          ],
          [
           "Tripura",
           187298245637
          ],
          [
           "Tripura",
           332851674874
          ],
          [
           "Tripura",
           339247672885
          ],
          [
           "Tripura",
           961783348254
          ],
          [
           "Tripura",
           698124343772
          ],
          [
           "Tripura",
           874867242393
          ],
          [
           "Tripura",
           232435941787
          ],
          [
           "Tripura",
           293324157486
          ],
          [
           "Tripura",
           385177622344
          ],
          [
           "Tripura",
           484322761938
          ],
          [
           "Tripura",
           842841376759
          ],
          [
           "Tripura",
           882439357421
          ],
          [
           "Tripura",
           223589681347
          ],
          [
           "Tripura",
           465347783912
          ],
          [
           "Tripura",
           165493428378
          ],
          [
           "Tripura",
           244788369572
          ],
          [
           "Tripura",
           252968771448
          ],
          [
           "Tripura",
           277324988156
          ],
          [
           "Tripura",
           382874645731
          ],
          [
           "Tripura",
           387732612954
          ],
          [
           "Tripura",
           684592717243
          ],
          [
           "Tripura",
           874421675923
          ],
          [
           "Tripura",
           968358727144
          ],
          [
           "Tripura",
           613428735792
          ],
          [
           "Tripura",
           637431872584
          ],
          [
           "Tripura",
           729835431276
          ],
          [
           "Tripura",
           185347927483
          ],
          [
           "Tripura",
           784768942523
          ],
          [
           "Tripura",
           834174359827
          ],
          [
           "Tripura",
           381467254397
          ],
          [
           "Tripura",
           424819638532
          ],
          [
           "Tripura",
           485326197732
          ],
          [
           "Tripura",
           943567848227
          ],
          [
           "Tripura",
           342285467397
          ],
          [
           "Tripura",
           749538618273
          ],
          [
           "Tripura",
           873982464321
          ],
          [
           "Tripura",
           367235881249
          ],
          [
           "Tripura",
           727281643943
          ],
          [
           "Tripura",
           942572764388
          ],
          [
           "Tripura",
           258637913824
          ],
          [
           "Tripura",
           472721486985
          ],
          [
           "Tripura",
           362248397745
          ],
          [
           "Tripura",
           241583367427
          ],
          [
           "Tripura",
           324629834775
          ],
          [
           "Tripura",
           787429831254
          ],
          [
           "Tripura",
           877586934214
          ],
          [
           "Tripura",
           324598137487
          ],
          [
           "Tripura",
           432797428815
          ],
          [
           "Tripura",
           347241886527
          ],
          [
           "Tripura",
           819223487367
          ],
          [
           "Tripura",
           567873328421
          ],
          [
           "Tripura",
           143842397276
          ],
          [
           "Tripura",
           234178468935
          ],
          [
           "Tripura",
           423917738258
          ],
          [
           "Tripura",
           549738421678
          ],
          [
           "Tripura",
           738284425319
          ],
          [
           "Tripura",
           774564389821
          ],
          [
           "Tripura",
           625848797343
          ],
          [
           "Tripura",
           854231967274
          ],
          [
           "Tripura",
           948334186522
          ],
          [
           "Tripura",
           225417986837
          ]
         ],
         "hoverlabel": {
          "namelength": 0
         },
         "hovertemplate": "Survey_interval=Till_8_August_2019<br>total_number_of_houses_covered=%{x}<br>state_name=%{customdata[0]}<br>enumerator_id=%{customdata[1]}",
         "legendgroup": "Survey_interval=Till_8_August_2019",
         "marker": {
          "color": "#EF553B"
         },
         "name": "Survey_interval=Till_8_August_2019",
         "notched": false,
         "offsetgroup": "Survey_interval=Till_8_August_2019",
         "orientation": "h",
         "showlegend": true,
         "type": "box",
         "x": [
          3,
          8,
          1,
          86,
          25,
          50,
          34,
          148,
          65,
          133,
          218,
          116,
          54,
          114,
          49,
          33,
          13,
          9,
          63,
          100,
          111,
          23,
          26,
          10,
          3,
          24,
          23,
          39,
          22,
          4,
          12,
          84,
          112,
          19,
          142,
          297,
          175,
          262,
          208,
          176,
          92,
          90,
          86,
          107,
          78,
          153,
          28,
          27,
          131,
          27,
          33,
          145,
          4,
          66,
          8,
          134,
          112,
          63,
          63,
          1,
          38,
          11,
          88,
          87,
          73,
          81,
          178,
          198,
          34,
          128,
          172,
          19,
          165,
          193,
          175,
          140,
          176,
          229,
          134,
          65,
          13,
          97,
          49,
          34,
          8,
          40,
          42,
          93,
          113,
          86,
          61,
          103,
          105,
          64,
          318,
          122,
          164,
          26,
          83,
          10,
          16,
          95,
          333,
          56,
          117,
          198,
          147,
          56,
          152,
          40,
          7,
          9,
          52,
          167,
          79,
          4,
          118,
          212,
          100,
          193,
          89,
          167,
          60,
          85,
          62,
          163,
          68,
          40,
          3
         ],
         "x0": " ",
         "xaxis": "x",
         "y0": " ",
         "yaxis": "y"
        }
       ],
       "layout": {
        "boxmode": "group",
        "height": 600,
        "legend": {
         "tracegroupgap": 0
        },
        "margin": {
         "t": 60
        },
        "template": {
         "data": {
          "bar": [
           {
            "error_x": {
             "color": "#2a3f5f"
            },
            "error_y": {
             "color": "#2a3f5f"
            },
            "marker": {
             "line": {
              "color": "#E5ECF6",
              "width": 0.5
             }
            },
            "type": "bar"
           }
          ],
          "barpolar": [
           {
            "marker": {
             "line": {
              "color": "#E5ECF6",
              "width": 0.5
             }
            },
            "type": "barpolar"
           }
          ],
          "carpet": [
           {
            "aaxis": {
             "endlinecolor": "#2a3f5f",
             "gridcolor": "white",
             "linecolor": "white",
             "minorgridcolor": "white",
             "startlinecolor": "#2a3f5f"
            },
            "baxis": {
             "endlinecolor": "#2a3f5f",
             "gridcolor": "white",
             "linecolor": "white",
             "minorgridcolor": "white",
             "startlinecolor": "#2a3f5f"
            },
            "type": "carpet"
           }
          ],
          "choropleth": [
           {
            "colorbar": {
             "outlinewidth": 0,
             "ticks": ""
            },
            "type": "choropleth"
           }
          ],
          "contour": [
           {
            "colorbar": {
             "outlinewidth": 0,
             "ticks": ""
            },
            "colorscale": [
             [
              0,
              "#0d0887"
             ],
             [
              0.1111111111111111,
              "#46039f"
             ],
             [
              0.2222222222222222,
              "#7201a8"
             ],
             [
              0.3333333333333333,
              "#9c179e"
             ],
             [
              0.4444444444444444,
              "#bd3786"
             ],
             [
              0.5555555555555556,
              "#d8576b"
             ],
             [
              0.6666666666666666,
              "#ed7953"
             ],
             [
              0.7777777777777778,
              "#fb9f3a"
             ],
             [
              0.8888888888888888,
              "#fdca26"
             ],
             [
              1,
              "#f0f921"
             ]
            ],
            "type": "contour"
           }
          ],
          "contourcarpet": [
           {
            "colorbar": {
             "outlinewidth": 0,
             "ticks": ""
            },
            "type": "contourcarpet"
           }
          ],
          "heatmap": [
           {
            "colorbar": {
             "outlinewidth": 0,
             "ticks": ""
            },
            "colorscale": [
             [
              0,
              "#0d0887"
             ],
             [
              0.1111111111111111,
              "#46039f"
             ],
             [
              0.2222222222222222,
              "#7201a8"
             ],
             [
              0.3333333333333333,
              "#9c179e"
             ],
             [
              0.4444444444444444,
              "#bd3786"
             ],
             [
              0.5555555555555556,
              "#d8576b"
             ],
             [
              0.6666666666666666,
              "#ed7953"
             ],
             [
              0.7777777777777778,
              "#fb9f3a"
             ],
             [
              0.8888888888888888,
              "#fdca26"
             ],
             [
              1,
              "#f0f921"
             ]
            ],
            "type": "heatmap"
           }
          ],
          "heatmapgl": [
           {
            "colorbar": {
             "outlinewidth": 0,
             "ticks": ""
            },
            "colorscale": [
             [
              0,
              "#0d0887"
             ],
             [
              0.1111111111111111,
              "#46039f"
             ],
             [
              0.2222222222222222,
              "#7201a8"
             ],
             [
              0.3333333333333333,
              "#9c179e"
             ],
             [
              0.4444444444444444,
              "#bd3786"
             ],
             [
              0.5555555555555556,
              "#d8576b"
             ],
             [
              0.6666666666666666,
              "#ed7953"
             ],
             [
              0.7777777777777778,
              "#fb9f3a"
             ],
             [
              0.8888888888888888,
              "#fdca26"
             ],
             [
              1,
              "#f0f921"
             ]
            ],
            "type": "heatmapgl"
           }
          ],
          "histogram": [
           {
            "marker": {
             "colorbar": {
              "outlinewidth": 0,
              "ticks": ""
             }
            },
            "type": "histogram"
           }
          ],
          "histogram2d": [
           {
            "colorbar": {
             "outlinewidth": 0,
             "ticks": ""
            },
            "colorscale": [
             [
              0,
              "#0d0887"
             ],
             [
              0.1111111111111111,
              "#46039f"
             ],
             [
              0.2222222222222222,
              "#7201a8"
             ],
             [
              0.3333333333333333,
              "#9c179e"
             ],
             [
              0.4444444444444444,
              "#bd3786"
             ],
             [
              0.5555555555555556,
              "#d8576b"
             ],
             [
              0.6666666666666666,
              "#ed7953"
             ],
             [
              0.7777777777777778,
              "#fb9f3a"
             ],
             [
              0.8888888888888888,
              "#fdca26"
             ],
             [
              1,
              "#f0f921"
             ]
            ],
            "type": "histogram2d"
           }
          ],
          "histogram2dcontour": [
           {
            "colorbar": {
             "outlinewidth": 0,
             "ticks": ""
            },
            "colorscale": [
             [
              0,
              "#0d0887"
             ],
             [
              0.1111111111111111,
              "#46039f"
             ],
             [
              0.2222222222222222,
              "#7201a8"
             ],
             [
              0.3333333333333333,
              "#9c179e"
             ],
             [
              0.4444444444444444,
              "#bd3786"
             ],
             [
              0.5555555555555556,
              "#d8576b"
             ],
             [
              0.6666666666666666,
              "#ed7953"
             ],
             [
              0.7777777777777778,
              "#fb9f3a"
             ],
             [
              0.8888888888888888,
              "#fdca26"
             ],
             [
              1,
              "#f0f921"
             ]
            ],
            "type": "histogram2dcontour"
           }
          ],
          "mesh3d": [
           {
            "colorbar": {
             "outlinewidth": 0,
             "ticks": ""
            },
            "type": "mesh3d"
           }
          ],
          "parcoords": [
           {
            "line": {
             "colorbar": {
              "outlinewidth": 0,
              "ticks": ""
             }
            },
            "type": "parcoords"
           }
          ],
          "scatter": [
           {
            "marker": {
             "colorbar": {
              "outlinewidth": 0,
              "ticks": ""
             }
            },
            "type": "scatter"
           }
          ],
          "scatter3d": [
           {
            "line": {
             "colorbar": {
              "outlinewidth": 0,
              "ticks": ""
             }
            },
            "marker": {
             "colorbar": {
              "outlinewidth": 0,
              "ticks": ""
             }
            },
            "type": "scatter3d"
           }
          ],
          "scattercarpet": [
           {
            "marker": {
             "colorbar": {
              "outlinewidth": 0,
              "ticks": ""
             }
            },
            "type": "scattercarpet"
           }
          ],
          "scattergeo": [
           {
            "marker": {
             "colorbar": {
              "outlinewidth": 0,
              "ticks": ""
             }
            },
            "type": "scattergeo"
           }
          ],
          "scattergl": [
           {
            "marker": {
             "colorbar": {
              "outlinewidth": 0,
              "ticks": ""
             }
            },
            "type": "scattergl"
           }
          ],
          "scattermapbox": [
           {
            "marker": {
             "colorbar": {
              "outlinewidth": 0,
              "ticks": ""
             }
            },
            "type": "scattermapbox"
           }
          ],
          "scatterpolar": [
           {
            "marker": {
             "colorbar": {
              "outlinewidth": 0,
              "ticks": ""
             }
            },
            "type": "scatterpolar"
           }
          ],
          "scatterpolargl": [
           {
            "marker": {
             "colorbar": {
              "outlinewidth": 0,
              "ticks": ""
             }
            },
            "type": "scatterpolargl"
           }
          ],
          "scatterternary": [
           {
            "marker": {
             "colorbar": {
              "outlinewidth": 0,
              "ticks": ""
             }
            },
            "type": "scatterternary"
           }
          ],
          "surface": [
           {
            "colorbar": {
             "outlinewidth": 0,
             "ticks": ""
            },
            "colorscale": [
             [
              0,
              "#0d0887"
             ],
             [
              0.1111111111111111,
              "#46039f"
             ],
             [
              0.2222222222222222,
              "#7201a8"
             ],
             [
              0.3333333333333333,
              "#9c179e"
             ],
             [
              0.4444444444444444,
              "#bd3786"
             ],
             [
              0.5555555555555556,
              "#d8576b"
             ],
             [
              0.6666666666666666,
              "#ed7953"
             ],
             [
              0.7777777777777778,
              "#fb9f3a"
             ],
             [
              0.8888888888888888,
              "#fdca26"
             ],
             [
              1,
              "#f0f921"
             ]
            ],
            "type": "surface"
           }
          ],
          "table": [
           {
            "cells": {
             "fill": {
              "color": "#EBF0F8"
             },
             "line": {
              "color": "white"
             }
            },
            "header": {
             "fill": {
              "color": "#C8D4E3"
             },
             "line": {
              "color": "white"
             }
            },
            "type": "table"
           }
          ]
         },
         "layout": {
          "annotationdefaults": {
           "arrowcolor": "#2a3f5f",
           "arrowhead": 0,
           "arrowwidth": 1
          },
          "colorscale": {
           "diverging": [
            [
             0,
             "#8e0152"
            ],
            [
             0.1,
             "#c51b7d"
            ],
            [
             0.2,
             "#de77ae"
            ],
            [
             0.3,
             "#f1b6da"
            ],
            [
             0.4,
             "#fde0ef"
            ],
            [
             0.5,
             "#f7f7f7"
            ],
            [
             0.6,
             "#e6f5d0"
            ],
            [
             0.7,
             "#b8e186"
            ],
            [
             0.8,
             "#7fbc41"
            ],
            [
             0.9,
             "#4d9221"
            ],
            [
             1,
             "#276419"
            ]
           ],
           "sequential": [
            [
             0,
             "#0d0887"
            ],
            [
             0.1111111111111111,
             "#46039f"
            ],
            [
             0.2222222222222222,
             "#7201a8"
            ],
            [
             0.3333333333333333,
             "#9c179e"
            ],
            [
             0.4444444444444444,
             "#bd3786"
            ],
            [
             0.5555555555555556,
             "#d8576b"
            ],
            [
             0.6666666666666666,
             "#ed7953"
            ],
            [
             0.7777777777777778,
             "#fb9f3a"
            ],
            [
             0.8888888888888888,
             "#fdca26"
            ],
            [
             1,
             "#f0f921"
            ]
           ],
           "sequentialminus": [
            [
             0,
             "#0d0887"
            ],
            [
             0.1111111111111111,
             "#46039f"
            ],
            [
             0.2222222222222222,
             "#7201a8"
            ],
            [
             0.3333333333333333,
             "#9c179e"
            ],
            [
             0.4444444444444444,
             "#bd3786"
            ],
            [
             0.5555555555555556,
             "#d8576b"
            ],
            [
             0.6666666666666666,
             "#ed7953"
            ],
            [
             0.7777777777777778,
             "#fb9f3a"
            ],
            [
             0.8888888888888888,
             "#fdca26"
            ],
            [
             1,
             "#f0f921"
            ]
           ]
          },
          "colorway": [
           "#636efa",
           "#EF553B",
           "#00cc96",
           "#ab63fa",
           "#FFA15A",
           "#19d3f3",
           "#FF6692",
           "#B6E880",
           "#FF97FF",
           "#FECB52"
          ],
          "font": {
           "color": "#2a3f5f"
          },
          "geo": {
           "bgcolor": "white",
           "lakecolor": "white",
           "landcolor": "#E5ECF6",
           "showlakes": true,
           "showland": true,
           "subunitcolor": "white"
          },
          "hoverlabel": {
           "align": "left"
          },
          "hovermode": "closest",
          "mapbox": {
           "style": "light"
          },
          "paper_bgcolor": "white",
          "plot_bgcolor": "#E5ECF6",
          "polar": {
           "angularaxis": {
            "gridcolor": "white",
            "linecolor": "white",
            "ticks": ""
           },
           "bgcolor": "#E5ECF6",
           "radialaxis": {
            "gridcolor": "white",
            "linecolor": "white",
            "ticks": ""
           }
          },
          "scene": {
           "xaxis": {
            "backgroundcolor": "#E5ECF6",
            "gridcolor": "white",
            "gridwidth": 2,
            "linecolor": "white",
            "showbackground": true,
            "ticks": "",
            "zerolinecolor": "white"
           },
           "yaxis": {
            "backgroundcolor": "#E5ECF6",
            "gridcolor": "white",
            "gridwidth": 2,
            "linecolor": "white",
            "showbackground": true,
            "ticks": "",
            "zerolinecolor": "white"
           },
           "zaxis": {
            "backgroundcolor": "#E5ECF6",
            "gridcolor": "white",
            "gridwidth": 2,
            "linecolor": "white",
            "showbackground": true,
            "ticks": "",
            "zerolinecolor": "white"
           }
          },
          "shapedefaults": {
           "line": {
            "color": "#2a3f5f"
           }
          },
          "ternary": {
           "aaxis": {
            "gridcolor": "white",
            "linecolor": "white",
            "ticks": ""
           },
           "baxis": {
            "gridcolor": "white",
            "linecolor": "white",
            "ticks": ""
           },
           "bgcolor": "#E5ECF6",
           "caxis": {
            "gridcolor": "white",
            "linecolor": "white",
            "ticks": ""
           }
          },
          "title": {
           "x": 0.05
          },
          "xaxis": {
           "automargin": true,
           "gridcolor": "white",
           "linecolor": "white",
           "ticks": "",
           "zerolinecolor": "white",
           "zerolinewidth": 2
          },
          "yaxis": {
           "automargin": true,
           "gridcolor": "white",
           "linecolor": "white",
           "ticks": "",
           "zerolinecolor": "white",
           "zerolinewidth": 2
          }
         }
        },
        "xaxis": {
         "anchor": "y",
         "domain": [
          0,
          0.98
         ],
         "title": {
          "text": "total_number_of_houses_covered"
         }
        },
        "yaxis": {
         "anchor": "x",
         "domain": [
          0,
          1
         ]
        }
       }
      },
      "text/html": [
       "<div>\n",
       "        \n",
       "        \n",
       "            <div id=\"d533e602-3743-4089-93f2-a3fcfc78aa2d\" class=\"plotly-graph-div\" style=\"height:600px; width:100%;\"></div>\n",
       "            <script type=\"text/javascript\">\n",
       "                require([\"plotly\"], function(Plotly) {\n",
       "                    window.PLOTLYENV=window.PLOTLYENV || {};\n",
       "                    \n",
       "                if (document.getElementById(\"d533e602-3743-4089-93f2-a3fcfc78aa2d\")) {\n",
       "                    Plotly.newPlot(\n",
       "                        'd533e602-3743-4089-93f2-a3fcfc78aa2d',\n",
       "                        [{\"alignmentgroup\": \"True\", \"customdata\": [[\"PUDUCHERRY\", 138642453972], [\"PUDUCHERRY\", 142673238548], [\"PUDUCHERRY\", 638824973175], [\"PUDUCHERRY\", 257944286831], [\"PUDUCHERRY\", 332126748547], [\"PUDUCHERRY\", 612832874973], [\"PUDUCHERRY\", 638281273457], [\"PUDUCHERRY\", 845963712374], [\"PUDUCHERRY\", 128239347467], [\"PUDUCHERRY\", 244738178639], [\"PUDUCHERRY\", 277339484681], [\"PUDUCHERRY\", 372149485782], [\"PUDUCHERRY\", 378473258962], [\"PUDUCHERRY\", 384891624572], [\"PUDUCHERRY\", 437932648127], [\"PUDUCHERRY\", 721923378845], [\"PUDUCHERRY\", 723634187529], [\"PUDUCHERRY\", 844673532927], [\"PUDUCHERRY\", 845243139867], [\"PUDUCHERRY\", 867283934517], [\"PUDUCHERRY\", 927134582764], [\"PUDUCHERRY\", 387948224537], [\"PUDUCHERRY\", 459873146273], [\"PUDUCHERRY\", 518424627837], [\"PUDUCHERRY\", 567214829373], [\"PUDUCHERRY\", 937483227615], [\"PUDUCHERRY\", 944282177536], [\"PUDUCHERRY\", 481472735268], [\"PUDUCHERRY\", 982476214385], [\"PUDUCHERRY\", 265733174284], [\"PUDUCHERRY\", 491582737428], [\"PUDUCHERRY\", 625419384837], [\"PUDUCHERRY\", 136287244973], [\"PUDUCHERRY\", 415782368793], [\"PUDUCHERRY\", 448726172583], [\"PUDUCHERRY\", 569321724874], [\"PUDUCHERRY\", 733188596422], [\"PUDUCHERRY\", 898514242637], [\"PUDUCHERRY\", 234319478756], [\"PUDUCHERRY\", 486734322859], [\"PUDUCHERRY\", 489323727465], [\"PUDUCHERRY\", 719828233544], [\"Tripura\", 248577336418], [\"Tripura\", 252344198673], [\"Tripura\", 272348371486], [\"Tripura\", 478928734216], [\"Tripura\", 652843379247], [\"Tripura\", 732968873245], [\"Tripura\", 743821685234], [\"Tripura\", 334274278916], [\"Tripura\", 452432687917], [\"Tripura\", 948725267381], [\"Tripura\", 386794247135], [\"Tripura\", 632427984815], [\"Tripura\", 679813427458], [\"Tripura\", 281679442835], [\"Tripura\", 574436232987], [\"Tripura\", 823894146537], [\"Tripura\", 986754372382], [\"Tripura\", 214938386724], [\"Tripura\", 341249273576], [\"Tripura\", 238985167724], [\"Tripura\", 247834927186], [\"Tripura\", 536174884392], [\"Tripura\", 126249437783], [\"Tripura\", 149874582336], [\"Tripura\", 422715637894], [\"Tripura\", 639741824782], [\"Tripura\", 932835644721], [\"Tripura\", 163954722884], [\"Tripura\", 183972454276], [\"Tripura\", 342125863879], [\"Tripura\", 723423594871], [\"Tripura\", 783416728345], [\"Tripura\", 854732623419], [\"Tripura\", 275438271683], [\"Tripura\", 643215428978], [\"Tripura\", 738821639574], [\"Tripura\", 846177284932], [\"Tripura\", 248312578943], [\"Tripura\", 258613787493], [\"Tripura\", 623738489721], [\"Tripura\", 638297345741], [\"Tripura\", 787242168349], [\"Tripura\", 821644875323], [\"Tripura\", 182747624339], [\"Tripura\", 295884371324], [\"Tripura\", 522374881673], [\"Tripura\", 537824867241], [\"Tripura\", 578264338712], [\"Tripura\", 742378548961], [\"Tripura\", 787432934285], [\"Tripura\", 897475234832], [\"Tripura\", 968248753374], [\"Tripura\", 326753984214], [\"Tripura\", 149876538242], [\"Tripura\", 187298245637], [\"Tripura\", 339247672885], [\"Tripura\", 961783348254], [\"Tripura\", 698124343772], [\"Tripura\", 874867242393], [\"Tripura\", 232435941787], [\"Tripura\", 293324157486], [\"Tripura\", 385177622344], [\"Tripura\", 484322761938], [\"Tripura\", 842841376759], [\"Tripura\", 882439357421], [\"Tripura\", 465347783912], [\"Tripura\", 779353248481], [\"Tripura\", 165493428378], [\"Tripura\", 244788369572], [\"Tripura\", 252968771448], [\"Tripura\", 277324988156], [\"Tripura\", 382874645731], [\"Tripura\", 387732612954], [\"Tripura\", 485637319287], [\"Tripura\", 684592717243], [\"Tripura\", 874421675923], [\"Tripura\", 744822389135], [\"Tripura\", 968358727144], [\"Tripura\", 498321865342], [\"Tripura\", 574936288321], [\"Tripura\", 613428735792], [\"Tripura\", 637431872584], [\"Tripura\", 185347927483], [\"Tripura\", 784768942523], [\"Tripura\", 834174359827], [\"Tripura\", 381467254397], [\"Tripura\", 424819638532], [\"Tripura\", 485326197732], [\"Tripura\", 943567848227], [\"Tripura\", 342285467397], [\"Tripura\", 725424136987], [\"Tripura\", 749538618273], [\"Tripura\", 873982464321], [\"Tripura\", 231838757494], [\"Tripura\", 727281643943], [\"Tripura\", 942572764388], [\"Tripura\", 258637913824], [\"Tripura\", 472721486985], [\"Tripura\", 641732985274], [\"Tripura\", 787429831254], [\"Tripura\", 877586934214], [\"Tripura\", 324598137487], [\"Tripura\", 267189785233], [\"Tripura\", 432797428815], [\"Tripura\", 746824831379], [\"Tripura\", 347241886527], [\"Tripura\", 748623718392], [\"Tripura\", 819223487367], [\"Tripura\", 369157387242], [\"Tripura\", 567873328421], [\"Tripura\", 143842397276], [\"Tripura\", 234178468935], [\"Tripura\", 423917738258], [\"Tripura\", 549738421678], [\"Tripura\", 637317945282], [\"Tripura\", 738284425319], [\"Tripura\", 774564389821], [\"Tripura\", 625848797343], [\"Tripura\", 854231967274], [\"Tripura\", 948334186522], [\"Tripura\", 225417986837]], \"hoverlabel\": {\"namelength\": 0}, \"hovertemplate\": \"Survey_interval=8-12_August_2019<br>total_number_of_houses_covered=%{x}<br>state_name=%{customdata[0]}<br>enumerator_id=%{customdata[1]}\", \"legendgroup\": \"Survey_interval=8-12_August_2019\", \"marker\": {\"color\": \"#636efa\"}, \"name\": \"Survey_interval=8-12_August_2019\", \"notched\": false, \"offsetgroup\": \"Survey_interval=8-12_August_2019\", \"orientation\": \"h\", \"showlegend\": true, \"type\": \"box\", \"x\": [25, 19, 4, 31, 22, 11, 158, 23, 60, 27, 72, 61, 145, 106, 48, 39, 58, 118, 66, 300, 34, 228, 97, 233, 294, 187, 11, 3, 1, 33, 61, 7, 186, 50, 62, 149, 38, 101, 104, 87, 1, 167, 45, 60, 15, 65, 121, 59, 57, 37, 78, 21, 121, 22, 20, 70, 32, 6, 31, 205, 35, 179, 130, 121, 261, 267, 236, 119, 172, 122, 47, 131, 55, 12, 2, 57, 108, 166, 94, 65, 262, 70, 62, 208, 167, 270, 113, 66, 20, 105, 62, 26, 153, 1, 26, 46, 49, 35, 227, 36, 75, 78, 205, 61, 174, 63, 58, 49, 121, 83, 85, 122, 60, 186, 24, 65, 61, 70, 63, 123, 69, 161, 128, 138, 98, 234, 184, 66, 161, 18, 95, 118, 136, 203, 124, 7, 109, 73, 184, 204, 137, 129, 20, 20, 56, 32, 55, 109, 4, 120, 27, 43, 3, 148, 1, 69, 22, 117, 51, 103, 56, 71, 76], \"x0\": \" \", \"xaxis\": \"x\", \"y0\": \" \", \"yaxis\": \"y\"}, {\"alignmentgroup\": \"True\", \"customdata\": [[\"PUDUCHERRY\", 325287314771], [\"PUDUCHERRY\", 257944286831], [\"PUDUCHERRY\", 332126748547], [\"PUDUCHERRY\", 638281273457], [\"PUDUCHERRY\", 244738178639], [\"PUDUCHERRY\", 437932648127], [\"PUDUCHERRY\", 867283934517], [\"PUDUCHERRY\", 387948224537], [\"PUDUCHERRY\", 459873146273], [\"PUDUCHERRY\", 518424627837], [\"PUDUCHERRY\", 567214829373], [\"PUDUCHERRY\", 937483227615], [\"PUDUCHERRY\", 944282177536], [\"PUDUCHERRY\", 491582737428], [\"PUDUCHERRY\", 625419384837], [\"PUDUCHERRY\", 136287244973], [\"PUDUCHERRY\", 569321724874], [\"PUDUCHERRY\", 733188596422], [\"Tripura\", 443727281856], [\"Tripura\", 248577336418], [\"Tripura\", 252344198673], [\"Tripura\", 272348371486], [\"Tripura\", 478928734216], [\"Tripura\", 652843379247], [\"Tripura\", 743821685234], [\"Tripura\", 936742381524], [\"Tripura\", 386794247135], [\"Tripura\", 679813427458], [\"Tripura\", 574436232987], [\"Tripura\", 823894146537], [\"Tripura\", 986754372382], [\"Tripura\", 214938386724], [\"Tripura\", 341249273576], [\"Tripura\", 298316544837], [\"Tripura\", 238985167724], [\"Tripura\", 126249437783], [\"Tripura\", 149874582336], [\"Tripura\", 422715637894], [\"Tripura\", 639741824782], [\"Tripura\", 932835644721], [\"Tripura\", 163954722884], [\"Tripura\", 183972454276], [\"Tripura\", 342125863879], [\"Tripura\", 723423594871], [\"Tripura\", 783416728345], [\"Tripura\", 854732623419], [\"Tripura\", 243845621737], [\"Tripura\", 327283564491], [\"Tripura\", 643215428978], [\"Tripura\", 738821639574], [\"Tripura\", 846177284932], [\"Tripura\", 248312578943], [\"Tripura\", 258613787493], [\"Tripura\", 623738489721], [\"Tripura\", 638297345741], [\"Tripura\", 821644875323], [\"Tripura\", 182747624339], [\"Tripura\", 296783142847], [\"Tripura\", 522374881673], [\"Tripura\", 537824867241], [\"Tripura\", 742378548961], [\"Tripura\", 787432934285], [\"Tripura\", 897475234832], [\"Tripura\", 495812332478], [\"Tripura\", 326753984214], [\"Tripura\", 491845786327], [\"Tripura\", 837946418732], [\"Tripura\", 149876538242], [\"Tripura\", 187298245637], [\"Tripura\", 332851674874], [\"Tripura\", 339247672885], [\"Tripura\", 961783348254], [\"Tripura\", 698124343772], [\"Tripura\", 874867242393], [\"Tripura\", 232435941787], [\"Tripura\", 293324157486], [\"Tripura\", 385177622344], [\"Tripura\", 484322761938], [\"Tripura\", 842841376759], [\"Tripura\", 882439357421], [\"Tripura\", 223589681347], [\"Tripura\", 465347783912], [\"Tripura\", 165493428378], [\"Tripura\", 244788369572], [\"Tripura\", 252968771448], [\"Tripura\", 277324988156], [\"Tripura\", 382874645731], [\"Tripura\", 387732612954], [\"Tripura\", 684592717243], [\"Tripura\", 874421675923], [\"Tripura\", 968358727144], [\"Tripura\", 613428735792], [\"Tripura\", 637431872584], [\"Tripura\", 729835431276], [\"Tripura\", 185347927483], [\"Tripura\", 784768942523], [\"Tripura\", 834174359827], [\"Tripura\", 381467254397], [\"Tripura\", 424819638532], [\"Tripura\", 485326197732], [\"Tripura\", 943567848227], [\"Tripura\", 342285467397], [\"Tripura\", 749538618273], [\"Tripura\", 873982464321], [\"Tripura\", 367235881249], [\"Tripura\", 727281643943], [\"Tripura\", 942572764388], [\"Tripura\", 258637913824], [\"Tripura\", 472721486985], [\"Tripura\", 362248397745], [\"Tripura\", 241583367427], [\"Tripura\", 324629834775], [\"Tripura\", 787429831254], [\"Tripura\", 877586934214], [\"Tripura\", 324598137487], [\"Tripura\", 432797428815], [\"Tripura\", 347241886527], [\"Tripura\", 819223487367], [\"Tripura\", 567873328421], [\"Tripura\", 143842397276], [\"Tripura\", 234178468935], [\"Tripura\", 423917738258], [\"Tripura\", 549738421678], [\"Tripura\", 738284425319], [\"Tripura\", 774564389821], [\"Tripura\", 625848797343], [\"Tripura\", 854231967274], [\"Tripura\", 948334186522], [\"Tripura\", 225417986837]], \"hoverlabel\": {\"namelength\": 0}, \"hovertemplate\": \"Survey_interval=Till_8_August_2019<br>total_number_of_houses_covered=%{x}<br>state_name=%{customdata[0]}<br>enumerator_id=%{customdata[1]}\", \"legendgroup\": \"Survey_interval=Till_8_August_2019\", \"marker\": {\"color\": \"#EF553B\"}, \"name\": \"Survey_interval=Till_8_August_2019\", \"notched\": false, \"offsetgroup\": \"Survey_interval=Till_8_August_2019\", \"orientation\": \"h\", \"showlegend\": true, \"type\": \"box\", \"x\": [3, 8, 1, 86, 25, 50, 34, 148, 65, 133, 218, 116, 54, 114, 49, 33, 13, 9, 63, 100, 111, 23, 26, 10, 3, 24, 23, 39, 22, 4, 12, 84, 112, 19, 142, 297, 175, 262, 208, 176, 92, 90, 86, 107, 78, 153, 28, 27, 131, 27, 33, 145, 4, 66, 8, 134, 112, 63, 63, 1, 38, 11, 88, 87, 73, 81, 178, 198, 34, 128, 172, 19, 165, 193, 175, 140, 176, 229, 134, 65, 13, 97, 49, 34, 8, 40, 42, 93, 113, 86, 61, 103, 105, 64, 318, 122, 164, 26, 83, 10, 16, 95, 333, 56, 117, 198, 147, 56, 152, 40, 7, 9, 52, 167, 79, 4, 118, 212, 100, 193, 89, 167, 60, 85, 62, 163, 68, 40, 3], \"x0\": \" \", \"xaxis\": \"x\", \"y0\": \" \", \"yaxis\": \"y\"}],\n",
       "                        {\"boxmode\": \"group\", \"height\": 600, \"legend\": {\"tracegroupgap\": 0}, \"margin\": {\"t\": 60}, \"template\": {\"data\": {\"bar\": [{\"error_x\": {\"color\": \"#2a3f5f\"}, \"error_y\": {\"color\": \"#2a3f5f\"}, \"marker\": {\"line\": {\"color\": \"#E5ECF6\", \"width\": 0.5}}, \"type\": \"bar\"}], \"barpolar\": [{\"marker\": {\"line\": {\"color\": \"#E5ECF6\", \"width\": 0.5}}, \"type\": \"barpolar\"}], \"carpet\": [{\"aaxis\": {\"endlinecolor\": \"#2a3f5f\", \"gridcolor\": \"white\", \"linecolor\": \"white\", \"minorgridcolor\": \"white\", \"startlinecolor\": \"#2a3f5f\"}, \"baxis\": {\"endlinecolor\": \"#2a3f5f\", \"gridcolor\": \"white\", \"linecolor\": \"white\", \"minorgridcolor\": \"white\", \"startlinecolor\": \"#2a3f5f\"}, \"type\": \"carpet\"}], \"choropleth\": [{\"colorbar\": {\"outlinewidth\": 0, \"ticks\": \"\"}, \"type\": \"choropleth\"}], \"contour\": [{\"colorbar\": {\"outlinewidth\": 0, \"ticks\": \"\"}, \"colorscale\": [[0.0, \"#0d0887\"], [0.1111111111111111, \"#46039f\"], [0.2222222222222222, \"#7201a8\"], [0.3333333333333333, \"#9c179e\"], [0.4444444444444444, \"#bd3786\"], [0.5555555555555556, \"#d8576b\"], [0.6666666666666666, \"#ed7953\"], [0.7777777777777778, \"#fb9f3a\"], [0.8888888888888888, \"#fdca26\"], [1.0, \"#f0f921\"]], \"type\": \"contour\"}], \"contourcarpet\": [{\"colorbar\": {\"outlinewidth\": 0, \"ticks\": \"\"}, \"type\": \"contourcarpet\"}], \"heatmap\": [{\"colorbar\": {\"outlinewidth\": 0, \"ticks\": \"\"}, \"colorscale\": [[0.0, \"#0d0887\"], [0.1111111111111111, \"#46039f\"], [0.2222222222222222, \"#7201a8\"], [0.3333333333333333, \"#9c179e\"], [0.4444444444444444, \"#bd3786\"], [0.5555555555555556, \"#d8576b\"], [0.6666666666666666, \"#ed7953\"], [0.7777777777777778, \"#fb9f3a\"], [0.8888888888888888, \"#fdca26\"], [1.0, \"#f0f921\"]], \"type\": \"heatmap\"}], \"heatmapgl\": [{\"colorbar\": {\"outlinewidth\": 0, \"ticks\": \"\"}, \"colorscale\": [[0.0, \"#0d0887\"], [0.1111111111111111, \"#46039f\"], [0.2222222222222222, \"#7201a8\"], [0.3333333333333333, \"#9c179e\"], [0.4444444444444444, \"#bd3786\"], [0.5555555555555556, \"#d8576b\"], [0.6666666666666666, \"#ed7953\"], [0.7777777777777778, \"#fb9f3a\"], [0.8888888888888888, \"#fdca26\"], [1.0, \"#f0f921\"]], \"type\": \"heatmapgl\"}], \"histogram\": [{\"marker\": {\"colorbar\": {\"outlinewidth\": 0, \"ticks\": \"\"}}, \"type\": \"histogram\"}], \"histogram2d\": [{\"colorbar\": {\"outlinewidth\": 0, \"ticks\": \"\"}, \"colorscale\": [[0.0, \"#0d0887\"], [0.1111111111111111, \"#46039f\"], [0.2222222222222222, \"#7201a8\"], [0.3333333333333333, \"#9c179e\"], [0.4444444444444444, \"#bd3786\"], [0.5555555555555556, \"#d8576b\"], [0.6666666666666666, \"#ed7953\"], [0.7777777777777778, \"#fb9f3a\"], [0.8888888888888888, \"#fdca26\"], [1.0, \"#f0f921\"]], \"type\": \"histogram2d\"}], \"histogram2dcontour\": [{\"colorbar\": {\"outlinewidth\": 0, \"ticks\": \"\"}, \"colorscale\": [[0.0, \"#0d0887\"], [0.1111111111111111, \"#46039f\"], [0.2222222222222222, \"#7201a8\"], [0.3333333333333333, \"#9c179e\"], [0.4444444444444444, \"#bd3786\"], [0.5555555555555556, \"#d8576b\"], [0.6666666666666666, \"#ed7953\"], [0.7777777777777778, \"#fb9f3a\"], [0.8888888888888888, \"#fdca26\"], [1.0, \"#f0f921\"]], \"type\": \"histogram2dcontour\"}], \"mesh3d\": [{\"colorbar\": {\"outlinewidth\": 0, \"ticks\": \"\"}, \"type\": \"mesh3d\"}], \"parcoords\": [{\"line\": {\"colorbar\": {\"outlinewidth\": 0, \"ticks\": \"\"}}, \"type\": \"parcoords\"}], \"scatter\": [{\"marker\": {\"colorbar\": {\"outlinewidth\": 0, \"ticks\": \"\"}}, \"type\": \"scatter\"}], \"scatter3d\": [{\"line\": {\"colorbar\": {\"outlinewidth\": 0, \"ticks\": \"\"}}, \"marker\": {\"colorbar\": {\"outlinewidth\": 0, \"ticks\": \"\"}}, \"type\": \"scatter3d\"}], \"scattercarpet\": [{\"marker\": {\"colorbar\": {\"outlinewidth\": 0, \"ticks\": \"\"}}, \"type\": \"scattercarpet\"}], \"scattergeo\": [{\"marker\": {\"colorbar\": {\"outlinewidth\": 0, \"ticks\": \"\"}}, \"type\": \"scattergeo\"}], \"scattergl\": [{\"marker\": {\"colorbar\": {\"outlinewidth\": 0, \"ticks\": \"\"}}, \"type\": \"scattergl\"}], \"scattermapbox\": [{\"marker\": {\"colorbar\": {\"outlinewidth\": 0, \"ticks\": \"\"}}, \"type\": \"scattermapbox\"}], \"scatterpolar\": [{\"marker\": {\"colorbar\": {\"outlinewidth\": 0, \"ticks\": \"\"}}, \"type\": \"scatterpolar\"}], \"scatterpolargl\": [{\"marker\": {\"colorbar\": {\"outlinewidth\": 0, \"ticks\": \"\"}}, \"type\": \"scatterpolargl\"}], \"scatterternary\": [{\"marker\": {\"colorbar\": {\"outlinewidth\": 0, \"ticks\": \"\"}}, \"type\": \"scatterternary\"}], \"surface\": [{\"colorbar\": {\"outlinewidth\": 0, \"ticks\": \"\"}, \"colorscale\": [[0.0, \"#0d0887\"], [0.1111111111111111, \"#46039f\"], [0.2222222222222222, \"#7201a8\"], [0.3333333333333333, \"#9c179e\"], [0.4444444444444444, \"#bd3786\"], [0.5555555555555556, \"#d8576b\"], [0.6666666666666666, \"#ed7953\"], [0.7777777777777778, \"#fb9f3a\"], [0.8888888888888888, \"#fdca26\"], [1.0, \"#f0f921\"]], \"type\": \"surface\"}], \"table\": [{\"cells\": {\"fill\": {\"color\": \"#EBF0F8\"}, \"line\": {\"color\": \"white\"}}, \"header\": {\"fill\": {\"color\": \"#C8D4E3\"}, \"line\": {\"color\": \"white\"}}, \"type\": \"table\"}]}, \"layout\": {\"annotationdefaults\": {\"arrowcolor\": \"#2a3f5f\", \"arrowhead\": 0, \"arrowwidth\": 1}, \"colorscale\": {\"diverging\": [[0, \"#8e0152\"], [0.1, \"#c51b7d\"], [0.2, \"#de77ae\"], [0.3, \"#f1b6da\"], [0.4, \"#fde0ef\"], [0.5, \"#f7f7f7\"], [0.6, \"#e6f5d0\"], [0.7, \"#b8e186\"], [0.8, \"#7fbc41\"], [0.9, \"#4d9221\"], [1, \"#276419\"]], \"sequential\": [[0.0, \"#0d0887\"], [0.1111111111111111, \"#46039f\"], [0.2222222222222222, \"#7201a8\"], [0.3333333333333333, \"#9c179e\"], [0.4444444444444444, \"#bd3786\"], [0.5555555555555556, \"#d8576b\"], [0.6666666666666666, \"#ed7953\"], [0.7777777777777778, \"#fb9f3a\"], [0.8888888888888888, \"#fdca26\"], [1.0, \"#f0f921\"]], \"sequentialminus\": [[0.0, \"#0d0887\"], [0.1111111111111111, \"#46039f\"], [0.2222222222222222, \"#7201a8\"], [0.3333333333333333, \"#9c179e\"], [0.4444444444444444, \"#bd3786\"], [0.5555555555555556, \"#d8576b\"], [0.6666666666666666, \"#ed7953\"], [0.7777777777777778, \"#fb9f3a\"], [0.8888888888888888, \"#fdca26\"], [1.0, \"#f0f921\"]]}, \"colorway\": [\"#636efa\", \"#EF553B\", \"#00cc96\", \"#ab63fa\", \"#FFA15A\", \"#19d3f3\", \"#FF6692\", \"#B6E880\", \"#FF97FF\", \"#FECB52\"], \"font\": {\"color\": \"#2a3f5f\"}, \"geo\": {\"bgcolor\": \"white\", \"lakecolor\": \"white\", \"landcolor\": \"#E5ECF6\", \"showlakes\": true, \"showland\": true, \"subunitcolor\": \"white\"}, \"hoverlabel\": {\"align\": \"left\"}, \"hovermode\": \"closest\", \"mapbox\": {\"style\": \"light\"}, \"paper_bgcolor\": \"white\", \"plot_bgcolor\": \"#E5ECF6\", \"polar\": {\"angularaxis\": {\"gridcolor\": \"white\", \"linecolor\": \"white\", \"ticks\": \"\"}, \"bgcolor\": \"#E5ECF6\", \"radialaxis\": {\"gridcolor\": \"white\", \"linecolor\": \"white\", \"ticks\": \"\"}}, \"scene\": {\"xaxis\": {\"backgroundcolor\": \"#E5ECF6\", \"gridcolor\": \"white\", \"gridwidth\": 2, \"linecolor\": \"white\", \"showbackground\": true, \"ticks\": \"\", \"zerolinecolor\": \"white\"}, \"yaxis\": {\"backgroundcolor\": \"#E5ECF6\", \"gridcolor\": \"white\", \"gridwidth\": 2, \"linecolor\": \"white\", \"showbackground\": true, \"ticks\": \"\", \"zerolinecolor\": \"white\"}, \"zaxis\": {\"backgroundcolor\": \"#E5ECF6\", \"gridcolor\": \"white\", \"gridwidth\": 2, \"linecolor\": \"white\", \"showbackground\": true, \"ticks\": \"\", \"zerolinecolor\": \"white\"}}, \"shapedefaults\": {\"line\": {\"color\": \"#2a3f5f\"}}, \"ternary\": {\"aaxis\": {\"gridcolor\": \"white\", \"linecolor\": \"white\", \"ticks\": \"\"}, \"baxis\": {\"gridcolor\": \"white\", \"linecolor\": \"white\", \"ticks\": \"\"}, \"bgcolor\": \"#E5ECF6\", \"caxis\": {\"gridcolor\": \"white\", \"linecolor\": \"white\", \"ticks\": \"\"}}, \"title\": {\"x\": 0.05}, \"xaxis\": {\"automargin\": true, \"gridcolor\": \"white\", \"linecolor\": \"white\", \"ticks\": \"\", \"zerolinecolor\": \"white\", \"zerolinewidth\": 2}, \"yaxis\": {\"automargin\": true, \"gridcolor\": \"white\", \"linecolor\": \"white\", \"ticks\": \"\", \"zerolinecolor\": \"white\", \"zerolinewidth\": 2}}}, \"xaxis\": {\"anchor\": \"y\", \"domain\": [0.0, 0.98], \"title\": {\"text\": \"total_number_of_houses_covered\"}}, \"yaxis\": {\"anchor\": \"x\", \"domain\": [0.0, 1.0]}},\n",
       "                        {\"responsive\": true}\n",
       "                    ).then(function(){\n",
       "                            \n",
       "var gd = document.getElementById('d533e602-3743-4089-93f2-a3fcfc78aa2d');\n",
       "var x = new MutationObserver(function (mutations, observer) {{\n",
       "        var display = window.getComputedStyle(gd).display;\n",
       "        if (!display || display === 'none') {{\n",
       "            console.log([gd, 'removed!']);\n",
       "            Plotly.purge(gd);\n",
       "            observer.disconnect();\n",
       "        }}\n",
       "}});\n",
       "\n",
       "// Listen for the removal of the full notebook cells\n",
       "var notebookContainer = gd.closest('#notebook-container');\n",
       "if (notebookContainer) {{\n",
       "    x.observe(notebookContainer, {childList: true});\n",
       "}}\n",
       "\n",
       "// Listen for the clearing of the current output cell\n",
       "var outputEl = gd.closest('.output');\n",
       "if (outputEl) {{\n",
       "    x.observe(outputEl, {childList: true});\n",
       "}}\n",
       "\n",
       "                        })\n",
       "                };\n",
       "                });\n",
       "            </script>\n",
       "        </div>"
      ]
     },
     "metadata": {},
     "output_type": "display_data"
    },
    {
     "data": {
      "application/vnd.plotly.v1+json": {
       "config": {
        "plotlyServerURL": "https://plot.ly"
       },
       "data": [
        {
         "alignmentgroup": "True",
         "customdata": [
          [
           "PUDUCHERRY",
           138642453972
          ],
          [
           "PUDUCHERRY",
           142673238548
          ],
          [
           "PUDUCHERRY",
           638824973175
          ],
          [
           "PUDUCHERRY",
           257944286831
          ],
          [
           "PUDUCHERRY",
           332126748547
          ],
          [
           "PUDUCHERRY",
           612832874973
          ],
          [
           "PUDUCHERRY",
           638281273457
          ],
          [
           "PUDUCHERRY",
           845963712374
          ],
          [
           "PUDUCHERRY",
           128239347467
          ],
          [
           "PUDUCHERRY",
           244738178639
          ],
          [
           "PUDUCHERRY",
           277339484681
          ],
          [
           "PUDUCHERRY",
           372149485782
          ],
          [
           "PUDUCHERRY",
           378473258962
          ],
          [
           "PUDUCHERRY",
           384891624572
          ],
          [
           "PUDUCHERRY",
           437932648127
          ],
          [
           "PUDUCHERRY",
           721923378845
          ],
          [
           "PUDUCHERRY",
           723634187529
          ],
          [
           "PUDUCHERRY",
           844673532927
          ],
          [
           "PUDUCHERRY",
           845243139867
          ],
          [
           "PUDUCHERRY",
           867283934517
          ],
          [
           "PUDUCHERRY",
           927134582764
          ],
          [
           "PUDUCHERRY",
           387948224537
          ],
          [
           "PUDUCHERRY",
           459873146273
          ],
          [
           "PUDUCHERRY",
           518424627837
          ],
          [
           "PUDUCHERRY",
           567214829373
          ],
          [
           "PUDUCHERRY",
           937483227615
          ],
          [
           "PUDUCHERRY",
           944282177536
          ],
          [
           "PUDUCHERRY",
           481472735268
          ],
          [
           "PUDUCHERRY",
           982476214385
          ],
          [
           "PUDUCHERRY",
           265733174284
          ],
          [
           "PUDUCHERRY",
           491582737428
          ],
          [
           "PUDUCHERRY",
           625419384837
          ],
          [
           "PUDUCHERRY",
           136287244973
          ],
          [
           "PUDUCHERRY",
           415782368793
          ],
          [
           "PUDUCHERRY",
           448726172583
          ],
          [
           "PUDUCHERRY",
           569321724874
          ],
          [
           "PUDUCHERRY",
           733188596422
          ],
          [
           "PUDUCHERRY",
           898514242637
          ],
          [
           "PUDUCHERRY",
           234319478756
          ],
          [
           "PUDUCHERRY",
           486734322859
          ],
          [
           "PUDUCHERRY",
           489323727465
          ],
          [
           "PUDUCHERRY",
           719828233544
          ],
          [
           "Tripura",
           248577336418
          ],
          [
           "Tripura",
           252344198673
          ],
          [
           "Tripura",
           272348371486
          ],
          [
           "Tripura",
           478928734216
          ],
          [
           "Tripura",
           652843379247
          ],
          [
           "Tripura",
           732968873245
          ],
          [
           "Tripura",
           743821685234
          ],
          [
           "Tripura",
           334274278916
          ],
          [
           "Tripura",
           452432687917
          ],
          [
           "Tripura",
           948725267381
          ],
          [
           "Tripura",
           386794247135
          ],
          [
           "Tripura",
           632427984815
          ],
          [
           "Tripura",
           679813427458
          ],
          [
           "Tripura",
           281679442835
          ],
          [
           "Tripura",
           574436232987
          ],
          [
           "Tripura",
           823894146537
          ],
          [
           "Tripura",
           986754372382
          ],
          [
           "Tripura",
           214938386724
          ],
          [
           "Tripura",
           341249273576
          ],
          [
           "Tripura",
           238985167724
          ],
          [
           "Tripura",
           247834927186
          ],
          [
           "Tripura",
           536174884392
          ],
          [
           "Tripura",
           126249437783
          ],
          [
           "Tripura",
           149874582336
          ],
          [
           "Tripura",
           422715637894
          ],
          [
           "Tripura",
           639741824782
          ],
          [
           "Tripura",
           932835644721
          ],
          [
           "Tripura",
           163954722884
          ],
          [
           "Tripura",
           183972454276
          ],
          [
           "Tripura",
           342125863879
          ],
          [
           "Tripura",
           723423594871
          ],
          [
           "Tripura",
           783416728345
          ],
          [
           "Tripura",
           854732623419
          ],
          [
           "Tripura",
           275438271683
          ],
          [
           "Tripura",
           643215428978
          ],
          [
           "Tripura",
           738821639574
          ],
          [
           "Tripura",
           846177284932
          ],
          [
           "Tripura",
           248312578943
          ],
          [
           "Tripura",
           258613787493
          ],
          [
           "Tripura",
           623738489721
          ],
          [
           "Tripura",
           638297345741
          ],
          [
           "Tripura",
           787242168349
          ],
          [
           "Tripura",
           821644875323
          ],
          [
           "Tripura",
           182747624339
          ],
          [
           "Tripura",
           295884371324
          ],
          [
           "Tripura",
           522374881673
          ],
          [
           "Tripura",
           537824867241
          ],
          [
           "Tripura",
           578264338712
          ],
          [
           "Tripura",
           742378548961
          ],
          [
           "Tripura",
           787432934285
          ],
          [
           "Tripura",
           897475234832
          ],
          [
           "Tripura",
           968248753374
          ],
          [
           "Tripura",
           326753984214
          ],
          [
           "Tripura",
           149876538242
          ],
          [
           "Tripura",
           187298245637
          ],
          [
           "Tripura",
           339247672885
          ],
          [
           "Tripura",
           961783348254
          ],
          [
           "Tripura",
           698124343772
          ],
          [
           "Tripura",
           874867242393
          ],
          [
           "Tripura",
           232435941787
          ],
          [
           "Tripura",
           293324157486
          ],
          [
           "Tripura",
           385177622344
          ],
          [
           "Tripura",
           484322761938
          ],
          [
           "Tripura",
           842841376759
          ],
          [
           "Tripura",
           882439357421
          ],
          [
           "Tripura",
           465347783912
          ],
          [
           "Tripura",
           779353248481
          ],
          [
           "Tripura",
           165493428378
          ],
          [
           "Tripura",
           244788369572
          ],
          [
           "Tripura",
           252968771448
          ],
          [
           "Tripura",
           277324988156
          ],
          [
           "Tripura",
           382874645731
          ],
          [
           "Tripura",
           387732612954
          ],
          [
           "Tripura",
           485637319287
          ],
          [
           "Tripura",
           684592717243
          ],
          [
           "Tripura",
           874421675923
          ],
          [
           "Tripura",
           744822389135
          ],
          [
           "Tripura",
           968358727144
          ],
          [
           "Tripura",
           498321865342
          ],
          [
           "Tripura",
           574936288321
          ],
          [
           "Tripura",
           613428735792
          ],
          [
           "Tripura",
           637431872584
          ],
          [
           "Tripura",
           185347927483
          ],
          [
           "Tripura",
           784768942523
          ],
          [
           "Tripura",
           834174359827
          ],
          [
           "Tripura",
           381467254397
          ],
          [
           "Tripura",
           424819638532
          ],
          [
           "Tripura",
           485326197732
          ],
          [
           "Tripura",
           943567848227
          ],
          [
           "Tripura",
           342285467397
          ],
          [
           "Tripura",
           725424136987
          ],
          [
           "Tripura",
           749538618273
          ],
          [
           "Tripura",
           873982464321
          ],
          [
           "Tripura",
           231838757494
          ],
          [
           "Tripura",
           727281643943
          ],
          [
           "Tripura",
           942572764388
          ],
          [
           "Tripura",
           258637913824
          ],
          [
           "Tripura",
           472721486985
          ],
          [
           "Tripura",
           641732985274
          ],
          [
           "Tripura",
           787429831254
          ],
          [
           "Tripura",
           877586934214
          ],
          [
           "Tripura",
           324598137487
          ],
          [
           "Tripura",
           267189785233
          ],
          [
           "Tripura",
           432797428815
          ],
          [
           "Tripura",
           746824831379
          ],
          [
           "Tripura",
           347241886527
          ],
          [
           "Tripura",
           748623718392
          ],
          [
           "Tripura",
           819223487367
          ],
          [
           "Tripura",
           369157387242
          ],
          [
           "Tripura",
           567873328421
          ],
          [
           "Tripura",
           143842397276
          ],
          [
           "Tripura",
           234178468935
          ],
          [
           "Tripura",
           423917738258
          ],
          [
           "Tripura",
           549738421678
          ],
          [
           "Tripura",
           637317945282
          ],
          [
           "Tripura",
           738284425319
          ],
          [
           "Tripura",
           774564389821
          ],
          [
           "Tripura",
           625848797343
          ],
          [
           "Tripura",
           854231967274
          ],
          [
           "Tripura",
           948334186522
          ],
          [
           "Tripura",
           225417986837
          ]
         ],
         "hoverlabel": {
          "namelength": 0
         },
         "hovertemplate": "Survey_interval=8-12_August_2019<br>total_number_of_workers_commercial(hired+non-hired+contractual)=%{x}<br>state_name=%{customdata[0]}<br>enumerator_id=%{customdata[1]}",
         "legendgroup": "Survey_interval=8-12_August_2019",
         "marker": {
          "color": "#636efa"
         },
         "name": "Survey_interval=8-12_August_2019",
         "notched": false,
         "offsetgroup": "Survey_interval=8-12_August_2019",
         "orientation": "h",
         "showlegend": true,
         "type": "box",
         "x": [
          0,
          5,
          0,
          3,
          7,
          12,
          22,
          6,
          3,
          0,
          0,
          7,
          21,
          0,
          2,
          8,
          3,
          1,
          0,
          1,
          0,
          9,
          9,
          7,
          7,
          0,
          0,
          0,
          0,
          0,
          29,
          0,
          125,
          15,
          12,
          54,
          12,
          79,
          12,
          2,
          0,
          0,
          1,
          1,
          0,
          10,
          0,
          14,
          0,
          0,
          2,
          0,
          4,
          0,
          1,
          0,
          0,
          1,
          6,
          19,
          2,
          18,
          0,
          3,
          21,
          74,
          16,
          17,
          51,
          0,
          6,
          0,
          0,
          0,
          2,
          36,
          8,
          99,
          0,
          0,
          0,
          0,
          0,
          12,
          10,
          8,
          3,
          0,
          0,
          0,
          21,
          0,
          7,
          0,
          0,
          31,
          6,
          19,
          31,
          0,
          0,
          11,
          0,
          0,
          0,
          3,
          0,
          0,
          0,
          39,
          0,
          0,
          1,
          5,
          0,
          0,
          6,
          8,
          0,
          8,
          9,
          43,
          12,
          33,
          4,
          0,
          2,
          0,
          5,
          0,
          12,
          0,
          0,
          26,
          8,
          0,
          12,
          7,
          9,
          180,
          0,
          0,
          4,
          0,
          13,
          0,
          2,
          21,
          0,
          4,
          0,
          0,
          1,
          0,
          0,
          0,
          0,
          0,
          0,
          6,
          0,
          11,
          0
         ],
         "x0": " ",
         "xaxis": "x",
         "y0": " ",
         "yaxis": "y"
        },
        {
         "alignmentgroup": "True",
         "customdata": [
          [
           "PUDUCHERRY",
           325287314771
          ],
          [
           "PUDUCHERRY",
           257944286831
          ],
          [
           "PUDUCHERRY",
           332126748547
          ],
          [
           "PUDUCHERRY",
           638281273457
          ],
          [
           "PUDUCHERRY",
           244738178639
          ],
          [
           "PUDUCHERRY",
           437932648127
          ],
          [
           "PUDUCHERRY",
           867283934517
          ],
          [
           "PUDUCHERRY",
           387948224537
          ],
          [
           "PUDUCHERRY",
           459873146273
          ],
          [
           "PUDUCHERRY",
           518424627837
          ],
          [
           "PUDUCHERRY",
           567214829373
          ],
          [
           "PUDUCHERRY",
           937483227615
          ],
          [
           "PUDUCHERRY",
           944282177536
          ],
          [
           "PUDUCHERRY",
           491582737428
          ],
          [
           "PUDUCHERRY",
           625419384837
          ],
          [
           "PUDUCHERRY",
           136287244973
          ],
          [
           "PUDUCHERRY",
           569321724874
          ],
          [
           "PUDUCHERRY",
           733188596422
          ],
          [
           "Tripura",
           443727281856
          ],
          [
           "Tripura",
           248577336418
          ],
          [
           "Tripura",
           252344198673
          ],
          [
           "Tripura",
           272348371486
          ],
          [
           "Tripura",
           478928734216
          ],
          [
           "Tripura",
           652843379247
          ],
          [
           "Tripura",
           743821685234
          ],
          [
           "Tripura",
           936742381524
          ],
          [
           "Tripura",
           386794247135
          ],
          [
           "Tripura",
           679813427458
          ],
          [
           "Tripura",
           574436232987
          ],
          [
           "Tripura",
           823894146537
          ],
          [
           "Tripura",
           986754372382
          ],
          [
           "Tripura",
           214938386724
          ],
          [
           "Tripura",
           341249273576
          ],
          [
           "Tripura",
           298316544837
          ],
          [
           "Tripura",
           238985167724
          ],
          [
           "Tripura",
           126249437783
          ],
          [
           "Tripura",
           149874582336
          ],
          [
           "Tripura",
           422715637894
          ],
          [
           "Tripura",
           639741824782
          ],
          [
           "Tripura",
           932835644721
          ],
          [
           "Tripura",
           163954722884
          ],
          [
           "Tripura",
           183972454276
          ],
          [
           "Tripura",
           342125863879
          ],
          [
           "Tripura",
           723423594871
          ],
          [
           "Tripura",
           783416728345
          ],
          [
           "Tripura",
           854732623419
          ],
          [
           "Tripura",
           243845621737
          ],
          [
           "Tripura",
           327283564491
          ],
          [
           "Tripura",
           643215428978
          ],
          [
           "Tripura",
           738821639574
          ],
          [
           "Tripura",
           846177284932
          ],
          [
           "Tripura",
           248312578943
          ],
          [
           "Tripura",
           258613787493
          ],
          [
           "Tripura",
           623738489721
          ],
          [
           "Tripura",
           638297345741
          ],
          [
           "Tripura",
           821644875323
          ],
          [
           "Tripura",
           182747624339
          ],
          [
           "Tripura",
           296783142847
          ],
          [
           "Tripura",
           522374881673
          ],
          [
           "Tripura",
           537824867241
          ],
          [
           "Tripura",
           742378548961
          ],
          [
           "Tripura",
           787432934285
          ],
          [
           "Tripura",
           897475234832
          ],
          [
           "Tripura",
           495812332478
          ],
          [
           "Tripura",
           326753984214
          ],
          [
           "Tripura",
           491845786327
          ],
          [
           "Tripura",
           837946418732
          ],
          [
           "Tripura",
           149876538242
          ],
          [
           "Tripura",
           187298245637
          ],
          [
           "Tripura",
           332851674874
          ],
          [
           "Tripura",
           339247672885
          ],
          [
           "Tripura",
           961783348254
          ],
          [
           "Tripura",
           698124343772
          ],
          [
           "Tripura",
           874867242393
          ],
          [
           "Tripura",
           232435941787
          ],
          [
           "Tripura",
           293324157486
          ],
          [
           "Tripura",
           385177622344
          ],
          [
           "Tripura",
           484322761938
          ],
          [
           "Tripura",
           842841376759
          ],
          [
           "Tripura",
           882439357421
          ],
          [
           "Tripura",
           223589681347
          ],
          [
           "Tripura",
           465347783912
          ],
          [
           "Tripura",
           165493428378
          ],
          [
           "Tripura",
           244788369572
          ],
          [
           "Tripura",
           252968771448
          ],
          [
           "Tripura",
           277324988156
          ],
          [
           "Tripura",
           382874645731
          ],
          [
           "Tripura",
           387732612954
          ],
          [
           "Tripura",
           684592717243
          ],
          [
           "Tripura",
           874421675923
          ],
          [
           "Tripura",
           968358727144
          ],
          [
           "Tripura",
           613428735792
          ],
          [
           "Tripura",
           637431872584
          ],
          [
           "Tripura",
           729835431276
          ],
          [
           "Tripura",
           185347927483
          ],
          [
           "Tripura",
           784768942523
          ],
          [
           "Tripura",
           834174359827
          ],
          [
           "Tripura",
           381467254397
          ],
          [
           "Tripura",
           424819638532
          ],
          [
           "Tripura",
           485326197732
          ],
          [
           "Tripura",
           943567848227
          ],
          [
           "Tripura",
           342285467397
          ],
          [
           "Tripura",
           749538618273
          ],
          [
           "Tripura",
           873982464321
          ],
          [
           "Tripura",
           367235881249
          ],
          [
           "Tripura",
           727281643943
          ],
          [
           "Tripura",
           942572764388
          ],
          [
           "Tripura",
           258637913824
          ],
          [
           "Tripura",
           472721486985
          ],
          [
           "Tripura",
           362248397745
          ],
          [
           "Tripura",
           241583367427
          ],
          [
           "Tripura",
           324629834775
          ],
          [
           "Tripura",
           787429831254
          ],
          [
           "Tripura",
           877586934214
          ],
          [
           "Tripura",
           324598137487
          ],
          [
           "Tripura",
           432797428815
          ],
          [
           "Tripura",
           347241886527
          ],
          [
           "Tripura",
           819223487367
          ],
          [
           "Tripura",
           567873328421
          ],
          [
           "Tripura",
           143842397276
          ],
          [
           "Tripura",
           234178468935
          ],
          [
           "Tripura",
           423917738258
          ],
          [
           "Tripura",
           549738421678
          ],
          [
           "Tripura",
           738284425319
          ],
          [
           "Tripura",
           774564389821
          ],
          [
           "Tripura",
           625848797343
          ],
          [
           "Tripura",
           854231967274
          ],
          [
           "Tripura",
           948334186522
          ],
          [
           "Tripura",
           225417986837
          ]
         ],
         "hoverlabel": {
          "namelength": 0
         },
         "hovertemplate": "Survey_interval=Till_8_August_2019<br>total_number_of_workers_commercial(hired+non-hired+contractual)=%{x}<br>state_name=%{customdata[0]}<br>enumerator_id=%{customdata[1]}",
         "legendgroup": "Survey_interval=Till_8_August_2019",
         "marker": {
          "color": "#EF553B"
         },
         "name": "Survey_interval=Till_8_August_2019",
         "notched": false,
         "offsetgroup": "Survey_interval=Till_8_August_2019",
         "orientation": "h",
         "showlegend": true,
         "type": "box",
         "x": [
          0,
          0,
          0,
          44,
          0,
          3,
          0,
          12,
          1,
          17,
          13,
          0,
          0,
          0,
          1,
          19,
          5,
          0,
          13,
          3,
          5,
          0,
          4,
          0,
          3,
          0,
          0,
          1,
          0,
          0,
          1,
          1,
          1,
          0,
          0,
          30,
          14,
          39,
          98,
          63,
          0,
          7,
          0,
          0,
          0,
          0,
          0,
          0,
          6,
          0,
          0,
          18,
          0,
          0,
          0,
          0,
          0,
          0,
          0,
          0,
          0,
          0,
          0,
          0,
          2,
          1,
          8,
          1,
          3,
          20,
          29,
          3,
          0,
          0,
          1,
          8,
          6,
          3,
          8,
          0,
          11,
          3,
          21,
          0,
          0,
          0,
          2,
          0,
          16,
          2,
          4,
          0,
          0,
          0,
          2,
          0,
          10,
          0,
          0,
          0,
          6,
          0,
          14,
          2,
          0,
          13,
          10,
          4,
          41,
          0,
          0,
          0,
          0,
          3,
          0,
          0,
          35,
          0,
          1,
          5,
          1,
          0,
          0,
          0,
          0,
          9,
          0,
          17,
          0
         ],
         "x0": " ",
         "xaxis": "x",
         "y0": " ",
         "yaxis": "y"
        }
       ],
       "layout": {
        "boxmode": "group",
        "height": 600,
        "legend": {
         "tracegroupgap": 0
        },
        "margin": {
         "t": 60
        },
        "template": {
         "data": {
          "bar": [
           {
            "error_x": {
             "color": "#2a3f5f"
            },
            "error_y": {
             "color": "#2a3f5f"
            },
            "marker": {
             "line": {
              "color": "#E5ECF6",
              "width": 0.5
             }
            },
            "type": "bar"
           }
          ],
          "barpolar": [
           {
            "marker": {
             "line": {
              "color": "#E5ECF6",
              "width": 0.5
             }
            },
            "type": "barpolar"
           }
          ],
          "carpet": [
           {
            "aaxis": {
             "endlinecolor": "#2a3f5f",
             "gridcolor": "white",
             "linecolor": "white",
             "minorgridcolor": "white",
             "startlinecolor": "#2a3f5f"
            },
            "baxis": {
             "endlinecolor": "#2a3f5f",
             "gridcolor": "white",
             "linecolor": "white",
             "minorgridcolor": "white",
             "startlinecolor": "#2a3f5f"
            },
            "type": "carpet"
           }
          ],
          "choropleth": [
           {
            "colorbar": {
             "outlinewidth": 0,
             "ticks": ""
            },
            "type": "choropleth"
           }
          ],
          "contour": [
           {
            "colorbar": {
             "outlinewidth": 0,
             "ticks": ""
            },
            "colorscale": [
             [
              0,
              "#0d0887"
             ],
             [
              0.1111111111111111,
              "#46039f"
             ],
             [
              0.2222222222222222,
              "#7201a8"
             ],
             [
              0.3333333333333333,
              "#9c179e"
             ],
             [
              0.4444444444444444,
              "#bd3786"
             ],
             [
              0.5555555555555556,
              "#d8576b"
             ],
             [
              0.6666666666666666,
              "#ed7953"
             ],
             [
              0.7777777777777778,
              "#fb9f3a"
             ],
             [
              0.8888888888888888,
              "#fdca26"
             ],
             [
              1,
              "#f0f921"
             ]
            ],
            "type": "contour"
           }
          ],
          "contourcarpet": [
           {
            "colorbar": {
             "outlinewidth": 0,
             "ticks": ""
            },
            "type": "contourcarpet"
           }
          ],
          "heatmap": [
           {
            "colorbar": {
             "outlinewidth": 0,
             "ticks": ""
            },
            "colorscale": [
             [
              0,
              "#0d0887"
             ],
             [
              0.1111111111111111,
              "#46039f"
             ],
             [
              0.2222222222222222,
              "#7201a8"
             ],
             [
              0.3333333333333333,
              "#9c179e"
             ],
             [
              0.4444444444444444,
              "#bd3786"
             ],
             [
              0.5555555555555556,
              "#d8576b"
             ],
             [
              0.6666666666666666,
              "#ed7953"
             ],
             [
              0.7777777777777778,
              "#fb9f3a"
             ],
             [
              0.8888888888888888,
              "#fdca26"
             ],
             [
              1,
              "#f0f921"
             ]
            ],
            "type": "heatmap"
           }
          ],
          "heatmapgl": [
           {
            "colorbar": {
             "outlinewidth": 0,
             "ticks": ""
            },
            "colorscale": [
             [
              0,
              "#0d0887"
             ],
             [
              0.1111111111111111,
              "#46039f"
             ],
             [
              0.2222222222222222,
              "#7201a8"
             ],
             [
              0.3333333333333333,
              "#9c179e"
             ],
             [
              0.4444444444444444,
              "#bd3786"
             ],
             [
              0.5555555555555556,
              "#d8576b"
             ],
             [
              0.6666666666666666,
              "#ed7953"
             ],
             [
              0.7777777777777778,
              "#fb9f3a"
             ],
             [
              0.8888888888888888,
              "#fdca26"
             ],
             [
              1,
              "#f0f921"
             ]
            ],
            "type": "heatmapgl"
           }
          ],
          "histogram": [
           {
            "marker": {
             "colorbar": {
              "outlinewidth": 0,
              "ticks": ""
             }
            },
            "type": "histogram"
           }
          ],
          "histogram2d": [
           {
            "colorbar": {
             "outlinewidth": 0,
             "ticks": ""
            },
            "colorscale": [
             [
              0,
              "#0d0887"
             ],
             [
              0.1111111111111111,
              "#46039f"
             ],
             [
              0.2222222222222222,
              "#7201a8"
             ],
             [
              0.3333333333333333,
              "#9c179e"
             ],
             [
              0.4444444444444444,
              "#bd3786"
             ],
             [
              0.5555555555555556,
              "#d8576b"
             ],
             [
              0.6666666666666666,
              "#ed7953"
             ],
             [
              0.7777777777777778,
              "#fb9f3a"
             ],
             [
              0.8888888888888888,
              "#fdca26"
             ],
             [
              1,
              "#f0f921"
             ]
            ],
            "type": "histogram2d"
           }
          ],
          "histogram2dcontour": [
           {
            "colorbar": {
             "outlinewidth": 0,
             "ticks": ""
            },
            "colorscale": [
             [
              0,
              "#0d0887"
             ],
             [
              0.1111111111111111,
              "#46039f"
             ],
             [
              0.2222222222222222,
              "#7201a8"
             ],
             [
              0.3333333333333333,
              "#9c179e"
             ],
             [
              0.4444444444444444,
              "#bd3786"
             ],
             [
              0.5555555555555556,
              "#d8576b"
             ],
             [
              0.6666666666666666,
              "#ed7953"
             ],
             [
              0.7777777777777778,
              "#fb9f3a"
             ],
             [
              0.8888888888888888,
              "#fdca26"
             ],
             [
              1,
              "#f0f921"
             ]
            ],
            "type": "histogram2dcontour"
           }
          ],
          "mesh3d": [
           {
            "colorbar": {
             "outlinewidth": 0,
             "ticks": ""
            },
            "type": "mesh3d"
           }
          ],
          "parcoords": [
           {
            "line": {
             "colorbar": {
              "outlinewidth": 0,
              "ticks": ""
             }
            },
            "type": "parcoords"
           }
          ],
          "scatter": [
           {
            "marker": {
             "colorbar": {
              "outlinewidth": 0,
              "ticks": ""
             }
            },
            "type": "scatter"
           }
          ],
          "scatter3d": [
           {
            "line": {
             "colorbar": {
              "outlinewidth": 0,
              "ticks": ""
             }
            },
            "marker": {
             "colorbar": {
              "outlinewidth": 0,
              "ticks": ""
             }
            },
            "type": "scatter3d"
           }
          ],
          "scattercarpet": [
           {
            "marker": {
             "colorbar": {
              "outlinewidth": 0,
              "ticks": ""
             }
            },
            "type": "scattercarpet"
           }
          ],
          "scattergeo": [
           {
            "marker": {
             "colorbar": {
              "outlinewidth": 0,
              "ticks": ""
             }
            },
            "type": "scattergeo"
           }
          ],
          "scattergl": [
           {
            "marker": {
             "colorbar": {
              "outlinewidth": 0,
              "ticks": ""
             }
            },
            "type": "scattergl"
           }
          ],
          "scattermapbox": [
           {
            "marker": {
             "colorbar": {
              "outlinewidth": 0,
              "ticks": ""
             }
            },
            "type": "scattermapbox"
           }
          ],
          "scatterpolar": [
           {
            "marker": {
             "colorbar": {
              "outlinewidth": 0,
              "ticks": ""
             }
            },
            "type": "scatterpolar"
           }
          ],
          "scatterpolargl": [
           {
            "marker": {
             "colorbar": {
              "outlinewidth": 0,
              "ticks": ""
             }
            },
            "type": "scatterpolargl"
           }
          ],
          "scatterternary": [
           {
            "marker": {
             "colorbar": {
              "outlinewidth": 0,
              "ticks": ""
             }
            },
            "type": "scatterternary"
           }
          ],
          "surface": [
           {
            "colorbar": {
             "outlinewidth": 0,
             "ticks": ""
            },
            "colorscale": [
             [
              0,
              "#0d0887"
             ],
             [
              0.1111111111111111,
              "#46039f"
             ],
             [
              0.2222222222222222,
              "#7201a8"
             ],
             [
              0.3333333333333333,
              "#9c179e"
             ],
             [
              0.4444444444444444,
              "#bd3786"
             ],
             [
              0.5555555555555556,
              "#d8576b"
             ],
             [
              0.6666666666666666,
              "#ed7953"
             ],
             [
              0.7777777777777778,
              "#fb9f3a"
             ],
             [
              0.8888888888888888,
              "#fdca26"
             ],
             [
              1,
              "#f0f921"
             ]
            ],
            "type": "surface"
           }
          ],
          "table": [
           {
            "cells": {
             "fill": {
              "color": "#EBF0F8"
             },
             "line": {
              "color": "white"
             }
            },
            "header": {
             "fill": {
              "color": "#C8D4E3"
             },
             "line": {
              "color": "white"
             }
            },
            "type": "table"
           }
          ]
         },
         "layout": {
          "annotationdefaults": {
           "arrowcolor": "#2a3f5f",
           "arrowhead": 0,
           "arrowwidth": 1
          },
          "colorscale": {
           "diverging": [
            [
             0,
             "#8e0152"
            ],
            [
             0.1,
             "#c51b7d"
            ],
            [
             0.2,
             "#de77ae"
            ],
            [
             0.3,
             "#f1b6da"
            ],
            [
             0.4,
             "#fde0ef"
            ],
            [
             0.5,
             "#f7f7f7"
            ],
            [
             0.6,
             "#e6f5d0"
            ],
            [
             0.7,
             "#b8e186"
            ],
            [
             0.8,
             "#7fbc41"
            ],
            [
             0.9,
             "#4d9221"
            ],
            [
             1,
             "#276419"
            ]
           ],
           "sequential": [
            [
             0,
             "#0d0887"
            ],
            [
             0.1111111111111111,
             "#46039f"
            ],
            [
             0.2222222222222222,
             "#7201a8"
            ],
            [
             0.3333333333333333,
             "#9c179e"
            ],
            [
             0.4444444444444444,
             "#bd3786"
            ],
            [
             0.5555555555555556,
             "#d8576b"
            ],
            [
             0.6666666666666666,
             "#ed7953"
            ],
            [
             0.7777777777777778,
             "#fb9f3a"
            ],
            [
             0.8888888888888888,
             "#fdca26"
            ],
            [
             1,
             "#f0f921"
            ]
           ],
           "sequentialminus": [
            [
             0,
             "#0d0887"
            ],
            [
             0.1111111111111111,
             "#46039f"
            ],
            [
             0.2222222222222222,
             "#7201a8"
            ],
            [
             0.3333333333333333,
             "#9c179e"
            ],
            [
             0.4444444444444444,
             "#bd3786"
            ],
            [
             0.5555555555555556,
             "#d8576b"
            ],
            [
             0.6666666666666666,
             "#ed7953"
            ],
            [
             0.7777777777777778,
             "#fb9f3a"
            ],
            [
             0.8888888888888888,
             "#fdca26"
            ],
            [
             1,
             "#f0f921"
            ]
           ]
          },
          "colorway": [
           "#636efa",
           "#EF553B",
           "#00cc96",
           "#ab63fa",
           "#FFA15A",
           "#19d3f3",
           "#FF6692",
           "#B6E880",
           "#FF97FF",
           "#FECB52"
          ],
          "font": {
           "color": "#2a3f5f"
          },
          "geo": {
           "bgcolor": "white",
           "lakecolor": "white",
           "landcolor": "#E5ECF6",
           "showlakes": true,
           "showland": true,
           "subunitcolor": "white"
          },
          "hoverlabel": {
           "align": "left"
          },
          "hovermode": "closest",
          "mapbox": {
           "style": "light"
          },
          "paper_bgcolor": "white",
          "plot_bgcolor": "#E5ECF6",
          "polar": {
           "angularaxis": {
            "gridcolor": "white",
            "linecolor": "white",
            "ticks": ""
           },
           "bgcolor": "#E5ECF6",
           "radialaxis": {
            "gridcolor": "white",
            "linecolor": "white",
            "ticks": ""
           }
          },
          "scene": {
           "xaxis": {
            "backgroundcolor": "#E5ECF6",
            "gridcolor": "white",
            "gridwidth": 2,
            "linecolor": "white",
            "showbackground": true,
            "ticks": "",
            "zerolinecolor": "white"
           },
           "yaxis": {
            "backgroundcolor": "#E5ECF6",
            "gridcolor": "white",
            "gridwidth": 2,
            "linecolor": "white",
            "showbackground": true,
            "ticks": "",
            "zerolinecolor": "white"
           },
           "zaxis": {
            "backgroundcolor": "#E5ECF6",
            "gridcolor": "white",
            "gridwidth": 2,
            "linecolor": "white",
            "showbackground": true,
            "ticks": "",
            "zerolinecolor": "white"
           }
          },
          "shapedefaults": {
           "line": {
            "color": "#2a3f5f"
           }
          },
          "ternary": {
           "aaxis": {
            "gridcolor": "white",
            "linecolor": "white",
            "ticks": ""
           },
           "baxis": {
            "gridcolor": "white",
            "linecolor": "white",
            "ticks": ""
           },
           "bgcolor": "#E5ECF6",
           "caxis": {
            "gridcolor": "white",
            "linecolor": "white",
            "ticks": ""
           }
          },
          "title": {
           "x": 0.05
          },
          "xaxis": {
           "automargin": true,
           "gridcolor": "white",
           "linecolor": "white",
           "ticks": "",
           "zerolinecolor": "white",
           "zerolinewidth": 2
          },
          "yaxis": {
           "automargin": true,
           "gridcolor": "white",
           "linecolor": "white",
           "ticks": "",
           "zerolinecolor": "white",
           "zerolinewidth": 2
          }
         }
        },
        "xaxis": {
         "anchor": "y",
         "domain": [
          0,
          0.98
         ],
         "title": {
          "text": "total_number_of_workers_commercial(hired+non-hired+contractual)"
         }
        },
        "yaxis": {
         "anchor": "x",
         "domain": [
          0,
          1
         ]
        }
       }
      },
      "text/html": [
       "<div>\n",
       "        \n",
       "        \n",
       "            <div id=\"faf34245-dacf-42e8-8b10-99420548d0fa\" class=\"plotly-graph-div\" style=\"height:600px; width:100%;\"></div>\n",
       "            <script type=\"text/javascript\">\n",
       "                require([\"plotly\"], function(Plotly) {\n",
       "                    window.PLOTLYENV=window.PLOTLYENV || {};\n",
       "                    \n",
       "                if (document.getElementById(\"faf34245-dacf-42e8-8b10-99420548d0fa\")) {\n",
       "                    Plotly.newPlot(\n",
       "                        'faf34245-dacf-42e8-8b10-99420548d0fa',\n",
       "                        [{\"alignmentgroup\": \"True\", \"customdata\": [[\"PUDUCHERRY\", 138642453972], [\"PUDUCHERRY\", 142673238548], [\"PUDUCHERRY\", 638824973175], [\"PUDUCHERRY\", 257944286831], [\"PUDUCHERRY\", 332126748547], [\"PUDUCHERRY\", 612832874973], [\"PUDUCHERRY\", 638281273457], [\"PUDUCHERRY\", 845963712374], [\"PUDUCHERRY\", 128239347467], [\"PUDUCHERRY\", 244738178639], [\"PUDUCHERRY\", 277339484681], [\"PUDUCHERRY\", 372149485782], [\"PUDUCHERRY\", 378473258962], [\"PUDUCHERRY\", 384891624572], [\"PUDUCHERRY\", 437932648127], [\"PUDUCHERRY\", 721923378845], [\"PUDUCHERRY\", 723634187529], [\"PUDUCHERRY\", 844673532927], [\"PUDUCHERRY\", 845243139867], [\"PUDUCHERRY\", 867283934517], [\"PUDUCHERRY\", 927134582764], [\"PUDUCHERRY\", 387948224537], [\"PUDUCHERRY\", 459873146273], [\"PUDUCHERRY\", 518424627837], [\"PUDUCHERRY\", 567214829373], [\"PUDUCHERRY\", 937483227615], [\"PUDUCHERRY\", 944282177536], [\"PUDUCHERRY\", 481472735268], [\"PUDUCHERRY\", 982476214385], [\"PUDUCHERRY\", 265733174284], [\"PUDUCHERRY\", 491582737428], [\"PUDUCHERRY\", 625419384837], [\"PUDUCHERRY\", 136287244973], [\"PUDUCHERRY\", 415782368793], [\"PUDUCHERRY\", 448726172583], [\"PUDUCHERRY\", 569321724874], [\"PUDUCHERRY\", 733188596422], [\"PUDUCHERRY\", 898514242637], [\"PUDUCHERRY\", 234319478756], [\"PUDUCHERRY\", 486734322859], [\"PUDUCHERRY\", 489323727465], [\"PUDUCHERRY\", 719828233544], [\"Tripura\", 248577336418], [\"Tripura\", 252344198673], [\"Tripura\", 272348371486], [\"Tripura\", 478928734216], [\"Tripura\", 652843379247], [\"Tripura\", 732968873245], [\"Tripura\", 743821685234], [\"Tripura\", 334274278916], [\"Tripura\", 452432687917], [\"Tripura\", 948725267381], [\"Tripura\", 386794247135], [\"Tripura\", 632427984815], [\"Tripura\", 679813427458], [\"Tripura\", 281679442835], [\"Tripura\", 574436232987], [\"Tripura\", 823894146537], [\"Tripura\", 986754372382], [\"Tripura\", 214938386724], [\"Tripura\", 341249273576], [\"Tripura\", 238985167724], [\"Tripura\", 247834927186], [\"Tripura\", 536174884392], [\"Tripura\", 126249437783], [\"Tripura\", 149874582336], [\"Tripura\", 422715637894], [\"Tripura\", 639741824782], [\"Tripura\", 932835644721], [\"Tripura\", 163954722884], [\"Tripura\", 183972454276], [\"Tripura\", 342125863879], [\"Tripura\", 723423594871], [\"Tripura\", 783416728345], [\"Tripura\", 854732623419], [\"Tripura\", 275438271683], [\"Tripura\", 643215428978], [\"Tripura\", 738821639574], [\"Tripura\", 846177284932], [\"Tripura\", 248312578943], [\"Tripura\", 258613787493], [\"Tripura\", 623738489721], [\"Tripura\", 638297345741], [\"Tripura\", 787242168349], [\"Tripura\", 821644875323], [\"Tripura\", 182747624339], [\"Tripura\", 295884371324], [\"Tripura\", 522374881673], [\"Tripura\", 537824867241], [\"Tripura\", 578264338712], [\"Tripura\", 742378548961], [\"Tripura\", 787432934285], [\"Tripura\", 897475234832], [\"Tripura\", 968248753374], [\"Tripura\", 326753984214], [\"Tripura\", 149876538242], [\"Tripura\", 187298245637], [\"Tripura\", 339247672885], [\"Tripura\", 961783348254], [\"Tripura\", 698124343772], [\"Tripura\", 874867242393], [\"Tripura\", 232435941787], [\"Tripura\", 293324157486], [\"Tripura\", 385177622344], [\"Tripura\", 484322761938], [\"Tripura\", 842841376759], [\"Tripura\", 882439357421], [\"Tripura\", 465347783912], [\"Tripura\", 779353248481], [\"Tripura\", 165493428378], [\"Tripura\", 244788369572], [\"Tripura\", 252968771448], [\"Tripura\", 277324988156], [\"Tripura\", 382874645731], [\"Tripura\", 387732612954], [\"Tripura\", 485637319287], [\"Tripura\", 684592717243], [\"Tripura\", 874421675923], [\"Tripura\", 744822389135], [\"Tripura\", 968358727144], [\"Tripura\", 498321865342], [\"Tripura\", 574936288321], [\"Tripura\", 613428735792], [\"Tripura\", 637431872584], [\"Tripura\", 185347927483], [\"Tripura\", 784768942523], [\"Tripura\", 834174359827], [\"Tripura\", 381467254397], [\"Tripura\", 424819638532], [\"Tripura\", 485326197732], [\"Tripura\", 943567848227], [\"Tripura\", 342285467397], [\"Tripura\", 725424136987], [\"Tripura\", 749538618273], [\"Tripura\", 873982464321], [\"Tripura\", 231838757494], [\"Tripura\", 727281643943], [\"Tripura\", 942572764388], [\"Tripura\", 258637913824], [\"Tripura\", 472721486985], [\"Tripura\", 641732985274], [\"Tripura\", 787429831254], [\"Tripura\", 877586934214], [\"Tripura\", 324598137487], [\"Tripura\", 267189785233], [\"Tripura\", 432797428815], [\"Tripura\", 746824831379], [\"Tripura\", 347241886527], [\"Tripura\", 748623718392], [\"Tripura\", 819223487367], [\"Tripura\", 369157387242], [\"Tripura\", 567873328421], [\"Tripura\", 143842397276], [\"Tripura\", 234178468935], [\"Tripura\", 423917738258], [\"Tripura\", 549738421678], [\"Tripura\", 637317945282], [\"Tripura\", 738284425319], [\"Tripura\", 774564389821], [\"Tripura\", 625848797343], [\"Tripura\", 854231967274], [\"Tripura\", 948334186522], [\"Tripura\", 225417986837]], \"hoverlabel\": {\"namelength\": 0}, \"hovertemplate\": \"Survey_interval=8-12_August_2019<br>total_number_of_workers_commercial(hired+non-hired+contractual)=%{x}<br>state_name=%{customdata[0]}<br>enumerator_id=%{customdata[1]}\", \"legendgroup\": \"Survey_interval=8-12_August_2019\", \"marker\": {\"color\": \"#636efa\"}, \"name\": \"Survey_interval=8-12_August_2019\", \"notched\": false, \"offsetgroup\": \"Survey_interval=8-12_August_2019\", \"orientation\": \"h\", \"showlegend\": true, \"type\": \"box\", \"x\": [0, 5, 0, 3, 7, 12, 22, 6, 3, 0, 0, 7, 21, 0, 2, 8, 3, 1, 0, 1, 0, 9, 9, 7, 7, 0, 0, 0, 0, 0, 29, 0, 125, 15, 12, 54, 12, 79, 12, 2, 0, 0, 1, 1, 0, 10, 0, 14, 0, 0, 2, 0, 4, 0, 1, 0, 0, 1, 6, 19, 2, 18, 0, 3, 21, 74, 16, 17, 51, 0, 6, 0, 0, 0, 2, 36, 8, 99, 0, 0, 0, 0, 0, 12, 10, 8, 3, 0, 0, 0, 21, 0, 7, 0, 0, 31, 6, 19, 31, 0, 0, 11, 0, 0, 0, 3, 0, 0, 0, 39, 0, 0, 1, 5, 0, 0, 6, 8, 0, 8, 9, 43, 12, 33, 4, 0, 2, 0, 5, 0, 12, 0, 0, 26, 8, 0, 12, 7, 9, 180, 0, 0, 4, 0, 13, 0, 2, 21, 0, 4, 0, 0, 1, 0, 0, 0, 0, 0, 0, 6, 0, 11, 0], \"x0\": \" \", \"xaxis\": \"x\", \"y0\": \" \", \"yaxis\": \"y\"}, {\"alignmentgroup\": \"True\", \"customdata\": [[\"PUDUCHERRY\", 325287314771], [\"PUDUCHERRY\", 257944286831], [\"PUDUCHERRY\", 332126748547], [\"PUDUCHERRY\", 638281273457], [\"PUDUCHERRY\", 244738178639], [\"PUDUCHERRY\", 437932648127], [\"PUDUCHERRY\", 867283934517], [\"PUDUCHERRY\", 387948224537], [\"PUDUCHERRY\", 459873146273], [\"PUDUCHERRY\", 518424627837], [\"PUDUCHERRY\", 567214829373], [\"PUDUCHERRY\", 937483227615], [\"PUDUCHERRY\", 944282177536], [\"PUDUCHERRY\", 491582737428], [\"PUDUCHERRY\", 625419384837], [\"PUDUCHERRY\", 136287244973], [\"PUDUCHERRY\", 569321724874], [\"PUDUCHERRY\", 733188596422], [\"Tripura\", 443727281856], [\"Tripura\", 248577336418], [\"Tripura\", 252344198673], [\"Tripura\", 272348371486], [\"Tripura\", 478928734216], [\"Tripura\", 652843379247], [\"Tripura\", 743821685234], [\"Tripura\", 936742381524], [\"Tripura\", 386794247135], [\"Tripura\", 679813427458], [\"Tripura\", 574436232987], [\"Tripura\", 823894146537], [\"Tripura\", 986754372382], [\"Tripura\", 214938386724], [\"Tripura\", 341249273576], [\"Tripura\", 298316544837], [\"Tripura\", 238985167724], [\"Tripura\", 126249437783], [\"Tripura\", 149874582336], [\"Tripura\", 422715637894], [\"Tripura\", 639741824782], [\"Tripura\", 932835644721], [\"Tripura\", 163954722884], [\"Tripura\", 183972454276], [\"Tripura\", 342125863879], [\"Tripura\", 723423594871], [\"Tripura\", 783416728345], [\"Tripura\", 854732623419], [\"Tripura\", 243845621737], [\"Tripura\", 327283564491], [\"Tripura\", 643215428978], [\"Tripura\", 738821639574], [\"Tripura\", 846177284932], [\"Tripura\", 248312578943], [\"Tripura\", 258613787493], [\"Tripura\", 623738489721], [\"Tripura\", 638297345741], [\"Tripura\", 821644875323], [\"Tripura\", 182747624339], [\"Tripura\", 296783142847], [\"Tripura\", 522374881673], [\"Tripura\", 537824867241], [\"Tripura\", 742378548961], [\"Tripura\", 787432934285], [\"Tripura\", 897475234832], [\"Tripura\", 495812332478], [\"Tripura\", 326753984214], [\"Tripura\", 491845786327], [\"Tripura\", 837946418732], [\"Tripura\", 149876538242], [\"Tripura\", 187298245637], [\"Tripura\", 332851674874], [\"Tripura\", 339247672885], [\"Tripura\", 961783348254], [\"Tripura\", 698124343772], [\"Tripura\", 874867242393], [\"Tripura\", 232435941787], [\"Tripura\", 293324157486], [\"Tripura\", 385177622344], [\"Tripura\", 484322761938], [\"Tripura\", 842841376759], [\"Tripura\", 882439357421], [\"Tripura\", 223589681347], [\"Tripura\", 465347783912], [\"Tripura\", 165493428378], [\"Tripura\", 244788369572], [\"Tripura\", 252968771448], [\"Tripura\", 277324988156], [\"Tripura\", 382874645731], [\"Tripura\", 387732612954], [\"Tripura\", 684592717243], [\"Tripura\", 874421675923], [\"Tripura\", 968358727144], [\"Tripura\", 613428735792], [\"Tripura\", 637431872584], [\"Tripura\", 729835431276], [\"Tripura\", 185347927483], [\"Tripura\", 784768942523], [\"Tripura\", 834174359827], [\"Tripura\", 381467254397], [\"Tripura\", 424819638532], [\"Tripura\", 485326197732], [\"Tripura\", 943567848227], [\"Tripura\", 342285467397], [\"Tripura\", 749538618273], [\"Tripura\", 873982464321], [\"Tripura\", 367235881249], [\"Tripura\", 727281643943], [\"Tripura\", 942572764388], [\"Tripura\", 258637913824], [\"Tripura\", 472721486985], [\"Tripura\", 362248397745], [\"Tripura\", 241583367427], [\"Tripura\", 324629834775], [\"Tripura\", 787429831254], [\"Tripura\", 877586934214], [\"Tripura\", 324598137487], [\"Tripura\", 432797428815], [\"Tripura\", 347241886527], [\"Tripura\", 819223487367], [\"Tripura\", 567873328421], [\"Tripura\", 143842397276], [\"Tripura\", 234178468935], [\"Tripura\", 423917738258], [\"Tripura\", 549738421678], [\"Tripura\", 738284425319], [\"Tripura\", 774564389821], [\"Tripura\", 625848797343], [\"Tripura\", 854231967274], [\"Tripura\", 948334186522], [\"Tripura\", 225417986837]], \"hoverlabel\": {\"namelength\": 0}, \"hovertemplate\": \"Survey_interval=Till_8_August_2019<br>total_number_of_workers_commercial(hired+non-hired+contractual)=%{x}<br>state_name=%{customdata[0]}<br>enumerator_id=%{customdata[1]}\", \"legendgroup\": \"Survey_interval=Till_8_August_2019\", \"marker\": {\"color\": \"#EF553B\"}, \"name\": \"Survey_interval=Till_8_August_2019\", \"notched\": false, \"offsetgroup\": \"Survey_interval=Till_8_August_2019\", \"orientation\": \"h\", \"showlegend\": true, \"type\": \"box\", \"x\": [0, 0, 0, 44, 0, 3, 0, 12, 1, 17, 13, 0, 0, 0, 1, 19, 5, 0, 13, 3, 5, 0, 4, 0, 3, 0, 0, 1, 0, 0, 1, 1, 1, 0, 0, 30, 14, 39, 98, 63, 0, 7, 0, 0, 0, 0, 0, 0, 6, 0, 0, 18, 0, 0, 0, 0, 0, 0, 0, 0, 0, 0, 0, 0, 2, 1, 8, 1, 3, 20, 29, 3, 0, 0, 1, 8, 6, 3, 8, 0, 11, 3, 21, 0, 0, 0, 2, 0, 16, 2, 4, 0, 0, 0, 2, 0, 10, 0, 0, 0, 6, 0, 14, 2, 0, 13, 10, 4, 41, 0, 0, 0, 0, 3, 0, 0, 35, 0, 1, 5, 1, 0, 0, 0, 0, 9, 0, 17, 0], \"x0\": \" \", \"xaxis\": \"x\", \"y0\": \" \", \"yaxis\": \"y\"}],\n",
       "                        {\"boxmode\": \"group\", \"height\": 600, \"legend\": {\"tracegroupgap\": 0}, \"margin\": {\"t\": 60}, \"template\": {\"data\": {\"bar\": [{\"error_x\": {\"color\": \"#2a3f5f\"}, \"error_y\": {\"color\": \"#2a3f5f\"}, \"marker\": {\"line\": {\"color\": \"#E5ECF6\", \"width\": 0.5}}, \"type\": \"bar\"}], \"barpolar\": [{\"marker\": {\"line\": {\"color\": \"#E5ECF6\", \"width\": 0.5}}, \"type\": \"barpolar\"}], \"carpet\": [{\"aaxis\": {\"endlinecolor\": \"#2a3f5f\", \"gridcolor\": \"white\", \"linecolor\": \"white\", \"minorgridcolor\": \"white\", \"startlinecolor\": \"#2a3f5f\"}, \"baxis\": {\"endlinecolor\": \"#2a3f5f\", \"gridcolor\": \"white\", \"linecolor\": \"white\", \"minorgridcolor\": \"white\", \"startlinecolor\": \"#2a3f5f\"}, \"type\": \"carpet\"}], \"choropleth\": [{\"colorbar\": {\"outlinewidth\": 0, \"ticks\": \"\"}, \"type\": \"choropleth\"}], \"contour\": [{\"colorbar\": {\"outlinewidth\": 0, \"ticks\": \"\"}, \"colorscale\": [[0.0, \"#0d0887\"], [0.1111111111111111, \"#46039f\"], [0.2222222222222222, \"#7201a8\"], [0.3333333333333333, \"#9c179e\"], [0.4444444444444444, \"#bd3786\"], [0.5555555555555556, \"#d8576b\"], [0.6666666666666666, \"#ed7953\"], [0.7777777777777778, \"#fb9f3a\"], [0.8888888888888888, \"#fdca26\"], [1.0, \"#f0f921\"]], \"type\": \"contour\"}], \"contourcarpet\": [{\"colorbar\": {\"outlinewidth\": 0, \"ticks\": \"\"}, \"type\": \"contourcarpet\"}], \"heatmap\": [{\"colorbar\": {\"outlinewidth\": 0, \"ticks\": \"\"}, \"colorscale\": [[0.0, \"#0d0887\"], [0.1111111111111111, \"#46039f\"], [0.2222222222222222, \"#7201a8\"], [0.3333333333333333, \"#9c179e\"], [0.4444444444444444, \"#bd3786\"], [0.5555555555555556, \"#d8576b\"], [0.6666666666666666, \"#ed7953\"], [0.7777777777777778, \"#fb9f3a\"], [0.8888888888888888, \"#fdca26\"], [1.0, \"#f0f921\"]], \"type\": \"heatmap\"}], \"heatmapgl\": [{\"colorbar\": {\"outlinewidth\": 0, \"ticks\": \"\"}, \"colorscale\": [[0.0, \"#0d0887\"], [0.1111111111111111, \"#46039f\"], [0.2222222222222222, \"#7201a8\"], [0.3333333333333333, \"#9c179e\"], [0.4444444444444444, \"#bd3786\"], [0.5555555555555556, \"#d8576b\"], [0.6666666666666666, \"#ed7953\"], [0.7777777777777778, \"#fb9f3a\"], [0.8888888888888888, \"#fdca26\"], [1.0, \"#f0f921\"]], \"type\": \"heatmapgl\"}], \"histogram\": [{\"marker\": {\"colorbar\": {\"outlinewidth\": 0, \"ticks\": \"\"}}, \"type\": \"histogram\"}], \"histogram2d\": [{\"colorbar\": {\"outlinewidth\": 0, \"ticks\": \"\"}, \"colorscale\": [[0.0, \"#0d0887\"], [0.1111111111111111, \"#46039f\"], [0.2222222222222222, \"#7201a8\"], [0.3333333333333333, \"#9c179e\"], [0.4444444444444444, \"#bd3786\"], [0.5555555555555556, \"#d8576b\"], [0.6666666666666666, \"#ed7953\"], [0.7777777777777778, \"#fb9f3a\"], [0.8888888888888888, \"#fdca26\"], [1.0, \"#f0f921\"]], \"type\": \"histogram2d\"}], \"histogram2dcontour\": [{\"colorbar\": {\"outlinewidth\": 0, \"ticks\": \"\"}, \"colorscale\": [[0.0, \"#0d0887\"], [0.1111111111111111, \"#46039f\"], [0.2222222222222222, \"#7201a8\"], [0.3333333333333333, \"#9c179e\"], [0.4444444444444444, \"#bd3786\"], [0.5555555555555556, \"#d8576b\"], [0.6666666666666666, \"#ed7953\"], [0.7777777777777778, \"#fb9f3a\"], [0.8888888888888888, \"#fdca26\"], [1.0, \"#f0f921\"]], \"type\": \"histogram2dcontour\"}], \"mesh3d\": [{\"colorbar\": {\"outlinewidth\": 0, \"ticks\": \"\"}, \"type\": \"mesh3d\"}], \"parcoords\": [{\"line\": {\"colorbar\": {\"outlinewidth\": 0, \"ticks\": \"\"}}, \"type\": \"parcoords\"}], \"scatter\": [{\"marker\": {\"colorbar\": {\"outlinewidth\": 0, \"ticks\": \"\"}}, \"type\": \"scatter\"}], \"scatter3d\": [{\"line\": {\"colorbar\": {\"outlinewidth\": 0, \"ticks\": \"\"}}, \"marker\": {\"colorbar\": {\"outlinewidth\": 0, \"ticks\": \"\"}}, \"type\": \"scatter3d\"}], \"scattercarpet\": [{\"marker\": {\"colorbar\": {\"outlinewidth\": 0, \"ticks\": \"\"}}, \"type\": \"scattercarpet\"}], \"scattergeo\": [{\"marker\": {\"colorbar\": {\"outlinewidth\": 0, \"ticks\": \"\"}}, \"type\": \"scattergeo\"}], \"scattergl\": [{\"marker\": {\"colorbar\": {\"outlinewidth\": 0, \"ticks\": \"\"}}, \"type\": \"scattergl\"}], \"scattermapbox\": [{\"marker\": {\"colorbar\": {\"outlinewidth\": 0, \"ticks\": \"\"}}, \"type\": \"scattermapbox\"}], \"scatterpolar\": [{\"marker\": {\"colorbar\": {\"outlinewidth\": 0, \"ticks\": \"\"}}, \"type\": \"scatterpolar\"}], \"scatterpolargl\": [{\"marker\": {\"colorbar\": {\"outlinewidth\": 0, \"ticks\": \"\"}}, \"type\": \"scatterpolargl\"}], \"scatterternary\": [{\"marker\": {\"colorbar\": {\"outlinewidth\": 0, \"ticks\": \"\"}}, \"type\": \"scatterternary\"}], \"surface\": [{\"colorbar\": {\"outlinewidth\": 0, \"ticks\": \"\"}, \"colorscale\": [[0.0, \"#0d0887\"], [0.1111111111111111, \"#46039f\"], [0.2222222222222222, \"#7201a8\"], [0.3333333333333333, \"#9c179e\"], [0.4444444444444444, \"#bd3786\"], [0.5555555555555556, \"#d8576b\"], [0.6666666666666666, \"#ed7953\"], [0.7777777777777778, \"#fb9f3a\"], [0.8888888888888888, \"#fdca26\"], [1.0, \"#f0f921\"]], \"type\": \"surface\"}], \"table\": [{\"cells\": {\"fill\": {\"color\": \"#EBF0F8\"}, \"line\": {\"color\": \"white\"}}, \"header\": {\"fill\": {\"color\": \"#C8D4E3\"}, \"line\": {\"color\": \"white\"}}, \"type\": \"table\"}]}, \"layout\": {\"annotationdefaults\": {\"arrowcolor\": \"#2a3f5f\", \"arrowhead\": 0, \"arrowwidth\": 1}, \"colorscale\": {\"diverging\": [[0, \"#8e0152\"], [0.1, \"#c51b7d\"], [0.2, \"#de77ae\"], [0.3, \"#f1b6da\"], [0.4, \"#fde0ef\"], [0.5, \"#f7f7f7\"], [0.6, \"#e6f5d0\"], [0.7, \"#b8e186\"], [0.8, \"#7fbc41\"], [0.9, \"#4d9221\"], [1, \"#276419\"]], \"sequential\": [[0.0, \"#0d0887\"], [0.1111111111111111, \"#46039f\"], [0.2222222222222222, \"#7201a8\"], [0.3333333333333333, \"#9c179e\"], [0.4444444444444444, \"#bd3786\"], [0.5555555555555556, \"#d8576b\"], [0.6666666666666666, \"#ed7953\"], [0.7777777777777778, \"#fb9f3a\"], [0.8888888888888888, \"#fdca26\"], [1.0, \"#f0f921\"]], \"sequentialminus\": [[0.0, \"#0d0887\"], [0.1111111111111111, \"#46039f\"], [0.2222222222222222, \"#7201a8\"], [0.3333333333333333, \"#9c179e\"], [0.4444444444444444, \"#bd3786\"], [0.5555555555555556, \"#d8576b\"], [0.6666666666666666, \"#ed7953\"], [0.7777777777777778, \"#fb9f3a\"], [0.8888888888888888, \"#fdca26\"], [1.0, \"#f0f921\"]]}, \"colorway\": [\"#636efa\", \"#EF553B\", \"#00cc96\", \"#ab63fa\", \"#FFA15A\", \"#19d3f3\", \"#FF6692\", \"#B6E880\", \"#FF97FF\", \"#FECB52\"], \"font\": {\"color\": \"#2a3f5f\"}, \"geo\": {\"bgcolor\": \"white\", \"lakecolor\": \"white\", \"landcolor\": \"#E5ECF6\", \"showlakes\": true, \"showland\": true, \"subunitcolor\": \"white\"}, \"hoverlabel\": {\"align\": \"left\"}, \"hovermode\": \"closest\", \"mapbox\": {\"style\": \"light\"}, \"paper_bgcolor\": \"white\", \"plot_bgcolor\": \"#E5ECF6\", \"polar\": {\"angularaxis\": {\"gridcolor\": \"white\", \"linecolor\": \"white\", \"ticks\": \"\"}, \"bgcolor\": \"#E5ECF6\", \"radialaxis\": {\"gridcolor\": \"white\", \"linecolor\": \"white\", \"ticks\": \"\"}}, \"scene\": {\"xaxis\": {\"backgroundcolor\": \"#E5ECF6\", \"gridcolor\": \"white\", \"gridwidth\": 2, \"linecolor\": \"white\", \"showbackground\": true, \"ticks\": \"\", \"zerolinecolor\": \"white\"}, \"yaxis\": {\"backgroundcolor\": \"#E5ECF6\", \"gridcolor\": \"white\", \"gridwidth\": 2, \"linecolor\": \"white\", \"showbackground\": true, \"ticks\": \"\", \"zerolinecolor\": \"white\"}, \"zaxis\": {\"backgroundcolor\": \"#E5ECF6\", \"gridcolor\": \"white\", \"gridwidth\": 2, \"linecolor\": \"white\", \"showbackground\": true, \"ticks\": \"\", \"zerolinecolor\": \"white\"}}, \"shapedefaults\": {\"line\": {\"color\": \"#2a3f5f\"}}, \"ternary\": {\"aaxis\": {\"gridcolor\": \"white\", \"linecolor\": \"white\", \"ticks\": \"\"}, \"baxis\": {\"gridcolor\": \"white\", \"linecolor\": \"white\", \"ticks\": \"\"}, \"bgcolor\": \"#E5ECF6\", \"caxis\": {\"gridcolor\": \"white\", \"linecolor\": \"white\", \"ticks\": \"\"}}, \"title\": {\"x\": 0.05}, \"xaxis\": {\"automargin\": true, \"gridcolor\": \"white\", \"linecolor\": \"white\", \"ticks\": \"\", \"zerolinecolor\": \"white\", \"zerolinewidth\": 2}, \"yaxis\": {\"automargin\": true, \"gridcolor\": \"white\", \"linecolor\": \"white\", \"ticks\": \"\", \"zerolinecolor\": \"white\", \"zerolinewidth\": 2}}}, \"xaxis\": {\"anchor\": \"y\", \"domain\": [0.0, 0.98], \"title\": {\"text\": \"total_number_of_workers_commercial(hired+non-hired+contractual)\"}}, \"yaxis\": {\"anchor\": \"x\", \"domain\": [0.0, 1.0]}},\n",
       "                        {\"responsive\": true}\n",
       "                    ).then(function(){\n",
       "                            \n",
       "var gd = document.getElementById('faf34245-dacf-42e8-8b10-99420548d0fa');\n",
       "var x = new MutationObserver(function (mutations, observer) {{\n",
       "        var display = window.getComputedStyle(gd).display;\n",
       "        if (!display || display === 'none') {{\n",
       "            console.log([gd, 'removed!']);\n",
       "            Plotly.purge(gd);\n",
       "            observer.disconnect();\n",
       "        }}\n",
       "}});\n",
       "\n",
       "// Listen for the removal of the full notebook cells\n",
       "var notebookContainer = gd.closest('#notebook-container');\n",
       "if (notebookContainer) {{\n",
       "    x.observe(notebookContainer, {childList: true});\n",
       "}}\n",
       "\n",
       "// Listen for the clearing of the current output cell\n",
       "var outputEl = gd.closest('.output');\n",
       "if (outputEl) {{\n",
       "    x.observe(outputEl, {childList: true});\n",
       "}}\n",
       "\n",
       "                        })\n",
       "                };\n",
       "                });\n",
       "            </script>\n",
       "        </div>"
      ]
     },
     "metadata": {},
     "output_type": "display_data"
    },
    {
     "data": {
      "application/vnd.plotly.v1+json": {
       "config": {
        "plotlyServerURL": "https://plot.ly"
       },
       "data": [
        {
         "alignmentgroup": "True",
         "customdata": [
          [
           "PUDUCHERRY",
           138642453972
          ],
          [
           "PUDUCHERRY",
           142673238548
          ],
          [
           "PUDUCHERRY",
           638824973175
          ],
          [
           "PUDUCHERRY",
           257944286831
          ],
          [
           "PUDUCHERRY",
           332126748547
          ],
          [
           "PUDUCHERRY",
           612832874973
          ],
          [
           "PUDUCHERRY",
           638281273457
          ],
          [
           "PUDUCHERRY",
           845963712374
          ],
          [
           "PUDUCHERRY",
           128239347467
          ],
          [
           "PUDUCHERRY",
           244738178639
          ],
          [
           "PUDUCHERRY",
           277339484681
          ],
          [
           "PUDUCHERRY",
           372149485782
          ],
          [
           "PUDUCHERRY",
           378473258962
          ],
          [
           "PUDUCHERRY",
           384891624572
          ],
          [
           "PUDUCHERRY",
           437932648127
          ],
          [
           "PUDUCHERRY",
           721923378845
          ],
          [
           "PUDUCHERRY",
           723634187529
          ],
          [
           "PUDUCHERRY",
           844673532927
          ],
          [
           "PUDUCHERRY",
           845243139867
          ],
          [
           "PUDUCHERRY",
           867283934517
          ],
          [
           "PUDUCHERRY",
           927134582764
          ],
          [
           "PUDUCHERRY",
           387948224537
          ],
          [
           "PUDUCHERRY",
           459873146273
          ],
          [
           "PUDUCHERRY",
           518424627837
          ],
          [
           "PUDUCHERRY",
           567214829373
          ],
          [
           "PUDUCHERRY",
           937483227615
          ],
          [
           "PUDUCHERRY",
           944282177536
          ],
          [
           "PUDUCHERRY",
           481472735268
          ],
          [
           "PUDUCHERRY",
           982476214385
          ],
          [
           "PUDUCHERRY",
           265733174284
          ],
          [
           "PUDUCHERRY",
           491582737428
          ],
          [
           "PUDUCHERRY",
           625419384837
          ],
          [
           "PUDUCHERRY",
           136287244973
          ],
          [
           "PUDUCHERRY",
           415782368793
          ],
          [
           "PUDUCHERRY",
           448726172583
          ],
          [
           "PUDUCHERRY",
           569321724874
          ],
          [
           "PUDUCHERRY",
           733188596422
          ],
          [
           "PUDUCHERRY",
           898514242637
          ],
          [
           "PUDUCHERRY",
           234319478756
          ],
          [
           "PUDUCHERRY",
           486734322859
          ],
          [
           "PUDUCHERRY",
           489323727465
          ],
          [
           "PUDUCHERRY",
           719828233544
          ],
          [
           "Tripura",
           248577336418
          ],
          [
           "Tripura",
           252344198673
          ],
          [
           "Tripura",
           272348371486
          ],
          [
           "Tripura",
           478928734216
          ],
          [
           "Tripura",
           652843379247
          ],
          [
           "Tripura",
           732968873245
          ],
          [
           "Tripura",
           743821685234
          ],
          [
           "Tripura",
           334274278916
          ],
          [
           "Tripura",
           452432687917
          ],
          [
           "Tripura",
           948725267381
          ],
          [
           "Tripura",
           386794247135
          ],
          [
           "Tripura",
           632427984815
          ],
          [
           "Tripura",
           679813427458
          ],
          [
           "Tripura",
           281679442835
          ],
          [
           "Tripura",
           574436232987
          ],
          [
           "Tripura",
           823894146537
          ],
          [
           "Tripura",
           986754372382
          ],
          [
           "Tripura",
           214938386724
          ],
          [
           "Tripura",
           341249273576
          ],
          [
           "Tripura",
           238985167724
          ],
          [
           "Tripura",
           247834927186
          ],
          [
           "Tripura",
           536174884392
          ],
          [
           "Tripura",
           126249437783
          ],
          [
           "Tripura",
           149874582336
          ],
          [
           "Tripura",
           422715637894
          ],
          [
           "Tripura",
           639741824782
          ],
          [
           "Tripura",
           932835644721
          ],
          [
           "Tripura",
           163954722884
          ],
          [
           "Tripura",
           183972454276
          ],
          [
           "Tripura",
           342125863879
          ],
          [
           "Tripura",
           723423594871
          ],
          [
           "Tripura",
           783416728345
          ],
          [
           "Tripura",
           854732623419
          ],
          [
           "Tripura",
           275438271683
          ],
          [
           "Tripura",
           643215428978
          ],
          [
           "Tripura",
           738821639574
          ],
          [
           "Tripura",
           846177284932
          ],
          [
           "Tripura",
           248312578943
          ],
          [
           "Tripura",
           258613787493
          ],
          [
           "Tripura",
           623738489721
          ],
          [
           "Tripura",
           638297345741
          ],
          [
           "Tripura",
           787242168349
          ],
          [
           "Tripura",
           821644875323
          ],
          [
           "Tripura",
           182747624339
          ],
          [
           "Tripura",
           295884371324
          ],
          [
           "Tripura",
           522374881673
          ],
          [
           "Tripura",
           537824867241
          ],
          [
           "Tripura",
           578264338712
          ],
          [
           "Tripura",
           742378548961
          ],
          [
           "Tripura",
           787432934285
          ],
          [
           "Tripura",
           897475234832
          ],
          [
           "Tripura",
           968248753374
          ],
          [
           "Tripura",
           326753984214
          ],
          [
           "Tripura",
           149876538242
          ],
          [
           "Tripura",
           187298245637
          ],
          [
           "Tripura",
           339247672885
          ],
          [
           "Tripura",
           961783348254
          ],
          [
           "Tripura",
           698124343772
          ],
          [
           "Tripura",
           874867242393
          ],
          [
           "Tripura",
           232435941787
          ],
          [
           "Tripura",
           293324157486
          ],
          [
           "Tripura",
           385177622344
          ],
          [
           "Tripura",
           484322761938
          ],
          [
           "Tripura",
           842841376759
          ],
          [
           "Tripura",
           882439357421
          ],
          [
           "Tripura",
           465347783912
          ],
          [
           "Tripura",
           779353248481
          ],
          [
           "Tripura",
           165493428378
          ],
          [
           "Tripura",
           244788369572
          ],
          [
           "Tripura",
           252968771448
          ],
          [
           "Tripura",
           277324988156
          ],
          [
           "Tripura",
           382874645731
          ],
          [
           "Tripura",
           387732612954
          ],
          [
           "Tripura",
           485637319287
          ],
          [
           "Tripura",
           684592717243
          ],
          [
           "Tripura",
           874421675923
          ],
          [
           "Tripura",
           744822389135
          ],
          [
           "Tripura",
           968358727144
          ],
          [
           "Tripura",
           498321865342
          ],
          [
           "Tripura",
           574936288321
          ],
          [
           "Tripura",
           613428735792
          ],
          [
           "Tripura",
           637431872584
          ],
          [
           "Tripura",
           185347927483
          ],
          [
           "Tripura",
           784768942523
          ],
          [
           "Tripura",
           834174359827
          ],
          [
           "Tripura",
           381467254397
          ],
          [
           "Tripura",
           424819638532
          ],
          [
           "Tripura",
           485326197732
          ],
          [
           "Tripura",
           943567848227
          ],
          [
           "Tripura",
           342285467397
          ],
          [
           "Tripura",
           725424136987
          ],
          [
           "Tripura",
           749538618273
          ],
          [
           "Tripura",
           873982464321
          ],
          [
           "Tripura",
           231838757494
          ],
          [
           "Tripura",
           727281643943
          ],
          [
           "Tripura",
           942572764388
          ],
          [
           "Tripura",
           258637913824
          ],
          [
           "Tripura",
           472721486985
          ],
          [
           "Tripura",
           641732985274
          ],
          [
           "Tripura",
           787429831254
          ],
          [
           "Tripura",
           877586934214
          ],
          [
           "Tripura",
           324598137487
          ],
          [
           "Tripura",
           267189785233
          ],
          [
           "Tripura",
           432797428815
          ],
          [
           "Tripura",
           746824831379
          ],
          [
           "Tripura",
           347241886527
          ],
          [
           "Tripura",
           748623718392
          ],
          [
           "Tripura",
           819223487367
          ],
          [
           "Tripura",
           369157387242
          ],
          [
           "Tripura",
           567873328421
          ],
          [
           "Tripura",
           143842397276
          ],
          [
           "Tripura",
           234178468935
          ],
          [
           "Tripura",
           423917738258
          ],
          [
           "Tripura",
           549738421678
          ],
          [
           "Tripura",
           637317945282
          ],
          [
           "Tripura",
           738284425319
          ],
          [
           "Tripura",
           774564389821
          ],
          [
           "Tripura",
           625848797343
          ],
          [
           "Tripura",
           854231967274
          ],
          [
           "Tripura",
           948334186522
          ],
          [
           "Tripura",
           225417986837
          ]
         ],
         "hoverlabel": {
          "namelength": 0
         },
         "hovertemplate": "Survey_interval=8-12_August_2019<br>total_number_of_workers_residential(hired+non-hired+contractual)=%{x}<br>state_name=%{customdata[0]}<br>enumerator_id=%{customdata[1]}",
         "legendgroup": "Survey_interval=8-12_August_2019",
         "marker": {
          "color": "#636efa"
         },
         "name": "Survey_interval=8-12_August_2019",
         "notched": false,
         "offsetgroup": "Survey_interval=8-12_August_2019",
         "orientation": "h",
         "showlegend": true,
         "type": "box",
         "x": [
          0,
          0,
          0,
          0,
          0,
          0,
          16,
          0,
          6,
          0,
          0,
          0,
          0,
          6,
          0,
          7,
          4,
          5,
          0,
          10,
          0,
          9,
          3,
          25,
          127,
          17,
          11,
          0,
          0,
          0,
          6,
          0,
          3,
          0,
          0,
          9,
          0,
          0,
          0,
          6,
          0,
          2,
          12,
          9,
          1,
          10,
          0,
          0,
          18,
          0,
          0,
          0,
          10,
          0,
          0,
          19,
          0,
          0,
          4,
          6,
          5,
          2,
          7,
          2,
          18,
          0,
          55,
          0,
          0,
          2,
          0,
          0,
          0,
          0,
          0,
          0,
          96,
          0,
          0,
          0,
          0,
          0,
          0,
          1,
          12,
          16,
          0,
          0,
          0,
          6,
          4,
          0,
          25,
          2,
          0,
          2,
          5,
          1,
          64,
          0,
          0,
          0,
          2,
          10,
          27,
          4,
          16,
          1,
          3,
          0,
          1,
          0,
          0,
          3,
          2,
          0,
          14,
          0,
          0,
          0,
          0,
          0,
          2,
          2,
          0,
          1,
          18,
          6,
          0,
          0,
          1,
          5,
          4,
          54,
          40,
          0,
          4,
          9,
          0,
          0,
          0,
          0,
          0,
          0,
          0,
          0,
          5,
          0,
          0,
          0,
          0,
          0,
          0,
          6,
          0,
          2,
          5,
          1,
          0,
          0,
          0,
          0,
          0
         ],
         "x0": " ",
         "xaxis": "x",
         "y0": " ",
         "yaxis": "y"
        },
        {
         "alignmentgroup": "True",
         "customdata": [
          [
           "PUDUCHERRY",
           325287314771
          ],
          [
           "PUDUCHERRY",
           257944286831
          ],
          [
           "PUDUCHERRY",
           332126748547
          ],
          [
           "PUDUCHERRY",
           638281273457
          ],
          [
           "PUDUCHERRY",
           244738178639
          ],
          [
           "PUDUCHERRY",
           437932648127
          ],
          [
           "PUDUCHERRY",
           867283934517
          ],
          [
           "PUDUCHERRY",
           387948224537
          ],
          [
           "PUDUCHERRY",
           459873146273
          ],
          [
           "PUDUCHERRY",
           518424627837
          ],
          [
           "PUDUCHERRY",
           567214829373
          ],
          [
           "PUDUCHERRY",
           937483227615
          ],
          [
           "PUDUCHERRY",
           944282177536
          ],
          [
           "PUDUCHERRY",
           491582737428
          ],
          [
           "PUDUCHERRY",
           625419384837
          ],
          [
           "PUDUCHERRY",
           136287244973
          ],
          [
           "PUDUCHERRY",
           569321724874
          ],
          [
           "PUDUCHERRY",
           733188596422
          ],
          [
           "Tripura",
           443727281856
          ],
          [
           "Tripura",
           248577336418
          ],
          [
           "Tripura",
           252344198673
          ],
          [
           "Tripura",
           272348371486
          ],
          [
           "Tripura",
           478928734216
          ],
          [
           "Tripura",
           652843379247
          ],
          [
           "Tripura",
           743821685234
          ],
          [
           "Tripura",
           936742381524
          ],
          [
           "Tripura",
           386794247135
          ],
          [
           "Tripura",
           679813427458
          ],
          [
           "Tripura",
           574436232987
          ],
          [
           "Tripura",
           823894146537
          ],
          [
           "Tripura",
           986754372382
          ],
          [
           "Tripura",
           214938386724
          ],
          [
           "Tripura",
           341249273576
          ],
          [
           "Tripura",
           298316544837
          ],
          [
           "Tripura",
           238985167724
          ],
          [
           "Tripura",
           126249437783
          ],
          [
           "Tripura",
           149874582336
          ],
          [
           "Tripura",
           422715637894
          ],
          [
           "Tripura",
           639741824782
          ],
          [
           "Tripura",
           932835644721
          ],
          [
           "Tripura",
           163954722884
          ],
          [
           "Tripura",
           183972454276
          ],
          [
           "Tripura",
           342125863879
          ],
          [
           "Tripura",
           723423594871
          ],
          [
           "Tripura",
           783416728345
          ],
          [
           "Tripura",
           854732623419
          ],
          [
           "Tripura",
           243845621737
          ],
          [
           "Tripura",
           327283564491
          ],
          [
           "Tripura",
           643215428978
          ],
          [
           "Tripura",
           738821639574
          ],
          [
           "Tripura",
           846177284932
          ],
          [
           "Tripura",
           248312578943
          ],
          [
           "Tripura",
           258613787493
          ],
          [
           "Tripura",
           623738489721
          ],
          [
           "Tripura",
           638297345741
          ],
          [
           "Tripura",
           821644875323
          ],
          [
           "Tripura",
           182747624339
          ],
          [
           "Tripura",
           296783142847
          ],
          [
           "Tripura",
           522374881673
          ],
          [
           "Tripura",
           537824867241
          ],
          [
           "Tripura",
           742378548961
          ],
          [
           "Tripura",
           787432934285
          ],
          [
           "Tripura",
           897475234832
          ],
          [
           "Tripura",
           495812332478
          ],
          [
           "Tripura",
           326753984214
          ],
          [
           "Tripura",
           491845786327
          ],
          [
           "Tripura",
           837946418732
          ],
          [
           "Tripura",
           149876538242
          ],
          [
           "Tripura",
           187298245637
          ],
          [
           "Tripura",
           332851674874
          ],
          [
           "Tripura",
           339247672885
          ],
          [
           "Tripura",
           961783348254
          ],
          [
           "Tripura",
           698124343772
          ],
          [
           "Tripura",
           874867242393
          ],
          [
           "Tripura",
           232435941787
          ],
          [
           "Tripura",
           293324157486
          ],
          [
           "Tripura",
           385177622344
          ],
          [
           "Tripura",
           484322761938
          ],
          [
           "Tripura",
           842841376759
          ],
          [
           "Tripura",
           882439357421
          ],
          [
           "Tripura",
           223589681347
          ],
          [
           "Tripura",
           465347783912
          ],
          [
           "Tripura",
           165493428378
          ],
          [
           "Tripura",
           244788369572
          ],
          [
           "Tripura",
           252968771448
          ],
          [
           "Tripura",
           277324988156
          ],
          [
           "Tripura",
           382874645731
          ],
          [
           "Tripura",
           387732612954
          ],
          [
           "Tripura",
           684592717243
          ],
          [
           "Tripura",
           874421675923
          ],
          [
           "Tripura",
           968358727144
          ],
          [
           "Tripura",
           613428735792
          ],
          [
           "Tripura",
           637431872584
          ],
          [
           "Tripura",
           729835431276
          ],
          [
           "Tripura",
           185347927483
          ],
          [
           "Tripura",
           784768942523
          ],
          [
           "Tripura",
           834174359827
          ],
          [
           "Tripura",
           381467254397
          ],
          [
           "Tripura",
           424819638532
          ],
          [
           "Tripura",
           485326197732
          ],
          [
           "Tripura",
           943567848227
          ],
          [
           "Tripura",
           342285467397
          ],
          [
           "Tripura",
           749538618273
          ],
          [
           "Tripura",
           873982464321
          ],
          [
           "Tripura",
           367235881249
          ],
          [
           "Tripura",
           727281643943
          ],
          [
           "Tripura",
           942572764388
          ],
          [
           "Tripura",
           258637913824
          ],
          [
           "Tripura",
           472721486985
          ],
          [
           "Tripura",
           362248397745
          ],
          [
           "Tripura",
           241583367427
          ],
          [
           "Tripura",
           324629834775
          ],
          [
           "Tripura",
           787429831254
          ],
          [
           "Tripura",
           877586934214
          ],
          [
           "Tripura",
           324598137487
          ],
          [
           "Tripura",
           432797428815
          ],
          [
           "Tripura",
           347241886527
          ],
          [
           "Tripura",
           819223487367
          ],
          [
           "Tripura",
           567873328421
          ],
          [
           "Tripura",
           143842397276
          ],
          [
           "Tripura",
           234178468935
          ],
          [
           "Tripura",
           423917738258
          ],
          [
           "Tripura",
           549738421678
          ],
          [
           "Tripura",
           738284425319
          ],
          [
           "Tripura",
           774564389821
          ],
          [
           "Tripura",
           625848797343
          ],
          [
           "Tripura",
           854231967274
          ],
          [
           "Tripura",
           948334186522
          ],
          [
           "Tripura",
           225417986837
          ]
         ],
         "hoverlabel": {
          "namelength": 0
         },
         "hovertemplate": "Survey_interval=Till_8_August_2019<br>total_number_of_workers_residential(hired+non-hired+contractual)=%{x}<br>state_name=%{customdata[0]}<br>enumerator_id=%{customdata[1]}",
         "legendgroup": "Survey_interval=Till_8_August_2019",
         "marker": {
          "color": "#EF553B"
         },
         "name": "Survey_interval=Till_8_August_2019",
         "notched": false,
         "offsetgroup": "Survey_interval=Till_8_August_2019",
         "orientation": "h",
         "showlegend": true,
         "type": "box",
         "x": [
          0,
          0,
          0,
          5,
          0,
          0,
          0,
          0,
          1,
          10,
          16,
          3,
          0,
          4,
          1,
          0,
          0,
          0,
          8,
          14,
          1,
          7,
          0,
          0,
          1,
          0,
          11,
          2,
          0,
          0,
          0,
          4,
          0,
          0,
          0,
          0,
          0,
          0,
          0,
          0,
          1,
          4,
          0,
          0,
          0,
          12,
          1,
          2,
          24,
          0,
          0,
          0,
          0,
          0,
          0,
          9,
          64,
          27,
          11,
          1,
          14,
          5,
          6,
          0,
          9,
          0,
          0,
          0,
          0,
          0,
          0,
          0,
          0,
          0,
          0,
          0,
          0,
          0,
          0,
          0,
          0,
          0,
          0,
          0,
          0,
          0,
          0,
          0,
          0,
          0,
          0,
          0,
          0,
          0,
          0,
          0,
          0,
          0,
          0,
          0,
          0,
          0,
          0,
          0,
          0,
          0,
          0,
          0,
          0,
          0,
          0,
          0,
          0,
          0,
          0,
          0,
          0,
          0,
          0,
          0,
          0,
          0,
          0,
          0,
          0,
          0,
          0,
          0,
          0
         ],
         "x0": " ",
         "xaxis": "x",
         "y0": " ",
         "yaxis": "y"
        }
       ],
       "layout": {
        "boxmode": "group",
        "height": 600,
        "legend": {
         "tracegroupgap": 0
        },
        "margin": {
         "t": 60
        },
        "template": {
         "data": {
          "bar": [
           {
            "error_x": {
             "color": "#2a3f5f"
            },
            "error_y": {
             "color": "#2a3f5f"
            },
            "marker": {
             "line": {
              "color": "#E5ECF6",
              "width": 0.5
             }
            },
            "type": "bar"
           }
          ],
          "barpolar": [
           {
            "marker": {
             "line": {
              "color": "#E5ECF6",
              "width": 0.5
             }
            },
            "type": "barpolar"
           }
          ],
          "carpet": [
           {
            "aaxis": {
             "endlinecolor": "#2a3f5f",
             "gridcolor": "white",
             "linecolor": "white",
             "minorgridcolor": "white",
             "startlinecolor": "#2a3f5f"
            },
            "baxis": {
             "endlinecolor": "#2a3f5f",
             "gridcolor": "white",
             "linecolor": "white",
             "minorgridcolor": "white",
             "startlinecolor": "#2a3f5f"
            },
            "type": "carpet"
           }
          ],
          "choropleth": [
           {
            "colorbar": {
             "outlinewidth": 0,
             "ticks": ""
            },
            "type": "choropleth"
           }
          ],
          "contour": [
           {
            "colorbar": {
             "outlinewidth": 0,
             "ticks": ""
            },
            "colorscale": [
             [
              0,
              "#0d0887"
             ],
             [
              0.1111111111111111,
              "#46039f"
             ],
             [
              0.2222222222222222,
              "#7201a8"
             ],
             [
              0.3333333333333333,
              "#9c179e"
             ],
             [
              0.4444444444444444,
              "#bd3786"
             ],
             [
              0.5555555555555556,
              "#d8576b"
             ],
             [
              0.6666666666666666,
              "#ed7953"
             ],
             [
              0.7777777777777778,
              "#fb9f3a"
             ],
             [
              0.8888888888888888,
              "#fdca26"
             ],
             [
              1,
              "#f0f921"
             ]
            ],
            "type": "contour"
           }
          ],
          "contourcarpet": [
           {
            "colorbar": {
             "outlinewidth": 0,
             "ticks": ""
            },
            "type": "contourcarpet"
           }
          ],
          "heatmap": [
           {
            "colorbar": {
             "outlinewidth": 0,
             "ticks": ""
            },
            "colorscale": [
             [
              0,
              "#0d0887"
             ],
             [
              0.1111111111111111,
              "#46039f"
             ],
             [
              0.2222222222222222,
              "#7201a8"
             ],
             [
              0.3333333333333333,
              "#9c179e"
             ],
             [
              0.4444444444444444,
              "#bd3786"
             ],
             [
              0.5555555555555556,
              "#d8576b"
             ],
             [
              0.6666666666666666,
              "#ed7953"
             ],
             [
              0.7777777777777778,
              "#fb9f3a"
             ],
             [
              0.8888888888888888,
              "#fdca26"
             ],
             [
              1,
              "#f0f921"
             ]
            ],
            "type": "heatmap"
           }
          ],
          "heatmapgl": [
           {
            "colorbar": {
             "outlinewidth": 0,
             "ticks": ""
            },
            "colorscale": [
             [
              0,
              "#0d0887"
             ],
             [
              0.1111111111111111,
              "#46039f"
             ],
             [
              0.2222222222222222,
              "#7201a8"
             ],
             [
              0.3333333333333333,
              "#9c179e"
             ],
             [
              0.4444444444444444,
              "#bd3786"
             ],
             [
              0.5555555555555556,
              "#d8576b"
             ],
             [
              0.6666666666666666,
              "#ed7953"
             ],
             [
              0.7777777777777778,
              "#fb9f3a"
             ],
             [
              0.8888888888888888,
              "#fdca26"
             ],
             [
              1,
              "#f0f921"
             ]
            ],
            "type": "heatmapgl"
           }
          ],
          "histogram": [
           {
            "marker": {
             "colorbar": {
              "outlinewidth": 0,
              "ticks": ""
             }
            },
            "type": "histogram"
           }
          ],
          "histogram2d": [
           {
            "colorbar": {
             "outlinewidth": 0,
             "ticks": ""
            },
            "colorscale": [
             [
              0,
              "#0d0887"
             ],
             [
              0.1111111111111111,
              "#46039f"
             ],
             [
              0.2222222222222222,
              "#7201a8"
             ],
             [
              0.3333333333333333,
              "#9c179e"
             ],
             [
              0.4444444444444444,
              "#bd3786"
             ],
             [
              0.5555555555555556,
              "#d8576b"
             ],
             [
              0.6666666666666666,
              "#ed7953"
             ],
             [
              0.7777777777777778,
              "#fb9f3a"
             ],
             [
              0.8888888888888888,
              "#fdca26"
             ],
             [
              1,
              "#f0f921"
             ]
            ],
            "type": "histogram2d"
           }
          ],
          "histogram2dcontour": [
           {
            "colorbar": {
             "outlinewidth": 0,
             "ticks": ""
            },
            "colorscale": [
             [
              0,
              "#0d0887"
             ],
             [
              0.1111111111111111,
              "#46039f"
             ],
             [
              0.2222222222222222,
              "#7201a8"
             ],
             [
              0.3333333333333333,
              "#9c179e"
             ],
             [
              0.4444444444444444,
              "#bd3786"
             ],
             [
              0.5555555555555556,
              "#d8576b"
             ],
             [
              0.6666666666666666,
              "#ed7953"
             ],
             [
              0.7777777777777778,
              "#fb9f3a"
             ],
             [
              0.8888888888888888,
              "#fdca26"
             ],
             [
              1,
              "#f0f921"
             ]
            ],
            "type": "histogram2dcontour"
           }
          ],
          "mesh3d": [
           {
            "colorbar": {
             "outlinewidth": 0,
             "ticks": ""
            },
            "type": "mesh3d"
           }
          ],
          "parcoords": [
           {
            "line": {
             "colorbar": {
              "outlinewidth": 0,
              "ticks": ""
             }
            },
            "type": "parcoords"
           }
          ],
          "scatter": [
           {
            "marker": {
             "colorbar": {
              "outlinewidth": 0,
              "ticks": ""
             }
            },
            "type": "scatter"
           }
          ],
          "scatter3d": [
           {
            "line": {
             "colorbar": {
              "outlinewidth": 0,
              "ticks": ""
             }
            },
            "marker": {
             "colorbar": {
              "outlinewidth": 0,
              "ticks": ""
             }
            },
            "type": "scatter3d"
           }
          ],
          "scattercarpet": [
           {
            "marker": {
             "colorbar": {
              "outlinewidth": 0,
              "ticks": ""
             }
            },
            "type": "scattercarpet"
           }
          ],
          "scattergeo": [
           {
            "marker": {
             "colorbar": {
              "outlinewidth": 0,
              "ticks": ""
             }
            },
            "type": "scattergeo"
           }
          ],
          "scattergl": [
           {
            "marker": {
             "colorbar": {
              "outlinewidth": 0,
              "ticks": ""
             }
            },
            "type": "scattergl"
           }
          ],
          "scattermapbox": [
           {
            "marker": {
             "colorbar": {
              "outlinewidth": 0,
              "ticks": ""
             }
            },
            "type": "scattermapbox"
           }
          ],
          "scatterpolar": [
           {
            "marker": {
             "colorbar": {
              "outlinewidth": 0,
              "ticks": ""
             }
            },
            "type": "scatterpolar"
           }
          ],
          "scatterpolargl": [
           {
            "marker": {
             "colorbar": {
              "outlinewidth": 0,
              "ticks": ""
             }
            },
            "type": "scatterpolargl"
           }
          ],
          "scatterternary": [
           {
            "marker": {
             "colorbar": {
              "outlinewidth": 0,
              "ticks": ""
             }
            },
            "type": "scatterternary"
           }
          ],
          "surface": [
           {
            "colorbar": {
             "outlinewidth": 0,
             "ticks": ""
            },
            "colorscale": [
             [
              0,
              "#0d0887"
             ],
             [
              0.1111111111111111,
              "#46039f"
             ],
             [
              0.2222222222222222,
              "#7201a8"
             ],
             [
              0.3333333333333333,
              "#9c179e"
             ],
             [
              0.4444444444444444,
              "#bd3786"
             ],
             [
              0.5555555555555556,
              "#d8576b"
             ],
             [
              0.6666666666666666,
              "#ed7953"
             ],
             [
              0.7777777777777778,
              "#fb9f3a"
             ],
             [
              0.8888888888888888,
              "#fdca26"
             ],
             [
              1,
              "#f0f921"
             ]
            ],
            "type": "surface"
           }
          ],
          "table": [
           {
            "cells": {
             "fill": {
              "color": "#EBF0F8"
             },
             "line": {
              "color": "white"
             }
            },
            "header": {
             "fill": {
              "color": "#C8D4E3"
             },
             "line": {
              "color": "white"
             }
            },
            "type": "table"
           }
          ]
         },
         "layout": {
          "annotationdefaults": {
           "arrowcolor": "#2a3f5f",
           "arrowhead": 0,
           "arrowwidth": 1
          },
          "colorscale": {
           "diverging": [
            [
             0,
             "#8e0152"
            ],
            [
             0.1,
             "#c51b7d"
            ],
            [
             0.2,
             "#de77ae"
            ],
            [
             0.3,
             "#f1b6da"
            ],
            [
             0.4,
             "#fde0ef"
            ],
            [
             0.5,
             "#f7f7f7"
            ],
            [
             0.6,
             "#e6f5d0"
            ],
            [
             0.7,
             "#b8e186"
            ],
            [
             0.8,
             "#7fbc41"
            ],
            [
             0.9,
             "#4d9221"
            ],
            [
             1,
             "#276419"
            ]
           ],
           "sequential": [
            [
             0,
             "#0d0887"
            ],
            [
             0.1111111111111111,
             "#46039f"
            ],
            [
             0.2222222222222222,
             "#7201a8"
            ],
            [
             0.3333333333333333,
             "#9c179e"
            ],
            [
             0.4444444444444444,
             "#bd3786"
            ],
            [
             0.5555555555555556,
             "#d8576b"
            ],
            [
             0.6666666666666666,
             "#ed7953"
            ],
            [
             0.7777777777777778,
             "#fb9f3a"
            ],
            [
             0.8888888888888888,
             "#fdca26"
            ],
            [
             1,
             "#f0f921"
            ]
           ],
           "sequentialminus": [
            [
             0,
             "#0d0887"
            ],
            [
             0.1111111111111111,
             "#46039f"
            ],
            [
             0.2222222222222222,
             "#7201a8"
            ],
            [
             0.3333333333333333,
             "#9c179e"
            ],
            [
             0.4444444444444444,
             "#bd3786"
            ],
            [
             0.5555555555555556,
             "#d8576b"
            ],
            [
             0.6666666666666666,
             "#ed7953"
            ],
            [
             0.7777777777777778,
             "#fb9f3a"
            ],
            [
             0.8888888888888888,
             "#fdca26"
            ],
            [
             1,
             "#f0f921"
            ]
           ]
          },
          "colorway": [
           "#636efa",
           "#EF553B",
           "#00cc96",
           "#ab63fa",
           "#FFA15A",
           "#19d3f3",
           "#FF6692",
           "#B6E880",
           "#FF97FF",
           "#FECB52"
          ],
          "font": {
           "color": "#2a3f5f"
          },
          "geo": {
           "bgcolor": "white",
           "lakecolor": "white",
           "landcolor": "#E5ECF6",
           "showlakes": true,
           "showland": true,
           "subunitcolor": "white"
          },
          "hoverlabel": {
           "align": "left"
          },
          "hovermode": "closest",
          "mapbox": {
           "style": "light"
          },
          "paper_bgcolor": "white",
          "plot_bgcolor": "#E5ECF6",
          "polar": {
           "angularaxis": {
            "gridcolor": "white",
            "linecolor": "white",
            "ticks": ""
           },
           "bgcolor": "#E5ECF6",
           "radialaxis": {
            "gridcolor": "white",
            "linecolor": "white",
            "ticks": ""
           }
          },
          "scene": {
           "xaxis": {
            "backgroundcolor": "#E5ECF6",
            "gridcolor": "white",
            "gridwidth": 2,
            "linecolor": "white",
            "showbackground": true,
            "ticks": "",
            "zerolinecolor": "white"
           },
           "yaxis": {
            "backgroundcolor": "#E5ECF6",
            "gridcolor": "white",
            "gridwidth": 2,
            "linecolor": "white",
            "showbackground": true,
            "ticks": "",
            "zerolinecolor": "white"
           },
           "zaxis": {
            "backgroundcolor": "#E5ECF6",
            "gridcolor": "white",
            "gridwidth": 2,
            "linecolor": "white",
            "showbackground": true,
            "ticks": "",
            "zerolinecolor": "white"
           }
          },
          "shapedefaults": {
           "line": {
            "color": "#2a3f5f"
           }
          },
          "ternary": {
           "aaxis": {
            "gridcolor": "white",
            "linecolor": "white",
            "ticks": ""
           },
           "baxis": {
            "gridcolor": "white",
            "linecolor": "white",
            "ticks": ""
           },
           "bgcolor": "#E5ECF6",
           "caxis": {
            "gridcolor": "white",
            "linecolor": "white",
            "ticks": ""
           }
          },
          "title": {
           "x": 0.05
          },
          "xaxis": {
           "automargin": true,
           "gridcolor": "white",
           "linecolor": "white",
           "ticks": "",
           "zerolinecolor": "white",
           "zerolinewidth": 2
          },
          "yaxis": {
           "automargin": true,
           "gridcolor": "white",
           "linecolor": "white",
           "ticks": "",
           "zerolinecolor": "white",
           "zerolinewidth": 2
          }
         }
        },
        "xaxis": {
         "anchor": "y",
         "domain": [
          0,
          0.98
         ],
         "title": {
          "text": "total_number_of_workers_residential(hired+non-hired+contractual)"
         }
        },
        "yaxis": {
         "anchor": "x",
         "domain": [
          0,
          1
         ]
        }
       }
      },
      "text/html": [
       "<div>\n",
       "        \n",
       "        \n",
       "            <div id=\"fd7af5ab-4849-4233-9a85-b8c589f7181e\" class=\"plotly-graph-div\" style=\"height:600px; width:100%;\"></div>\n",
       "            <script type=\"text/javascript\">\n",
       "                require([\"plotly\"], function(Plotly) {\n",
       "                    window.PLOTLYENV=window.PLOTLYENV || {};\n",
       "                    \n",
       "                if (document.getElementById(\"fd7af5ab-4849-4233-9a85-b8c589f7181e\")) {\n",
       "                    Plotly.newPlot(\n",
       "                        'fd7af5ab-4849-4233-9a85-b8c589f7181e',\n",
       "                        [{\"alignmentgroup\": \"True\", \"customdata\": [[\"PUDUCHERRY\", 138642453972], [\"PUDUCHERRY\", 142673238548], [\"PUDUCHERRY\", 638824973175], [\"PUDUCHERRY\", 257944286831], [\"PUDUCHERRY\", 332126748547], [\"PUDUCHERRY\", 612832874973], [\"PUDUCHERRY\", 638281273457], [\"PUDUCHERRY\", 845963712374], [\"PUDUCHERRY\", 128239347467], [\"PUDUCHERRY\", 244738178639], [\"PUDUCHERRY\", 277339484681], [\"PUDUCHERRY\", 372149485782], [\"PUDUCHERRY\", 378473258962], [\"PUDUCHERRY\", 384891624572], [\"PUDUCHERRY\", 437932648127], [\"PUDUCHERRY\", 721923378845], [\"PUDUCHERRY\", 723634187529], [\"PUDUCHERRY\", 844673532927], [\"PUDUCHERRY\", 845243139867], [\"PUDUCHERRY\", 867283934517], [\"PUDUCHERRY\", 927134582764], [\"PUDUCHERRY\", 387948224537], [\"PUDUCHERRY\", 459873146273], [\"PUDUCHERRY\", 518424627837], [\"PUDUCHERRY\", 567214829373], [\"PUDUCHERRY\", 937483227615], [\"PUDUCHERRY\", 944282177536], [\"PUDUCHERRY\", 481472735268], [\"PUDUCHERRY\", 982476214385], [\"PUDUCHERRY\", 265733174284], [\"PUDUCHERRY\", 491582737428], [\"PUDUCHERRY\", 625419384837], [\"PUDUCHERRY\", 136287244973], [\"PUDUCHERRY\", 415782368793], [\"PUDUCHERRY\", 448726172583], [\"PUDUCHERRY\", 569321724874], [\"PUDUCHERRY\", 733188596422], [\"PUDUCHERRY\", 898514242637], [\"PUDUCHERRY\", 234319478756], [\"PUDUCHERRY\", 486734322859], [\"PUDUCHERRY\", 489323727465], [\"PUDUCHERRY\", 719828233544], [\"Tripura\", 248577336418], [\"Tripura\", 252344198673], [\"Tripura\", 272348371486], [\"Tripura\", 478928734216], [\"Tripura\", 652843379247], [\"Tripura\", 732968873245], [\"Tripura\", 743821685234], [\"Tripura\", 334274278916], [\"Tripura\", 452432687917], [\"Tripura\", 948725267381], [\"Tripura\", 386794247135], [\"Tripura\", 632427984815], [\"Tripura\", 679813427458], [\"Tripura\", 281679442835], [\"Tripura\", 574436232987], [\"Tripura\", 823894146537], [\"Tripura\", 986754372382], [\"Tripura\", 214938386724], [\"Tripura\", 341249273576], [\"Tripura\", 238985167724], [\"Tripura\", 247834927186], [\"Tripura\", 536174884392], [\"Tripura\", 126249437783], [\"Tripura\", 149874582336], [\"Tripura\", 422715637894], [\"Tripura\", 639741824782], [\"Tripura\", 932835644721], [\"Tripura\", 163954722884], [\"Tripura\", 183972454276], [\"Tripura\", 342125863879], [\"Tripura\", 723423594871], [\"Tripura\", 783416728345], [\"Tripura\", 854732623419], [\"Tripura\", 275438271683], [\"Tripura\", 643215428978], [\"Tripura\", 738821639574], [\"Tripura\", 846177284932], [\"Tripura\", 248312578943], [\"Tripura\", 258613787493], [\"Tripura\", 623738489721], [\"Tripura\", 638297345741], [\"Tripura\", 787242168349], [\"Tripura\", 821644875323], [\"Tripura\", 182747624339], [\"Tripura\", 295884371324], [\"Tripura\", 522374881673], [\"Tripura\", 537824867241], [\"Tripura\", 578264338712], [\"Tripura\", 742378548961], [\"Tripura\", 787432934285], [\"Tripura\", 897475234832], [\"Tripura\", 968248753374], [\"Tripura\", 326753984214], [\"Tripura\", 149876538242], [\"Tripura\", 187298245637], [\"Tripura\", 339247672885], [\"Tripura\", 961783348254], [\"Tripura\", 698124343772], [\"Tripura\", 874867242393], [\"Tripura\", 232435941787], [\"Tripura\", 293324157486], [\"Tripura\", 385177622344], [\"Tripura\", 484322761938], [\"Tripura\", 842841376759], [\"Tripura\", 882439357421], [\"Tripura\", 465347783912], [\"Tripura\", 779353248481], [\"Tripura\", 165493428378], [\"Tripura\", 244788369572], [\"Tripura\", 252968771448], [\"Tripura\", 277324988156], [\"Tripura\", 382874645731], [\"Tripura\", 387732612954], [\"Tripura\", 485637319287], [\"Tripura\", 684592717243], [\"Tripura\", 874421675923], [\"Tripura\", 744822389135], [\"Tripura\", 968358727144], [\"Tripura\", 498321865342], [\"Tripura\", 574936288321], [\"Tripura\", 613428735792], [\"Tripura\", 637431872584], [\"Tripura\", 185347927483], [\"Tripura\", 784768942523], [\"Tripura\", 834174359827], [\"Tripura\", 381467254397], [\"Tripura\", 424819638532], [\"Tripura\", 485326197732], [\"Tripura\", 943567848227], [\"Tripura\", 342285467397], [\"Tripura\", 725424136987], [\"Tripura\", 749538618273], [\"Tripura\", 873982464321], [\"Tripura\", 231838757494], [\"Tripura\", 727281643943], [\"Tripura\", 942572764388], [\"Tripura\", 258637913824], [\"Tripura\", 472721486985], [\"Tripura\", 641732985274], [\"Tripura\", 787429831254], [\"Tripura\", 877586934214], [\"Tripura\", 324598137487], [\"Tripura\", 267189785233], [\"Tripura\", 432797428815], [\"Tripura\", 746824831379], [\"Tripura\", 347241886527], [\"Tripura\", 748623718392], [\"Tripura\", 819223487367], [\"Tripura\", 369157387242], [\"Tripura\", 567873328421], [\"Tripura\", 143842397276], [\"Tripura\", 234178468935], [\"Tripura\", 423917738258], [\"Tripura\", 549738421678], [\"Tripura\", 637317945282], [\"Tripura\", 738284425319], [\"Tripura\", 774564389821], [\"Tripura\", 625848797343], [\"Tripura\", 854231967274], [\"Tripura\", 948334186522], [\"Tripura\", 225417986837]], \"hoverlabel\": {\"namelength\": 0}, \"hovertemplate\": \"Survey_interval=8-12_August_2019<br>total_number_of_workers_residential(hired+non-hired+contractual)=%{x}<br>state_name=%{customdata[0]}<br>enumerator_id=%{customdata[1]}\", \"legendgroup\": \"Survey_interval=8-12_August_2019\", \"marker\": {\"color\": \"#636efa\"}, \"name\": \"Survey_interval=8-12_August_2019\", \"notched\": false, \"offsetgroup\": \"Survey_interval=8-12_August_2019\", \"orientation\": \"h\", \"showlegend\": true, \"type\": \"box\", \"x\": [0, 0, 0, 0, 0, 0, 16, 0, 6, 0, 0, 0, 0, 6, 0, 7, 4, 5, 0, 10, 0, 9, 3, 25, 127, 17, 11, 0, 0, 0, 6, 0, 3, 0, 0, 9, 0, 0, 0, 6, 0, 2, 12, 9, 1, 10, 0, 0, 18, 0, 0, 0, 10, 0, 0, 19, 0, 0, 4, 6, 5, 2, 7, 2, 18, 0, 55, 0, 0, 2, 0, 0, 0, 0, 0, 0, 96, 0, 0, 0, 0, 0, 0, 1, 12, 16, 0, 0, 0, 6, 4, 0, 25, 2, 0, 2, 5, 1, 64, 0, 0, 0, 2, 10, 27, 4, 16, 1, 3, 0, 1, 0, 0, 3, 2, 0, 14, 0, 0, 0, 0, 0, 2, 2, 0, 1, 18, 6, 0, 0, 1, 5, 4, 54, 40, 0, 4, 9, 0, 0, 0, 0, 0, 0, 0, 0, 5, 0, 0, 0, 0, 0, 0, 6, 0, 2, 5, 1, 0, 0, 0, 0, 0], \"x0\": \" \", \"xaxis\": \"x\", \"y0\": \" \", \"yaxis\": \"y\"}, {\"alignmentgroup\": \"True\", \"customdata\": [[\"PUDUCHERRY\", 325287314771], [\"PUDUCHERRY\", 257944286831], [\"PUDUCHERRY\", 332126748547], [\"PUDUCHERRY\", 638281273457], [\"PUDUCHERRY\", 244738178639], [\"PUDUCHERRY\", 437932648127], [\"PUDUCHERRY\", 867283934517], [\"PUDUCHERRY\", 387948224537], [\"PUDUCHERRY\", 459873146273], [\"PUDUCHERRY\", 518424627837], [\"PUDUCHERRY\", 567214829373], [\"PUDUCHERRY\", 937483227615], [\"PUDUCHERRY\", 944282177536], [\"PUDUCHERRY\", 491582737428], [\"PUDUCHERRY\", 625419384837], [\"PUDUCHERRY\", 136287244973], [\"PUDUCHERRY\", 569321724874], [\"PUDUCHERRY\", 733188596422], [\"Tripura\", 443727281856], [\"Tripura\", 248577336418], [\"Tripura\", 252344198673], [\"Tripura\", 272348371486], [\"Tripura\", 478928734216], [\"Tripura\", 652843379247], [\"Tripura\", 743821685234], [\"Tripura\", 936742381524], [\"Tripura\", 386794247135], [\"Tripura\", 679813427458], [\"Tripura\", 574436232987], [\"Tripura\", 823894146537], [\"Tripura\", 986754372382], [\"Tripura\", 214938386724], [\"Tripura\", 341249273576], [\"Tripura\", 298316544837], [\"Tripura\", 238985167724], [\"Tripura\", 126249437783], [\"Tripura\", 149874582336], [\"Tripura\", 422715637894], [\"Tripura\", 639741824782], [\"Tripura\", 932835644721], [\"Tripura\", 163954722884], [\"Tripura\", 183972454276], [\"Tripura\", 342125863879], [\"Tripura\", 723423594871], [\"Tripura\", 783416728345], [\"Tripura\", 854732623419], [\"Tripura\", 243845621737], [\"Tripura\", 327283564491], [\"Tripura\", 643215428978], [\"Tripura\", 738821639574], [\"Tripura\", 846177284932], [\"Tripura\", 248312578943], [\"Tripura\", 258613787493], [\"Tripura\", 623738489721], [\"Tripura\", 638297345741], [\"Tripura\", 821644875323], [\"Tripura\", 182747624339], [\"Tripura\", 296783142847], [\"Tripura\", 522374881673], [\"Tripura\", 537824867241], [\"Tripura\", 742378548961], [\"Tripura\", 787432934285], [\"Tripura\", 897475234832], [\"Tripura\", 495812332478], [\"Tripura\", 326753984214], [\"Tripura\", 491845786327], [\"Tripura\", 837946418732], [\"Tripura\", 149876538242], [\"Tripura\", 187298245637], [\"Tripura\", 332851674874], [\"Tripura\", 339247672885], [\"Tripura\", 961783348254], [\"Tripura\", 698124343772], [\"Tripura\", 874867242393], [\"Tripura\", 232435941787], [\"Tripura\", 293324157486], [\"Tripura\", 385177622344], [\"Tripura\", 484322761938], [\"Tripura\", 842841376759], [\"Tripura\", 882439357421], [\"Tripura\", 223589681347], [\"Tripura\", 465347783912], [\"Tripura\", 165493428378], [\"Tripura\", 244788369572], [\"Tripura\", 252968771448], [\"Tripura\", 277324988156], [\"Tripura\", 382874645731], [\"Tripura\", 387732612954], [\"Tripura\", 684592717243], [\"Tripura\", 874421675923], [\"Tripura\", 968358727144], [\"Tripura\", 613428735792], [\"Tripura\", 637431872584], [\"Tripura\", 729835431276], [\"Tripura\", 185347927483], [\"Tripura\", 784768942523], [\"Tripura\", 834174359827], [\"Tripura\", 381467254397], [\"Tripura\", 424819638532], [\"Tripura\", 485326197732], [\"Tripura\", 943567848227], [\"Tripura\", 342285467397], [\"Tripura\", 749538618273], [\"Tripura\", 873982464321], [\"Tripura\", 367235881249], [\"Tripura\", 727281643943], [\"Tripura\", 942572764388], [\"Tripura\", 258637913824], [\"Tripura\", 472721486985], [\"Tripura\", 362248397745], [\"Tripura\", 241583367427], [\"Tripura\", 324629834775], [\"Tripura\", 787429831254], [\"Tripura\", 877586934214], [\"Tripura\", 324598137487], [\"Tripura\", 432797428815], [\"Tripura\", 347241886527], [\"Tripura\", 819223487367], [\"Tripura\", 567873328421], [\"Tripura\", 143842397276], [\"Tripura\", 234178468935], [\"Tripura\", 423917738258], [\"Tripura\", 549738421678], [\"Tripura\", 738284425319], [\"Tripura\", 774564389821], [\"Tripura\", 625848797343], [\"Tripura\", 854231967274], [\"Tripura\", 948334186522], [\"Tripura\", 225417986837]], \"hoverlabel\": {\"namelength\": 0}, \"hovertemplate\": \"Survey_interval=Till_8_August_2019<br>total_number_of_workers_residential(hired+non-hired+contractual)=%{x}<br>state_name=%{customdata[0]}<br>enumerator_id=%{customdata[1]}\", \"legendgroup\": \"Survey_interval=Till_8_August_2019\", \"marker\": {\"color\": \"#EF553B\"}, \"name\": \"Survey_interval=Till_8_August_2019\", \"notched\": false, \"offsetgroup\": \"Survey_interval=Till_8_August_2019\", \"orientation\": \"h\", \"showlegend\": true, \"type\": \"box\", \"x\": [0, 0, 0, 5, 0, 0, 0, 0, 1, 10, 16, 3, 0, 4, 1, 0, 0, 0, 8, 14, 1, 7, 0, 0, 1, 0, 11, 2, 0, 0, 0, 4, 0, 0, 0, 0, 0, 0, 0, 0, 1, 4, 0, 0, 0, 12, 1, 2, 24, 0, 0, 0, 0, 0, 0, 9, 64, 27, 11, 1, 14, 5, 6, 0, 9, 0, 0, 0, 0, 0, 0, 0, 0, 0, 0, 0, 0, 0, 0, 0, 0, 0, 0, 0, 0, 0, 0, 0, 0, 0, 0, 0, 0, 0, 0, 0, 0, 0, 0, 0, 0, 0, 0, 0, 0, 0, 0, 0, 0, 0, 0, 0, 0, 0, 0, 0, 0, 0, 0, 0, 0, 0, 0, 0, 0, 0, 0, 0, 0], \"x0\": \" \", \"xaxis\": \"x\", \"y0\": \" \", \"yaxis\": \"y\"}],\n",
       "                        {\"boxmode\": \"group\", \"height\": 600, \"legend\": {\"tracegroupgap\": 0}, \"margin\": {\"t\": 60}, \"template\": {\"data\": {\"bar\": [{\"error_x\": {\"color\": \"#2a3f5f\"}, \"error_y\": {\"color\": \"#2a3f5f\"}, \"marker\": {\"line\": {\"color\": \"#E5ECF6\", \"width\": 0.5}}, \"type\": \"bar\"}], \"barpolar\": [{\"marker\": {\"line\": {\"color\": \"#E5ECF6\", \"width\": 0.5}}, \"type\": \"barpolar\"}], \"carpet\": [{\"aaxis\": {\"endlinecolor\": \"#2a3f5f\", \"gridcolor\": \"white\", \"linecolor\": \"white\", \"minorgridcolor\": \"white\", \"startlinecolor\": \"#2a3f5f\"}, \"baxis\": {\"endlinecolor\": \"#2a3f5f\", \"gridcolor\": \"white\", \"linecolor\": \"white\", \"minorgridcolor\": \"white\", \"startlinecolor\": \"#2a3f5f\"}, \"type\": \"carpet\"}], \"choropleth\": [{\"colorbar\": {\"outlinewidth\": 0, \"ticks\": \"\"}, \"type\": \"choropleth\"}], \"contour\": [{\"colorbar\": {\"outlinewidth\": 0, \"ticks\": \"\"}, \"colorscale\": [[0.0, \"#0d0887\"], [0.1111111111111111, \"#46039f\"], [0.2222222222222222, \"#7201a8\"], [0.3333333333333333, \"#9c179e\"], [0.4444444444444444, \"#bd3786\"], [0.5555555555555556, \"#d8576b\"], [0.6666666666666666, \"#ed7953\"], [0.7777777777777778, \"#fb9f3a\"], [0.8888888888888888, \"#fdca26\"], [1.0, \"#f0f921\"]], \"type\": \"contour\"}], \"contourcarpet\": [{\"colorbar\": {\"outlinewidth\": 0, \"ticks\": \"\"}, \"type\": \"contourcarpet\"}], \"heatmap\": [{\"colorbar\": {\"outlinewidth\": 0, \"ticks\": \"\"}, \"colorscale\": [[0.0, \"#0d0887\"], [0.1111111111111111, \"#46039f\"], [0.2222222222222222, \"#7201a8\"], [0.3333333333333333, \"#9c179e\"], [0.4444444444444444, \"#bd3786\"], [0.5555555555555556, \"#d8576b\"], [0.6666666666666666, \"#ed7953\"], [0.7777777777777778, \"#fb9f3a\"], [0.8888888888888888, \"#fdca26\"], [1.0, \"#f0f921\"]], \"type\": \"heatmap\"}], \"heatmapgl\": [{\"colorbar\": {\"outlinewidth\": 0, \"ticks\": \"\"}, \"colorscale\": [[0.0, \"#0d0887\"], [0.1111111111111111, \"#46039f\"], [0.2222222222222222, \"#7201a8\"], [0.3333333333333333, \"#9c179e\"], [0.4444444444444444, \"#bd3786\"], [0.5555555555555556, \"#d8576b\"], [0.6666666666666666, \"#ed7953\"], [0.7777777777777778, \"#fb9f3a\"], [0.8888888888888888, \"#fdca26\"], [1.0, \"#f0f921\"]], \"type\": \"heatmapgl\"}], \"histogram\": [{\"marker\": {\"colorbar\": {\"outlinewidth\": 0, \"ticks\": \"\"}}, \"type\": \"histogram\"}], \"histogram2d\": [{\"colorbar\": {\"outlinewidth\": 0, \"ticks\": \"\"}, \"colorscale\": [[0.0, \"#0d0887\"], [0.1111111111111111, \"#46039f\"], [0.2222222222222222, \"#7201a8\"], [0.3333333333333333, \"#9c179e\"], [0.4444444444444444, \"#bd3786\"], [0.5555555555555556, \"#d8576b\"], [0.6666666666666666, \"#ed7953\"], [0.7777777777777778, \"#fb9f3a\"], [0.8888888888888888, \"#fdca26\"], [1.0, \"#f0f921\"]], \"type\": \"histogram2d\"}], \"histogram2dcontour\": [{\"colorbar\": {\"outlinewidth\": 0, \"ticks\": \"\"}, \"colorscale\": [[0.0, \"#0d0887\"], [0.1111111111111111, \"#46039f\"], [0.2222222222222222, \"#7201a8\"], [0.3333333333333333, \"#9c179e\"], [0.4444444444444444, \"#bd3786\"], [0.5555555555555556, \"#d8576b\"], [0.6666666666666666, \"#ed7953\"], [0.7777777777777778, \"#fb9f3a\"], [0.8888888888888888, \"#fdca26\"], [1.0, \"#f0f921\"]], \"type\": \"histogram2dcontour\"}], \"mesh3d\": [{\"colorbar\": {\"outlinewidth\": 0, \"ticks\": \"\"}, \"type\": \"mesh3d\"}], \"parcoords\": [{\"line\": {\"colorbar\": {\"outlinewidth\": 0, \"ticks\": \"\"}}, \"type\": \"parcoords\"}], \"scatter\": [{\"marker\": {\"colorbar\": {\"outlinewidth\": 0, \"ticks\": \"\"}}, \"type\": \"scatter\"}], \"scatter3d\": [{\"line\": {\"colorbar\": {\"outlinewidth\": 0, \"ticks\": \"\"}}, \"marker\": {\"colorbar\": {\"outlinewidth\": 0, \"ticks\": \"\"}}, \"type\": \"scatter3d\"}], \"scattercarpet\": [{\"marker\": {\"colorbar\": {\"outlinewidth\": 0, \"ticks\": \"\"}}, \"type\": \"scattercarpet\"}], \"scattergeo\": [{\"marker\": {\"colorbar\": {\"outlinewidth\": 0, \"ticks\": \"\"}}, \"type\": \"scattergeo\"}], \"scattergl\": [{\"marker\": {\"colorbar\": {\"outlinewidth\": 0, \"ticks\": \"\"}}, \"type\": \"scattergl\"}], \"scattermapbox\": [{\"marker\": {\"colorbar\": {\"outlinewidth\": 0, \"ticks\": \"\"}}, \"type\": \"scattermapbox\"}], \"scatterpolar\": [{\"marker\": {\"colorbar\": {\"outlinewidth\": 0, \"ticks\": \"\"}}, \"type\": \"scatterpolar\"}], \"scatterpolargl\": [{\"marker\": {\"colorbar\": {\"outlinewidth\": 0, \"ticks\": \"\"}}, \"type\": \"scatterpolargl\"}], \"scatterternary\": [{\"marker\": {\"colorbar\": {\"outlinewidth\": 0, \"ticks\": \"\"}}, \"type\": \"scatterternary\"}], \"surface\": [{\"colorbar\": {\"outlinewidth\": 0, \"ticks\": \"\"}, \"colorscale\": [[0.0, \"#0d0887\"], [0.1111111111111111, \"#46039f\"], [0.2222222222222222, \"#7201a8\"], [0.3333333333333333, \"#9c179e\"], [0.4444444444444444, \"#bd3786\"], [0.5555555555555556, \"#d8576b\"], [0.6666666666666666, \"#ed7953\"], [0.7777777777777778, \"#fb9f3a\"], [0.8888888888888888, \"#fdca26\"], [1.0, \"#f0f921\"]], \"type\": \"surface\"}], \"table\": [{\"cells\": {\"fill\": {\"color\": \"#EBF0F8\"}, \"line\": {\"color\": \"white\"}}, \"header\": {\"fill\": {\"color\": \"#C8D4E3\"}, \"line\": {\"color\": \"white\"}}, \"type\": \"table\"}]}, \"layout\": {\"annotationdefaults\": {\"arrowcolor\": \"#2a3f5f\", \"arrowhead\": 0, \"arrowwidth\": 1}, \"colorscale\": {\"diverging\": [[0, \"#8e0152\"], [0.1, \"#c51b7d\"], [0.2, \"#de77ae\"], [0.3, \"#f1b6da\"], [0.4, \"#fde0ef\"], [0.5, \"#f7f7f7\"], [0.6, \"#e6f5d0\"], [0.7, \"#b8e186\"], [0.8, \"#7fbc41\"], [0.9, \"#4d9221\"], [1, \"#276419\"]], \"sequential\": [[0.0, \"#0d0887\"], [0.1111111111111111, \"#46039f\"], [0.2222222222222222, \"#7201a8\"], [0.3333333333333333, \"#9c179e\"], [0.4444444444444444, \"#bd3786\"], [0.5555555555555556, \"#d8576b\"], [0.6666666666666666, \"#ed7953\"], [0.7777777777777778, \"#fb9f3a\"], [0.8888888888888888, \"#fdca26\"], [1.0, \"#f0f921\"]], \"sequentialminus\": [[0.0, \"#0d0887\"], [0.1111111111111111, \"#46039f\"], [0.2222222222222222, \"#7201a8\"], [0.3333333333333333, \"#9c179e\"], [0.4444444444444444, \"#bd3786\"], [0.5555555555555556, \"#d8576b\"], [0.6666666666666666, \"#ed7953\"], [0.7777777777777778, \"#fb9f3a\"], [0.8888888888888888, \"#fdca26\"], [1.0, \"#f0f921\"]]}, \"colorway\": [\"#636efa\", \"#EF553B\", \"#00cc96\", \"#ab63fa\", \"#FFA15A\", \"#19d3f3\", \"#FF6692\", \"#B6E880\", \"#FF97FF\", \"#FECB52\"], \"font\": {\"color\": \"#2a3f5f\"}, \"geo\": {\"bgcolor\": \"white\", \"lakecolor\": \"white\", \"landcolor\": \"#E5ECF6\", \"showlakes\": true, \"showland\": true, \"subunitcolor\": \"white\"}, \"hoverlabel\": {\"align\": \"left\"}, \"hovermode\": \"closest\", \"mapbox\": {\"style\": \"light\"}, \"paper_bgcolor\": \"white\", \"plot_bgcolor\": \"#E5ECF6\", \"polar\": {\"angularaxis\": {\"gridcolor\": \"white\", \"linecolor\": \"white\", \"ticks\": \"\"}, \"bgcolor\": \"#E5ECF6\", \"radialaxis\": {\"gridcolor\": \"white\", \"linecolor\": \"white\", \"ticks\": \"\"}}, \"scene\": {\"xaxis\": {\"backgroundcolor\": \"#E5ECF6\", \"gridcolor\": \"white\", \"gridwidth\": 2, \"linecolor\": \"white\", \"showbackground\": true, \"ticks\": \"\", \"zerolinecolor\": \"white\"}, \"yaxis\": {\"backgroundcolor\": \"#E5ECF6\", \"gridcolor\": \"white\", \"gridwidth\": 2, \"linecolor\": \"white\", \"showbackground\": true, \"ticks\": \"\", \"zerolinecolor\": \"white\"}, \"zaxis\": {\"backgroundcolor\": \"#E5ECF6\", \"gridcolor\": \"white\", \"gridwidth\": 2, \"linecolor\": \"white\", \"showbackground\": true, \"ticks\": \"\", \"zerolinecolor\": \"white\"}}, \"shapedefaults\": {\"line\": {\"color\": \"#2a3f5f\"}}, \"ternary\": {\"aaxis\": {\"gridcolor\": \"white\", \"linecolor\": \"white\", \"ticks\": \"\"}, \"baxis\": {\"gridcolor\": \"white\", \"linecolor\": \"white\", \"ticks\": \"\"}, \"bgcolor\": \"#E5ECF6\", \"caxis\": {\"gridcolor\": \"white\", \"linecolor\": \"white\", \"ticks\": \"\"}}, \"title\": {\"x\": 0.05}, \"xaxis\": {\"automargin\": true, \"gridcolor\": \"white\", \"linecolor\": \"white\", \"ticks\": \"\", \"zerolinecolor\": \"white\", \"zerolinewidth\": 2}, \"yaxis\": {\"automargin\": true, \"gridcolor\": \"white\", \"linecolor\": \"white\", \"ticks\": \"\", \"zerolinecolor\": \"white\", \"zerolinewidth\": 2}}}, \"xaxis\": {\"anchor\": \"y\", \"domain\": [0.0, 0.98], \"title\": {\"text\": \"total_number_of_workers_residential(hired+non-hired+contractual)\"}}, \"yaxis\": {\"anchor\": \"x\", \"domain\": [0.0, 1.0]}},\n",
       "                        {\"responsive\": true}\n",
       "                    ).then(function(){\n",
       "                            \n",
       "var gd = document.getElementById('fd7af5ab-4849-4233-9a85-b8c589f7181e');\n",
       "var x = new MutationObserver(function (mutations, observer) {{\n",
       "        var display = window.getComputedStyle(gd).display;\n",
       "        if (!display || display === 'none') {{\n",
       "            console.log([gd, 'removed!']);\n",
       "            Plotly.purge(gd);\n",
       "            observer.disconnect();\n",
       "        }}\n",
       "}});\n",
       "\n",
       "// Listen for the removal of the full notebook cells\n",
       "var notebookContainer = gd.closest('#notebook-container');\n",
       "if (notebookContainer) {{\n",
       "    x.observe(notebookContainer, {childList: true});\n",
       "}}\n",
       "\n",
       "// Listen for the clearing of the current output cell\n",
       "var outputEl = gd.closest('.output');\n",
       "if (outputEl) {{\n",
       "    x.observe(outputEl, {childList: true});\n",
       "}}\n",
       "\n",
       "                        })\n",
       "                };\n",
       "                });\n",
       "            </script>\n",
       "        </div>"
      ]
     },
     "metadata": {},
     "output_type": "display_data"
    },
    {
     "data": {
      "application/vnd.plotly.v1+json": {
       "config": {
        "plotlyServerURL": "https://plot.ly"
       },
       "data": [
        {
         "alignmentgroup": "True",
         "customdata": [
          [
           "PUDUCHERRY",
           138642453972
          ],
          [
           "PUDUCHERRY",
           142673238548
          ],
          [
           "PUDUCHERRY",
           638824973175
          ],
          [
           "PUDUCHERRY",
           257944286831
          ],
          [
           "PUDUCHERRY",
           332126748547
          ],
          [
           "PUDUCHERRY",
           612832874973
          ],
          [
           "PUDUCHERRY",
           638281273457
          ],
          [
           "PUDUCHERRY",
           845963712374
          ],
          [
           "PUDUCHERRY",
           128239347467
          ],
          [
           "PUDUCHERRY",
           244738178639
          ],
          [
           "PUDUCHERRY",
           277339484681
          ],
          [
           "PUDUCHERRY",
           372149485782
          ],
          [
           "PUDUCHERRY",
           378473258962
          ],
          [
           "PUDUCHERRY",
           384891624572
          ],
          [
           "PUDUCHERRY",
           437932648127
          ],
          [
           "PUDUCHERRY",
           721923378845
          ],
          [
           "PUDUCHERRY",
           723634187529
          ],
          [
           "PUDUCHERRY",
           844673532927
          ],
          [
           "PUDUCHERRY",
           845243139867
          ],
          [
           "PUDUCHERRY",
           867283934517
          ],
          [
           "PUDUCHERRY",
           927134582764
          ],
          [
           "PUDUCHERRY",
           387948224537
          ],
          [
           "PUDUCHERRY",
           459873146273
          ],
          [
           "PUDUCHERRY",
           518424627837
          ],
          [
           "PUDUCHERRY",
           567214829373
          ],
          [
           "PUDUCHERRY",
           937483227615
          ],
          [
           "PUDUCHERRY",
           944282177536
          ],
          [
           "PUDUCHERRY",
           481472735268
          ],
          [
           "PUDUCHERRY",
           982476214385
          ],
          [
           "PUDUCHERRY",
           265733174284
          ],
          [
           "PUDUCHERRY",
           491582737428
          ],
          [
           "PUDUCHERRY",
           625419384837
          ],
          [
           "PUDUCHERRY",
           136287244973
          ],
          [
           "PUDUCHERRY",
           415782368793
          ],
          [
           "PUDUCHERRY",
           448726172583
          ],
          [
           "PUDUCHERRY",
           569321724874
          ],
          [
           "PUDUCHERRY",
           733188596422
          ],
          [
           "PUDUCHERRY",
           898514242637
          ],
          [
           "PUDUCHERRY",
           234319478756
          ],
          [
           "PUDUCHERRY",
           486734322859
          ],
          [
           "PUDUCHERRY",
           489323727465
          ],
          [
           "PUDUCHERRY",
           719828233544
          ],
          [
           "Tripura",
           248577336418
          ],
          [
           "Tripura",
           252344198673
          ],
          [
           "Tripura",
           272348371486
          ],
          [
           "Tripura",
           478928734216
          ],
          [
           "Tripura",
           652843379247
          ],
          [
           "Tripura",
           732968873245
          ],
          [
           "Tripura",
           743821685234
          ],
          [
           "Tripura",
           334274278916
          ],
          [
           "Tripura",
           452432687917
          ],
          [
           "Tripura",
           948725267381
          ],
          [
           "Tripura",
           386794247135
          ],
          [
           "Tripura",
           632427984815
          ],
          [
           "Tripura",
           679813427458
          ],
          [
           "Tripura",
           281679442835
          ],
          [
           "Tripura",
           574436232987
          ],
          [
           "Tripura",
           823894146537
          ],
          [
           "Tripura",
           986754372382
          ],
          [
           "Tripura",
           214938386724
          ],
          [
           "Tripura",
           341249273576
          ],
          [
           "Tripura",
           238985167724
          ],
          [
           "Tripura",
           247834927186
          ],
          [
           "Tripura",
           536174884392
          ],
          [
           "Tripura",
           126249437783
          ],
          [
           "Tripura",
           149874582336
          ],
          [
           "Tripura",
           422715637894
          ],
          [
           "Tripura",
           639741824782
          ],
          [
           "Tripura",
           932835644721
          ],
          [
           "Tripura",
           163954722884
          ],
          [
           "Tripura",
           183972454276
          ],
          [
           "Tripura",
           342125863879
          ],
          [
           "Tripura",
           723423594871
          ],
          [
           "Tripura",
           783416728345
          ],
          [
           "Tripura",
           854732623419
          ],
          [
           "Tripura",
           275438271683
          ],
          [
           "Tripura",
           643215428978
          ],
          [
           "Tripura",
           738821639574
          ],
          [
           "Tripura",
           846177284932
          ],
          [
           "Tripura",
           248312578943
          ],
          [
           "Tripura",
           258613787493
          ],
          [
           "Tripura",
           623738489721
          ],
          [
           "Tripura",
           638297345741
          ],
          [
           "Tripura",
           787242168349
          ],
          [
           "Tripura",
           821644875323
          ],
          [
           "Tripura",
           182747624339
          ],
          [
           "Tripura",
           295884371324
          ],
          [
           "Tripura",
           522374881673
          ],
          [
           "Tripura",
           537824867241
          ],
          [
           "Tripura",
           578264338712
          ],
          [
           "Tripura",
           742378548961
          ],
          [
           "Tripura",
           787432934285
          ],
          [
           "Tripura",
           897475234832
          ],
          [
           "Tripura",
           968248753374
          ],
          [
           "Tripura",
           326753984214
          ],
          [
           "Tripura",
           149876538242
          ],
          [
           "Tripura",
           187298245637
          ],
          [
           "Tripura",
           339247672885
          ],
          [
           "Tripura",
           961783348254
          ],
          [
           "Tripura",
           698124343772
          ],
          [
           "Tripura",
           874867242393
          ],
          [
           "Tripura",
           232435941787
          ],
          [
           "Tripura",
           293324157486
          ],
          [
           "Tripura",
           385177622344
          ],
          [
           "Tripura",
           484322761938
          ],
          [
           "Tripura",
           842841376759
          ],
          [
           "Tripura",
           882439357421
          ],
          [
           "Tripura",
           465347783912
          ],
          [
           "Tripura",
           779353248481
          ],
          [
           "Tripura",
           165493428378
          ],
          [
           "Tripura",
           244788369572
          ],
          [
           "Tripura",
           252968771448
          ],
          [
           "Tripura",
           277324988156
          ],
          [
           "Tripura",
           382874645731
          ],
          [
           "Tripura",
           387732612954
          ],
          [
           "Tripura",
           485637319287
          ],
          [
           "Tripura",
           684592717243
          ],
          [
           "Tripura",
           874421675923
          ],
          [
           "Tripura",
           744822389135
          ],
          [
           "Tripura",
           968358727144
          ],
          [
           "Tripura",
           498321865342
          ],
          [
           "Tripura",
           574936288321
          ],
          [
           "Tripura",
           613428735792
          ],
          [
           "Tripura",
           637431872584
          ],
          [
           "Tripura",
           185347927483
          ],
          [
           "Tripura",
           784768942523
          ],
          [
           "Tripura",
           834174359827
          ],
          [
           "Tripura",
           381467254397
          ],
          [
           "Tripura",
           424819638532
          ],
          [
           "Tripura",
           485326197732
          ],
          [
           "Tripura",
           943567848227
          ],
          [
           "Tripura",
           342285467397
          ],
          [
           "Tripura",
           725424136987
          ],
          [
           "Tripura",
           749538618273
          ],
          [
           "Tripura",
           873982464321
          ],
          [
           "Tripura",
           231838757494
          ],
          [
           "Tripura",
           727281643943
          ],
          [
           "Tripura",
           942572764388
          ],
          [
           "Tripura",
           258637913824
          ],
          [
           "Tripura",
           472721486985
          ],
          [
           "Tripura",
           641732985274
          ],
          [
           "Tripura",
           787429831254
          ],
          [
           "Tripura",
           877586934214
          ],
          [
           "Tripura",
           324598137487
          ],
          [
           "Tripura",
           267189785233
          ],
          [
           "Tripura",
           432797428815
          ],
          [
           "Tripura",
           746824831379
          ],
          [
           "Tripura",
           347241886527
          ],
          [
           "Tripura",
           748623718392
          ],
          [
           "Tripura",
           819223487367
          ],
          [
           "Tripura",
           369157387242
          ],
          [
           "Tripura",
           567873328421
          ],
          [
           "Tripura",
           143842397276
          ],
          [
           "Tripura",
           234178468935
          ],
          [
           "Tripura",
           423917738258
          ],
          [
           "Tripura",
           549738421678
          ],
          [
           "Tripura",
           637317945282
          ],
          [
           "Tripura",
           738284425319
          ],
          [
           "Tripura",
           774564389821
          ],
          [
           "Tripura",
           625848797343
          ],
          [
           "Tripura",
           854231967274
          ],
          [
           "Tripura",
           948334186522
          ],
          [
           "Tripura",
           225417986837
          ]
         ],
         "hoverlabel": {
          "namelength": 0
         },
         "hovertemplate": "Survey_interval=8-12_August_2019<br>greater than 30 minutes(commercial)=%{x}<br>state_name=%{customdata[0]}<br>enumerator_id=%{customdata[1]}",
         "legendgroup": "Survey_interval=8-12_August_2019",
         "marker": {
          "color": "#636efa"
         },
         "name": "Survey_interval=8-12_August_2019",
         "notched": false,
         "offsetgroup": "Survey_interval=8-12_August_2019",
         "orientation": "h",
         "showlegend": true,
         "type": "box",
         "x": [
          0,
          2,
          0,
          0,
          0,
          0,
          5,
          0,
          0,
          0,
          0,
          0,
          2,
          0,
          1,
          0,
          0,
          0,
          0,
          1,
          0,
          1,
          1,
          0,
          0,
          0,
          0,
          0,
          0,
          0,
          6,
          0,
          24,
          0,
          3,
          15,
          2,
          5,
          3,
          1,
          0,
          0,
          0,
          0,
          0,
          8,
          0,
          8,
          0,
          0,
          0,
          0,
          3,
          0,
          1,
          0,
          0,
          0,
          0,
          1,
          0,
          13,
          0,
          3,
          0,
          0,
          0,
          0,
          0,
          0,
          4,
          0,
          0,
          0,
          1,
          0,
          0,
          0,
          0,
          0,
          0,
          0,
          0,
          0,
          0,
          0,
          0,
          0,
          0,
          0,
          0,
          0,
          0,
          0,
          0,
          27,
          7,
          9,
          15,
          0,
          0,
          2,
          0,
          0,
          0,
          1,
          0,
          0,
          0,
          25,
          0,
          0,
          1,
          3,
          0,
          0,
          0,
          0,
          0,
          0,
          0,
          0,
          0,
          0,
          0,
          0,
          0,
          0,
          0,
          0,
          0,
          0,
          0,
          0,
          0,
          0,
          1,
          0,
          0,
          0,
          0,
          0,
          0,
          0,
          0,
          0,
          0,
          0,
          0,
          0,
          0,
          0,
          0,
          0,
          0,
          0,
          0,
          0,
          0,
          0,
          0,
          1,
          0
         ],
         "x0": " ",
         "xaxis": "x",
         "y0": " ",
         "yaxis": "y"
        },
        {
         "alignmentgroup": "True",
         "customdata": [
          [
           "PUDUCHERRY",
           325287314771
          ],
          [
           "PUDUCHERRY",
           257944286831
          ],
          [
           "PUDUCHERRY",
           332126748547
          ],
          [
           "PUDUCHERRY",
           638281273457
          ],
          [
           "PUDUCHERRY",
           244738178639
          ],
          [
           "PUDUCHERRY",
           437932648127
          ],
          [
           "PUDUCHERRY",
           867283934517
          ],
          [
           "PUDUCHERRY",
           387948224537
          ],
          [
           "PUDUCHERRY",
           459873146273
          ],
          [
           "PUDUCHERRY",
           518424627837
          ],
          [
           "PUDUCHERRY",
           567214829373
          ],
          [
           "PUDUCHERRY",
           937483227615
          ],
          [
           "PUDUCHERRY",
           944282177536
          ],
          [
           "PUDUCHERRY",
           491582737428
          ],
          [
           "PUDUCHERRY",
           625419384837
          ],
          [
           "PUDUCHERRY",
           136287244973
          ],
          [
           "PUDUCHERRY",
           569321724874
          ],
          [
           "PUDUCHERRY",
           733188596422
          ],
          [
           "Tripura",
           443727281856
          ],
          [
           "Tripura",
           248577336418
          ],
          [
           "Tripura",
           252344198673
          ],
          [
           "Tripura",
           272348371486
          ],
          [
           "Tripura",
           478928734216
          ],
          [
           "Tripura",
           652843379247
          ],
          [
           "Tripura",
           743821685234
          ],
          [
           "Tripura",
           936742381524
          ],
          [
           "Tripura",
           386794247135
          ],
          [
           "Tripura",
           679813427458
          ],
          [
           "Tripura",
           574436232987
          ],
          [
           "Tripura",
           823894146537
          ],
          [
           "Tripura",
           986754372382
          ],
          [
           "Tripura",
           214938386724
          ],
          [
           "Tripura",
           341249273576
          ],
          [
           "Tripura",
           298316544837
          ],
          [
           "Tripura",
           238985167724
          ],
          [
           "Tripura",
           126249437783
          ],
          [
           "Tripura",
           149874582336
          ],
          [
           "Tripura",
           422715637894
          ],
          [
           "Tripura",
           639741824782
          ],
          [
           "Tripura",
           932835644721
          ],
          [
           "Tripura",
           163954722884
          ],
          [
           "Tripura",
           183972454276
          ],
          [
           "Tripura",
           342125863879
          ],
          [
           "Tripura",
           723423594871
          ],
          [
           "Tripura",
           783416728345
          ],
          [
           "Tripura",
           854732623419
          ],
          [
           "Tripura",
           243845621737
          ],
          [
           "Tripura",
           327283564491
          ],
          [
           "Tripura",
           643215428978
          ],
          [
           "Tripura",
           738821639574
          ],
          [
           "Tripura",
           846177284932
          ],
          [
           "Tripura",
           248312578943
          ],
          [
           "Tripura",
           258613787493
          ],
          [
           "Tripura",
           623738489721
          ],
          [
           "Tripura",
           638297345741
          ],
          [
           "Tripura",
           821644875323
          ],
          [
           "Tripura",
           182747624339
          ],
          [
           "Tripura",
           296783142847
          ],
          [
           "Tripura",
           522374881673
          ],
          [
           "Tripura",
           537824867241
          ],
          [
           "Tripura",
           742378548961
          ],
          [
           "Tripura",
           787432934285
          ],
          [
           "Tripura",
           897475234832
          ],
          [
           "Tripura",
           495812332478
          ],
          [
           "Tripura",
           326753984214
          ],
          [
           "Tripura",
           491845786327
          ],
          [
           "Tripura",
           837946418732
          ],
          [
           "Tripura",
           149876538242
          ],
          [
           "Tripura",
           187298245637
          ],
          [
           "Tripura",
           332851674874
          ],
          [
           "Tripura",
           339247672885
          ],
          [
           "Tripura",
           961783348254
          ],
          [
           "Tripura",
           698124343772
          ],
          [
           "Tripura",
           874867242393
          ],
          [
           "Tripura",
           232435941787
          ],
          [
           "Tripura",
           293324157486
          ],
          [
           "Tripura",
           385177622344
          ],
          [
           "Tripura",
           484322761938
          ],
          [
           "Tripura",
           842841376759
          ],
          [
           "Tripura",
           882439357421
          ],
          [
           "Tripura",
           223589681347
          ],
          [
           "Tripura",
           465347783912
          ],
          [
           "Tripura",
           165493428378
          ],
          [
           "Tripura",
           244788369572
          ],
          [
           "Tripura",
           252968771448
          ],
          [
           "Tripura",
           277324988156
          ],
          [
           "Tripura",
           382874645731
          ],
          [
           "Tripura",
           387732612954
          ],
          [
           "Tripura",
           684592717243
          ],
          [
           "Tripura",
           874421675923
          ],
          [
           "Tripura",
           968358727144
          ],
          [
           "Tripura",
           613428735792
          ],
          [
           "Tripura",
           637431872584
          ],
          [
           "Tripura",
           729835431276
          ],
          [
           "Tripura",
           185347927483
          ],
          [
           "Tripura",
           784768942523
          ],
          [
           "Tripura",
           834174359827
          ],
          [
           "Tripura",
           381467254397
          ],
          [
           "Tripura",
           424819638532
          ],
          [
           "Tripura",
           485326197732
          ],
          [
           "Tripura",
           943567848227
          ],
          [
           "Tripura",
           342285467397
          ],
          [
           "Tripura",
           749538618273
          ],
          [
           "Tripura",
           873982464321
          ],
          [
           "Tripura",
           367235881249
          ],
          [
           "Tripura",
           727281643943
          ],
          [
           "Tripura",
           942572764388
          ],
          [
           "Tripura",
           258637913824
          ],
          [
           "Tripura",
           472721486985
          ],
          [
           "Tripura",
           362248397745
          ],
          [
           "Tripura",
           241583367427
          ],
          [
           "Tripura",
           324629834775
          ],
          [
           "Tripura",
           787429831254
          ],
          [
           "Tripura",
           877586934214
          ],
          [
           "Tripura",
           324598137487
          ],
          [
           "Tripura",
           432797428815
          ],
          [
           "Tripura",
           347241886527
          ],
          [
           "Tripura",
           819223487367
          ],
          [
           "Tripura",
           567873328421
          ],
          [
           "Tripura",
           143842397276
          ],
          [
           "Tripura",
           234178468935
          ],
          [
           "Tripura",
           423917738258
          ],
          [
           "Tripura",
           549738421678
          ],
          [
           "Tripura",
           738284425319
          ],
          [
           "Tripura",
           774564389821
          ],
          [
           "Tripura",
           625848797343
          ],
          [
           "Tripura",
           854231967274
          ],
          [
           "Tripura",
           948334186522
          ],
          [
           "Tripura",
           225417986837
          ]
         ],
         "hoverlabel": {
          "namelength": 0
         },
         "hovertemplate": "Survey_interval=Till_8_August_2019<br>greater than 30 minutes(commercial)=%{x}<br>state_name=%{customdata[0]}<br>enumerator_id=%{customdata[1]}",
         "legendgroup": "Survey_interval=Till_8_August_2019",
         "marker": {
          "color": "#EF553B"
         },
         "name": "Survey_interval=Till_8_August_2019",
         "notched": false,
         "offsetgroup": "Survey_interval=Till_8_August_2019",
         "orientation": "h",
         "showlegend": true,
         "type": "box",
         "x": [
          0,
          0,
          0,
          2,
          0,
          1,
          0,
          1,
          0,
          4,
          1,
          0,
          0,
          0,
          0,
          5,
          1,
          0,
          3,
          2,
          4,
          0,
          2,
          0,
          1,
          0,
          0,
          1,
          0,
          0,
          0,
          1,
          1,
          0,
          0,
          0,
          1,
          0,
          1,
          0,
          0,
          2,
          0,
          0,
          0,
          0,
          0,
          0,
          0,
          0,
          0,
          1,
          0,
          0,
          0,
          0,
          0,
          0,
          0,
          0,
          0,
          0,
          0,
          0,
          0,
          0,
          0,
          0,
          1,
          12,
          13,
          2,
          0,
          0,
          0,
          1,
          7,
          2,
          6,
          0,
          9,
          2,
          11,
          0,
          0,
          0,
          1,
          0,
          8,
          0,
          1,
          0,
          0,
          0,
          0,
          0,
          0,
          0,
          0,
          0,
          0,
          0,
          0,
          1,
          0,
          0,
          0,
          0,
          0,
          0,
          0,
          0,
          0,
          0,
          0,
          0,
          0,
          0,
          1,
          0,
          0,
          0,
          0,
          0,
          0,
          0,
          0,
          1,
          0
         ],
         "x0": " ",
         "xaxis": "x",
         "y0": " ",
         "yaxis": "y"
        }
       ],
       "layout": {
        "boxmode": "group",
        "height": 600,
        "legend": {
         "tracegroupgap": 0
        },
        "margin": {
         "t": 60
        },
        "template": {
         "data": {
          "bar": [
           {
            "error_x": {
             "color": "#2a3f5f"
            },
            "error_y": {
             "color": "#2a3f5f"
            },
            "marker": {
             "line": {
              "color": "#E5ECF6",
              "width": 0.5
             }
            },
            "type": "bar"
           }
          ],
          "barpolar": [
           {
            "marker": {
             "line": {
              "color": "#E5ECF6",
              "width": 0.5
             }
            },
            "type": "barpolar"
           }
          ],
          "carpet": [
           {
            "aaxis": {
             "endlinecolor": "#2a3f5f",
             "gridcolor": "white",
             "linecolor": "white",
             "minorgridcolor": "white",
             "startlinecolor": "#2a3f5f"
            },
            "baxis": {
             "endlinecolor": "#2a3f5f",
             "gridcolor": "white",
             "linecolor": "white",
             "minorgridcolor": "white",
             "startlinecolor": "#2a3f5f"
            },
            "type": "carpet"
           }
          ],
          "choropleth": [
           {
            "colorbar": {
             "outlinewidth": 0,
             "ticks": ""
            },
            "type": "choropleth"
           }
          ],
          "contour": [
           {
            "colorbar": {
             "outlinewidth": 0,
             "ticks": ""
            },
            "colorscale": [
             [
              0,
              "#0d0887"
             ],
             [
              0.1111111111111111,
              "#46039f"
             ],
             [
              0.2222222222222222,
              "#7201a8"
             ],
             [
              0.3333333333333333,
              "#9c179e"
             ],
             [
              0.4444444444444444,
              "#bd3786"
             ],
             [
              0.5555555555555556,
              "#d8576b"
             ],
             [
              0.6666666666666666,
              "#ed7953"
             ],
             [
              0.7777777777777778,
              "#fb9f3a"
             ],
             [
              0.8888888888888888,
              "#fdca26"
             ],
             [
              1,
              "#f0f921"
             ]
            ],
            "type": "contour"
           }
          ],
          "contourcarpet": [
           {
            "colorbar": {
             "outlinewidth": 0,
             "ticks": ""
            },
            "type": "contourcarpet"
           }
          ],
          "heatmap": [
           {
            "colorbar": {
             "outlinewidth": 0,
             "ticks": ""
            },
            "colorscale": [
             [
              0,
              "#0d0887"
             ],
             [
              0.1111111111111111,
              "#46039f"
             ],
             [
              0.2222222222222222,
              "#7201a8"
             ],
             [
              0.3333333333333333,
              "#9c179e"
             ],
             [
              0.4444444444444444,
              "#bd3786"
             ],
             [
              0.5555555555555556,
              "#d8576b"
             ],
             [
              0.6666666666666666,
              "#ed7953"
             ],
             [
              0.7777777777777778,
              "#fb9f3a"
             ],
             [
              0.8888888888888888,
              "#fdca26"
             ],
             [
              1,
              "#f0f921"
             ]
            ],
            "type": "heatmap"
           }
          ],
          "heatmapgl": [
           {
            "colorbar": {
             "outlinewidth": 0,
             "ticks": ""
            },
            "colorscale": [
             [
              0,
              "#0d0887"
             ],
             [
              0.1111111111111111,
              "#46039f"
             ],
             [
              0.2222222222222222,
              "#7201a8"
             ],
             [
              0.3333333333333333,
              "#9c179e"
             ],
             [
              0.4444444444444444,
              "#bd3786"
             ],
             [
              0.5555555555555556,
              "#d8576b"
             ],
             [
              0.6666666666666666,
              "#ed7953"
             ],
             [
              0.7777777777777778,
              "#fb9f3a"
             ],
             [
              0.8888888888888888,
              "#fdca26"
             ],
             [
              1,
              "#f0f921"
             ]
            ],
            "type": "heatmapgl"
           }
          ],
          "histogram": [
           {
            "marker": {
             "colorbar": {
              "outlinewidth": 0,
              "ticks": ""
             }
            },
            "type": "histogram"
           }
          ],
          "histogram2d": [
           {
            "colorbar": {
             "outlinewidth": 0,
             "ticks": ""
            },
            "colorscale": [
             [
              0,
              "#0d0887"
             ],
             [
              0.1111111111111111,
              "#46039f"
             ],
             [
              0.2222222222222222,
              "#7201a8"
             ],
             [
              0.3333333333333333,
              "#9c179e"
             ],
             [
              0.4444444444444444,
              "#bd3786"
             ],
             [
              0.5555555555555556,
              "#d8576b"
             ],
             [
              0.6666666666666666,
              "#ed7953"
             ],
             [
              0.7777777777777778,
              "#fb9f3a"
             ],
             [
              0.8888888888888888,
              "#fdca26"
             ],
             [
              1,
              "#f0f921"
             ]
            ],
            "type": "histogram2d"
           }
          ],
          "histogram2dcontour": [
           {
            "colorbar": {
             "outlinewidth": 0,
             "ticks": ""
            },
            "colorscale": [
             [
              0,
              "#0d0887"
             ],
             [
              0.1111111111111111,
              "#46039f"
             ],
             [
              0.2222222222222222,
              "#7201a8"
             ],
             [
              0.3333333333333333,
              "#9c179e"
             ],
             [
              0.4444444444444444,
              "#bd3786"
             ],
             [
              0.5555555555555556,
              "#d8576b"
             ],
             [
              0.6666666666666666,
              "#ed7953"
             ],
             [
              0.7777777777777778,
              "#fb9f3a"
             ],
             [
              0.8888888888888888,
              "#fdca26"
             ],
             [
              1,
              "#f0f921"
             ]
            ],
            "type": "histogram2dcontour"
           }
          ],
          "mesh3d": [
           {
            "colorbar": {
             "outlinewidth": 0,
             "ticks": ""
            },
            "type": "mesh3d"
           }
          ],
          "parcoords": [
           {
            "line": {
             "colorbar": {
              "outlinewidth": 0,
              "ticks": ""
             }
            },
            "type": "parcoords"
           }
          ],
          "scatter": [
           {
            "marker": {
             "colorbar": {
              "outlinewidth": 0,
              "ticks": ""
             }
            },
            "type": "scatter"
           }
          ],
          "scatter3d": [
           {
            "line": {
             "colorbar": {
              "outlinewidth": 0,
              "ticks": ""
             }
            },
            "marker": {
             "colorbar": {
              "outlinewidth": 0,
              "ticks": ""
             }
            },
            "type": "scatter3d"
           }
          ],
          "scattercarpet": [
           {
            "marker": {
             "colorbar": {
              "outlinewidth": 0,
              "ticks": ""
             }
            },
            "type": "scattercarpet"
           }
          ],
          "scattergeo": [
           {
            "marker": {
             "colorbar": {
              "outlinewidth": 0,
              "ticks": ""
             }
            },
            "type": "scattergeo"
           }
          ],
          "scattergl": [
           {
            "marker": {
             "colorbar": {
              "outlinewidth": 0,
              "ticks": ""
             }
            },
            "type": "scattergl"
           }
          ],
          "scattermapbox": [
           {
            "marker": {
             "colorbar": {
              "outlinewidth": 0,
              "ticks": ""
             }
            },
            "type": "scattermapbox"
           }
          ],
          "scatterpolar": [
           {
            "marker": {
             "colorbar": {
              "outlinewidth": 0,
              "ticks": ""
             }
            },
            "type": "scatterpolar"
           }
          ],
          "scatterpolargl": [
           {
            "marker": {
             "colorbar": {
              "outlinewidth": 0,
              "ticks": ""
             }
            },
            "type": "scatterpolargl"
           }
          ],
          "scatterternary": [
           {
            "marker": {
             "colorbar": {
              "outlinewidth": 0,
              "ticks": ""
             }
            },
            "type": "scatterternary"
           }
          ],
          "surface": [
           {
            "colorbar": {
             "outlinewidth": 0,
             "ticks": ""
            },
            "colorscale": [
             [
              0,
              "#0d0887"
             ],
             [
              0.1111111111111111,
              "#46039f"
             ],
             [
              0.2222222222222222,
              "#7201a8"
             ],
             [
              0.3333333333333333,
              "#9c179e"
             ],
             [
              0.4444444444444444,
              "#bd3786"
             ],
             [
              0.5555555555555556,
              "#d8576b"
             ],
             [
              0.6666666666666666,
              "#ed7953"
             ],
             [
              0.7777777777777778,
              "#fb9f3a"
             ],
             [
              0.8888888888888888,
              "#fdca26"
             ],
             [
              1,
              "#f0f921"
             ]
            ],
            "type": "surface"
           }
          ],
          "table": [
           {
            "cells": {
             "fill": {
              "color": "#EBF0F8"
             },
             "line": {
              "color": "white"
             }
            },
            "header": {
             "fill": {
              "color": "#C8D4E3"
             },
             "line": {
              "color": "white"
             }
            },
            "type": "table"
           }
          ]
         },
         "layout": {
          "annotationdefaults": {
           "arrowcolor": "#2a3f5f",
           "arrowhead": 0,
           "arrowwidth": 1
          },
          "colorscale": {
           "diverging": [
            [
             0,
             "#8e0152"
            ],
            [
             0.1,
             "#c51b7d"
            ],
            [
             0.2,
             "#de77ae"
            ],
            [
             0.3,
             "#f1b6da"
            ],
            [
             0.4,
             "#fde0ef"
            ],
            [
             0.5,
             "#f7f7f7"
            ],
            [
             0.6,
             "#e6f5d0"
            ],
            [
             0.7,
             "#b8e186"
            ],
            [
             0.8,
             "#7fbc41"
            ],
            [
             0.9,
             "#4d9221"
            ],
            [
             1,
             "#276419"
            ]
           ],
           "sequential": [
            [
             0,
             "#0d0887"
            ],
            [
             0.1111111111111111,
             "#46039f"
            ],
            [
             0.2222222222222222,
             "#7201a8"
            ],
            [
             0.3333333333333333,
             "#9c179e"
            ],
            [
             0.4444444444444444,
             "#bd3786"
            ],
            [
             0.5555555555555556,
             "#d8576b"
            ],
            [
             0.6666666666666666,
             "#ed7953"
            ],
            [
             0.7777777777777778,
             "#fb9f3a"
            ],
            [
             0.8888888888888888,
             "#fdca26"
            ],
            [
             1,
             "#f0f921"
            ]
           ],
           "sequentialminus": [
            [
             0,
             "#0d0887"
            ],
            [
             0.1111111111111111,
             "#46039f"
            ],
            [
             0.2222222222222222,
             "#7201a8"
            ],
            [
             0.3333333333333333,
             "#9c179e"
            ],
            [
             0.4444444444444444,
             "#bd3786"
            ],
            [
             0.5555555555555556,
             "#d8576b"
            ],
            [
             0.6666666666666666,
             "#ed7953"
            ],
            [
             0.7777777777777778,
             "#fb9f3a"
            ],
            [
             0.8888888888888888,
             "#fdca26"
            ],
            [
             1,
             "#f0f921"
            ]
           ]
          },
          "colorway": [
           "#636efa",
           "#EF553B",
           "#00cc96",
           "#ab63fa",
           "#FFA15A",
           "#19d3f3",
           "#FF6692",
           "#B6E880",
           "#FF97FF",
           "#FECB52"
          ],
          "font": {
           "color": "#2a3f5f"
          },
          "geo": {
           "bgcolor": "white",
           "lakecolor": "white",
           "landcolor": "#E5ECF6",
           "showlakes": true,
           "showland": true,
           "subunitcolor": "white"
          },
          "hoverlabel": {
           "align": "left"
          },
          "hovermode": "closest",
          "mapbox": {
           "style": "light"
          },
          "paper_bgcolor": "white",
          "plot_bgcolor": "#E5ECF6",
          "polar": {
           "angularaxis": {
            "gridcolor": "white",
            "linecolor": "white",
            "ticks": ""
           },
           "bgcolor": "#E5ECF6",
           "radialaxis": {
            "gridcolor": "white",
            "linecolor": "white",
            "ticks": ""
           }
          },
          "scene": {
           "xaxis": {
            "backgroundcolor": "#E5ECF6",
            "gridcolor": "white",
            "gridwidth": 2,
            "linecolor": "white",
            "showbackground": true,
            "ticks": "",
            "zerolinecolor": "white"
           },
           "yaxis": {
            "backgroundcolor": "#E5ECF6",
            "gridcolor": "white",
            "gridwidth": 2,
            "linecolor": "white",
            "showbackground": true,
            "ticks": "",
            "zerolinecolor": "white"
           },
           "zaxis": {
            "backgroundcolor": "#E5ECF6",
            "gridcolor": "white",
            "gridwidth": 2,
            "linecolor": "white",
            "showbackground": true,
            "ticks": "",
            "zerolinecolor": "white"
           }
          },
          "shapedefaults": {
           "line": {
            "color": "#2a3f5f"
           }
          },
          "ternary": {
           "aaxis": {
            "gridcolor": "white",
            "linecolor": "white",
            "ticks": ""
           },
           "baxis": {
            "gridcolor": "white",
            "linecolor": "white",
            "ticks": ""
           },
           "bgcolor": "#E5ECF6",
           "caxis": {
            "gridcolor": "white",
            "linecolor": "white",
            "ticks": ""
           }
          },
          "title": {
           "x": 0.05
          },
          "xaxis": {
           "automargin": true,
           "gridcolor": "white",
           "linecolor": "white",
           "ticks": "",
           "zerolinecolor": "white",
           "zerolinewidth": 2
          },
          "yaxis": {
           "automargin": true,
           "gridcolor": "white",
           "linecolor": "white",
           "ticks": "",
           "zerolinecolor": "white",
           "zerolinewidth": 2
          }
         }
        },
        "xaxis": {
         "anchor": "y",
         "domain": [
          0,
          0.98
         ],
         "title": {
          "text": "greater than 30 minutes(commercial)"
         }
        },
        "yaxis": {
         "anchor": "x",
         "domain": [
          0,
          1
         ]
        }
       }
      },
      "text/html": [
       "<div>\n",
       "        \n",
       "        \n",
       "            <div id=\"f51ed1ef-fdec-40c3-920e-3292a3f26e9b\" class=\"plotly-graph-div\" style=\"height:600px; width:100%;\"></div>\n",
       "            <script type=\"text/javascript\">\n",
       "                require([\"plotly\"], function(Plotly) {\n",
       "                    window.PLOTLYENV=window.PLOTLYENV || {};\n",
       "                    \n",
       "                if (document.getElementById(\"f51ed1ef-fdec-40c3-920e-3292a3f26e9b\")) {\n",
       "                    Plotly.newPlot(\n",
       "                        'f51ed1ef-fdec-40c3-920e-3292a3f26e9b',\n",
       "                        [{\"alignmentgroup\": \"True\", \"customdata\": [[\"PUDUCHERRY\", 138642453972], [\"PUDUCHERRY\", 142673238548], [\"PUDUCHERRY\", 638824973175], [\"PUDUCHERRY\", 257944286831], [\"PUDUCHERRY\", 332126748547], [\"PUDUCHERRY\", 612832874973], [\"PUDUCHERRY\", 638281273457], [\"PUDUCHERRY\", 845963712374], [\"PUDUCHERRY\", 128239347467], [\"PUDUCHERRY\", 244738178639], [\"PUDUCHERRY\", 277339484681], [\"PUDUCHERRY\", 372149485782], [\"PUDUCHERRY\", 378473258962], [\"PUDUCHERRY\", 384891624572], [\"PUDUCHERRY\", 437932648127], [\"PUDUCHERRY\", 721923378845], [\"PUDUCHERRY\", 723634187529], [\"PUDUCHERRY\", 844673532927], [\"PUDUCHERRY\", 845243139867], [\"PUDUCHERRY\", 867283934517], [\"PUDUCHERRY\", 927134582764], [\"PUDUCHERRY\", 387948224537], [\"PUDUCHERRY\", 459873146273], [\"PUDUCHERRY\", 518424627837], [\"PUDUCHERRY\", 567214829373], [\"PUDUCHERRY\", 937483227615], [\"PUDUCHERRY\", 944282177536], [\"PUDUCHERRY\", 481472735268], [\"PUDUCHERRY\", 982476214385], [\"PUDUCHERRY\", 265733174284], [\"PUDUCHERRY\", 491582737428], [\"PUDUCHERRY\", 625419384837], [\"PUDUCHERRY\", 136287244973], [\"PUDUCHERRY\", 415782368793], [\"PUDUCHERRY\", 448726172583], [\"PUDUCHERRY\", 569321724874], [\"PUDUCHERRY\", 733188596422], [\"PUDUCHERRY\", 898514242637], [\"PUDUCHERRY\", 234319478756], [\"PUDUCHERRY\", 486734322859], [\"PUDUCHERRY\", 489323727465], [\"PUDUCHERRY\", 719828233544], [\"Tripura\", 248577336418], [\"Tripura\", 252344198673], [\"Tripura\", 272348371486], [\"Tripura\", 478928734216], [\"Tripura\", 652843379247], [\"Tripura\", 732968873245], [\"Tripura\", 743821685234], [\"Tripura\", 334274278916], [\"Tripura\", 452432687917], [\"Tripura\", 948725267381], [\"Tripura\", 386794247135], [\"Tripura\", 632427984815], [\"Tripura\", 679813427458], [\"Tripura\", 281679442835], [\"Tripura\", 574436232987], [\"Tripura\", 823894146537], [\"Tripura\", 986754372382], [\"Tripura\", 214938386724], [\"Tripura\", 341249273576], [\"Tripura\", 238985167724], [\"Tripura\", 247834927186], [\"Tripura\", 536174884392], [\"Tripura\", 126249437783], [\"Tripura\", 149874582336], [\"Tripura\", 422715637894], [\"Tripura\", 639741824782], [\"Tripura\", 932835644721], [\"Tripura\", 163954722884], [\"Tripura\", 183972454276], [\"Tripura\", 342125863879], [\"Tripura\", 723423594871], [\"Tripura\", 783416728345], [\"Tripura\", 854732623419], [\"Tripura\", 275438271683], [\"Tripura\", 643215428978], [\"Tripura\", 738821639574], [\"Tripura\", 846177284932], [\"Tripura\", 248312578943], [\"Tripura\", 258613787493], [\"Tripura\", 623738489721], [\"Tripura\", 638297345741], [\"Tripura\", 787242168349], [\"Tripura\", 821644875323], [\"Tripura\", 182747624339], [\"Tripura\", 295884371324], [\"Tripura\", 522374881673], [\"Tripura\", 537824867241], [\"Tripura\", 578264338712], [\"Tripura\", 742378548961], [\"Tripura\", 787432934285], [\"Tripura\", 897475234832], [\"Tripura\", 968248753374], [\"Tripura\", 326753984214], [\"Tripura\", 149876538242], [\"Tripura\", 187298245637], [\"Tripura\", 339247672885], [\"Tripura\", 961783348254], [\"Tripura\", 698124343772], [\"Tripura\", 874867242393], [\"Tripura\", 232435941787], [\"Tripura\", 293324157486], [\"Tripura\", 385177622344], [\"Tripura\", 484322761938], [\"Tripura\", 842841376759], [\"Tripura\", 882439357421], [\"Tripura\", 465347783912], [\"Tripura\", 779353248481], [\"Tripura\", 165493428378], [\"Tripura\", 244788369572], [\"Tripura\", 252968771448], [\"Tripura\", 277324988156], [\"Tripura\", 382874645731], [\"Tripura\", 387732612954], [\"Tripura\", 485637319287], [\"Tripura\", 684592717243], [\"Tripura\", 874421675923], [\"Tripura\", 744822389135], [\"Tripura\", 968358727144], [\"Tripura\", 498321865342], [\"Tripura\", 574936288321], [\"Tripura\", 613428735792], [\"Tripura\", 637431872584], [\"Tripura\", 185347927483], [\"Tripura\", 784768942523], [\"Tripura\", 834174359827], [\"Tripura\", 381467254397], [\"Tripura\", 424819638532], [\"Tripura\", 485326197732], [\"Tripura\", 943567848227], [\"Tripura\", 342285467397], [\"Tripura\", 725424136987], [\"Tripura\", 749538618273], [\"Tripura\", 873982464321], [\"Tripura\", 231838757494], [\"Tripura\", 727281643943], [\"Tripura\", 942572764388], [\"Tripura\", 258637913824], [\"Tripura\", 472721486985], [\"Tripura\", 641732985274], [\"Tripura\", 787429831254], [\"Tripura\", 877586934214], [\"Tripura\", 324598137487], [\"Tripura\", 267189785233], [\"Tripura\", 432797428815], [\"Tripura\", 746824831379], [\"Tripura\", 347241886527], [\"Tripura\", 748623718392], [\"Tripura\", 819223487367], [\"Tripura\", 369157387242], [\"Tripura\", 567873328421], [\"Tripura\", 143842397276], [\"Tripura\", 234178468935], [\"Tripura\", 423917738258], [\"Tripura\", 549738421678], [\"Tripura\", 637317945282], [\"Tripura\", 738284425319], [\"Tripura\", 774564389821], [\"Tripura\", 625848797343], [\"Tripura\", 854231967274], [\"Tripura\", 948334186522], [\"Tripura\", 225417986837]], \"hoverlabel\": {\"namelength\": 0}, \"hovertemplate\": \"Survey_interval=8-12_August_2019<br>greater than 30 minutes(commercial)=%{x}<br>state_name=%{customdata[0]}<br>enumerator_id=%{customdata[1]}\", \"legendgroup\": \"Survey_interval=8-12_August_2019\", \"marker\": {\"color\": \"#636efa\"}, \"name\": \"Survey_interval=8-12_August_2019\", \"notched\": false, \"offsetgroup\": \"Survey_interval=8-12_August_2019\", \"orientation\": \"h\", \"showlegend\": true, \"type\": \"box\", \"x\": [0, 2, 0, 0, 0, 0, 5, 0, 0, 0, 0, 0, 2, 0, 1, 0, 0, 0, 0, 1, 0, 1, 1, 0, 0, 0, 0, 0, 0, 0, 6, 0, 24, 0, 3, 15, 2, 5, 3, 1, 0, 0, 0, 0, 0, 8, 0, 8, 0, 0, 0, 0, 3, 0, 1, 0, 0, 0, 0, 1, 0, 13, 0, 3, 0, 0, 0, 0, 0, 0, 4, 0, 0, 0, 1, 0, 0, 0, 0, 0, 0, 0, 0, 0, 0, 0, 0, 0, 0, 0, 0, 0, 0, 0, 0, 27, 7, 9, 15, 0, 0, 2, 0, 0, 0, 1, 0, 0, 0, 25, 0, 0, 1, 3, 0, 0, 0, 0, 0, 0, 0, 0, 0, 0, 0, 0, 0, 0, 0, 0, 0, 0, 0, 0, 0, 0, 1, 0, 0, 0, 0, 0, 0, 0, 0, 0, 0, 0, 0, 0, 0, 0, 0, 0, 0, 0, 0, 0, 0, 0, 0, 1, 0], \"x0\": \" \", \"xaxis\": \"x\", \"y0\": \" \", \"yaxis\": \"y\"}, {\"alignmentgroup\": \"True\", \"customdata\": [[\"PUDUCHERRY\", 325287314771], [\"PUDUCHERRY\", 257944286831], [\"PUDUCHERRY\", 332126748547], [\"PUDUCHERRY\", 638281273457], [\"PUDUCHERRY\", 244738178639], [\"PUDUCHERRY\", 437932648127], [\"PUDUCHERRY\", 867283934517], [\"PUDUCHERRY\", 387948224537], [\"PUDUCHERRY\", 459873146273], [\"PUDUCHERRY\", 518424627837], [\"PUDUCHERRY\", 567214829373], [\"PUDUCHERRY\", 937483227615], [\"PUDUCHERRY\", 944282177536], [\"PUDUCHERRY\", 491582737428], [\"PUDUCHERRY\", 625419384837], [\"PUDUCHERRY\", 136287244973], [\"PUDUCHERRY\", 569321724874], [\"PUDUCHERRY\", 733188596422], [\"Tripura\", 443727281856], [\"Tripura\", 248577336418], [\"Tripura\", 252344198673], [\"Tripura\", 272348371486], [\"Tripura\", 478928734216], [\"Tripura\", 652843379247], [\"Tripura\", 743821685234], [\"Tripura\", 936742381524], [\"Tripura\", 386794247135], [\"Tripura\", 679813427458], [\"Tripura\", 574436232987], [\"Tripura\", 823894146537], [\"Tripura\", 986754372382], [\"Tripura\", 214938386724], [\"Tripura\", 341249273576], [\"Tripura\", 298316544837], [\"Tripura\", 238985167724], [\"Tripura\", 126249437783], [\"Tripura\", 149874582336], [\"Tripura\", 422715637894], [\"Tripura\", 639741824782], [\"Tripura\", 932835644721], [\"Tripura\", 163954722884], [\"Tripura\", 183972454276], [\"Tripura\", 342125863879], [\"Tripura\", 723423594871], [\"Tripura\", 783416728345], [\"Tripura\", 854732623419], [\"Tripura\", 243845621737], [\"Tripura\", 327283564491], [\"Tripura\", 643215428978], [\"Tripura\", 738821639574], [\"Tripura\", 846177284932], [\"Tripura\", 248312578943], [\"Tripura\", 258613787493], [\"Tripura\", 623738489721], [\"Tripura\", 638297345741], [\"Tripura\", 821644875323], [\"Tripura\", 182747624339], [\"Tripura\", 296783142847], [\"Tripura\", 522374881673], [\"Tripura\", 537824867241], [\"Tripura\", 742378548961], [\"Tripura\", 787432934285], [\"Tripura\", 897475234832], [\"Tripura\", 495812332478], [\"Tripura\", 326753984214], [\"Tripura\", 491845786327], [\"Tripura\", 837946418732], [\"Tripura\", 149876538242], [\"Tripura\", 187298245637], [\"Tripura\", 332851674874], [\"Tripura\", 339247672885], [\"Tripura\", 961783348254], [\"Tripura\", 698124343772], [\"Tripura\", 874867242393], [\"Tripura\", 232435941787], [\"Tripura\", 293324157486], [\"Tripura\", 385177622344], [\"Tripura\", 484322761938], [\"Tripura\", 842841376759], [\"Tripura\", 882439357421], [\"Tripura\", 223589681347], [\"Tripura\", 465347783912], [\"Tripura\", 165493428378], [\"Tripura\", 244788369572], [\"Tripura\", 252968771448], [\"Tripura\", 277324988156], [\"Tripura\", 382874645731], [\"Tripura\", 387732612954], [\"Tripura\", 684592717243], [\"Tripura\", 874421675923], [\"Tripura\", 968358727144], [\"Tripura\", 613428735792], [\"Tripura\", 637431872584], [\"Tripura\", 729835431276], [\"Tripura\", 185347927483], [\"Tripura\", 784768942523], [\"Tripura\", 834174359827], [\"Tripura\", 381467254397], [\"Tripura\", 424819638532], [\"Tripura\", 485326197732], [\"Tripura\", 943567848227], [\"Tripura\", 342285467397], [\"Tripura\", 749538618273], [\"Tripura\", 873982464321], [\"Tripura\", 367235881249], [\"Tripura\", 727281643943], [\"Tripura\", 942572764388], [\"Tripura\", 258637913824], [\"Tripura\", 472721486985], [\"Tripura\", 362248397745], [\"Tripura\", 241583367427], [\"Tripura\", 324629834775], [\"Tripura\", 787429831254], [\"Tripura\", 877586934214], [\"Tripura\", 324598137487], [\"Tripura\", 432797428815], [\"Tripura\", 347241886527], [\"Tripura\", 819223487367], [\"Tripura\", 567873328421], [\"Tripura\", 143842397276], [\"Tripura\", 234178468935], [\"Tripura\", 423917738258], [\"Tripura\", 549738421678], [\"Tripura\", 738284425319], [\"Tripura\", 774564389821], [\"Tripura\", 625848797343], [\"Tripura\", 854231967274], [\"Tripura\", 948334186522], [\"Tripura\", 225417986837]], \"hoverlabel\": {\"namelength\": 0}, \"hovertemplate\": \"Survey_interval=Till_8_August_2019<br>greater than 30 minutes(commercial)=%{x}<br>state_name=%{customdata[0]}<br>enumerator_id=%{customdata[1]}\", \"legendgroup\": \"Survey_interval=Till_8_August_2019\", \"marker\": {\"color\": \"#EF553B\"}, \"name\": \"Survey_interval=Till_8_August_2019\", \"notched\": false, \"offsetgroup\": \"Survey_interval=Till_8_August_2019\", \"orientation\": \"h\", \"showlegend\": true, \"type\": \"box\", \"x\": [0, 0, 0, 2, 0, 1, 0, 1, 0, 4, 1, 0, 0, 0, 0, 5, 1, 0, 3, 2, 4, 0, 2, 0, 1, 0, 0, 1, 0, 0, 0, 1, 1, 0, 0, 0, 1, 0, 1, 0, 0, 2, 0, 0, 0, 0, 0, 0, 0, 0, 0, 1, 0, 0, 0, 0, 0, 0, 0, 0, 0, 0, 0, 0, 0, 0, 0, 0, 1, 12, 13, 2, 0, 0, 0, 1, 7, 2, 6, 0, 9, 2, 11, 0, 0, 0, 1, 0, 8, 0, 1, 0, 0, 0, 0, 0, 0, 0, 0, 0, 0, 0, 0, 1, 0, 0, 0, 0, 0, 0, 0, 0, 0, 0, 0, 0, 0, 0, 1, 0, 0, 0, 0, 0, 0, 0, 0, 1, 0], \"x0\": \" \", \"xaxis\": \"x\", \"y0\": \" \", \"yaxis\": \"y\"}],\n",
       "                        {\"boxmode\": \"group\", \"height\": 600, \"legend\": {\"tracegroupgap\": 0}, \"margin\": {\"t\": 60}, \"template\": {\"data\": {\"bar\": [{\"error_x\": {\"color\": \"#2a3f5f\"}, \"error_y\": {\"color\": \"#2a3f5f\"}, \"marker\": {\"line\": {\"color\": \"#E5ECF6\", \"width\": 0.5}}, \"type\": \"bar\"}], \"barpolar\": [{\"marker\": {\"line\": {\"color\": \"#E5ECF6\", \"width\": 0.5}}, \"type\": \"barpolar\"}], \"carpet\": [{\"aaxis\": {\"endlinecolor\": \"#2a3f5f\", \"gridcolor\": \"white\", \"linecolor\": \"white\", \"minorgridcolor\": \"white\", \"startlinecolor\": \"#2a3f5f\"}, \"baxis\": {\"endlinecolor\": \"#2a3f5f\", \"gridcolor\": \"white\", \"linecolor\": \"white\", \"minorgridcolor\": \"white\", \"startlinecolor\": \"#2a3f5f\"}, \"type\": \"carpet\"}], \"choropleth\": [{\"colorbar\": {\"outlinewidth\": 0, \"ticks\": \"\"}, \"type\": \"choropleth\"}], \"contour\": [{\"colorbar\": {\"outlinewidth\": 0, \"ticks\": \"\"}, \"colorscale\": [[0.0, \"#0d0887\"], [0.1111111111111111, \"#46039f\"], [0.2222222222222222, \"#7201a8\"], [0.3333333333333333, \"#9c179e\"], [0.4444444444444444, \"#bd3786\"], [0.5555555555555556, \"#d8576b\"], [0.6666666666666666, \"#ed7953\"], [0.7777777777777778, \"#fb9f3a\"], [0.8888888888888888, \"#fdca26\"], [1.0, \"#f0f921\"]], \"type\": \"contour\"}], \"contourcarpet\": [{\"colorbar\": {\"outlinewidth\": 0, \"ticks\": \"\"}, \"type\": \"contourcarpet\"}], \"heatmap\": [{\"colorbar\": {\"outlinewidth\": 0, \"ticks\": \"\"}, \"colorscale\": [[0.0, \"#0d0887\"], [0.1111111111111111, \"#46039f\"], [0.2222222222222222, \"#7201a8\"], [0.3333333333333333, \"#9c179e\"], [0.4444444444444444, \"#bd3786\"], [0.5555555555555556, \"#d8576b\"], [0.6666666666666666, \"#ed7953\"], [0.7777777777777778, \"#fb9f3a\"], [0.8888888888888888, \"#fdca26\"], [1.0, \"#f0f921\"]], \"type\": \"heatmap\"}], \"heatmapgl\": [{\"colorbar\": {\"outlinewidth\": 0, \"ticks\": \"\"}, \"colorscale\": [[0.0, \"#0d0887\"], [0.1111111111111111, \"#46039f\"], [0.2222222222222222, \"#7201a8\"], [0.3333333333333333, \"#9c179e\"], [0.4444444444444444, \"#bd3786\"], [0.5555555555555556, \"#d8576b\"], [0.6666666666666666, \"#ed7953\"], [0.7777777777777778, \"#fb9f3a\"], [0.8888888888888888, \"#fdca26\"], [1.0, \"#f0f921\"]], \"type\": \"heatmapgl\"}], \"histogram\": [{\"marker\": {\"colorbar\": {\"outlinewidth\": 0, \"ticks\": \"\"}}, \"type\": \"histogram\"}], \"histogram2d\": [{\"colorbar\": {\"outlinewidth\": 0, \"ticks\": \"\"}, \"colorscale\": [[0.0, \"#0d0887\"], [0.1111111111111111, \"#46039f\"], [0.2222222222222222, \"#7201a8\"], [0.3333333333333333, \"#9c179e\"], [0.4444444444444444, \"#bd3786\"], [0.5555555555555556, \"#d8576b\"], [0.6666666666666666, \"#ed7953\"], [0.7777777777777778, \"#fb9f3a\"], [0.8888888888888888, \"#fdca26\"], [1.0, \"#f0f921\"]], \"type\": \"histogram2d\"}], \"histogram2dcontour\": [{\"colorbar\": {\"outlinewidth\": 0, \"ticks\": \"\"}, \"colorscale\": [[0.0, \"#0d0887\"], [0.1111111111111111, \"#46039f\"], [0.2222222222222222, \"#7201a8\"], [0.3333333333333333, \"#9c179e\"], [0.4444444444444444, \"#bd3786\"], [0.5555555555555556, \"#d8576b\"], [0.6666666666666666, \"#ed7953\"], [0.7777777777777778, \"#fb9f3a\"], [0.8888888888888888, \"#fdca26\"], [1.0, \"#f0f921\"]], \"type\": \"histogram2dcontour\"}], \"mesh3d\": [{\"colorbar\": {\"outlinewidth\": 0, \"ticks\": \"\"}, \"type\": \"mesh3d\"}], \"parcoords\": [{\"line\": {\"colorbar\": {\"outlinewidth\": 0, \"ticks\": \"\"}}, \"type\": \"parcoords\"}], \"scatter\": [{\"marker\": {\"colorbar\": {\"outlinewidth\": 0, \"ticks\": \"\"}}, \"type\": \"scatter\"}], \"scatter3d\": [{\"line\": {\"colorbar\": {\"outlinewidth\": 0, \"ticks\": \"\"}}, \"marker\": {\"colorbar\": {\"outlinewidth\": 0, \"ticks\": \"\"}}, \"type\": \"scatter3d\"}], \"scattercarpet\": [{\"marker\": {\"colorbar\": {\"outlinewidth\": 0, \"ticks\": \"\"}}, \"type\": \"scattercarpet\"}], \"scattergeo\": [{\"marker\": {\"colorbar\": {\"outlinewidth\": 0, \"ticks\": \"\"}}, \"type\": \"scattergeo\"}], \"scattergl\": [{\"marker\": {\"colorbar\": {\"outlinewidth\": 0, \"ticks\": \"\"}}, \"type\": \"scattergl\"}], \"scattermapbox\": [{\"marker\": {\"colorbar\": {\"outlinewidth\": 0, \"ticks\": \"\"}}, \"type\": \"scattermapbox\"}], \"scatterpolar\": [{\"marker\": {\"colorbar\": {\"outlinewidth\": 0, \"ticks\": \"\"}}, \"type\": \"scatterpolar\"}], \"scatterpolargl\": [{\"marker\": {\"colorbar\": {\"outlinewidth\": 0, \"ticks\": \"\"}}, \"type\": \"scatterpolargl\"}], \"scatterternary\": [{\"marker\": {\"colorbar\": {\"outlinewidth\": 0, \"ticks\": \"\"}}, \"type\": \"scatterternary\"}], \"surface\": [{\"colorbar\": {\"outlinewidth\": 0, \"ticks\": \"\"}, \"colorscale\": [[0.0, \"#0d0887\"], [0.1111111111111111, \"#46039f\"], [0.2222222222222222, \"#7201a8\"], [0.3333333333333333, \"#9c179e\"], [0.4444444444444444, \"#bd3786\"], [0.5555555555555556, \"#d8576b\"], [0.6666666666666666, \"#ed7953\"], [0.7777777777777778, \"#fb9f3a\"], [0.8888888888888888, \"#fdca26\"], [1.0, \"#f0f921\"]], \"type\": \"surface\"}], \"table\": [{\"cells\": {\"fill\": {\"color\": \"#EBF0F8\"}, \"line\": {\"color\": \"white\"}}, \"header\": {\"fill\": {\"color\": \"#C8D4E3\"}, \"line\": {\"color\": \"white\"}}, \"type\": \"table\"}]}, \"layout\": {\"annotationdefaults\": {\"arrowcolor\": \"#2a3f5f\", \"arrowhead\": 0, \"arrowwidth\": 1}, \"colorscale\": {\"diverging\": [[0, \"#8e0152\"], [0.1, \"#c51b7d\"], [0.2, \"#de77ae\"], [0.3, \"#f1b6da\"], [0.4, \"#fde0ef\"], [0.5, \"#f7f7f7\"], [0.6, \"#e6f5d0\"], [0.7, \"#b8e186\"], [0.8, \"#7fbc41\"], [0.9, \"#4d9221\"], [1, \"#276419\"]], \"sequential\": [[0.0, \"#0d0887\"], [0.1111111111111111, \"#46039f\"], [0.2222222222222222, \"#7201a8\"], [0.3333333333333333, \"#9c179e\"], [0.4444444444444444, \"#bd3786\"], [0.5555555555555556, \"#d8576b\"], [0.6666666666666666, \"#ed7953\"], [0.7777777777777778, \"#fb9f3a\"], [0.8888888888888888, \"#fdca26\"], [1.0, \"#f0f921\"]], \"sequentialminus\": [[0.0, \"#0d0887\"], [0.1111111111111111, \"#46039f\"], [0.2222222222222222, \"#7201a8\"], [0.3333333333333333, \"#9c179e\"], [0.4444444444444444, \"#bd3786\"], [0.5555555555555556, \"#d8576b\"], [0.6666666666666666, \"#ed7953\"], [0.7777777777777778, \"#fb9f3a\"], [0.8888888888888888, \"#fdca26\"], [1.0, \"#f0f921\"]]}, \"colorway\": [\"#636efa\", \"#EF553B\", \"#00cc96\", \"#ab63fa\", \"#FFA15A\", \"#19d3f3\", \"#FF6692\", \"#B6E880\", \"#FF97FF\", \"#FECB52\"], \"font\": {\"color\": \"#2a3f5f\"}, \"geo\": {\"bgcolor\": \"white\", \"lakecolor\": \"white\", \"landcolor\": \"#E5ECF6\", \"showlakes\": true, \"showland\": true, \"subunitcolor\": \"white\"}, \"hoverlabel\": {\"align\": \"left\"}, \"hovermode\": \"closest\", \"mapbox\": {\"style\": \"light\"}, \"paper_bgcolor\": \"white\", \"plot_bgcolor\": \"#E5ECF6\", \"polar\": {\"angularaxis\": {\"gridcolor\": \"white\", \"linecolor\": \"white\", \"ticks\": \"\"}, \"bgcolor\": \"#E5ECF6\", \"radialaxis\": {\"gridcolor\": \"white\", \"linecolor\": \"white\", \"ticks\": \"\"}}, \"scene\": {\"xaxis\": {\"backgroundcolor\": \"#E5ECF6\", \"gridcolor\": \"white\", \"gridwidth\": 2, \"linecolor\": \"white\", \"showbackground\": true, \"ticks\": \"\", \"zerolinecolor\": \"white\"}, \"yaxis\": {\"backgroundcolor\": \"#E5ECF6\", \"gridcolor\": \"white\", \"gridwidth\": 2, \"linecolor\": \"white\", \"showbackground\": true, \"ticks\": \"\", \"zerolinecolor\": \"white\"}, \"zaxis\": {\"backgroundcolor\": \"#E5ECF6\", \"gridcolor\": \"white\", \"gridwidth\": 2, \"linecolor\": \"white\", \"showbackground\": true, \"ticks\": \"\", \"zerolinecolor\": \"white\"}}, \"shapedefaults\": {\"line\": {\"color\": \"#2a3f5f\"}}, \"ternary\": {\"aaxis\": {\"gridcolor\": \"white\", \"linecolor\": \"white\", \"ticks\": \"\"}, \"baxis\": {\"gridcolor\": \"white\", \"linecolor\": \"white\", \"ticks\": \"\"}, \"bgcolor\": \"#E5ECF6\", \"caxis\": {\"gridcolor\": \"white\", \"linecolor\": \"white\", \"ticks\": \"\"}}, \"title\": {\"x\": 0.05}, \"xaxis\": {\"automargin\": true, \"gridcolor\": \"white\", \"linecolor\": \"white\", \"ticks\": \"\", \"zerolinecolor\": \"white\", \"zerolinewidth\": 2}, \"yaxis\": {\"automargin\": true, \"gridcolor\": \"white\", \"linecolor\": \"white\", \"ticks\": \"\", \"zerolinecolor\": \"white\", \"zerolinewidth\": 2}}}, \"xaxis\": {\"anchor\": \"y\", \"domain\": [0.0, 0.98], \"title\": {\"text\": \"greater than 30 minutes(commercial)\"}}, \"yaxis\": {\"anchor\": \"x\", \"domain\": [0.0, 1.0]}},\n",
       "                        {\"responsive\": true}\n",
       "                    ).then(function(){\n",
       "                            \n",
       "var gd = document.getElementById('f51ed1ef-fdec-40c3-920e-3292a3f26e9b');\n",
       "var x = new MutationObserver(function (mutations, observer) {{\n",
       "        var display = window.getComputedStyle(gd).display;\n",
       "        if (!display || display === 'none') {{\n",
       "            console.log([gd, 'removed!']);\n",
       "            Plotly.purge(gd);\n",
       "            observer.disconnect();\n",
       "        }}\n",
       "}});\n",
       "\n",
       "// Listen for the removal of the full notebook cells\n",
       "var notebookContainer = gd.closest('#notebook-container');\n",
       "if (notebookContainer) {{\n",
       "    x.observe(notebookContainer, {childList: true});\n",
       "}}\n",
       "\n",
       "// Listen for the clearing of the current output cell\n",
       "var outputEl = gd.closest('.output');\n",
       "if (outputEl) {{\n",
       "    x.observe(outputEl, {childList: true});\n",
       "}}\n",
       "\n",
       "                        })\n",
       "                };\n",
       "                });\n",
       "            </script>\n",
       "        </div>"
      ]
     },
     "metadata": {},
     "output_type": "display_data"
    },
    {
     "data": {
      "application/vnd.plotly.v1+json": {
       "config": {
        "plotlyServerURL": "https://plot.ly"
       },
       "data": [
        {
         "alignmentgroup": "True",
         "customdata": [
          [
           "PUDUCHERRY",
           138642453972
          ],
          [
           "PUDUCHERRY",
           142673238548
          ],
          [
           "PUDUCHERRY",
           638824973175
          ],
          [
           "PUDUCHERRY",
           257944286831
          ],
          [
           "PUDUCHERRY",
           332126748547
          ],
          [
           "PUDUCHERRY",
           612832874973
          ],
          [
           "PUDUCHERRY",
           638281273457
          ],
          [
           "PUDUCHERRY",
           845963712374
          ],
          [
           "PUDUCHERRY",
           128239347467
          ],
          [
           "PUDUCHERRY",
           244738178639
          ],
          [
           "PUDUCHERRY",
           277339484681
          ],
          [
           "PUDUCHERRY",
           372149485782
          ],
          [
           "PUDUCHERRY",
           378473258962
          ],
          [
           "PUDUCHERRY",
           384891624572
          ],
          [
           "PUDUCHERRY",
           437932648127
          ],
          [
           "PUDUCHERRY",
           721923378845
          ],
          [
           "PUDUCHERRY",
           723634187529
          ],
          [
           "PUDUCHERRY",
           844673532927
          ],
          [
           "PUDUCHERRY",
           845243139867
          ],
          [
           "PUDUCHERRY",
           867283934517
          ],
          [
           "PUDUCHERRY",
           927134582764
          ],
          [
           "PUDUCHERRY",
           387948224537
          ],
          [
           "PUDUCHERRY",
           459873146273
          ],
          [
           "PUDUCHERRY",
           518424627837
          ],
          [
           "PUDUCHERRY",
           567214829373
          ],
          [
           "PUDUCHERRY",
           937483227615
          ],
          [
           "PUDUCHERRY",
           944282177536
          ],
          [
           "PUDUCHERRY",
           481472735268
          ],
          [
           "PUDUCHERRY",
           982476214385
          ],
          [
           "PUDUCHERRY",
           265733174284
          ],
          [
           "PUDUCHERRY",
           491582737428
          ],
          [
           "PUDUCHERRY",
           625419384837
          ],
          [
           "PUDUCHERRY",
           136287244973
          ],
          [
           "PUDUCHERRY",
           415782368793
          ],
          [
           "PUDUCHERRY",
           448726172583
          ],
          [
           "PUDUCHERRY",
           569321724874
          ],
          [
           "PUDUCHERRY",
           733188596422
          ],
          [
           "PUDUCHERRY",
           898514242637
          ],
          [
           "PUDUCHERRY",
           234319478756
          ],
          [
           "PUDUCHERRY",
           486734322859
          ],
          [
           "PUDUCHERRY",
           489323727465
          ],
          [
           "PUDUCHERRY",
           719828233544
          ],
          [
           "Tripura",
           248577336418
          ],
          [
           "Tripura",
           252344198673
          ],
          [
           "Tripura",
           272348371486
          ],
          [
           "Tripura",
           478928734216
          ],
          [
           "Tripura",
           652843379247
          ],
          [
           "Tripura",
           732968873245
          ],
          [
           "Tripura",
           743821685234
          ],
          [
           "Tripura",
           334274278916
          ],
          [
           "Tripura",
           452432687917
          ],
          [
           "Tripura",
           948725267381
          ],
          [
           "Tripura",
           386794247135
          ],
          [
           "Tripura",
           632427984815
          ],
          [
           "Tripura",
           679813427458
          ],
          [
           "Tripura",
           281679442835
          ],
          [
           "Tripura",
           574436232987
          ],
          [
           "Tripura",
           823894146537
          ],
          [
           "Tripura",
           986754372382
          ],
          [
           "Tripura",
           214938386724
          ],
          [
           "Tripura",
           341249273576
          ],
          [
           "Tripura",
           238985167724
          ],
          [
           "Tripura",
           247834927186
          ],
          [
           "Tripura",
           536174884392
          ],
          [
           "Tripura",
           126249437783
          ],
          [
           "Tripura",
           149874582336
          ],
          [
           "Tripura",
           422715637894
          ],
          [
           "Tripura",
           639741824782
          ],
          [
           "Tripura",
           932835644721
          ],
          [
           "Tripura",
           163954722884
          ],
          [
           "Tripura",
           183972454276
          ],
          [
           "Tripura",
           342125863879
          ],
          [
           "Tripura",
           723423594871
          ],
          [
           "Tripura",
           783416728345
          ],
          [
           "Tripura",
           854732623419
          ],
          [
           "Tripura",
           275438271683
          ],
          [
           "Tripura",
           643215428978
          ],
          [
           "Tripura",
           738821639574
          ],
          [
           "Tripura",
           846177284932
          ],
          [
           "Tripura",
           248312578943
          ],
          [
           "Tripura",
           258613787493
          ],
          [
           "Tripura",
           623738489721
          ],
          [
           "Tripura",
           638297345741
          ],
          [
           "Tripura",
           787242168349
          ],
          [
           "Tripura",
           821644875323
          ],
          [
           "Tripura",
           182747624339
          ],
          [
           "Tripura",
           295884371324
          ],
          [
           "Tripura",
           522374881673
          ],
          [
           "Tripura",
           537824867241
          ],
          [
           "Tripura",
           578264338712
          ],
          [
           "Tripura",
           742378548961
          ],
          [
           "Tripura",
           787432934285
          ],
          [
           "Tripura",
           897475234832
          ],
          [
           "Tripura",
           968248753374
          ],
          [
           "Tripura",
           326753984214
          ],
          [
           "Tripura",
           149876538242
          ],
          [
           "Tripura",
           187298245637
          ],
          [
           "Tripura",
           339247672885
          ],
          [
           "Tripura",
           961783348254
          ],
          [
           "Tripura",
           698124343772
          ],
          [
           "Tripura",
           874867242393
          ],
          [
           "Tripura",
           232435941787
          ],
          [
           "Tripura",
           293324157486
          ],
          [
           "Tripura",
           385177622344
          ],
          [
           "Tripura",
           484322761938
          ],
          [
           "Tripura",
           842841376759
          ],
          [
           "Tripura",
           882439357421
          ],
          [
           "Tripura",
           465347783912
          ],
          [
           "Tripura",
           779353248481
          ],
          [
           "Tripura",
           165493428378
          ],
          [
           "Tripura",
           244788369572
          ],
          [
           "Tripura",
           252968771448
          ],
          [
           "Tripura",
           277324988156
          ],
          [
           "Tripura",
           382874645731
          ],
          [
           "Tripura",
           387732612954
          ],
          [
           "Tripura",
           485637319287
          ],
          [
           "Tripura",
           684592717243
          ],
          [
           "Tripura",
           874421675923
          ],
          [
           "Tripura",
           744822389135
          ],
          [
           "Tripura",
           968358727144
          ],
          [
           "Tripura",
           498321865342
          ],
          [
           "Tripura",
           574936288321
          ],
          [
           "Tripura",
           613428735792
          ],
          [
           "Tripura",
           637431872584
          ],
          [
           "Tripura",
           185347927483
          ],
          [
           "Tripura",
           784768942523
          ],
          [
           "Tripura",
           834174359827
          ],
          [
           "Tripura",
           381467254397
          ],
          [
           "Tripura",
           424819638532
          ],
          [
           "Tripura",
           485326197732
          ],
          [
           "Tripura",
           943567848227
          ],
          [
           "Tripura",
           342285467397
          ],
          [
           "Tripura",
           725424136987
          ],
          [
           "Tripura",
           749538618273
          ],
          [
           "Tripura",
           873982464321
          ],
          [
           "Tripura",
           231838757494
          ],
          [
           "Tripura",
           727281643943
          ],
          [
           "Tripura",
           942572764388
          ],
          [
           "Tripura",
           258637913824
          ],
          [
           "Tripura",
           472721486985
          ],
          [
           "Tripura",
           641732985274
          ],
          [
           "Tripura",
           787429831254
          ],
          [
           "Tripura",
           877586934214
          ],
          [
           "Tripura",
           324598137487
          ],
          [
           "Tripura",
           267189785233
          ],
          [
           "Tripura",
           432797428815
          ],
          [
           "Tripura",
           746824831379
          ],
          [
           "Tripura",
           347241886527
          ],
          [
           "Tripura",
           748623718392
          ],
          [
           "Tripura",
           819223487367
          ],
          [
           "Tripura",
           369157387242
          ],
          [
           "Tripura",
           567873328421
          ],
          [
           "Tripura",
           143842397276
          ],
          [
           "Tripura",
           234178468935
          ],
          [
           "Tripura",
           423917738258
          ],
          [
           "Tripura",
           549738421678
          ],
          [
           "Tripura",
           637317945282
          ],
          [
           "Tripura",
           738284425319
          ],
          [
           "Tripura",
           774564389821
          ],
          [
           "Tripura",
           625848797343
          ],
          [
           "Tripura",
           854231967274
          ],
          [
           "Tripura",
           948334186522
          ],
          [
           "Tripura",
           225417986837
          ]
         ],
         "hoverlabel": {
          "namelength": 0
         },
         "hovertemplate": "Survey_interval=8-12_August_2019<br>greater than 30 minutes(residential)=%{x}<br>state_name=%{customdata[0]}<br>enumerator_id=%{customdata[1]}",
         "legendgroup": "Survey_interval=8-12_August_2019",
         "marker": {
          "color": "#636efa"
         },
         "name": "Survey_interval=8-12_August_2019",
         "notched": false,
         "offsetgroup": "Survey_interval=8-12_August_2019",
         "orientation": "h",
         "showlegend": true,
         "type": "box",
         "x": [
          0,
          0,
          0,
          0,
          0,
          0,
          9,
          0,
          0,
          0,
          1,
          0,
          12,
          0,
          1,
          0,
          0,
          4,
          4,
          45,
          0,
          0,
          0,
          1,
          1,
          4,
          0,
          0,
          0,
          5,
          6,
          2,
          7,
          0,
          0,
          4,
          0,
          2,
          0,
          11,
          0,
          4,
          0,
          0,
          1,
          5,
          1,
          0,
          0,
          0,
          0,
          0,
          0,
          1,
          0,
          0,
          1,
          0,
          0,
          3,
          0,
          3,
          1,
          2,
          0,
          0,
          0,
          0,
          2,
          0,
          0,
          2,
          0,
          0,
          0,
          0,
          0,
          1,
          0,
          0,
          0,
          0,
          0,
          0,
          0,
          0,
          0,
          0,
          2,
          0,
          0,
          0,
          0,
          1,
          0,
          9,
          0,
          0,
          0,
          0,
          0,
          0,
          0,
          0,
          0,
          0,
          0,
          1,
          7,
          1,
          1,
          0,
          1,
          5,
          0,
          0,
          2,
          1,
          0,
          6,
          0,
          0,
          0,
          0,
          0,
          0,
          0,
          0,
          0,
          0,
          0,
          0,
          0,
          0,
          1,
          0,
          0,
          0,
          0,
          0,
          0,
          0,
          0,
          0,
          0,
          0,
          0,
          0,
          0,
          0,
          0,
          0,
          0,
          0,
          0,
          0,
          0,
          0,
          0,
          0,
          0,
          0,
          0
         ],
         "x0": " ",
         "xaxis": "x",
         "y0": " ",
         "yaxis": "y"
        },
        {
         "alignmentgroup": "True",
         "customdata": [
          [
           "PUDUCHERRY",
           325287314771
          ],
          [
           "PUDUCHERRY",
           257944286831
          ],
          [
           "PUDUCHERRY",
           332126748547
          ],
          [
           "PUDUCHERRY",
           638281273457
          ],
          [
           "PUDUCHERRY",
           244738178639
          ],
          [
           "PUDUCHERRY",
           437932648127
          ],
          [
           "PUDUCHERRY",
           867283934517
          ],
          [
           "PUDUCHERRY",
           387948224537
          ],
          [
           "PUDUCHERRY",
           459873146273
          ],
          [
           "PUDUCHERRY",
           518424627837
          ],
          [
           "PUDUCHERRY",
           567214829373
          ],
          [
           "PUDUCHERRY",
           937483227615
          ],
          [
           "PUDUCHERRY",
           944282177536
          ],
          [
           "PUDUCHERRY",
           491582737428
          ],
          [
           "PUDUCHERRY",
           625419384837
          ],
          [
           "PUDUCHERRY",
           136287244973
          ],
          [
           "PUDUCHERRY",
           569321724874
          ],
          [
           "PUDUCHERRY",
           733188596422
          ],
          [
           "Tripura",
           443727281856
          ],
          [
           "Tripura",
           248577336418
          ],
          [
           "Tripura",
           252344198673
          ],
          [
           "Tripura",
           272348371486
          ],
          [
           "Tripura",
           478928734216
          ],
          [
           "Tripura",
           652843379247
          ],
          [
           "Tripura",
           743821685234
          ],
          [
           "Tripura",
           936742381524
          ],
          [
           "Tripura",
           386794247135
          ],
          [
           "Tripura",
           679813427458
          ],
          [
           "Tripura",
           574436232987
          ],
          [
           "Tripura",
           823894146537
          ],
          [
           "Tripura",
           986754372382
          ],
          [
           "Tripura",
           214938386724
          ],
          [
           "Tripura",
           341249273576
          ],
          [
           "Tripura",
           298316544837
          ],
          [
           "Tripura",
           238985167724
          ],
          [
           "Tripura",
           126249437783
          ],
          [
           "Tripura",
           149874582336
          ],
          [
           "Tripura",
           422715637894
          ],
          [
           "Tripura",
           639741824782
          ],
          [
           "Tripura",
           932835644721
          ],
          [
           "Tripura",
           163954722884
          ],
          [
           "Tripura",
           183972454276
          ],
          [
           "Tripura",
           342125863879
          ],
          [
           "Tripura",
           723423594871
          ],
          [
           "Tripura",
           783416728345
          ],
          [
           "Tripura",
           854732623419
          ],
          [
           "Tripura",
           243845621737
          ],
          [
           "Tripura",
           327283564491
          ],
          [
           "Tripura",
           643215428978
          ],
          [
           "Tripura",
           738821639574
          ],
          [
           "Tripura",
           846177284932
          ],
          [
           "Tripura",
           248312578943
          ],
          [
           "Tripura",
           258613787493
          ],
          [
           "Tripura",
           623738489721
          ],
          [
           "Tripura",
           638297345741
          ],
          [
           "Tripura",
           821644875323
          ],
          [
           "Tripura",
           182747624339
          ],
          [
           "Tripura",
           296783142847
          ],
          [
           "Tripura",
           522374881673
          ],
          [
           "Tripura",
           537824867241
          ],
          [
           "Tripura",
           742378548961
          ],
          [
           "Tripura",
           787432934285
          ],
          [
           "Tripura",
           897475234832
          ],
          [
           "Tripura",
           495812332478
          ],
          [
           "Tripura",
           326753984214
          ],
          [
           "Tripura",
           491845786327
          ],
          [
           "Tripura",
           837946418732
          ],
          [
           "Tripura",
           149876538242
          ],
          [
           "Tripura",
           187298245637
          ],
          [
           "Tripura",
           332851674874
          ],
          [
           "Tripura",
           339247672885
          ],
          [
           "Tripura",
           961783348254
          ],
          [
           "Tripura",
           698124343772
          ],
          [
           "Tripura",
           874867242393
          ],
          [
           "Tripura",
           232435941787
          ],
          [
           "Tripura",
           293324157486
          ],
          [
           "Tripura",
           385177622344
          ],
          [
           "Tripura",
           484322761938
          ],
          [
           "Tripura",
           842841376759
          ],
          [
           "Tripura",
           882439357421
          ],
          [
           "Tripura",
           223589681347
          ],
          [
           "Tripura",
           465347783912
          ],
          [
           "Tripura",
           165493428378
          ],
          [
           "Tripura",
           244788369572
          ],
          [
           "Tripura",
           252968771448
          ],
          [
           "Tripura",
           277324988156
          ],
          [
           "Tripura",
           382874645731
          ],
          [
           "Tripura",
           387732612954
          ],
          [
           "Tripura",
           684592717243
          ],
          [
           "Tripura",
           874421675923
          ],
          [
           "Tripura",
           968358727144
          ],
          [
           "Tripura",
           613428735792
          ],
          [
           "Tripura",
           637431872584
          ],
          [
           "Tripura",
           729835431276
          ],
          [
           "Tripura",
           185347927483
          ],
          [
           "Tripura",
           784768942523
          ],
          [
           "Tripura",
           834174359827
          ],
          [
           "Tripura",
           381467254397
          ],
          [
           "Tripura",
           424819638532
          ],
          [
           "Tripura",
           485326197732
          ],
          [
           "Tripura",
           943567848227
          ],
          [
           "Tripura",
           342285467397
          ],
          [
           "Tripura",
           749538618273
          ],
          [
           "Tripura",
           873982464321
          ],
          [
           "Tripura",
           367235881249
          ],
          [
           "Tripura",
           727281643943
          ],
          [
           "Tripura",
           942572764388
          ],
          [
           "Tripura",
           258637913824
          ],
          [
           "Tripura",
           472721486985
          ],
          [
           "Tripura",
           362248397745
          ],
          [
           "Tripura",
           241583367427
          ],
          [
           "Tripura",
           324629834775
          ],
          [
           "Tripura",
           787429831254
          ],
          [
           "Tripura",
           877586934214
          ],
          [
           "Tripura",
           324598137487
          ],
          [
           "Tripura",
           432797428815
          ],
          [
           "Tripura",
           347241886527
          ],
          [
           "Tripura",
           819223487367
          ],
          [
           "Tripura",
           567873328421
          ],
          [
           "Tripura",
           143842397276
          ],
          [
           "Tripura",
           234178468935
          ],
          [
           "Tripura",
           423917738258
          ],
          [
           "Tripura",
           549738421678
          ],
          [
           "Tripura",
           738284425319
          ],
          [
           "Tripura",
           774564389821
          ],
          [
           "Tripura",
           625848797343
          ],
          [
           "Tripura",
           854231967274
          ],
          [
           "Tripura",
           948334186522
          ],
          [
           "Tripura",
           225417986837
          ]
         ],
         "hoverlabel": {
          "namelength": 0
         },
         "hovertemplate": "Survey_interval=Till_8_August_2019<br>greater than 30 minutes(residential)=%{x}<br>state_name=%{customdata[0]}<br>enumerator_id=%{customdata[1]}",
         "legendgroup": "Survey_interval=Till_8_August_2019",
         "marker": {
          "color": "#EF553B"
         },
         "name": "Survey_interval=Till_8_August_2019",
         "notched": false,
         "offsetgroup": "Survey_interval=Till_8_August_2019",
         "orientation": "h",
         "showlegend": true,
         "type": "box",
         "x": [
          0,
          0,
          0,
          0,
          0,
          1,
          0,
          0,
          0,
          1,
          1,
          8,
          0,
          9,
          5,
          0,
          0,
          0,
          0,
          7,
          1,
          7,
          3,
          0,
          2,
          0,
          7,
          5,
          1,
          0,
          0,
          22,
          8,
          0,
          0,
          2,
          0,
          0,
          0,
          0,
          0,
          0,
          2,
          2,
          0,
          0,
          0,
          0,
          0,
          0,
          0,
          0,
          0,
          0,
          0,
          0,
          4,
          0,
          3,
          0,
          0,
          1,
          0,
          1,
          0,
          0,
          0,
          10,
          0,
          1,
          3,
          0,
          1,
          0,
          1,
          0,
          1,
          3,
          6,
          0,
          0,
          6,
          0,
          0,
          0,
          1,
          2,
          0,
          6,
          2,
          3,
          0,
          0,
          0,
          2,
          0,
          1,
          0,
          0,
          0,
          0,
          0,
          0,
          1,
          0,
          0,
          0,
          0,
          0,
          1,
          0,
          0,
          0,
          0,
          12,
          0,
          0,
          0,
          0,
          0,
          0,
          0,
          0,
          0,
          0,
          0,
          0,
          0,
          0
         ],
         "x0": " ",
         "xaxis": "x",
         "y0": " ",
         "yaxis": "y"
        }
       ],
       "layout": {
        "boxmode": "group",
        "height": 600,
        "legend": {
         "tracegroupgap": 0
        },
        "margin": {
         "t": 60
        },
        "template": {
         "data": {
          "bar": [
           {
            "error_x": {
             "color": "#2a3f5f"
            },
            "error_y": {
             "color": "#2a3f5f"
            },
            "marker": {
             "line": {
              "color": "#E5ECF6",
              "width": 0.5
             }
            },
            "type": "bar"
           }
          ],
          "barpolar": [
           {
            "marker": {
             "line": {
              "color": "#E5ECF6",
              "width": 0.5
             }
            },
            "type": "barpolar"
           }
          ],
          "carpet": [
           {
            "aaxis": {
             "endlinecolor": "#2a3f5f",
             "gridcolor": "white",
             "linecolor": "white",
             "minorgridcolor": "white",
             "startlinecolor": "#2a3f5f"
            },
            "baxis": {
             "endlinecolor": "#2a3f5f",
             "gridcolor": "white",
             "linecolor": "white",
             "minorgridcolor": "white",
             "startlinecolor": "#2a3f5f"
            },
            "type": "carpet"
           }
          ],
          "choropleth": [
           {
            "colorbar": {
             "outlinewidth": 0,
             "ticks": ""
            },
            "type": "choropleth"
           }
          ],
          "contour": [
           {
            "colorbar": {
             "outlinewidth": 0,
             "ticks": ""
            },
            "colorscale": [
             [
              0,
              "#0d0887"
             ],
             [
              0.1111111111111111,
              "#46039f"
             ],
             [
              0.2222222222222222,
              "#7201a8"
             ],
             [
              0.3333333333333333,
              "#9c179e"
             ],
             [
              0.4444444444444444,
              "#bd3786"
             ],
             [
              0.5555555555555556,
              "#d8576b"
             ],
             [
              0.6666666666666666,
              "#ed7953"
             ],
             [
              0.7777777777777778,
              "#fb9f3a"
             ],
             [
              0.8888888888888888,
              "#fdca26"
             ],
             [
              1,
              "#f0f921"
             ]
            ],
            "type": "contour"
           }
          ],
          "contourcarpet": [
           {
            "colorbar": {
             "outlinewidth": 0,
             "ticks": ""
            },
            "type": "contourcarpet"
           }
          ],
          "heatmap": [
           {
            "colorbar": {
             "outlinewidth": 0,
             "ticks": ""
            },
            "colorscale": [
             [
              0,
              "#0d0887"
             ],
             [
              0.1111111111111111,
              "#46039f"
             ],
             [
              0.2222222222222222,
              "#7201a8"
             ],
             [
              0.3333333333333333,
              "#9c179e"
             ],
             [
              0.4444444444444444,
              "#bd3786"
             ],
             [
              0.5555555555555556,
              "#d8576b"
             ],
             [
              0.6666666666666666,
              "#ed7953"
             ],
             [
              0.7777777777777778,
              "#fb9f3a"
             ],
             [
              0.8888888888888888,
              "#fdca26"
             ],
             [
              1,
              "#f0f921"
             ]
            ],
            "type": "heatmap"
           }
          ],
          "heatmapgl": [
           {
            "colorbar": {
             "outlinewidth": 0,
             "ticks": ""
            },
            "colorscale": [
             [
              0,
              "#0d0887"
             ],
             [
              0.1111111111111111,
              "#46039f"
             ],
             [
              0.2222222222222222,
              "#7201a8"
             ],
             [
              0.3333333333333333,
              "#9c179e"
             ],
             [
              0.4444444444444444,
              "#bd3786"
             ],
             [
              0.5555555555555556,
              "#d8576b"
             ],
             [
              0.6666666666666666,
              "#ed7953"
             ],
             [
              0.7777777777777778,
              "#fb9f3a"
             ],
             [
              0.8888888888888888,
              "#fdca26"
             ],
             [
              1,
              "#f0f921"
             ]
            ],
            "type": "heatmapgl"
           }
          ],
          "histogram": [
           {
            "marker": {
             "colorbar": {
              "outlinewidth": 0,
              "ticks": ""
             }
            },
            "type": "histogram"
           }
          ],
          "histogram2d": [
           {
            "colorbar": {
             "outlinewidth": 0,
             "ticks": ""
            },
            "colorscale": [
             [
              0,
              "#0d0887"
             ],
             [
              0.1111111111111111,
              "#46039f"
             ],
             [
              0.2222222222222222,
              "#7201a8"
             ],
             [
              0.3333333333333333,
              "#9c179e"
             ],
             [
              0.4444444444444444,
              "#bd3786"
             ],
             [
              0.5555555555555556,
              "#d8576b"
             ],
             [
              0.6666666666666666,
              "#ed7953"
             ],
             [
              0.7777777777777778,
              "#fb9f3a"
             ],
             [
              0.8888888888888888,
              "#fdca26"
             ],
             [
              1,
              "#f0f921"
             ]
            ],
            "type": "histogram2d"
           }
          ],
          "histogram2dcontour": [
           {
            "colorbar": {
             "outlinewidth": 0,
             "ticks": ""
            },
            "colorscale": [
             [
              0,
              "#0d0887"
             ],
             [
              0.1111111111111111,
              "#46039f"
             ],
             [
              0.2222222222222222,
              "#7201a8"
             ],
             [
              0.3333333333333333,
              "#9c179e"
             ],
             [
              0.4444444444444444,
              "#bd3786"
             ],
             [
              0.5555555555555556,
              "#d8576b"
             ],
             [
              0.6666666666666666,
              "#ed7953"
             ],
             [
              0.7777777777777778,
              "#fb9f3a"
             ],
             [
              0.8888888888888888,
              "#fdca26"
             ],
             [
              1,
              "#f0f921"
             ]
            ],
            "type": "histogram2dcontour"
           }
          ],
          "mesh3d": [
           {
            "colorbar": {
             "outlinewidth": 0,
             "ticks": ""
            },
            "type": "mesh3d"
           }
          ],
          "parcoords": [
           {
            "line": {
             "colorbar": {
              "outlinewidth": 0,
              "ticks": ""
             }
            },
            "type": "parcoords"
           }
          ],
          "scatter": [
           {
            "marker": {
             "colorbar": {
              "outlinewidth": 0,
              "ticks": ""
             }
            },
            "type": "scatter"
           }
          ],
          "scatter3d": [
           {
            "line": {
             "colorbar": {
              "outlinewidth": 0,
              "ticks": ""
             }
            },
            "marker": {
             "colorbar": {
              "outlinewidth": 0,
              "ticks": ""
             }
            },
            "type": "scatter3d"
           }
          ],
          "scattercarpet": [
           {
            "marker": {
             "colorbar": {
              "outlinewidth": 0,
              "ticks": ""
             }
            },
            "type": "scattercarpet"
           }
          ],
          "scattergeo": [
           {
            "marker": {
             "colorbar": {
              "outlinewidth": 0,
              "ticks": ""
             }
            },
            "type": "scattergeo"
           }
          ],
          "scattergl": [
           {
            "marker": {
             "colorbar": {
              "outlinewidth": 0,
              "ticks": ""
             }
            },
            "type": "scattergl"
           }
          ],
          "scattermapbox": [
           {
            "marker": {
             "colorbar": {
              "outlinewidth": 0,
              "ticks": ""
             }
            },
            "type": "scattermapbox"
           }
          ],
          "scatterpolar": [
           {
            "marker": {
             "colorbar": {
              "outlinewidth": 0,
              "ticks": ""
             }
            },
            "type": "scatterpolar"
           }
          ],
          "scatterpolargl": [
           {
            "marker": {
             "colorbar": {
              "outlinewidth": 0,
              "ticks": ""
             }
            },
            "type": "scatterpolargl"
           }
          ],
          "scatterternary": [
           {
            "marker": {
             "colorbar": {
              "outlinewidth": 0,
              "ticks": ""
             }
            },
            "type": "scatterternary"
           }
          ],
          "surface": [
           {
            "colorbar": {
             "outlinewidth": 0,
             "ticks": ""
            },
            "colorscale": [
             [
              0,
              "#0d0887"
             ],
             [
              0.1111111111111111,
              "#46039f"
             ],
             [
              0.2222222222222222,
              "#7201a8"
             ],
             [
              0.3333333333333333,
              "#9c179e"
             ],
             [
              0.4444444444444444,
              "#bd3786"
             ],
             [
              0.5555555555555556,
              "#d8576b"
             ],
             [
              0.6666666666666666,
              "#ed7953"
             ],
             [
              0.7777777777777778,
              "#fb9f3a"
             ],
             [
              0.8888888888888888,
              "#fdca26"
             ],
             [
              1,
              "#f0f921"
             ]
            ],
            "type": "surface"
           }
          ],
          "table": [
           {
            "cells": {
             "fill": {
              "color": "#EBF0F8"
             },
             "line": {
              "color": "white"
             }
            },
            "header": {
             "fill": {
              "color": "#C8D4E3"
             },
             "line": {
              "color": "white"
             }
            },
            "type": "table"
           }
          ]
         },
         "layout": {
          "annotationdefaults": {
           "arrowcolor": "#2a3f5f",
           "arrowhead": 0,
           "arrowwidth": 1
          },
          "colorscale": {
           "diverging": [
            [
             0,
             "#8e0152"
            ],
            [
             0.1,
             "#c51b7d"
            ],
            [
             0.2,
             "#de77ae"
            ],
            [
             0.3,
             "#f1b6da"
            ],
            [
             0.4,
             "#fde0ef"
            ],
            [
             0.5,
             "#f7f7f7"
            ],
            [
             0.6,
             "#e6f5d0"
            ],
            [
             0.7,
             "#b8e186"
            ],
            [
             0.8,
             "#7fbc41"
            ],
            [
             0.9,
             "#4d9221"
            ],
            [
             1,
             "#276419"
            ]
           ],
           "sequential": [
            [
             0,
             "#0d0887"
            ],
            [
             0.1111111111111111,
             "#46039f"
            ],
            [
             0.2222222222222222,
             "#7201a8"
            ],
            [
             0.3333333333333333,
             "#9c179e"
            ],
            [
             0.4444444444444444,
             "#bd3786"
            ],
            [
             0.5555555555555556,
             "#d8576b"
            ],
            [
             0.6666666666666666,
             "#ed7953"
            ],
            [
             0.7777777777777778,
             "#fb9f3a"
            ],
            [
             0.8888888888888888,
             "#fdca26"
            ],
            [
             1,
             "#f0f921"
            ]
           ],
           "sequentialminus": [
            [
             0,
             "#0d0887"
            ],
            [
             0.1111111111111111,
             "#46039f"
            ],
            [
             0.2222222222222222,
             "#7201a8"
            ],
            [
             0.3333333333333333,
             "#9c179e"
            ],
            [
             0.4444444444444444,
             "#bd3786"
            ],
            [
             0.5555555555555556,
             "#d8576b"
            ],
            [
             0.6666666666666666,
             "#ed7953"
            ],
            [
             0.7777777777777778,
             "#fb9f3a"
            ],
            [
             0.8888888888888888,
             "#fdca26"
            ],
            [
             1,
             "#f0f921"
            ]
           ]
          },
          "colorway": [
           "#636efa",
           "#EF553B",
           "#00cc96",
           "#ab63fa",
           "#FFA15A",
           "#19d3f3",
           "#FF6692",
           "#B6E880",
           "#FF97FF",
           "#FECB52"
          ],
          "font": {
           "color": "#2a3f5f"
          },
          "geo": {
           "bgcolor": "white",
           "lakecolor": "white",
           "landcolor": "#E5ECF6",
           "showlakes": true,
           "showland": true,
           "subunitcolor": "white"
          },
          "hoverlabel": {
           "align": "left"
          },
          "hovermode": "closest",
          "mapbox": {
           "style": "light"
          },
          "paper_bgcolor": "white",
          "plot_bgcolor": "#E5ECF6",
          "polar": {
           "angularaxis": {
            "gridcolor": "white",
            "linecolor": "white",
            "ticks": ""
           },
           "bgcolor": "#E5ECF6",
           "radialaxis": {
            "gridcolor": "white",
            "linecolor": "white",
            "ticks": ""
           }
          },
          "scene": {
           "xaxis": {
            "backgroundcolor": "#E5ECF6",
            "gridcolor": "white",
            "gridwidth": 2,
            "linecolor": "white",
            "showbackground": true,
            "ticks": "",
            "zerolinecolor": "white"
           },
           "yaxis": {
            "backgroundcolor": "#E5ECF6",
            "gridcolor": "white",
            "gridwidth": 2,
            "linecolor": "white",
            "showbackground": true,
            "ticks": "",
            "zerolinecolor": "white"
           },
           "zaxis": {
            "backgroundcolor": "#E5ECF6",
            "gridcolor": "white",
            "gridwidth": 2,
            "linecolor": "white",
            "showbackground": true,
            "ticks": "",
            "zerolinecolor": "white"
           }
          },
          "shapedefaults": {
           "line": {
            "color": "#2a3f5f"
           }
          },
          "ternary": {
           "aaxis": {
            "gridcolor": "white",
            "linecolor": "white",
            "ticks": ""
           },
           "baxis": {
            "gridcolor": "white",
            "linecolor": "white",
            "ticks": ""
           },
           "bgcolor": "#E5ECF6",
           "caxis": {
            "gridcolor": "white",
            "linecolor": "white",
            "ticks": ""
           }
          },
          "title": {
           "x": 0.05
          },
          "xaxis": {
           "automargin": true,
           "gridcolor": "white",
           "linecolor": "white",
           "ticks": "",
           "zerolinecolor": "white",
           "zerolinewidth": 2
          },
          "yaxis": {
           "automargin": true,
           "gridcolor": "white",
           "linecolor": "white",
           "ticks": "",
           "zerolinecolor": "white",
           "zerolinewidth": 2
          }
         }
        },
        "xaxis": {
         "anchor": "y",
         "domain": [
          0,
          0.98
         ],
         "title": {
          "text": "greater than 30 minutes(residential)"
         }
        },
        "yaxis": {
         "anchor": "x",
         "domain": [
          0,
          1
         ]
        }
       }
      },
      "text/html": [
       "<div>\n",
       "        \n",
       "        \n",
       "            <div id=\"d7609362-f54d-4c57-ac7b-c9ed414e57c2\" class=\"plotly-graph-div\" style=\"height:600px; width:100%;\"></div>\n",
       "            <script type=\"text/javascript\">\n",
       "                require([\"plotly\"], function(Plotly) {\n",
       "                    window.PLOTLYENV=window.PLOTLYENV || {};\n",
       "                    \n",
       "                if (document.getElementById(\"d7609362-f54d-4c57-ac7b-c9ed414e57c2\")) {\n",
       "                    Plotly.newPlot(\n",
       "                        'd7609362-f54d-4c57-ac7b-c9ed414e57c2',\n",
       "                        [{\"alignmentgroup\": \"True\", \"customdata\": [[\"PUDUCHERRY\", 138642453972], [\"PUDUCHERRY\", 142673238548], [\"PUDUCHERRY\", 638824973175], [\"PUDUCHERRY\", 257944286831], [\"PUDUCHERRY\", 332126748547], [\"PUDUCHERRY\", 612832874973], [\"PUDUCHERRY\", 638281273457], [\"PUDUCHERRY\", 845963712374], [\"PUDUCHERRY\", 128239347467], [\"PUDUCHERRY\", 244738178639], [\"PUDUCHERRY\", 277339484681], [\"PUDUCHERRY\", 372149485782], [\"PUDUCHERRY\", 378473258962], [\"PUDUCHERRY\", 384891624572], [\"PUDUCHERRY\", 437932648127], [\"PUDUCHERRY\", 721923378845], [\"PUDUCHERRY\", 723634187529], [\"PUDUCHERRY\", 844673532927], [\"PUDUCHERRY\", 845243139867], [\"PUDUCHERRY\", 867283934517], [\"PUDUCHERRY\", 927134582764], [\"PUDUCHERRY\", 387948224537], [\"PUDUCHERRY\", 459873146273], [\"PUDUCHERRY\", 518424627837], [\"PUDUCHERRY\", 567214829373], [\"PUDUCHERRY\", 937483227615], [\"PUDUCHERRY\", 944282177536], [\"PUDUCHERRY\", 481472735268], [\"PUDUCHERRY\", 982476214385], [\"PUDUCHERRY\", 265733174284], [\"PUDUCHERRY\", 491582737428], [\"PUDUCHERRY\", 625419384837], [\"PUDUCHERRY\", 136287244973], [\"PUDUCHERRY\", 415782368793], [\"PUDUCHERRY\", 448726172583], [\"PUDUCHERRY\", 569321724874], [\"PUDUCHERRY\", 733188596422], [\"PUDUCHERRY\", 898514242637], [\"PUDUCHERRY\", 234319478756], [\"PUDUCHERRY\", 486734322859], [\"PUDUCHERRY\", 489323727465], [\"PUDUCHERRY\", 719828233544], [\"Tripura\", 248577336418], [\"Tripura\", 252344198673], [\"Tripura\", 272348371486], [\"Tripura\", 478928734216], [\"Tripura\", 652843379247], [\"Tripura\", 732968873245], [\"Tripura\", 743821685234], [\"Tripura\", 334274278916], [\"Tripura\", 452432687917], [\"Tripura\", 948725267381], [\"Tripura\", 386794247135], [\"Tripura\", 632427984815], [\"Tripura\", 679813427458], [\"Tripura\", 281679442835], [\"Tripura\", 574436232987], [\"Tripura\", 823894146537], [\"Tripura\", 986754372382], [\"Tripura\", 214938386724], [\"Tripura\", 341249273576], [\"Tripura\", 238985167724], [\"Tripura\", 247834927186], [\"Tripura\", 536174884392], [\"Tripura\", 126249437783], [\"Tripura\", 149874582336], [\"Tripura\", 422715637894], [\"Tripura\", 639741824782], [\"Tripura\", 932835644721], [\"Tripura\", 163954722884], [\"Tripura\", 183972454276], [\"Tripura\", 342125863879], [\"Tripura\", 723423594871], [\"Tripura\", 783416728345], [\"Tripura\", 854732623419], [\"Tripura\", 275438271683], [\"Tripura\", 643215428978], [\"Tripura\", 738821639574], [\"Tripura\", 846177284932], [\"Tripura\", 248312578943], [\"Tripura\", 258613787493], [\"Tripura\", 623738489721], [\"Tripura\", 638297345741], [\"Tripura\", 787242168349], [\"Tripura\", 821644875323], [\"Tripura\", 182747624339], [\"Tripura\", 295884371324], [\"Tripura\", 522374881673], [\"Tripura\", 537824867241], [\"Tripura\", 578264338712], [\"Tripura\", 742378548961], [\"Tripura\", 787432934285], [\"Tripura\", 897475234832], [\"Tripura\", 968248753374], [\"Tripura\", 326753984214], [\"Tripura\", 149876538242], [\"Tripura\", 187298245637], [\"Tripura\", 339247672885], [\"Tripura\", 961783348254], [\"Tripura\", 698124343772], [\"Tripura\", 874867242393], [\"Tripura\", 232435941787], [\"Tripura\", 293324157486], [\"Tripura\", 385177622344], [\"Tripura\", 484322761938], [\"Tripura\", 842841376759], [\"Tripura\", 882439357421], [\"Tripura\", 465347783912], [\"Tripura\", 779353248481], [\"Tripura\", 165493428378], [\"Tripura\", 244788369572], [\"Tripura\", 252968771448], [\"Tripura\", 277324988156], [\"Tripura\", 382874645731], [\"Tripura\", 387732612954], [\"Tripura\", 485637319287], [\"Tripura\", 684592717243], [\"Tripura\", 874421675923], [\"Tripura\", 744822389135], [\"Tripura\", 968358727144], [\"Tripura\", 498321865342], [\"Tripura\", 574936288321], [\"Tripura\", 613428735792], [\"Tripura\", 637431872584], [\"Tripura\", 185347927483], [\"Tripura\", 784768942523], [\"Tripura\", 834174359827], [\"Tripura\", 381467254397], [\"Tripura\", 424819638532], [\"Tripura\", 485326197732], [\"Tripura\", 943567848227], [\"Tripura\", 342285467397], [\"Tripura\", 725424136987], [\"Tripura\", 749538618273], [\"Tripura\", 873982464321], [\"Tripura\", 231838757494], [\"Tripura\", 727281643943], [\"Tripura\", 942572764388], [\"Tripura\", 258637913824], [\"Tripura\", 472721486985], [\"Tripura\", 641732985274], [\"Tripura\", 787429831254], [\"Tripura\", 877586934214], [\"Tripura\", 324598137487], [\"Tripura\", 267189785233], [\"Tripura\", 432797428815], [\"Tripura\", 746824831379], [\"Tripura\", 347241886527], [\"Tripura\", 748623718392], [\"Tripura\", 819223487367], [\"Tripura\", 369157387242], [\"Tripura\", 567873328421], [\"Tripura\", 143842397276], [\"Tripura\", 234178468935], [\"Tripura\", 423917738258], [\"Tripura\", 549738421678], [\"Tripura\", 637317945282], [\"Tripura\", 738284425319], [\"Tripura\", 774564389821], [\"Tripura\", 625848797343], [\"Tripura\", 854231967274], [\"Tripura\", 948334186522], [\"Tripura\", 225417986837]], \"hoverlabel\": {\"namelength\": 0}, \"hovertemplate\": \"Survey_interval=8-12_August_2019<br>greater than 30 minutes(residential)=%{x}<br>state_name=%{customdata[0]}<br>enumerator_id=%{customdata[1]}\", \"legendgroup\": \"Survey_interval=8-12_August_2019\", \"marker\": {\"color\": \"#636efa\"}, \"name\": \"Survey_interval=8-12_August_2019\", \"notched\": false, \"offsetgroup\": \"Survey_interval=8-12_August_2019\", \"orientation\": \"h\", \"showlegend\": true, \"type\": \"box\", \"x\": [0, 0, 0, 0, 0, 0, 9, 0, 0, 0, 1, 0, 12, 0, 1, 0, 0, 4, 4, 45, 0, 0, 0, 1, 1, 4, 0, 0, 0, 5, 6, 2, 7, 0, 0, 4, 0, 2, 0, 11, 0, 4, 0, 0, 1, 5, 1, 0, 0, 0, 0, 0, 0, 1, 0, 0, 1, 0, 0, 3, 0, 3, 1, 2, 0, 0, 0, 0, 2, 0, 0, 2, 0, 0, 0, 0, 0, 1, 0, 0, 0, 0, 0, 0, 0, 0, 0, 0, 2, 0, 0, 0, 0, 1, 0, 9, 0, 0, 0, 0, 0, 0, 0, 0, 0, 0, 0, 1, 7, 1, 1, 0, 1, 5, 0, 0, 2, 1, 0, 6, 0, 0, 0, 0, 0, 0, 0, 0, 0, 0, 0, 0, 0, 0, 1, 0, 0, 0, 0, 0, 0, 0, 0, 0, 0, 0, 0, 0, 0, 0, 0, 0, 0, 0, 0, 0, 0, 0, 0, 0, 0, 0, 0], \"x0\": \" \", \"xaxis\": \"x\", \"y0\": \" \", \"yaxis\": \"y\"}, {\"alignmentgroup\": \"True\", \"customdata\": [[\"PUDUCHERRY\", 325287314771], [\"PUDUCHERRY\", 257944286831], [\"PUDUCHERRY\", 332126748547], [\"PUDUCHERRY\", 638281273457], [\"PUDUCHERRY\", 244738178639], [\"PUDUCHERRY\", 437932648127], [\"PUDUCHERRY\", 867283934517], [\"PUDUCHERRY\", 387948224537], [\"PUDUCHERRY\", 459873146273], [\"PUDUCHERRY\", 518424627837], [\"PUDUCHERRY\", 567214829373], [\"PUDUCHERRY\", 937483227615], [\"PUDUCHERRY\", 944282177536], [\"PUDUCHERRY\", 491582737428], [\"PUDUCHERRY\", 625419384837], [\"PUDUCHERRY\", 136287244973], [\"PUDUCHERRY\", 569321724874], [\"PUDUCHERRY\", 733188596422], [\"Tripura\", 443727281856], [\"Tripura\", 248577336418], [\"Tripura\", 252344198673], [\"Tripura\", 272348371486], [\"Tripura\", 478928734216], [\"Tripura\", 652843379247], [\"Tripura\", 743821685234], [\"Tripura\", 936742381524], [\"Tripura\", 386794247135], [\"Tripura\", 679813427458], [\"Tripura\", 574436232987], [\"Tripura\", 823894146537], [\"Tripura\", 986754372382], [\"Tripura\", 214938386724], [\"Tripura\", 341249273576], [\"Tripura\", 298316544837], [\"Tripura\", 238985167724], [\"Tripura\", 126249437783], [\"Tripura\", 149874582336], [\"Tripura\", 422715637894], [\"Tripura\", 639741824782], [\"Tripura\", 932835644721], [\"Tripura\", 163954722884], [\"Tripura\", 183972454276], [\"Tripura\", 342125863879], [\"Tripura\", 723423594871], [\"Tripura\", 783416728345], [\"Tripura\", 854732623419], [\"Tripura\", 243845621737], [\"Tripura\", 327283564491], [\"Tripura\", 643215428978], [\"Tripura\", 738821639574], [\"Tripura\", 846177284932], [\"Tripura\", 248312578943], [\"Tripura\", 258613787493], [\"Tripura\", 623738489721], [\"Tripura\", 638297345741], [\"Tripura\", 821644875323], [\"Tripura\", 182747624339], [\"Tripura\", 296783142847], [\"Tripura\", 522374881673], [\"Tripura\", 537824867241], [\"Tripura\", 742378548961], [\"Tripura\", 787432934285], [\"Tripura\", 897475234832], [\"Tripura\", 495812332478], [\"Tripura\", 326753984214], [\"Tripura\", 491845786327], [\"Tripura\", 837946418732], [\"Tripura\", 149876538242], [\"Tripura\", 187298245637], [\"Tripura\", 332851674874], [\"Tripura\", 339247672885], [\"Tripura\", 961783348254], [\"Tripura\", 698124343772], [\"Tripura\", 874867242393], [\"Tripura\", 232435941787], [\"Tripura\", 293324157486], [\"Tripura\", 385177622344], [\"Tripura\", 484322761938], [\"Tripura\", 842841376759], [\"Tripura\", 882439357421], [\"Tripura\", 223589681347], [\"Tripura\", 465347783912], [\"Tripura\", 165493428378], [\"Tripura\", 244788369572], [\"Tripura\", 252968771448], [\"Tripura\", 277324988156], [\"Tripura\", 382874645731], [\"Tripura\", 387732612954], [\"Tripura\", 684592717243], [\"Tripura\", 874421675923], [\"Tripura\", 968358727144], [\"Tripura\", 613428735792], [\"Tripura\", 637431872584], [\"Tripura\", 729835431276], [\"Tripura\", 185347927483], [\"Tripura\", 784768942523], [\"Tripura\", 834174359827], [\"Tripura\", 381467254397], [\"Tripura\", 424819638532], [\"Tripura\", 485326197732], [\"Tripura\", 943567848227], [\"Tripura\", 342285467397], [\"Tripura\", 749538618273], [\"Tripura\", 873982464321], [\"Tripura\", 367235881249], [\"Tripura\", 727281643943], [\"Tripura\", 942572764388], [\"Tripura\", 258637913824], [\"Tripura\", 472721486985], [\"Tripura\", 362248397745], [\"Tripura\", 241583367427], [\"Tripura\", 324629834775], [\"Tripura\", 787429831254], [\"Tripura\", 877586934214], [\"Tripura\", 324598137487], [\"Tripura\", 432797428815], [\"Tripura\", 347241886527], [\"Tripura\", 819223487367], [\"Tripura\", 567873328421], [\"Tripura\", 143842397276], [\"Tripura\", 234178468935], [\"Tripura\", 423917738258], [\"Tripura\", 549738421678], [\"Tripura\", 738284425319], [\"Tripura\", 774564389821], [\"Tripura\", 625848797343], [\"Tripura\", 854231967274], [\"Tripura\", 948334186522], [\"Tripura\", 225417986837]], \"hoverlabel\": {\"namelength\": 0}, \"hovertemplate\": \"Survey_interval=Till_8_August_2019<br>greater than 30 minutes(residential)=%{x}<br>state_name=%{customdata[0]}<br>enumerator_id=%{customdata[1]}\", \"legendgroup\": \"Survey_interval=Till_8_August_2019\", \"marker\": {\"color\": \"#EF553B\"}, \"name\": \"Survey_interval=Till_8_August_2019\", \"notched\": false, \"offsetgroup\": \"Survey_interval=Till_8_August_2019\", \"orientation\": \"h\", \"showlegend\": true, \"type\": \"box\", \"x\": [0, 0, 0, 0, 0, 1, 0, 0, 0, 1, 1, 8, 0, 9, 5, 0, 0, 0, 0, 7, 1, 7, 3, 0, 2, 0, 7, 5, 1, 0, 0, 22, 8, 0, 0, 2, 0, 0, 0, 0, 0, 0, 2, 2, 0, 0, 0, 0, 0, 0, 0, 0, 0, 0, 0, 0, 4, 0, 3, 0, 0, 1, 0, 1, 0, 0, 0, 10, 0, 1, 3, 0, 1, 0, 1, 0, 1, 3, 6, 0, 0, 6, 0, 0, 0, 1, 2, 0, 6, 2, 3, 0, 0, 0, 2, 0, 1, 0, 0, 0, 0, 0, 0, 1, 0, 0, 0, 0, 0, 1, 0, 0, 0, 0, 12, 0, 0, 0, 0, 0, 0, 0, 0, 0, 0, 0, 0, 0, 0], \"x0\": \" \", \"xaxis\": \"x\", \"y0\": \" \", \"yaxis\": \"y\"}],\n",
       "                        {\"boxmode\": \"group\", \"height\": 600, \"legend\": {\"tracegroupgap\": 0}, \"margin\": {\"t\": 60}, \"template\": {\"data\": {\"bar\": [{\"error_x\": {\"color\": \"#2a3f5f\"}, \"error_y\": {\"color\": \"#2a3f5f\"}, \"marker\": {\"line\": {\"color\": \"#E5ECF6\", \"width\": 0.5}}, \"type\": \"bar\"}], \"barpolar\": [{\"marker\": {\"line\": {\"color\": \"#E5ECF6\", \"width\": 0.5}}, \"type\": \"barpolar\"}], \"carpet\": [{\"aaxis\": {\"endlinecolor\": \"#2a3f5f\", \"gridcolor\": \"white\", \"linecolor\": \"white\", \"minorgridcolor\": \"white\", \"startlinecolor\": \"#2a3f5f\"}, \"baxis\": {\"endlinecolor\": \"#2a3f5f\", \"gridcolor\": \"white\", \"linecolor\": \"white\", \"minorgridcolor\": \"white\", \"startlinecolor\": \"#2a3f5f\"}, \"type\": \"carpet\"}], \"choropleth\": [{\"colorbar\": {\"outlinewidth\": 0, \"ticks\": \"\"}, \"type\": \"choropleth\"}], \"contour\": [{\"colorbar\": {\"outlinewidth\": 0, \"ticks\": \"\"}, \"colorscale\": [[0.0, \"#0d0887\"], [0.1111111111111111, \"#46039f\"], [0.2222222222222222, \"#7201a8\"], [0.3333333333333333, \"#9c179e\"], [0.4444444444444444, \"#bd3786\"], [0.5555555555555556, \"#d8576b\"], [0.6666666666666666, \"#ed7953\"], [0.7777777777777778, \"#fb9f3a\"], [0.8888888888888888, \"#fdca26\"], [1.0, \"#f0f921\"]], \"type\": \"contour\"}], \"contourcarpet\": [{\"colorbar\": {\"outlinewidth\": 0, \"ticks\": \"\"}, \"type\": \"contourcarpet\"}], \"heatmap\": [{\"colorbar\": {\"outlinewidth\": 0, \"ticks\": \"\"}, \"colorscale\": [[0.0, \"#0d0887\"], [0.1111111111111111, \"#46039f\"], [0.2222222222222222, \"#7201a8\"], [0.3333333333333333, \"#9c179e\"], [0.4444444444444444, \"#bd3786\"], [0.5555555555555556, \"#d8576b\"], [0.6666666666666666, \"#ed7953\"], [0.7777777777777778, \"#fb9f3a\"], [0.8888888888888888, \"#fdca26\"], [1.0, \"#f0f921\"]], \"type\": \"heatmap\"}], \"heatmapgl\": [{\"colorbar\": {\"outlinewidth\": 0, \"ticks\": \"\"}, \"colorscale\": [[0.0, \"#0d0887\"], [0.1111111111111111, \"#46039f\"], [0.2222222222222222, \"#7201a8\"], [0.3333333333333333, \"#9c179e\"], [0.4444444444444444, \"#bd3786\"], [0.5555555555555556, \"#d8576b\"], [0.6666666666666666, \"#ed7953\"], [0.7777777777777778, \"#fb9f3a\"], [0.8888888888888888, \"#fdca26\"], [1.0, \"#f0f921\"]], \"type\": \"heatmapgl\"}], \"histogram\": [{\"marker\": {\"colorbar\": {\"outlinewidth\": 0, \"ticks\": \"\"}}, \"type\": \"histogram\"}], \"histogram2d\": [{\"colorbar\": {\"outlinewidth\": 0, \"ticks\": \"\"}, \"colorscale\": [[0.0, \"#0d0887\"], [0.1111111111111111, \"#46039f\"], [0.2222222222222222, \"#7201a8\"], [0.3333333333333333, \"#9c179e\"], [0.4444444444444444, \"#bd3786\"], [0.5555555555555556, \"#d8576b\"], [0.6666666666666666, \"#ed7953\"], [0.7777777777777778, \"#fb9f3a\"], [0.8888888888888888, \"#fdca26\"], [1.0, \"#f0f921\"]], \"type\": \"histogram2d\"}], \"histogram2dcontour\": [{\"colorbar\": {\"outlinewidth\": 0, \"ticks\": \"\"}, \"colorscale\": [[0.0, \"#0d0887\"], [0.1111111111111111, \"#46039f\"], [0.2222222222222222, \"#7201a8\"], [0.3333333333333333, \"#9c179e\"], [0.4444444444444444, \"#bd3786\"], [0.5555555555555556, \"#d8576b\"], [0.6666666666666666, \"#ed7953\"], [0.7777777777777778, \"#fb9f3a\"], [0.8888888888888888, \"#fdca26\"], [1.0, \"#f0f921\"]], \"type\": \"histogram2dcontour\"}], \"mesh3d\": [{\"colorbar\": {\"outlinewidth\": 0, \"ticks\": \"\"}, \"type\": \"mesh3d\"}], \"parcoords\": [{\"line\": {\"colorbar\": {\"outlinewidth\": 0, \"ticks\": \"\"}}, \"type\": \"parcoords\"}], \"scatter\": [{\"marker\": {\"colorbar\": {\"outlinewidth\": 0, \"ticks\": \"\"}}, \"type\": \"scatter\"}], \"scatter3d\": [{\"line\": {\"colorbar\": {\"outlinewidth\": 0, \"ticks\": \"\"}}, \"marker\": {\"colorbar\": {\"outlinewidth\": 0, \"ticks\": \"\"}}, \"type\": \"scatter3d\"}], \"scattercarpet\": [{\"marker\": {\"colorbar\": {\"outlinewidth\": 0, \"ticks\": \"\"}}, \"type\": \"scattercarpet\"}], \"scattergeo\": [{\"marker\": {\"colorbar\": {\"outlinewidth\": 0, \"ticks\": \"\"}}, \"type\": \"scattergeo\"}], \"scattergl\": [{\"marker\": {\"colorbar\": {\"outlinewidth\": 0, \"ticks\": \"\"}}, \"type\": \"scattergl\"}], \"scattermapbox\": [{\"marker\": {\"colorbar\": {\"outlinewidth\": 0, \"ticks\": \"\"}}, \"type\": \"scattermapbox\"}], \"scatterpolar\": [{\"marker\": {\"colorbar\": {\"outlinewidth\": 0, \"ticks\": \"\"}}, \"type\": \"scatterpolar\"}], \"scatterpolargl\": [{\"marker\": {\"colorbar\": {\"outlinewidth\": 0, \"ticks\": \"\"}}, \"type\": \"scatterpolargl\"}], \"scatterternary\": [{\"marker\": {\"colorbar\": {\"outlinewidth\": 0, \"ticks\": \"\"}}, \"type\": \"scatterternary\"}], \"surface\": [{\"colorbar\": {\"outlinewidth\": 0, \"ticks\": \"\"}, \"colorscale\": [[0.0, \"#0d0887\"], [0.1111111111111111, \"#46039f\"], [0.2222222222222222, \"#7201a8\"], [0.3333333333333333, \"#9c179e\"], [0.4444444444444444, \"#bd3786\"], [0.5555555555555556, \"#d8576b\"], [0.6666666666666666, \"#ed7953\"], [0.7777777777777778, \"#fb9f3a\"], [0.8888888888888888, \"#fdca26\"], [1.0, \"#f0f921\"]], \"type\": \"surface\"}], \"table\": [{\"cells\": {\"fill\": {\"color\": \"#EBF0F8\"}, \"line\": {\"color\": \"white\"}}, \"header\": {\"fill\": {\"color\": \"#C8D4E3\"}, \"line\": {\"color\": \"white\"}}, \"type\": \"table\"}]}, \"layout\": {\"annotationdefaults\": {\"arrowcolor\": \"#2a3f5f\", \"arrowhead\": 0, \"arrowwidth\": 1}, \"colorscale\": {\"diverging\": [[0, \"#8e0152\"], [0.1, \"#c51b7d\"], [0.2, \"#de77ae\"], [0.3, \"#f1b6da\"], [0.4, \"#fde0ef\"], [0.5, \"#f7f7f7\"], [0.6, \"#e6f5d0\"], [0.7, \"#b8e186\"], [0.8, \"#7fbc41\"], [0.9, \"#4d9221\"], [1, \"#276419\"]], \"sequential\": [[0.0, \"#0d0887\"], [0.1111111111111111, \"#46039f\"], [0.2222222222222222, \"#7201a8\"], [0.3333333333333333, \"#9c179e\"], [0.4444444444444444, \"#bd3786\"], [0.5555555555555556, \"#d8576b\"], [0.6666666666666666, \"#ed7953\"], [0.7777777777777778, \"#fb9f3a\"], [0.8888888888888888, \"#fdca26\"], [1.0, \"#f0f921\"]], \"sequentialminus\": [[0.0, \"#0d0887\"], [0.1111111111111111, \"#46039f\"], [0.2222222222222222, \"#7201a8\"], [0.3333333333333333, \"#9c179e\"], [0.4444444444444444, \"#bd3786\"], [0.5555555555555556, \"#d8576b\"], [0.6666666666666666, \"#ed7953\"], [0.7777777777777778, \"#fb9f3a\"], [0.8888888888888888, \"#fdca26\"], [1.0, \"#f0f921\"]]}, \"colorway\": [\"#636efa\", \"#EF553B\", \"#00cc96\", \"#ab63fa\", \"#FFA15A\", \"#19d3f3\", \"#FF6692\", \"#B6E880\", \"#FF97FF\", \"#FECB52\"], \"font\": {\"color\": \"#2a3f5f\"}, \"geo\": {\"bgcolor\": \"white\", \"lakecolor\": \"white\", \"landcolor\": \"#E5ECF6\", \"showlakes\": true, \"showland\": true, \"subunitcolor\": \"white\"}, \"hoverlabel\": {\"align\": \"left\"}, \"hovermode\": \"closest\", \"mapbox\": {\"style\": \"light\"}, \"paper_bgcolor\": \"white\", \"plot_bgcolor\": \"#E5ECF6\", \"polar\": {\"angularaxis\": {\"gridcolor\": \"white\", \"linecolor\": \"white\", \"ticks\": \"\"}, \"bgcolor\": \"#E5ECF6\", \"radialaxis\": {\"gridcolor\": \"white\", \"linecolor\": \"white\", \"ticks\": \"\"}}, \"scene\": {\"xaxis\": {\"backgroundcolor\": \"#E5ECF6\", \"gridcolor\": \"white\", \"gridwidth\": 2, \"linecolor\": \"white\", \"showbackground\": true, \"ticks\": \"\", \"zerolinecolor\": \"white\"}, \"yaxis\": {\"backgroundcolor\": \"#E5ECF6\", \"gridcolor\": \"white\", \"gridwidth\": 2, \"linecolor\": \"white\", \"showbackground\": true, \"ticks\": \"\", \"zerolinecolor\": \"white\"}, \"zaxis\": {\"backgroundcolor\": \"#E5ECF6\", \"gridcolor\": \"white\", \"gridwidth\": 2, \"linecolor\": \"white\", \"showbackground\": true, \"ticks\": \"\", \"zerolinecolor\": \"white\"}}, \"shapedefaults\": {\"line\": {\"color\": \"#2a3f5f\"}}, \"ternary\": {\"aaxis\": {\"gridcolor\": \"white\", \"linecolor\": \"white\", \"ticks\": \"\"}, \"baxis\": {\"gridcolor\": \"white\", \"linecolor\": \"white\", \"ticks\": \"\"}, \"bgcolor\": \"#E5ECF6\", \"caxis\": {\"gridcolor\": \"white\", \"linecolor\": \"white\", \"ticks\": \"\"}}, \"title\": {\"x\": 0.05}, \"xaxis\": {\"automargin\": true, \"gridcolor\": \"white\", \"linecolor\": \"white\", \"ticks\": \"\", \"zerolinecolor\": \"white\", \"zerolinewidth\": 2}, \"yaxis\": {\"automargin\": true, \"gridcolor\": \"white\", \"linecolor\": \"white\", \"ticks\": \"\", \"zerolinecolor\": \"white\", \"zerolinewidth\": 2}}}, \"xaxis\": {\"anchor\": \"y\", \"domain\": [0.0, 0.98], \"title\": {\"text\": \"greater than 30 minutes(residential)\"}}, \"yaxis\": {\"anchor\": \"x\", \"domain\": [0.0, 1.0]}},\n",
       "                        {\"responsive\": true}\n",
       "                    ).then(function(){\n",
       "                            \n",
       "var gd = document.getElementById('d7609362-f54d-4c57-ac7b-c9ed414e57c2');\n",
       "var x = new MutationObserver(function (mutations, observer) {{\n",
       "        var display = window.getComputedStyle(gd).display;\n",
       "        if (!display || display === 'none') {{\n",
       "            console.log([gd, 'removed!']);\n",
       "            Plotly.purge(gd);\n",
       "            observer.disconnect();\n",
       "        }}\n",
       "}});\n",
       "\n",
       "// Listen for the removal of the full notebook cells\n",
       "var notebookContainer = gd.closest('#notebook-container');\n",
       "if (notebookContainer) {{\n",
       "    x.observe(notebookContainer, {childList: true});\n",
       "}}\n",
       "\n",
       "// Listen for the clearing of the current output cell\n",
       "var outputEl = gd.closest('.output');\n",
       "if (outputEl) {{\n",
       "    x.observe(outputEl, {childList: true});\n",
       "}}\n",
       "\n",
       "                        })\n",
       "                };\n",
       "                });\n",
       "            </script>\n",
       "        </div>"
      ]
     },
     "metadata": {},
     "output_type": "display_data"
    }
   ],
   "source": [
    "fig = px.box(df1, x=\"total_number_of_houses_covered\", color = 'Survey_interval', \n",
    "             hover_data=[\"state_name\", \"enumerator_id\"])\n",
    "\n",
    "fig.update_traces(orientation='h')\n",
    "fig.show()\n",
    "\n",
    "fig = px.box(df1, x=\"total_number_of_workers_commercial(hired+non-hired+contractual)\", color = 'Survey_interval', \n",
    "              hover_data=[\"state_name\", \"enumerator_id\"])\n",
    "\n",
    "fig.update_traces(orientation='h')\n",
    "fig.show()\n",
    "\n",
    "fig = px.box(df1, x=\"total_number_of_workers_residential(hired+non-hired+contractual)\", color = 'Survey_interval', \n",
    "              hover_data=[\"state_name\", \"enumerator_id\"])\n",
    "\n",
    "fig.update_traces(orientation='h')\n",
    "fig.show()\n",
    "\n",
    "fig = px.box(df1, x=\"greater than 30 minutes(commercial)\", color = 'Survey_interval', \n",
    "              hover_data=[\"state_name\", \"enumerator_id\"])\n",
    "\n",
    "fig.update_traces(orientation='h')\n",
    "fig.show()\n",
    "\n",
    "fig = px.box(df1, x=\"greater than 30 minutes(residential)\", color = 'Survey_interval', \n",
    "              hover_data=[\"state_name\", \"enumerator_id\"])\n",
    "\n",
    "fig.update_traces(orientation='h')\n",
    "fig.show()"
   ]
  },
  {
   "cell_type": "code",
   "execution_count": null,
   "metadata": {},
   "outputs": [],
   "source": []
  },
  {
   "cell_type": "code",
   "execution_count": null,
   "metadata": {},
   "outputs": [],
   "source": []
  }
 ],
 "metadata": {
  "kernelspec": {
   "display_name": "Python 3",
   "language": "python",
   "name": "python3"
  },
  "language_info": {
   "codemirror_mode": {
    "name": "ipython",
    "version": 3
   },
   "file_extension": ".py",
   "mimetype": "text/x-python",
   "name": "python",
   "nbconvert_exporter": "python",
   "pygments_lexer": "ipython3",
   "version": "3.7.3"
  }
 },
 "nbformat": 4,
 "nbformat_minor": 2
}
